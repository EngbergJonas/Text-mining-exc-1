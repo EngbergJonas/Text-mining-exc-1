{
 "cells": [
  {
   "cell_type": "markdown",
   "metadata": {},
   "source": [
    "# Excercise 1\n",
    "### Chapter1: Exercise3-11, 16, 18, 19, 22, 26, 28\n",
    "### Chapter2: Exercise1-5, 8, 9, 14, 15, 16, 18, 28\n",
    "### Chapter3: Exercise2, 4, 6, 8, 12, 16, 18-21, 27, 30-33 "
   ]
  },
  {
   "cell_type": "code",
   "execution_count": 1,
   "metadata": {},
   "outputs": [
    {
     "name": "stdout",
     "output_type": "stream",
     "text": [
      "*** Introductory Examples for the NLTK Book ***\n",
      "Loading text1, ..., text9 and sent1, ..., sent9\n",
      "Type the name of the text or sentence to view it.\n",
      "Type: 'texts()' or 'sents()' to list the materials.\n",
      "text1: Moby Dick by Herman Melville 1851\n",
      "text2: Sense and Sensibility by Jane Austen 1811\n",
      "text3: The Book of Genesis\n",
      "text4: Inaugural Address Corpus\n",
      "text5: Chat Corpus\n",
      "text6: Monty Python and the Holy Grail\n",
      "text7: Wall Street Journal\n",
      "text8: Personals Corpus\n",
      "text9: The Man Who Was Thursday by G . K . Chesterton 1908\n"
     ]
    }
   ],
   "source": [
    "import nltk\n",
    "#nltk.download('book')\n",
    "from nltk.book import *"
   ]
  },
  {
   "cell_type": "code",
   "execution_count": 2,
   "metadata": {},
   "outputs": [
    {
     "name": "stdout",
     "output_type": "stream",
     "text": [
      "text1: Moby Dick by Herman Melville 1851\n",
      "text2: Sense and Sensibility by Jane Austen 1811\n",
      "text3: The Book of Genesis\n",
      "text4: Inaugural Address Corpus\n",
      "text5: Chat Corpus\n",
      "text6: Monty Python and the Holy Grail\n",
      "text7: Wall Street Journal\n",
      "text8: Personals Corpus\n",
      "text9: The Man Who Was Thursday by G . K . Chesterton 1908\n"
     ]
    }
   ],
   "source": [
    "texts()"
   ]
  },
  {
   "cell_type": "markdown",
   "metadata": {},
   "source": [
    "# Chapter 1"
   ]
  },
  {
   "cell_type": "markdown",
   "metadata": {},
   "source": [
    "## 3"
   ]
  },
  {
   "cell_type": "code",
   "execution_count": 3,
   "metadata": {},
   "outputs": [
    {
     "name": "stdout",
     "output_type": "stream",
     "text": [
      "['Monty', 'Python', 'Monty', 'Python', 'Monty', 'Python', 'Monty', 'Python', 'Monty', 'Python', 'Monty', 'Python', 'Monty', 'Python', 'Monty', 'Python', 'Monty', 'Python', 'Monty', 'Python', 'Monty', 'Python', 'Monty', 'Python', 'Monty', 'Python', 'Monty', 'Python', 'Monty', 'Python', 'Monty', 'Python', 'Monty', 'Python', 'Monty', 'Python', 'Monty', 'Python', 'Monty', 'Python'] \n",
      "\n",
      "['Call', 'me', 'Ishmael', '.', 'Call', 'me', 'Ishmael', '.', 'Call', 'me', 'Ishmael', '.']\n"
     ]
    }
   ],
   "source": [
    "mp = ['Monty', 'Python']\n",
    "print (mp * 20, \"\\n\")\n",
    "print(3 * sent1)"
   ]
  },
  {
   "cell_type": "markdown",
   "metadata": {},
   "source": [
    "## 4"
   ]
  },
  {
   "cell_type": "code",
   "execution_count": 4,
   "metadata": {},
   "outputs": [
    {
     "name": "stdout",
     "output_type": "stream",
     "text": [
      "Words =  141576 \n",
      " Distinct words =  6833\n"
     ]
    }
   ],
   "source": [
    "words = len(text2)\n",
    "distinct_words = len(set(text2))\n",
    "print(\"Words = \", words, \"\\n\" ,\"Distinct words = \", distinct_words)"
   ]
  },
  {
   "cell_type": "markdown",
   "metadata": {},
   "source": [
    "## 5 \n",
    "Humor"
   ]
  },
  {
   "cell_type": "markdown",
   "metadata": {},
   "source": [
    "## 6 "
   ]
  },
  {
   "cell_type": "code",
   "execution_count": 5,
   "metadata": {},
   "outputs": [
    {
     "data": {
      "text/plain": [
       "<Figure size 640x480 with 1 Axes>"
      ]
     },
     "metadata": {},
     "output_type": "display_data"
    }
   ],
   "source": [
    "text2.dispersion_plot([\"Elinor\", \"Marianne\", \"Edward\", \"Willoughby\"])"
   ]
  },
  {
   "cell_type": "markdown",
   "metadata": {},
   "source": [
    "## 7"
   ]
  },
  {
   "cell_type": "code",
   "execution_count": 6,
   "metadata": {},
   "outputs": [
    {
     "name": "stdout",
     "output_type": "stream",
     "text": [
      "wanna chat; PART JOIN; MODE #14-19teens; JOIN PART; PART PART;\n",
      "cute.-ass MP3; MP3 player; JOIN JOIN; times .. .; ACTION watches; guys\n",
      "wanna; song lasts; last night; ACTION sits; -...)...- S.M.R.; Lime\n",
      "Player; Player 12%; dont know; lez gurls; long time\n"
     ]
    }
   ],
   "source": [
    "from nltk import bigrams\n",
    "text5.collocations()"
   ]
  },
  {
   "cell_type": "markdown",
   "metadata": {},
   "source": [
    "## 8\n",
    "It checks how many 'sets' of words there is in the text, which means how many unique words there are.\n",
    "After that it tells how many of those unique words exist."
   ]
  },
  {
   "cell_type": "code",
   "execution_count": 7,
   "metadata": {},
   "outputs": [
    {
     "data": {
      "text/plain": [
       "9754"
      ]
     },
     "execution_count": 7,
     "metadata": {},
     "output_type": "execute_result"
    }
   ],
   "source": [
    "#len(set(text4))\n",
    "set(text4)\n",
    "len(text4)\n",
    "len(set(text4))"
   ]
  },
  {
   "cell_type": "markdown",
   "metadata": {},
   "source": [
    "## 9\n",
    "Adding the string to a list and printing it as many times as you want."
   ]
  },
  {
   "cell_type": "code",
   "execution_count": 8,
   "metadata": {},
   "outputs": [
    {
     "data": {
      "text/plain": [
       "'Cool'"
      ]
     },
     "execution_count": 8,
     "metadata": {},
     "output_type": "execute_result"
    }
   ],
   "source": [
    "my_string = 'Cool'\n",
    "my_string"
   ]
  },
  {
   "cell_type": "code",
   "execution_count": 9,
   "metadata": {},
   "outputs": [
    {
     "name": "stdout",
     "output_type": "stream",
     "text": [
      "Cool\n"
     ]
    }
   ],
   "source": [
    "print(my_string)"
   ]
  },
  {
   "cell_type": "code",
   "execution_count": 10,
   "metadata": {},
   "outputs": [
    {
     "data": {
      "text/plain": [
       "'CoolCool'"
      ]
     },
     "execution_count": 10,
     "metadata": {},
     "output_type": "execute_result"
    }
   ],
   "source": [
    "my_string + my_string"
   ]
  },
  {
   "cell_type": "code",
   "execution_count": 11,
   "metadata": {},
   "outputs": [
    {
     "data": {
      "text/plain": [
       "'CoolCoolCool'"
      ]
     },
     "execution_count": 11,
     "metadata": {},
     "output_type": "execute_result"
    }
   ],
   "source": [
    "my_string * 3"
   ]
  },
  {
   "cell_type": "code",
   "execution_count": 12,
   "metadata": {},
   "outputs": [
    {
     "name": "stdout",
     "output_type": "stream",
     "text": [
      "['Cool', 'Cool', 'Cool']\n"
     ]
    }
   ],
   "source": [
    "my_string_list = [my_string]\n",
    "print(my_string_list * 3)\n"
   ]
  },
  {
   "cell_type": "markdown",
   "metadata": {},
   "source": [
    "## 10\n"
   ]
  },
  {
   "cell_type": "code",
   "execution_count": 13,
   "metadata": {},
   "outputs": [
    {
     "name": "stdout",
     "output_type": "stream",
     "text": [
      "['hello', 'world', 'this', 'is', 'Jonas!']\n"
     ]
    }
   ],
   "source": [
    "my_sent = [\"hello\", \"world\", \"this\", \"is\", \"Jonas!\"]\n",
    "print(my_sent)"
   ]
  },
  {
   "cell_type": "code",
   "execution_count": 14,
   "metadata": {},
   "outputs": [
    {
     "data": {
      "text/plain": [
       "'hello world this is Jonas!'"
      ]
     },
     "execution_count": 14,
     "metadata": {},
     "output_type": "execute_result"
    }
   ],
   "source": [
    "' '.join(my_sent)"
   ]
  },
  {
   "cell_type": "code",
   "execution_count": 15,
   "metadata": {},
   "outputs": [
    {
     "data": {
      "text/plain": [
       "['hello', 'world', 'this', 'is', 'Jonas!']"
      ]
     },
     "execution_count": 15,
     "metadata": {},
     "output_type": "execute_result"
    }
   ],
   "source": [
    "' '.join(my_sent).split()"
   ]
  },
  {
   "cell_type": "markdown",
   "metadata": {},
   "source": [
    "## 11\n",
    "\n",
    "The difference between len(phrase1 + phrase2) and len(phrase1) + len(phrase2), is very minor.\n",
    "The first one calculates the length of the two lists combined together, while the second one\n",
    "calculates the length of one list added by the other."
   ]
  },
  {
   "cell_type": "code",
   "execution_count": 16,
   "metadata": {},
   "outputs": [],
   "source": [
    "phrase1 = [\"Ice\", \"cream\", \"is\", \"good!\"]\n",
    "phrase2 = [\"I\", \"don't\", \"like\", \"it...\"]\n",
    "phrase3 = [\"You\", \"suck!\"]"
   ]
  },
  {
   "cell_type": "code",
   "execution_count": 17,
   "metadata": {},
   "outputs": [
    {
     "data": {
      "text/plain": [
       "\"Ice cream is good! I don't like it... You suck!\""
      ]
     },
     "execution_count": 17,
     "metadata": {},
     "output_type": "execute_result"
    }
   ],
   "source": [
    "' '.join(phrase1 + phrase2 + phrase3)"
   ]
  },
  {
   "cell_type": "code",
   "execution_count": 18,
   "metadata": {},
   "outputs": [
    {
     "data": {
      "text/plain": [
       "8"
      ]
     },
     "execution_count": 18,
     "metadata": {},
     "output_type": "execute_result"
    }
   ],
   "source": [
    "len(phrase1 + phrase2)"
   ]
  },
  {
   "cell_type": "code",
   "execution_count": 19,
   "metadata": {},
   "outputs": [
    {
     "data": {
      "text/plain": [
       "8"
      ]
     },
     "execution_count": 19,
     "metadata": {},
     "output_type": "execute_result"
    }
   ],
   "source": [
    "len(phrase1) + len(phrase2)"
   ]
  },
  {
   "cell_type": "markdown",
   "metadata": {},
   "source": [
    "## 16"
   ]
  },
  {
   "cell_type": "code",
   "execution_count": 20,
   "metadata": {},
   "outputs": [
    {
     "data": {
      "text/plain": [
       "[0, 1, 2, 3, 4, 5, 6, 7, 8, 9]"
      ]
     },
     "execution_count": 20,
     "metadata": {},
     "output_type": "execute_result"
    }
   ],
   "source": [
    "list(range(10))"
   ]
  },
  {
   "cell_type": "code",
   "execution_count": 21,
   "metadata": {},
   "outputs": [
    {
     "data": {
      "text/plain": [
       "[10, 11, 12, 13, 14, 15, 16, 17, 18, 19]"
      ]
     },
     "execution_count": 21,
     "metadata": {},
     "output_type": "execute_result"
    }
   ],
   "source": [
    "list(range(10, 20))"
   ]
  },
  {
   "cell_type": "code",
   "execution_count": 22,
   "metadata": {},
   "outputs": [
    {
     "data": {
      "text/plain": [
       "[10, 12, 14, 16, 18]"
      ]
     },
     "execution_count": 22,
     "metadata": {},
     "output_type": "execute_result"
    }
   ],
   "source": [
    "list(range(10,20, 2))"
   ]
  },
  {
   "cell_type": "code",
   "execution_count": 23,
   "metadata": {},
   "outputs": [
    {
     "data": {
      "text/plain": [
       "[20, 18, 16, 14, 12]"
      ]
     },
     "execution_count": 23,
     "metadata": {},
     "output_type": "execute_result"
    }
   ],
   "source": [
    "list(range(20, 10, -2))"
   ]
  },
  {
   "cell_type": "markdown",
   "metadata": {},
   "source": [
    "## 18\n",
    "Using list addition, and the set and sorted operations, compute the vocabulary of the sentences sent1 ... sent8."
   ]
  },
  {
   "cell_type": "code",
   "execution_count": 24,
   "metadata": {},
   "outputs": [
    {
     "name": "stdout",
     "output_type": "stream",
     "text": [
      "75\n"
     ]
    }
   ],
   "source": [
    "sents = len(sorted(set(sent1 + sent2 + sent3 + sent4 + sent5 + sent6 + sent7 + sent8)))\n",
    "print(sents)"
   ]
  },
  {
   "cell_type": "code",
   "execution_count": 25,
   "metadata": {},
   "outputs": [
    {
     "name": "stdout",
     "output_type": "stream",
     "text": [
      "75\n"
     ]
    }
   ],
   "source": [
    "sents = [\"\"]\n",
    "for i in [\"sent\"+str(j) for j in range(1,10)]:\n",
    "    sents = sents + eval(i)\n",
    "    sorted_sents = sorted(set(sents))\n",
    "    sorted_sents = [word for word in sorted_sents if word.isalpha()]\n",
    "print(len(sorted_sents))"
   ]
  },
  {
   "cell_type": "markdown",
   "metadata": {},
   "source": [
    "## 19\n",
    "\n",
    "Unfortunately I do not know the answer to this question for the moment being."
   ]
  },
  {
   "cell_type": "code",
   "execution_count": 26,
   "metadata": {},
   "outputs": [
    {
     "data": {
      "text/plain": [
       "17231"
      ]
     },
     "execution_count": 26,
     "metadata": {},
     "output_type": "execute_result"
    }
   ],
   "source": [
    "len(sorted(set(w.lower() for w in text1)))"
   ]
  },
  {
   "cell_type": "code",
   "execution_count": 27,
   "metadata": {},
   "outputs": [
    {
     "name": "stdout",
     "output_type": "stream",
     "text": [
      "19317 17231\n"
     ]
    }
   ],
   "source": [
    "sorted_set1 = len(sorted(w.lower() for w in set(text1)))\n",
    "sorted_set2 = len(sorted(set(w.lower() for w in text1)))\n",
    "print(sorted_set1, sorted_set2)"
   ]
  },
  {
   "cell_type": "code",
   "execution_count": 28,
   "metadata": {},
   "outputs": [],
   "source": [
    "list1 = [\"Hej\", \"jag\", \"heter\", \"Olle\",\"!!\", \"?\", \"Wh0t\", \"Hardtosay...\",]"
   ]
  },
  {
   "cell_type": "code",
   "execution_count": 29,
   "metadata": {},
   "outputs": [
    {
     "name": "stdout",
     "output_type": "stream",
     "text": [
      "8 8\n"
     ]
    }
   ],
   "source": [
    "test1 = len(sorted(set(w.lower() for w in list1)))\n",
    "test2 = len(sorted(w.lower() for w in set(list1)))\n",
    "print(test1, test2)"
   ]
  },
  {
   "cell_type": "markdown",
   "metadata": {},
   "source": [
    "## 22\n",
    "\n",
    "Make a Frequency distribution of text5 and make a list of four letter words from that list by looping through text5 and adding every word with 4 characters. Then loop through the frequency distributed text5 and remove every word that does not match a word in the fourCharWords list, using the pop function.\n",
    "\n",
    "Display the result with a pyplot giving it 30 labels to make it readable data."
   ]
  },
  {
   "cell_type": "code",
   "execution_count": 30,
   "metadata": {},
   "outputs": [
    {
     "data": {
      "text/plain": [
       "6066"
      ]
     },
     "execution_count": 30,
     "metadata": {},
     "output_type": "execute_result"
    }
   ],
   "source": [
    "len(text5)\n",
    "len(FreqDist(text5))"
   ]
  },
  {
   "cell_type": "code",
   "execution_count": 31,
   "metadata": {},
   "outputs": [
    {
     "name": "stdout",
     "output_type": "stream",
     "text": [
      "<FreqDist with 1181 samples and 10204 outcomes>\n"
     ]
    },
    {
     "data": {
      "image/png": "[encoded data removed]",
      "text/plain": [
       "<Figure size 432x288 with 1 Axes>"
      ]
     },
     "metadata": {
      "needs_background": "light"
     },
     "output_type": "display_data"
    }
   ],
   "source": [
    "fDist = FreqDist(text5)\n",
    "fourCharWords = set([i for i in text5 if len(i) == 4])\n",
    "for i in [j for j in fDist]:\n",
    "    if i not in fourCharWords:\n",
    "        fDist.pop(i)\n",
    "print(fDist)\n",
    "fDist.plot(30)"
   ]
  },
  {
   "cell_type": "markdown",
   "metadata": {},
   "source": [
    "## 26\n",
    "\n",
    "This function takes the length of a list and loops through it as man times as the list is long.\n",
    "\n",
    "i.e. \n",
    "If a list was 4 indexes long it would loop through that list 4 times adding 4 every time, resulting in a 16.\n",
    "\n",
    "Answer: You cannot use it to count the average word length of a text."
   ]
  },
  {
   "cell_type": "code",
   "execution_count": 32,
   "metadata": {},
   "outputs": [
    {
     "name": "stdout",
     "output_type": "stream",
     "text": [
      "9 16 999044\n"
     ]
    }
   ],
   "source": [
    "list1 = [\"hi\", \"im\", \"jonas\"]\n",
    "list2 = [\"hi\", \"im\", \"jonas\", \"engberg\"]\n",
    "list1Sum = sum(len(w) for w in list1)\n",
    "list2Sum = sum(len(w) for w in list2)\n",
    "list3Sum = sum(len(w) for w in text1)\n",
    "print(list1Sum, list2Sum, list3Sum)"
   ]
  },
  {
   "cell_type": "markdown",
   "metadata": {},
   "source": [
    "## 28"
   ]
  },
  {
   "cell_type": "code",
   "execution_count": 33,
   "metadata": {},
   "outputs": [
    {
     "data": {
      "text/plain": [
       "'0.16%'"
      ]
     },
     "execution_count": 33,
     "metadata": {},
     "output_type": "execute_result"
    }
   ],
   "source": [
    "def percent(word, text):\n",
    "    wordFreq = FreqDist(text)[word]\n",
    "    percent = wordFreq / (len(text)) * 100\n",
    "    return str(round(percent, 2)) + \"%\"\n",
    "percent('her', text5)"
   ]
  },
  {
   "cell_type": "markdown",
   "metadata": {},
   "source": [
    "# Chapter2"
   ]
  },
  {
   "cell_type": "code",
   "execution_count": 34,
   "metadata": {},
   "outputs": [],
   "source": [
    "from nltk.corpus import *\n",
    "from matplotlib import pyplot\n",
    "from nltk.corpus import wordnet as wn"
   ]
  },
  {
   "cell_type": "markdown",
   "metadata": {},
   "source": [
    "## 1"
   ]
  },
  {
   "cell_type": "code",
   "execution_count": 35,
   "metadata": {},
   "outputs": [],
   "source": [
    "phrase = [\"Ones\", \"again\", \"another\", \"list\"]"
   ]
  },
  {
   "cell_type": "markdown",
   "metadata": {},
   "source": [
    "## 2"
   ]
  },
  {
   "cell_type": "code",
   "execution_count": 36,
   "metadata": {},
   "outputs": [
    {
     "name": "stdout",
     "output_type": "stream",
     "text": [
      "98171 6132\n"
     ]
    }
   ],
   "source": [
    "austen_words = len(gutenberg.words('austen-persuasion.txt'))\n",
    "austen_unique_words = len(set(gutenberg.words('austen-persuasion.txt')))\n",
    "print(austen_words, austen_unique_words)"
   ]
  },
  {
   "cell_type": "markdown",
   "metadata": {},
   "source": [
    "## 3"
   ]
  },
  {
   "cell_type": "code",
   "execution_count": 37,
   "metadata": {},
   "outputs": [
    {
     "data": {
      "text/plain": [
       "['The', 'Fulton', 'County', 'Grand', 'Jury', 'said', ...]"
      ]
     },
     "execution_count": 37,
     "metadata": {},
     "output_type": "execute_result"
    }
   ],
   "source": [
    " nltk.corpus.brown.words()"
   ]
  },
  {
   "cell_type": "code",
   "execution_count": 38,
   "metadata": {},
   "outputs": [
    {
     "data": {
      "text/plain": [
       "['Cookie', 'Manager', ':', '\"', 'Don', \"'\", 't', ...]"
      ]
     },
     "execution_count": 38,
     "metadata": {},
     "output_type": "execute_result"
    }
   ],
   "source": [
    "nltk.corpus.webtext.words()"
   ]
  },
  {
   "cell_type": "markdown",
   "metadata": {},
   "source": [
    "## 4\n",
    "\n",
    "Men and women are quite equally distributed, while people is used far more often to refer to anyone in general."
   ]
  },
  {
   "cell_type": "code",
   "execution_count": 39,
   "metadata": {},
   "outputs": [
    {
     "ename": "NameError",
     "evalue": "name 'menWords' is not defined",
     "output_type": "error",
     "traceback": [
      "\u001b[0;31m---------------------------------------------------------------------------\u001b[0m",
      "\u001b[0;31mNameError\u001b[0m                                 Traceback (most recent call last)",
      "\u001b[0;32m<ipython-input-39-336ae660593f>\u001b[0m in \u001b[0;36m<module>\u001b[0;34m\u001b[0m\n\u001b[1;32m      3\u001b[0m \u001b[0mwomen\u001b[0m \u001b[0;34m=\u001b[0m \u001b[0mlen\u001b[0m\u001b[0;34m(\u001b[0m\u001b[0;34m[\u001b[0m\u001b[0mi\u001b[0m \u001b[0;32mfor\u001b[0m \u001b[0mi\u001b[0m \u001b[0;32min\u001b[0m \u001b[0mstate_union\u001b[0m \u001b[0;32mif\u001b[0m \u001b[0mi\u001b[0m \u001b[0;34m==\u001b[0m \u001b[0;34m'women'\u001b[0m\u001b[0;34m]\u001b[0m\u001b[0;34m)\u001b[0m\u001b[0;34m\u001b[0m\u001b[0;34m\u001b[0m\u001b[0m\n\u001b[1;32m      4\u001b[0m \u001b[0mpeople\u001b[0m \u001b[0;34m=\u001b[0m \u001b[0mlen\u001b[0m\u001b[0;34m(\u001b[0m\u001b[0;34m[\u001b[0m\u001b[0mi\u001b[0m \u001b[0;32mfor\u001b[0m \u001b[0mi\u001b[0m \u001b[0;32min\u001b[0m \u001b[0mstate_union\u001b[0m \u001b[0;32mif\u001b[0m \u001b[0mi\u001b[0m \u001b[0;34m==\u001b[0m \u001b[0;34m'people'\u001b[0m\u001b[0;34m]\u001b[0m\u001b[0;34m)\u001b[0m\u001b[0;34m\u001b[0m\u001b[0;34m\u001b[0m\u001b[0m\n\u001b[0;32m----> 5\u001b[0;31m \u001b[0mprint\u001b[0m\u001b[0;34m(\u001b[0m\u001b[0mmenWords\u001b[0m\u001b[0;34m,\u001b[0m \u001b[0mwomenWords\u001b[0m\u001b[0;34m,\u001b[0m \u001b[0mpeople\u001b[0m\u001b[0;34m)\u001b[0m\u001b[0;34m\u001b[0m\u001b[0;34m\u001b[0m\u001b[0m\n\u001b[0m",
      "\u001b[0;31mNameError\u001b[0m: name 'menWords' is not defined"
     ]
    }
   ],
   "source": [
    "state_union = nltk.corpus.state_union.words()\n",
    "men = len([i for i in state_union if i == 'men'])\n",
    "women = len([i for i in state_union if i == 'women'])\n",
    "people = len([i for i in state_union if i == 'people'])\n",
    "print(menWords, womenWords, people)"
   ]
  },
  {
   "cell_type": "markdown",
   "metadata": {},
   "source": [
    "## 5"
   ]
  },
  {
   "cell_type": "code",
   "execution_count": null,
   "metadata": {},
   "outputs": [],
   "source": [
    "from nltk.corpus import wordnet as wn"
   ]
  },
  {
   "cell_type": "code",
   "execution_count": null,
   "metadata": {},
   "outputs": [],
   "source": [
    "car = wn.synsets('car')\n",
    "print(car)\n",
    "car = wn.synset('car.n.01')\n",
    "print(car.member_meronyms())\n",
    "print(car.part_meronyms())\n",
    "print(car.substance_meronyms())\n",
    "print(car.member_holonyms())\n",
    "print(car.part_holonyms())\n",
    "print(car.substance_holonyms())"
   ]
  },
  {
   "cell_type": "markdown",
   "metadata": {},
   "source": [
    "## 8"
   ]
  },
  {
   "cell_type": "code",
   "execution_count": null,
   "metadata": {},
   "outputs": [],
   "source": [
    "print(nltk.corpus.names.fileids())"
   ]
  },
  {
   "cell_type": "code",
   "execution_count": null,
   "metadata": {
    "scrolled": true
   },
   "outputs": [],
   "source": [
    "male_to_female = nltk.ConditionalFreqDist((fileid,name[1]) \n",
    "for fileid in names.fileids() \n",
    "    for name in names.words(fileid))\n",
    "male_to_female.plot()"
   ]
  },
  {
   "cell_type": "markdown",
   "metadata": {},
   "source": [
    "## 9\n",
    "\n",
    "In moby monstrous is used to describe something horrifying or bad, compared to the other text where monstrous seems to be used to describe something that is \"very good\"."
   ]
  },
  {
   "cell_type": "code",
   "execution_count": null,
   "metadata": {},
   "outputs": [],
   "source": [
    "nltk.Text(text1)\n",
    "nltk.Text(text2)"
   ]
  },
  {
   "cell_type": "code",
   "execution_count": null,
   "metadata": {},
   "outputs": [],
   "source": [
    "moby_dick = nltk.Text(text1)\n",
    "sense_sensibility = nltk.Text(text2)\n",
    "print(\"Moby words:\")\n",
    "print(moby_dick.concordance('monstrous'))\n",
    "print(\"Sense and Sensibility words:\")\n",
    "print(sense_sensibility.concordance('monstrous'))"
   ]
  },
  {
   "cell_type": "markdown",
   "metadata": {},
   "source": [
    "## 14"
   ]
  },
  {
   "cell_type": "code",
   "execution_count": null,
   "metadata": {},
   "outputs": [],
   "source": [
    "def supergloss(s):\n",
    "    define=s.definition();\n",
    "    for hyponym in s.hyponyms():\n",
    "        define+=\"\\n\"+hyponym.definition()\n",
    "    for hypernym in s.hypernyms():\n",
    "        define+=\"\\n\"+hypernym.definition()\n",
    "    print(define)\n",
    "\n",
    "synsets = supergloss(wn.synset('car.n.01'))"
   ]
  },
  {
   "cell_type": "markdown",
   "metadata": {},
   "source": [
    "## 15"
   ]
  },
  {
   "cell_type": "code",
   "execution_count": null,
   "metadata": {},
   "outputs": [],
   "source": [
    "all_brown_words = set(brown.words())\n",
    "fDist = FreqDist(brown.words())\n",
    "three_time_words = []\n",
    "for i in all_brown_words:\n",
    "    if fDist[i] > 2:\n",
    "        three_time_words.append(i)\n",
    "\n",
    "print(three_time_words)"
   ]
  },
  {
   "cell_type": "markdown",
   "metadata": {},
   "source": [
    "## 16\n",
    "\n",
    "Science fiction has the lowest diversity score. I think that it because it is such a new genre and the sc-fi community is very likeminded about things."
   ]
  },
  {
   "cell_type": "code",
   "execution_count": null,
   "metadata": {},
   "outputs": [],
   "source": [
    "#print(brown.words(categories=\"adventure\"))\n",
    "categories = brown.categories()\n",
    "for i in categories:\n",
    "    category = brown.words(categories=i)\n",
    "    print(i,len(category),len(set(category)))\n",
    "    print (len(category)/(len(set(category))*1.0), \"\\n\")\n"
   ]
  },
  {
   "cell_type": "markdown",
   "metadata": {},
   "source": [
    "## 18"
   ]
  },
  {
   "cell_type": "code",
   "execution_count": null,
   "metadata": {},
   "outputs": [],
   "source": [
    "stopwords.words('english')"
   ]
  },
  {
   "cell_type": "code",
   "execution_count": null,
   "metadata": {},
   "outputs": [],
   "source": [
    "no_stopwords = []\n",
    "for i in bigrams(brown.words(categories=\"science_fiction\")):\n",
    "    if i not in stopwords.words('english'):\n",
    "        no_stopwords.append(i)\n",
    "fDist = FreqDist(no_stopwords)\n",
    "print(fDist.most_common(50))"
   ]
  },
  {
   "cell_type": "markdown",
   "metadata": {},
   "source": [
    "##  28"
   ]
  },
  {
   "cell_type": "code",
   "execution_count": null,
   "metadata": {},
   "outputs": [],
   "source": [
    "#This is just for testing purposes\n",
    "car = wn.synsets('car')\n",
    "auto = wn.synsets('automobile')\n",
    "car_auto = (car[0].path_similarity(auto[0]))\n",
    "\n",
    "gem = wn.synsets('gem')\n",
    "jewel = wn.synsets('jewel')\n",
    "gem_jewel = (gem[0].path_similarity(jewel[0]))\n",
    "\n",
    "myList = [gem_jewel, car_auto]\n",
    "print(sorted(myList, reverse=True))\n"
   ]
  },
  {
   "cell_type": "code",
   "execution_count": null,
   "metadata": {},
   "outputs": [],
   "source": [
    "myString = 'car-automobile, gem-jewel, journey-voyage, boy-lad, coast-shore, asylum-madhouse, magician-wizard, midday-noon, furnace-stove, food-fruit, bird-cock, bird-crane, tool-implement, brother-monk, lad-brother, crane-implement, journey-car, monk-oracle, cemetery-woodland, food-rooster, coast-hill, forest-graveyard, shore-woodland, monk-slave, coast-forest, lad-wizard, chord-smile, glass-magician, rooster-voyage, noon-string'\n",
    "\n",
    "def data_list(string):\n",
    "    string = string.replace(\" \", \"\")\n",
    "    string = string.replace(\"-\", \",\")\n",
    "    string = string.split(\",\")\n",
    "    newList = []\n",
    "    for i in range(0, len(string), 2):\n",
    "        newList.append([string[i], string[i + 1]])\n",
    "    return newList\n",
    "\n",
    "def similarity_rankings(myList):\n",
    "    rankingsList = []\n",
    "    for i in (myList):\n",
    "        synset1 = wn.synsets(i[0])\n",
    "        synset2 = wn.synsets(i[1])\n",
    "        score = ([synset1[0].path_similarity(synset2[0])])\n",
    "        rankingsList.append(score + i)\n",
    "    return sorted(rankingsList, reverse=True)\n",
    "\n",
    "parsed_string = data_list(myString)\n",
    "similarity_rankings(parsed_string)        \n",
    "   \n",
    "        \n",
    "        \n",
    "        \n",
    "        \n",
    "        \n",
    "        "
   ]
  },
  {
   "cell_type": "markdown",
   "metadata": {},
   "source": [
    "# Chapter 3\n",
    "2, 4, 6, 8, 12, 16, 18-21, 27, 30-33"
   ]
  },
  {
   "cell_type": "markdown",
   "metadata": {},
   "source": [
    "## 2"
   ]
  },
  {
   "cell_type": "code",
   "execution_count": null,
   "metadata": {},
   "outputs": [],
   "source": [
    "words = [\"dishes\", \"running\", \"nationality\", \"undo\", \"preheat\"]\n",
    "print(words[0][:-2])\n",
    "print(words[1][:-4])\n",
    "print(words[2][:-5])\n",
    "print(words[3][:-2])\n",
    "print(words[4][:-4])"
   ]
  },
  {
   "cell_type": "markdown",
   "metadata": {},
   "source": [
    "## 4"
   ]
  },
  {
   "cell_type": "code",
   "execution_count": null,
   "metadata": {},
   "outputs": [],
   "source": [
    "monty = 'This is a long string'\n",
    "print(monty[1:20:3])\n",
    "print(monty[3:len(monty):2])"
   ]
  },
  {
   "cell_type": "markdown",
   "metadata": {},
   "source": [
    "## 6\n"
   ]
  },
  {
   "cell_type": "code",
   "execution_count": null,
   "metadata": {},
   "outputs": [],
   "source": [
    "import re"
   ]
  },
  {
   "cell_type": "code",
   "execution_count": null,
   "metadata": {},
   "outputs": [],
   "source": [
    "print(nltk.re_show(r'[a-zA-Z]+',\"This matches everything except for numbers\"))\n",
    "print(nltk.re_show(r'[A-Z][a-z]*',\"This Only matches Words afTer a big cAse\"))\n",
    "print(nltk.re_show(r'p[aeiou]{,2}t',\"This needs to start with a 'p' include 'aeiou' and end with 't' pet pat pot paut\"))\n",
    "print(nltk.re_show(r'\\d+(\\.\\d+)?',\"This matches everything within numbers 123123 12.00 \"))\n",
    "print(nltk.re_show(r'([^aeiou][aeiou][^aeiou])*',\"I don't understand this one..\"))\n",
    "print(nltk.re_show(r'([^aeiou][aeiou][^aeiou])+',\"I don't understand this one either..\"))\n",
    "print(nltk.re_show(r'\\w+|[^\\w\\s]+',\"\\w+ matches any word or character, Hi Im Jonas, Im 24 years old and the time is 17:26\"))"
   ]
  },
  {
   "cell_type": "markdown",
   "metadata": {},
   "source": [
    "## 8"
   ]
  },
  {
   "cell_type": "code",
   "execution_count": 60,
   "metadata": {},
   "outputs": [],
   "source": [
    "from urllib import request"
   ]
  },
  {
   "cell_type": "code",
   "execution_count": 61,
   "metadata": {},
   "outputs": [
    {
     "name": "stdout",
     "output_type": "stream",
     "text": [
      "['<html xmlns=\"http://www.w3.org/1999/xhtml\">', '<head>', '<meta http-equiv=\"X-UA-Compatible\" content=\"IE=Edge\" />', '<meta http-equiv=\"Content-Type\" content=\"text/html; charset=utf-8\" />', '<title>', '</title>', '<link rel=\"stylesheet\" href=\"_static/agogo.css\" type=\"text/css\" />', '<link rel=\"stylesheet\" href=\"_static/pygments.css\" type=\"text/css\" />', '<script type=\"text/javascript\" id=\"documentation_options\" data-url_root=\"./\" src=\"_static/documentation_options.js\">', '</script>', '<script type=\"text/javascript\" src=\"_static/jquery.js\">', '</script>', '<script type=\"text/javascript\" src=\"_static/underscore.js\">', '</script>', '<script type=\"text/javascript\" src=\"_static/doctools.js\">', '</script>', '<link rel=\"index\" title=\"Index\" href=\"genindex.html\" />', '<link rel=\"search\" title=\"Search\" href=\"search.html\" />', '<link rel=\"next\" title=\"NLTK News\" href=\"news.html\" />', '</head>', '<body>', '<div class=\"header-wrapper\" role=\"banner\">', '<div class=\"header\">', '<div class=\"headertitle\">', '</a>', '</div>', '<div class=\"rel\" role=\"navigation\" aria-label=\"related navigation\">', '</a>', '</a>', '</a>', '</div>', '</div>', '</div>', '<div class=\"content-wrapper\">', '<div class=\"content\">', '<div class=\"document\">', '<div class=\"documentwrapper\">', '<div class=\"bodywrapper\">', '<div class=\"body\" role=\"main\">', '<div class=\"section\" id=\"natural-language-toolkit\">', '<h1>', '<a class=\"headerlink\" href=\"#natural-language-toolkit\" title=\"Permalink to this headline\">', '</a>', '</h1>', '<p>', '<a class=\"reference external\" href=\"http://nltk.org/nltk_data/\">', '</a>', '<a class=\"reference external\" href=\"http://groups.google.com/group/nltk-users\">', '</a>', '</p>', '<p>', '</p>', '<p>', '</p>', '<p>', '<a class=\"reference external\" href=\"http://nltk.org/book\">', '</a>', '<a class=\"reference external\" href=\"http://nltk.org/book_1ed\">', '</a>', '</p>', '<div class=\"section\" id=\"some-simple-things-you-can-do-with-nltk\">', '<h2>', '<a class=\"headerlink\" href=\"#some-simple-things-you-can-do-with-nltk\" title=\"Permalink to this headline\">', '</a>', '</h2>', '<p>', '</p>', '<div class=\"highlight-default notranslate\">', '<div class=\"highlight\">', '<pre>', '<span>', '</span>', '<span class=\"gp\">', '</span>', '<span class=\"kn\">', '</span>', '<span class=\"nn\">', '</span>', '<span class=\"gp\">', '</span>', '<span class=\"n\">', '</span>', '<span class=\"o\">', '</span>', '<span class=\"s2\">', '</span>', '<span class=\"gp\">', '</span>', '<span class=\"s2\">', '</span>', '<span class=\"gp\">', '</span>', '<span class=\"n\">', '</span>', '<span class=\"o\">', '</span>', '<span class=\"n\">', '</span>', '<span class=\"o\">', '</span>', '<span class=\"n\">', '</span>', '<span class=\"p\">', '</span>', '<span class=\"n\">', '</span>', '<span class=\"p\">', '</span>', '<span class=\"gp\">', '</span>', '<span class=\"n\">', '</span>', '<span class=\"go\">', '</span>', '<span class=\"go\">', '</span>', '<span class=\"gp\">', '</span>', '<span class=\"n\">', '</span>', '<span class=\"o\">', '</span>', '<span class=\"n\">', '</span>', '<span class=\"o\">', '</span>', '<span class=\"n\">', '</span>', '<span class=\"p\">', '</span>', '<span class=\"n\">', '</span>', '<span class=\"p\">', '</span>', '<span class=\"gp\">', '</span>', '<span class=\"n\">', '</span>', '<span class=\"p\">', '</span>', '<span class=\"mi\">', '</span>', '<span class=\"p\">', '</span>', '<span class=\"mi\">', '</span>', '<span class=\"p\">', '</span>', '<span class=\"go\">', '</span>', '<span class=\"go\">', '</span>', '</pre>', '</div>', '</div>', '<p>', '</p>', '<div class=\"highlight-default notranslate\">', '<div class=\"highlight\">', '<pre>', '<span>', '</span>', '<span class=\"gp\">', '</span>', '<span class=\"n\">', '</span>', '<span class=\"o\">', '</span>', '<span class=\"n\">', '</span>', '<span class=\"o\">', '</span>', '<span class=\"n\">', '</span>', '<span class=\"o\">', '</span>', '<span class=\"n\">', '</span>', '<span class=\"p\">', '</span>', '<span class=\"n\">', '</span>', '<span class=\"p\">', '</span>', '<span class=\"gp\">', '</span>', '<span class=\"n\">', '</span>', '<span class=\"go\">', '</span>', '<span class=\"go\">', '</span>', '<span class=\"go\">', '</span>', '<span class=\"go\">', '</span>', '<span class=\"go\">', '</span>', '</pre>', '</div>', '</div>', '<p>', '</p>', '<div class=\"highlight-default notranslate\">', '<div class=\"highlight\">', '<pre>', '<span>', '</span>', '<span class=\"gp\">', '</span>', '<span class=\"kn\">', '</span>', '<span class=\"nn\">', '</span>', '<span class=\"k\">', '</span>', '<span class=\"n\">', '</span>', '<span class=\"gp\">', '</span>', '<span class=\"n\">', '</span>', '<span class=\"o\">', '</span>', '<span class=\"n\">', '</span>', '<span class=\"o\">', '</span>', '<span class=\"n\">', '</span>', '<span class=\"p\">', '</span>', '<span class=\"s1\">', '</span>', '<span class=\"p\">', '</span>', '<span class=\"mi\">', '</span>', '<span class=\"p\">', '</span>', '<span class=\"gp\">', '</span>', '<span class=\"n\">', '</span>', '<span class=\"o\">', '</span>', '<span class=\"n\">', '</span>', '<span class=\"p\">', '</span>', '</pre>', '</div>', '</div>', '<img alt=\"_images/tree.gif\" src=\"_images/tree.gif\" />', '<p>', '</p>', '<blockquote>', '<div>', '<em>', '</em>', '</div>', '</blockquote>', '</div>', '<div class=\"section\" id=\"next-steps\">', '<h2>', '<a class=\"headerlink\" href=\"#next-steps\" title=\"Permalink to this headline\">', '</a>', '</h2>', '<ul class=\"simple\">', '<li>', '<a class=\"reference external\" href=\"http://groups.google.com/group/nltk\">', '</a>', '</li>', '<li>', '<a class=\"reference external\" href=\"http://groups.google.com/group/nltk-users\">', '</a>', '</li>', '</ul>', '</div>', '</div>', '<div class=\"section\" id=\"contents\">', '<h1>', '<a class=\"headerlink\" href=\"#contents\" title=\"Permalink to this headline\">', '</a>', '</h1>', '<div class=\"toctree-wrapper compound\">', '<ul>', '<li class=\"toctree-l1\">', '<a class=\"reference internal\" href=\"news.html\">', '</a>', '</li>', '<li class=\"toctree-l1\">', '<a class=\"reference internal\" href=\"install.html\">', '</a>', '</li>', '<li class=\"toctree-l1\">', '<a class=\"reference internal\" href=\"data.html\">', '</a>', '</li>', '<li class=\"toctree-l1\">', '<a class=\"reference internal\" href=\"contribute.html\">', '</a>', '</li>', '<li class=\"toctree-l1\">', '<a class=\"reference external\" href=\"https://github.com/nltk/nltk/wiki/FAQ\">', '</a>', '</li>', '<li class=\"toctree-l1\">', '<a class=\"reference external\" href=\"https://github.com/nltk/nltk/wiki\">', '</a>', '</li>', '<li class=\"toctree-l1\">', '<a class=\"reference internal\" href=\"api/nltk.html\">', '</a>', '</li>', '<li class=\"toctree-l1\">', '<a class=\"reference external\" href=\"http://www.nltk.org/howto\">', '</a>', '</li>', '</ul>', '</div>', '<ul class=\"simple\">', '<li>', '<a class=\"reference internal\" href=\"genindex.html\">', '<span class=\"std std-ref\">', '</span>', '</a>', '</li>', '<li>', '<a class=\"reference internal\" href=\"py-modindex.html\">', '<span class=\"std std-ref\">', '</span>', '</a>', '</li>', '<li>', '<a class=\"reference internal\" href=\"search.html\">', '<span class=\"std std-ref\">', '</span>', '</a>', '</li>', '</ul>', '</div>', '</div>', '</div>', '</div>', '</div>', '<div class=\"sidebar\">', '<h3>', '</h3>', '<ul>', '<li class=\"toctree-l1\">', '<a class=\"reference internal\" href=\"news.html\">', '</a>', '</li>', '<li class=\"toctree-l1\">', '<a class=\"reference internal\" href=\"install.html\">', '</a>', '</li>', '<li class=\"toctree-l1\">', '<a class=\"reference internal\" href=\"data.html\">', '</a>', '</li>', '<li class=\"toctree-l1\">', '<a class=\"reference internal\" href=\"contribute.html\">', '</a>', '</li>', '<li class=\"toctree-l1\">', '<a class=\"reference external\" href=\"https://github.com/nltk/nltk/wiki/FAQ\">', '</a>', '</li>', '<li class=\"toctree-l1\">', '<a class=\"reference external\" href=\"https://github.com/nltk/nltk/wiki\">', '</a>', '</li>', '<li class=\"toctree-l1\">', '<a class=\"reference internal\" href=\"api/nltk.html\">', '</a>', '</li>', '<li class=\"toctree-l1\">', '<a class=\"reference external\" href=\"http://www.nltk.org/howto\">', '</a>', '</li>', '</ul>', '<div role=\"search\">', '<h3 style=\"margin-top: 1.5em;\">', '</h3>', '<form class=\"search\" action=\"search.html\" method=\"get\">', '<input type=\"text\" name=\"q\" />', '<input type=\"submit\" value=\"Go\" />', '<input type=\"hidden\" name=\"check_keywords\" value=\"yes\" />', '<input type=\"hidden\" name=\"area\" value=\"default\" />', '</form>', '</div>', '</div>', '<div class=\"clearer\">', '</div>', '</div>', '</div>', '<div class=\"footer-wrapper\">', '<div class=\"footer\">', '<div class=\"left\">', '<div role=\"navigation\" aria-label=\"related navigaton\">', '</a>', '</a>', '</a>', '</div>', '<div role=\"note\" aria-label=\"source link\">', '<br/>', '</a>', '</div>', '</div>', '<div class=\"right\">', '<div class=\"footer\" role=\"contentinfo\">', '<a href=\"http://sphinx-doc.org/\">', '</a>', '</div>', '</div>', '<div class=\"clearer\">', '</div>', '</div>', '</div>', '</body>', '</html>']\n"
     ]
    }
   ],
   "source": [
    "def url_parser(url):\n",
    "    url = request.urlopen(url).read().decode('utf8')\n",
    "    removed_html_markup = re.search(r'(<.*?>|<\\/.*?>)',url)\n",
    "    removed_html_markup = re.findall(r'(<.*?>|<\\/.*?>)',url)\n",
    "    return print(removed_html_markup)\n",
    "\n",
    "url = url_parser('http://nltk.org/')"
   ]
  },
  {
   "cell_type": "markdown",
   "metadata": {},
   "source": [
    "## 12"
   ]
  },
  {
   "cell_type": "code",
   "execution_count": 62,
   "metadata": {},
   "outputs": [
    {
     "name": "stdout",
     "output_type": "stream",
     "text": [
      "['j']\n",
      "['o']\n",
      "['n']\n",
      "['a']\n",
      "['s']\n"
     ]
    }
   ],
   "source": [
    "jonas = 'jonas'\n",
    "for i in jonas:\n",
    "    print([i])"
   ]
  },
  {
   "cell_type": "markdown",
   "metadata": {},
   "source": [
    "## 16"
   ]
  },
  {
   "cell_type": "code",
   "execution_count": 153,
   "metadata": {},
   "outputs": [
    {
     "ename": "ModuleNotFoundError",
     "evalue": "No module named 'monty'",
     "output_type": "error",
     "traceback": [
      "\u001b[0;31m---------------------------------------------------------------------------\u001b[0m",
      "\u001b[0;31mModuleNotFoundError\u001b[0m                       Traceback (most recent call last)",
      "\u001b[0;32m<ipython-input-153-0c920bc68210>\u001b[0m in \u001b[0;36m<module>\u001b[0;34m\u001b[0m\n\u001b[0;32m----> 1\u001b[0;31m \u001b[0;32mfrom\u001b[0m \u001b[0mmonty\u001b[0m \u001b[0;32mimport\u001b[0m \u001b[0mmonty\u001b[0m\u001b[0;34m\u001b[0m\u001b[0;34m\u001b[0m\u001b[0m\n\u001b[0m\u001b[1;32m      2\u001b[0m \u001b[0mprint\u001b[0m\u001b[0;34m(\u001b[0m\u001b[0mmonty\u001b[0m\u001b[0;34m)\u001b[0m\u001b[0;34m\u001b[0m\u001b[0;34m\u001b[0m\u001b[0m\n",
      "\u001b[0;31mModuleNotFoundError\u001b[0m: No module named 'monty'"
     ]
    }
   ],
   "source": [
    "from monty import monty\n",
    "print(monty)"
   ]
  },
  {
   "cell_type": "markdown",
   "metadata": {},
   "source": [
    "## 18"
   ]
  },
  {
   "cell_type": "code",
   "execution_count": 65,
   "metadata": {},
   "outputs": [
    {
     "name": "stdout",
     "output_type": "stream",
     "text": [
      "['Whah', 'What', 'Whee', 'When', 'Whig', 'Who', 'Whoa', 'Whom', 'Why', 'what', 'when', 'wher', 'whim', 'whip', 'whir', 'whit', 'whiz', 'who', 'whoe', 'whom', 'why']\n"
     ]
    }
   ],
   "source": [
    "words=[i for i in nltk.corpus.brown.words() if i.lower()[:2]=='wh' and len(i)<5]\n",
    "print(sorted(set(words)))"
   ]
  },
  {
   "cell_type": "markdown",
   "metadata": {},
   "source": [
    "## 19"
   ]
  },
  {
   "cell_type": "code",
   "execution_count": 66,
   "metadata": {},
   "outputs": [
    {
     "data": {
      "text/plain": [
       "[['Page', 30],\n",
       " ['Pot', 15],\n",
       " ['Peter', 54],\n",
       " ['Pat', 39],\n",
       " ['Plot', 13],\n",
       " ['Potter', 59],\n",
       " ['Palace', 43],\n",
       " ['Part', 34]]"
      ]
     },
     "execution_count": 66,
     "metadata": {},
     "output_type": "execute_result"
    }
   ],
   "source": [
    "def readFile(file):\n",
    "    file_result = []\n",
    "    #The with statement will automatically always close the file\n",
    "    with open(file, 'r') as file:\n",
    "        data = file.readlines()\n",
    "        for line in data:\n",
    "            line=line.split()\n",
    "            file_result.append([str(line[0]),int(line[1])])\n",
    "    return file_result\n",
    "    \n",
    "readFile('ex19.txt')"
   ]
  },
  {
   "cell_type": "markdown",
   "metadata": {},
   "source": [
    "## 20"
   ]
  },
  {
   "cell_type": "code",
   "execution_count": 67,
   "metadata": {},
   "outputs": [],
   "source": [
    "import bs4\n",
    "from urllib import request\n",
    "from urllib.request import urlopen\n",
    "from bs4 import BeautifulSoup as soup"
   ]
  },
  {
   "cell_type": "code",
   "execution_count": 68,
   "metadata": {},
   "outputs": [
    {
     "data": {
      "text/plain": [
       "['Grand Theft Auto V',\n",
       " 'Middle-earth™: Shadow of War™',\n",
       " 'Vampyr',\n",
       " 'F1 2018',\n",
       " 'Factory Town',\n",
       " 'Outlaws of the Old West',\n",
       " 'Conan Exiles',\n",
       " 'Grand Theft Auto V: Premium Online Edition',\n",
       " 'Fallout 4',\n",
       " 'Car Mechanic Simulator 2018',\n",
       " ' Sekiro™: Shadows Die Twice + Steam Controller',\n",
       " 'Star Control®: Origins',\n",
       " 'RPG Maker MV',\n",
       " 'Middle-earth™: Shadow of Mordor™',\n",
       " 'Foxhole',\n",
       " 'Grand Theft Auto V: Premium Online Edition & Megalodon Shark Card Bundle',\n",
       " 'Truberbrook / Trüberbrook',\n",
       " 'Train Simulator 2019',\n",
       " 'Hentai Crush',\n",
       " 'Dungeon Defenders',\n",
       " 'Redout: Enhanced Edition',\n",
       " 'Steam Controller',\n",
       " 'Grand Theft Auto V: Premium Online Edition & Whale Shark Card Bundle',\n",
       " 'Hypnospace Outlaw',\n",
       " 'Aartform Curvy 3D 3.0']"
      ]
     },
     "execution_count": 68,
     "metadata": {},
     "output_type": "execute_result"
    }
   ],
   "source": [
    "def readUrl(url):\n",
    "    myList = []\n",
    "    uClient = urlopen(url)\n",
    "    html = uClient.read()\n",
    "    uClient.close()\n",
    "    \n",
    "    page = soup(html, \"html.parser\")\n",
    "    \n",
    "    containers = page.findAll(\"div\", {\"class\":\"responsive_search_name_combined\"})\n",
    "    \n",
    "    for container in containers:\n",
    "        product_title = container.find(\"span\", {\"class\", \"title\"}).text\n",
    "        myList.append(product_title)\n",
    "    return myList\n",
    "\n",
    "readUrl('https://store.steampowered.com/search/?specials=1')"
   ]
  },
  {
   "cell_type": "markdown",
   "metadata": {},
   "source": [
    "## 21"
   ]
  },
  {
   "cell_type": "code",
   "execution_count": 71,
   "metadata": {},
   "outputs": [
    {
     "data": {
      "text/plain": [
       "[['curators',\n",
       "  'wishlist',\n",
       "  'stats',\n",
       "  'discussions',\n",
       "  'broadcasts',\n",
       "  'desktop',\n",
       "  'website',\n",
       "  'rights',\n",
       "  'trademarks',\n",
       "  'owners',\n",
       "  'img',\n",
       "  'curators',\n",
       "  'wishlist',\n",
       "  'stats',\n",
       "  'discussions',\n",
       "  'broadcasts',\n",
       "  '简体中文',\n",
       "  '繁體中文',\n",
       "  '日本語',\n",
       "  '한국어',\n",
       "  'ไทย',\n",
       "  'български',\n",
       "  'čeština',\n",
       "  'dansk',\n",
       "  'deutsch',\n",
       "  'español',\n",
       "  'españa',\n",
       "  'español',\n",
       "  'latinoamérica',\n",
       "  'latin',\n",
       "  'ελληνικά',\n",
       "  'français',\n",
       "  'italiano',\n",
       "  'magyar',\n",
       "  'nederlands',\n",
       "  'norsk',\n",
       "  'polski',\n",
       "  'português',\n",
       "  'português',\n",
       "  'brasil',\n",
       "  'română',\n",
       "  'русский',\n",
       "  'suomi',\n",
       "  'svenska',\n",
       "  'türkçe',\n",
       "  'tiếng',\n",
       "  'việt',\n",
       "  'українська',\n",
       "  'moves',\n",
       "  'inputs',\n",
       "  'breaks',\n",
       "  'reparent',\n",
       "  'inputs',\n",
       "  'desktop',\n",
       "  'elements',\n",
       "  'searchform',\n",
       "  'var',\n",
       "  'var',\n",
       "  'strparam',\n",
       "  'var',\n",
       "  'var',\n",
       "  'strvalues',\n",
       "  'types',\n",
       "  'var',\n",
       "  'rgvalues',\n",
       "  'rgvalues',\n",
       "  'var',\n",
       "  'rgvalues',\n",
       "  'viewed',\n",
       "  'curators',\n",
       "  'updated',\n",
       "  'games',\n",
       "  'games',\n",
       "  'pc',\n",
       "  'café',\n",
       "  'games',\n",
       "  'indie',\n",
       "  'multiplayer',\n",
       "  'rpg',\n",
       "  'tags',\n",
       "  'steamos',\n",
       "  'linux',\n",
       "  'software',\n",
       "  'software',\n",
       "  'software',\n",
       "  'editing',\n",
       "  'utilities',\n",
       "  'publishing',\n",
       "  'htc',\n",
       "  'var',\n",
       "  'var',\n",
       "  'var',\n",
       "  'var',\n",
       "  'var',\n",
       "  'busesmallscreenmode',\n",
       "  'busesmallscreenmode',\n",
       "  'busesmallscreenmode',\n",
       "  'var',\n",
       "  'nmenuheight',\n",
       "  'var',\n",
       "  'var',\n",
       "  'var',\n",
       "  'var',\n",
       "  'initminiprofilehovers',\n",
       "  'bwholeunitsonly',\n",
       "  'var',\n",
       "  'fnbase',\n",
       "  'bwholeunitsonly',\n",
       "  'var',\n",
       "  'fmt',\n",
       "  'bwholeunitsonly',\n",
       "  'var',\n",
       "  'nvalueincents',\n",
       "  'bwholeunitsonly',\n",
       "  'strnegativesymbol',\n",
       "  'nvalueincents',\n",
       "  'specials',\n",
       "  'products',\n",
       "  'relevancerelease',\n",
       "  'datenamelowest',\n",
       "  'pricehighest',\n",
       "  'priceuser',\n",
       "  'reviews',\n",
       "  'handlekeydown',\n",
       "  'parameters',\n",
       "  'titles',\n",
       "  'excluded',\n",
       "  'titles',\n",
       "  'vampyr',\n",
       "  'outlaws',\n",
       "  'conan',\n",
       "  'exiles',\n",
       "  'online',\n",
       "  'fallout',\n",
       "  'shadows',\n",
       "  'origins',\n",
       "  'rpg',\n",
       "  'mv',\n",
       "  'online',\n",
       "  'megalodon',\n",
       "  'truberbrook',\n",
       "  'trüberbrook',\n",
       "  'hentai',\n",
       "  'defenders',\n",
       "  'online',\n",
       "  'hypnospace',\n",
       "  'aartform',\n",
       "  'indie',\n",
       "  'rpg',\n",
       "  'singleplayer',\n",
       "  'multiplayer',\n",
       "  'soundtrack',\n",
       "  'multiplayer',\n",
       "  'vr',\n",
       "  'utilities',\n",
       "  'pixel',\n",
       "  'fps',\n",
       "  'retro',\n",
       "  'online',\n",
       "  'zombies',\n",
       "  'relaxing',\n",
       "  'memes',\n",
       "  'multiplayer',\n",
       "  'publishing',\n",
       "  'software',\n",
       "  'rpgmaker',\n",
       "  'rpg',\n",
       "  'rpg',\n",
       "  'scroller',\n",
       "  'crafting',\n",
       "  'rts',\n",
       "  'pvp',\n",
       "  'choices',\n",
       "  'customization',\n",
       "  'sim',\n",
       "  'jrpg',\n",
       "  'minimalist',\n",
       "  'moddable',\n",
       "  'mmorpg',\n",
       "  'ii',\n",
       "  'endings',\n",
       "  'stylized',\n",
       "  'software',\n",
       "  'surreal',\n",
       "  'robots',\n",
       "  'cyberpunk',\n",
       "  'cartoony',\n",
       "  'addictive',\n",
       "  'metroidvania',\n",
       "  'perma',\n",
       "  'parkour',\n",
       "  'aliens',\n",
       "  'soundtrack',\n",
       "  'pve',\n",
       "  'moba',\n",
       "  'steampunk',\n",
       "  'editing',\n",
       "  'kickstarter',\n",
       "  'lovecraftian',\n",
       "  'dystopian',\n",
       "  'demons',\n",
       "  'trains',\n",
       "  'sim',\n",
       "  'mod',\n",
       "  'mechs',\n",
       "  'gamemaker',\n",
       "  'rpg',\n",
       "  'rpg',\n",
       "  'pirates',\n",
       "  'ninja',\n",
       "  'dinosaurs',\n",
       "  'psychedelic',\n",
       "  'dragons',\n",
       "  'voxel',\n",
       "  'otome',\n",
       "  'wargame',\n",
       "  'trackir',\n",
       "  'dungeons',\n",
       "  'dragons',\n",
       "  'tanks',\n",
       "  'crpg',\n",
       "  'games',\n",
       "  'customization',\n",
       "  'crowdfunded',\n",
       "  'heist',\n",
       "  'nsfw',\n",
       "  'events',\n",
       "  'gothic',\n",
       "  'america',\n",
       "  'fmv',\n",
       "  'philisophical',\n",
       "  'arts',\n",
       "  'warhammer',\n",
       "  'programming',\n",
       "  'lego',\n",
       "  'multiplayer',\n",
       "  'offroad',\n",
       "  'minigames',\n",
       "  'wars',\n",
       "  'horses',\n",
       "  'rome',\n",
       "  'mars',\n",
       "  'werewolves',\n",
       "  'typing',\n",
       "  'benchmark',\n",
       "  'sokoban',\n",
       "  'controls',\n",
       "  'transhumanism',\n",
       "  'mini',\n",
       "  'lara',\n",
       "  'motorbike',\n",
       "  'lemmings',\n",
       "  'bikes',\n",
       "  'motocross',\n",
       "  'skateboarding',\n",
       "  'bmx',\n",
       "  'atv',\n",
       "  'snowboarding',\n",
       "  'types',\n",
       "  'games',\n",
       "  'software',\n",
       "  'videos',\n",
       "  'downloadable',\n",
       "  'mods',\n",
       "  'trailers',\n",
       "  'bundles',\n",
       "  'players',\n",
       "  'online',\n",
       "  'online',\n",
       "  'multiplayer',\n",
       "  'played',\n",
       "  'achievements',\n",
       "  'cards',\n",
       "  'captions',\n",
       "  'steamvr',\n",
       "  'collectibles',\n",
       "  'enabled',\n",
       "  'includes',\n",
       "  'sdk',\n",
       "  'vr',\n",
       "  'vr',\n",
       "  'vr',\n",
       "  'supported',\n",
       "  'headsets',\n",
       "  'htc',\n",
       "  'windows',\n",
       "  'controllers',\n",
       "  'gamepad',\n",
       "  'windows',\n",
       "  'steamos',\n",
       "  'linux',\n",
       "  'english',\n",
       "  'chinese',\n",
       "  'chinese',\n",
       "  'japanese',\n",
       "  'korean',\n",
       "  'thai',\n",
       "  'bulgarian',\n",
       "  'czech',\n",
       "  'danish',\n",
       "  'spanish',\n",
       "  'spain',\n",
       "  'spanish',\n",
       "  'latin',\n",
       "  'america',\n",
       "  'greek',\n",
       "  'french',\n",
       "  'italian',\n",
       "  'hungarian',\n",
       "  'norwegian',\n",
       "  'portuguese',\n",
       "  'portuguese',\n",
       "  'romanian',\n",
       "  'russian',\n",
       "  'finnish',\n",
       "  'swedish',\n",
       "  'turkish',\n",
       "  'vietnamese',\n",
       "  'ukrainian',\n",
       "  'download',\n",
       "  'gifting',\n",
       "  'solutions',\n",
       "  'steamworks',\n",
       "  'jobs',\n",
       "  'forums',\n",
       "  'stats',\n",
       "  'feeds',\n",
       "  'releases',\n",
       "  'deals',\n",
       "  'rights',\n",
       "  'trademarks',\n",
       "  'owners',\n",
       "  'prices',\n",
       "  'refunds',\n",
       "  'website',\n",
       "  'cards']]"
      ]
     },
     "execution_count": 71,
     "metadata": {},
     "output_type": "execute_result"
    }
   ],
   "source": [
    "def unknown(url):\n",
    "    words = nltk.corpus.words.words()\n",
    "    unknown_words = []\n",
    "    \n",
    "    response=request.urlopen(url)\n",
    "    raw=response.read().decode('utf8')\n",
    "    #isalpha to return true if all characters in the string are alphabetic and there is at least one character\n",
    "    page_words = [i.lower() for i in re.sub(r'(<.*?>|<\\/.*?>)(?s)', '', raw).split() if i.isalpha()]\n",
    "    unknown_words.append([i for i in page_words if i not in words])\n",
    "    return unknown_words\n",
    "    \n",
    "unknown('https://store.steampowered.com/search/?specials=1')"
   ]
  },
  {
   "cell_type": "markdown",
   "metadata": {},
   "source": [
    "## 27"
   ]
  },
  {
   "cell_type": "code",
   "execution_count": 72,
   "metadata": {},
   "outputs": [],
   "source": [
    "import random"
   ]
  },
  {
   "cell_type": "code",
   "execution_count": 73,
   "metadata": {},
   "outputs": [
    {
     "name": "stdout",
     "output_type": "stream",
     "text": [
      "ah  eahhhhaa a h ah  ahaeaehehheh hheh h   ahaaa he aaaheee  hhhaaeheheehehhe ehhhhaahe h aheh e eeehhhhh hha hhhheheheheehhhehhhhh hhh eahhhehahha haehah a heha h ehhahhheh e ha ehhehhehaaeheeh ahhhhahah   ehhhaae hehahhea hhhhehhhh h heea ha hh haehahehee heehhh hhhheh  eee   a hahh eh hahhaeea e heeehaha h eaee h hhhaheah eehhhahha heh hah eehah hae eahhahee heh hehah  aeaaaaeha   hahhhaaheehha   eheehe ha ah hhee hhhehahaaeeh h ha hahhhaheahh e eahe he aeahahhhahhhahah heeahheeahahae hhhhhhh \n",
      " \n",
      " aheahhhhaaahahahaeaehehhehhhehhahaaaheaaaheeehhhaaeheheehehheehhhhaahehaheheeeehhhhhhhahhhheheheheehhhehhhhhhhheahhhehahhahaehahahehahehhahhhehehaehhehhehaaeheehahhhhahahehhhaaehehahheahhhhehhhhhheeahahhhaehaheheeheehhhhhhheheeeahahhehhahhaeeaeheeehahaheaeehhhhaheaheehhhahhahehhaheehahhaeeahhaheehehhehahaeaaaaehahahhhaaheehhaeheehehaahhheehhhehahaaeehhhahahhhaheahheeaheheaeahahhhahhhahahheeahheeahahaehhhhhhh\n"
     ]
    }
   ],
   "source": [
    "random_string = 'aehh '\n",
    "def randomizer(string):\n",
    "    random_list = []\n",
    "    for i in range(500):\n",
    "        random_list.append(random.choice(string))\n",
    "    random_string = ''.join(random_list)\n",
    "    return (random_string)\n",
    "\n",
    "result = randomizer(random_string)\n",
    "joined_result = ''.join(result.split())\n",
    "print(result, \"\\n \\n\", joined_result)\n"
   ]
  },
  {
   "cell_type": "markdown",
   "metadata": {},
   "source": [
    "## 30"
   ]
  },
  {
   "cell_type": "code",
   "execution_count": 74,
   "metadata": {},
   "outputs": [],
   "source": [
    "from nltk import word_tokenize"
   ]
  },
  {
   "cell_type": "code",
   "execution_count": 75,
   "metadata": {},
   "outputs": [
    {
     "name": "stdout",
     "output_type": "stream",
     "text": [
      "['denni', ':', 'listen', ',', 'strang', 'women', 'lie', 'in', 'pond', 'distribut', 'sword', 'is', 'no', 'basi', 'for', 'a', 'system', 'of', 'govern', '.', 'suprem', 'execut', 'power', 'deriv', 'from', 'a', 'mandat', 'from', 'the', 'mass', ',', 'not', 'from', 'some', 'farcic', 'aquat', 'ceremoni', '.'] \n",
      " \n",
      " ['den', ':', 'list', ',', 'strange', 'wom', 'lying', 'in', 'pond', 'distribut', 'sword', 'is', 'no', 'bas', 'for', 'a', 'system', 'of', 'govern', '.', 'suprem', 'execut', 'pow', 'der', 'from', 'a', 'mand', 'from', 'the', 'mass', ',', 'not', 'from', 'som', 'farc', 'aqu', 'ceremony', '.']\n"
     ]
    }
   ],
   "source": [
    "text = \"\"\"DENNIS: Listen, strange women lying in ponds distributing swords\n",
    "is no basis for a system of government.  Supreme executive power derives from\n",
    "a mandate from the masses, not from some farcical aquatic ceremony.\"\"\"\n",
    "tokens = word_tokenize(text)\n",
    "\n",
    "porter = nltk.PorterStemmer()\n",
    "lancaster = nltk.LancasterStemmer()\n",
    "\n",
    "porter_list = [porter.stem(t) for t in tokens]\n",
    "lancester_list = [lancaster.stem(t) for t in tokens]\n",
    "print(porter_list, \"\\n \\n\", lancester_list)"
   ]
  },
  {
   "cell_type": "markdown",
   "metadata": {},
   "source": [
    "## 31"
   ]
  },
  {
   "cell_type": "code",
   "execution_count": 76,
   "metadata": {},
   "outputs": [
    {
     "name": "stdout",
     "output_type": "stream",
     "text": [
      "[5, 3, 2, 4, 3, 4, 1, 4, 2, 4, 4, 4, 1]\n",
      "[5, 3, 2, 4, 3, 4, 1, 4, 2, 4, 4, 4, 1]\n"
     ]
    }
   ],
   "source": [
    "saying = ['After', 'all', 'is', 'said', 'and', 'done', ',', 'more', 'is', 'said', 'than', 'done', '.']\n",
    "def storeLength(word_list):\n",
    "    lengths = []\n",
    "    for word in word_list:\n",
    "        lengths.append(len(word))\n",
    "    return print(lengths)\n",
    "\n",
    "storeLength(saying)\n",
    "\n",
    "new_list = [len(word) for word in saying]\n",
    "print(new_list)"
   ]
  },
  {
   "cell_type": "markdown",
   "metadata": {},
   "source": [
    "## 32\n"
   ]
  },
  {
   "cell_type": "code",
   "execution_count": 101,
   "metadata": {},
   "outputs": [
    {
     "name": "stdout",
     "output_type": "stream",
     "text": [
      "a\n",
      "d\n",
      "e\n",
      "l\n",
      "n\n",
      "n\n",
      "n\n",
      "n\n",
      "o\n",
      "r\n"
     ]
    },
    {
     "data": {
      "text/plain": [
       "'eoldrnnnna'"
      ]
     },
     "execution_count": 101,
     "metadata": {},
     "output_type": "execute_result"
    }
   ],
   "source": [
    "silly = \"newly formed bland ideas are inexpressible in an infuriating way\"\n",
    "\n",
    "\n",
    "def split_string(string):\n",
    "    bland = string.split()\n",
    "    bland = [word[1:2:] for word in bland]\n",
    "    string = ''.join(bland)\n",
    "    alphabetical = ''.join(sorted(string))\n",
    "    for i in alphabetical:\n",
    "        print (i)\n",
    "    return string\n",
    "\n",
    "split_string(silly)"
   ]
  },
  {
   "cell_type": "markdown",
   "metadata": {},
   "source": [
    "## 33"
   ]
  },
  {
   "cell_type": "code",
   "execution_count": 112,
   "metadata": {},
   "outputs": [
    {
     "data": {
      "text/plain": [
       "5"
      ]
     },
     "execution_count": 112,
     "metadata": {},
     "output_type": "execute_result"
    }
   ],
   "source": [
    "string = 'inexpressible'\n",
    "string.index('re')\n",
    "# the first letter decides which index will be printed, \n",
    "# allthough the letter still have to match the string\n",
    "# string.index('rel') <- wouldn't work!"
   ]
  },
  {
   "cell_type": "code",
   "execution_count": 115,
   "metadata": {},
   "outputs": [
    {
     "data": {
      "text/plain": [
       "2"
      ]
     },
     "execution_count": 115,
     "metadata": {},
     "output_type": "execute_result"
    }
   ],
   "source": [
    "words = ['list', 'of', 'exciting', 'words']\n",
    "words.index('exciting')"
   ]
  },
  {
   "cell_type": "code",
   "execution_count": 152,
   "metadata": {},
   "outputs": [
    {
     "name": "stdout",
     "output_type": "stream",
     "text": [
      "newly formed bland ideas are inexpressible \n"
     ]
    }
   ],
   "source": [
    "silly = \"newly formed bland ideas are inexpressible in an infuriating way\"\n",
    "sObject = slice(silly.index('n'), silly.index('in '))\n",
    "newstring = (silly[sObject])\n",
    "print(newstring)"
   ]
  },
  {
   "cell_type": "code",
   "execution_count": null,
   "metadata": {},
   "outputs": [],
   "source": []
  }
 ],
 "metadata": {
  "kernelspec": {
   "display_name": "Python 3",
   "language": "python",
   "name": "python3"
  },
  "language_info": {
   "codemirror_mode": {
    "name": "ipython",
    "version": 3
   },
   "file_extension": ".py",
   "mimetype": "text/x-python",
   "name": "python",
   "nbconvert_exporter": "python",
   "pygments_lexer": "ipython3",
   "version": "3.7.1"
  }
 },
 "nbformat": 4,
 "nbformat_minor": 2
}
