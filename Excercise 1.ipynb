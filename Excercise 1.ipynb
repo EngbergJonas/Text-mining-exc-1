{
 "cells": [
  {
   "cell_type": "markdown",
   "metadata": {},
   "source": [
    "# Excercise 1\n",
    "### Chapter1: Exercise3-11, 16, 18, 19, 22, 26, 28\n",
    "### Chapter2: Exercise1-5, 8, 9, 14, 15, 16, 18, 28\n",
    "### Chapter3: Exercise2, 4, 6, 8, 12, 16, 18-21, 27, 30-33 "
   ]
  },
  {
   "cell_type": "code",
   "execution_count": 1,
   "metadata": {},
   "outputs": [
    {
     "name": "stdout",
     "output_type": "stream",
     "text": [
      "*** Introductory Examples for the NLTK Book ***\n",
      "Loading text1, ..., text9 and sent1, ..., sent9\n",
      "Type the name of the text or sentence to view it.\n",
      "Type: 'texts()' or 'sents()' to list the materials.\n",
      "text1: Moby Dick by Herman Melville 1851\n",
      "text2: Sense and Sensibility by Jane Austen 1811\n",
      "text3: The Book of Genesis\n",
      "text4: Inaugural Address Corpus\n",
      "text5: Chat Corpus\n",
      "text6: Monty Python and the Holy Grail\n",
      "text7: Wall Street Journal\n",
      "text8: Personals Corpus\n",
      "text9: The Man Who Was Thursday by G . K . Chesterton 1908\n"
     ]
    }
   ],
   "source": [
    "import nltk\n",
    "#nltk.download('book')\n",
    "from nltk.book import *"
   ]
  },
  {
   "cell_type": "code",
   "execution_count": 2,
   "metadata": {},
   "outputs": [
    {
     "name": "stdout",
     "output_type": "stream",
     "text": [
      "text1: Moby Dick by Herman Melville 1851\n",
      "text2: Sense and Sensibility by Jane Austen 1811\n",
      "text3: The Book of Genesis\n",
      "text4: Inaugural Address Corpus\n",
      "text5: Chat Corpus\n",
      "text6: Monty Python and the Holy Grail\n",
      "text7: Wall Street Journal\n",
      "text8: Personals Corpus\n",
      "text9: The Man Who Was Thursday by G . K . Chesterton 1908\n"
     ]
    }
   ],
   "source": [
    "texts()"
   ]
  },
  {
   "cell_type": "markdown",
   "metadata": {},
   "source": [
    "# Chapter 1"
   ]
  },
  {
   "cell_type": "markdown",
   "metadata": {},
   "source": [
    "## 3"
   ]
  },
  {
   "cell_type": "code",
   "execution_count": 3,
   "metadata": {},
   "outputs": [
    {
     "name": "stdout",
     "output_type": "stream",
     "text": [
      "['Monty', 'Python', 'Monty', 'Python', 'Monty', 'Python', 'Monty', 'Python', 'Monty', 'Python', 'Monty', 'Python', 'Monty', 'Python', 'Monty', 'Python', 'Monty', 'Python', 'Monty', 'Python', 'Monty', 'Python', 'Monty', 'Python', 'Monty', 'Python', 'Monty', 'Python', 'Monty', 'Python', 'Monty', 'Python', 'Monty', 'Python', 'Monty', 'Python', 'Monty', 'Python', 'Monty', 'Python'] \n",
      "\n",
      "['Call', 'me', 'Ishmael', '.', 'Call', 'me', 'Ishmael', '.', 'Call', 'me', 'Ishmael', '.']\n"
     ]
    }
   ],
   "source": [
    "mp = ['Monty', 'Python']\n",
    "print (mp * 20, \"\\n\")\n",
    "print(3 * sent1)"
   ]
  },
  {
   "cell_type": "markdown",
   "metadata": {},
   "source": [
    "## 4"
   ]
  },
  {
   "cell_type": "code",
   "execution_count": 4,
   "metadata": {},
   "outputs": [
    {
     "name": "stdout",
     "output_type": "stream",
     "text": [
      "Words =  141576 \n",
      " Distinct words =  6833\n"
     ]
    }
   ],
   "source": [
    "words = len(text2)\n",
    "distinct_words = len(set(text2))\n",
    "print(\"Words = \", words, \"\\n\" ,\"Distinct words = \", distinct_words)"
   ]
  },
  {
   "cell_type": "markdown",
   "metadata": {},
   "source": [
    "## 5 \n",
    "Humor"
   ]
  },
  {
   "cell_type": "markdown",
   "metadata": {},
   "source": [
    "## 6 "
   ]
  },
  {
   "cell_type": "code",
   "execution_count": 5,
   "metadata": {},
   "outputs": [
    {
     "data": {
      "text/plain": [
       "<Figure size 640x480 with 1 Axes>"
      ]
     },
     "metadata": {},
     "output_type": "display_data"
    }
   ],
   "source": [
    "text2.dispersion_plot([\"Elinor\", \"Marianne\", \"Edward\", \"Willoughby\"])"
   ]
  },
  {
   "cell_type": "markdown",
   "metadata": {},
   "source": [
    "## 7"
   ]
  },
  {
   "cell_type": "code",
   "execution_count": 6,
   "metadata": {},
   "outputs": [
    {
     "name": "stdout",
     "output_type": "stream",
     "text": [
      "wanna chat; PART JOIN; MODE #14-19teens; JOIN PART; PART PART;\n",
      "cute.-ass MP3; MP3 player; JOIN JOIN; times .. .; ACTION watches; guys\n",
      "wanna; song lasts; last night; ACTION sits; -...)...- S.M.R.; Lime\n",
      "Player; Player 12%; dont know; lez gurls; long time\n"
     ]
    }
   ],
   "source": [
    "from nltk import bigrams\n",
    "text5.collocations()"
   ]
  },
  {
   "cell_type": "markdown",
   "metadata": {},
   "source": [
    "## 8\n",
    "It checks how many 'sets' of words there is in the text, which means how many unique words there are.\n",
    "After that it tells how many of those unique words exist."
   ]
  },
  {
   "cell_type": "code",
   "execution_count": 7,
   "metadata": {},
   "outputs": [
    {
     "data": {
      "text/plain": [
       "9754"
      ]
     },
     "execution_count": 7,
     "metadata": {},
     "output_type": "execute_result"
    }
   ],
   "source": [
    "#len(set(text4))\n",
    "set(text4)\n",
    "len(text4)\n",
    "len(set(text4))"
   ]
  },
  {
   "cell_type": "markdown",
   "metadata": {},
   "source": [
    "## 9\n",
    "Adding the string to a list and printing it as many times as you want."
   ]
  },
  {
   "cell_type": "code",
   "execution_count": 8,
   "metadata": {},
   "outputs": [
    {
     "data": {
      "text/plain": [
       "'Cool'"
      ]
     },
     "execution_count": 8,
     "metadata": {},
     "output_type": "execute_result"
    }
   ],
   "source": [
    "my_string = 'Cool'\n",
    "my_string"
   ]
  },
  {
   "cell_type": "code",
   "execution_count": 9,
   "metadata": {},
   "outputs": [
    {
     "name": "stdout",
     "output_type": "stream",
     "text": [
      "Cool\n"
     ]
    }
   ],
   "source": [
    "print(my_string)"
   ]
  },
  {
   "cell_type": "code",
   "execution_count": 10,
   "metadata": {},
   "outputs": [
    {
     "data": {
      "text/plain": [
       "'CoolCool'"
      ]
     },
     "execution_count": 10,
     "metadata": {},
     "output_type": "execute_result"
    }
   ],
   "source": [
    "my_string + my_string"
   ]
  },
  {
   "cell_type": "code",
   "execution_count": 11,
   "metadata": {},
   "outputs": [
    {
     "data": {
      "text/plain": [
       "'CoolCoolCool'"
      ]
     },
     "execution_count": 11,
     "metadata": {},
     "output_type": "execute_result"
    }
   ],
   "source": [
    "my_string * 3"
   ]
  },
  {
   "cell_type": "code",
   "execution_count": 12,
   "metadata": {},
   "outputs": [
    {
     "name": "stdout",
     "output_type": "stream",
     "text": [
      "['Cool', 'Cool', 'Cool']\n"
     ]
    }
   ],
   "source": [
    "my_string_list = [my_string]\n",
    "print(my_string_list * 3)\n"
   ]
  },
  {
   "cell_type": "markdown",
   "metadata": {},
   "source": [
    "## 10\n"
   ]
  },
  {
   "cell_type": "code",
   "execution_count": 13,
   "metadata": {},
   "outputs": [
    {
     "name": "stdout",
     "output_type": "stream",
     "text": [
      "['hello', 'world', 'this', 'is', 'Jonas!']\n"
     ]
    }
   ],
   "source": [
    "my_sent = [\"hello\", \"world\", \"this\", \"is\", \"Jonas!\"]\n",
    "print(my_sent)"
   ]
  },
  {
   "cell_type": "code",
   "execution_count": 14,
   "metadata": {},
   "outputs": [
    {
     "data": {
      "text/plain": [
       "'hello world this is Jonas!'"
      ]
     },
     "execution_count": 14,
     "metadata": {},
     "output_type": "execute_result"
    }
   ],
   "source": [
    "' '.join(my_sent)"
   ]
  },
  {
   "cell_type": "code",
   "execution_count": 15,
   "metadata": {},
   "outputs": [
    {
     "data": {
      "text/plain": [
       "['hello', 'world', 'this', 'is', 'Jonas!']"
      ]
     },
     "execution_count": 15,
     "metadata": {},
     "output_type": "execute_result"
    }
   ],
   "source": [
    "' '.join(my_sent).split()"
   ]
  },
  {
   "cell_type": "markdown",
   "metadata": {},
   "source": [
    "## 11\n",
    "\n",
    "The difference between len(phrase1 + phrase2) and len(phrase1) + len(phrase2), is very minor.\n",
    "The first one calculates the length of the two lists combined together, while the second one\n",
    "calculates the length of one list added by the other."
   ]
  },
  {
   "cell_type": "code",
   "execution_count": 16,
   "metadata": {},
   "outputs": [],
   "source": [
    "phrase1 = [\"Ice\", \"cream\", \"is\", \"good!\"]\n",
    "phrase2 = [\"I\", \"don't\", \"like\", \"it...\"]\n",
    "phrase3 = [\"You\", \"suck!\"]"
   ]
  },
  {
   "cell_type": "code",
   "execution_count": 17,
   "metadata": {},
   "outputs": [
    {
     "data": {
      "text/plain": [
       "\"Ice cream is good! I don't like it... You suck!\""
      ]
     },
     "execution_count": 17,
     "metadata": {},
     "output_type": "execute_result"
    }
   ],
   "source": [
    "' '.join(phrase1 + phrase2 + phrase3)"
   ]
  },
  {
   "cell_type": "code",
   "execution_count": 18,
   "metadata": {},
   "outputs": [
    {
     "data": {
      "text/plain": [
       "8"
      ]
     },
     "execution_count": 18,
     "metadata": {},
     "output_type": "execute_result"
    }
   ],
   "source": [
    "len(phrase1 + phrase2)"
   ]
  },
  {
   "cell_type": "code",
   "execution_count": 19,
   "metadata": {},
   "outputs": [
    {
     "data": {
      "text/plain": [
       "8"
      ]
     },
     "execution_count": 19,
     "metadata": {},
     "output_type": "execute_result"
    }
   ],
   "source": [
    "len(phrase1) + len(phrase2)"
   ]
  },
  {
   "cell_type": "markdown",
   "metadata": {},
   "source": [
    "## 16"
   ]
  },
  {
   "cell_type": "code",
   "execution_count": 20,
   "metadata": {},
   "outputs": [
    {
     "data": {
      "text/plain": [
       "[0, 1, 2, 3, 4, 5, 6, 7, 8, 9]"
      ]
     },
     "execution_count": 20,
     "metadata": {},
     "output_type": "execute_result"
    }
   ],
   "source": [
    "list(range(10))"
   ]
  },
  {
   "cell_type": "code",
   "execution_count": 21,
   "metadata": {},
   "outputs": [
    {
     "data": {
      "text/plain": [
       "[10, 11, 12, 13, 14, 15, 16, 17, 18, 19]"
      ]
     },
     "execution_count": 21,
     "metadata": {},
     "output_type": "execute_result"
    }
   ],
   "source": [
    "list(range(10, 20))"
   ]
  },
  {
   "cell_type": "code",
   "execution_count": 22,
   "metadata": {},
   "outputs": [
    {
     "data": {
      "text/plain": [
       "[10, 12, 14, 16, 18]"
      ]
     },
     "execution_count": 22,
     "metadata": {},
     "output_type": "execute_result"
    }
   ],
   "source": [
    "list(range(10,20, 2))"
   ]
  },
  {
   "cell_type": "code",
   "execution_count": 23,
   "metadata": {},
   "outputs": [
    {
     "data": {
      "text/plain": [
       "[20, 18, 16, 14, 12]"
      ]
     },
     "execution_count": 23,
     "metadata": {},
     "output_type": "execute_result"
    }
   ],
   "source": [
    "list(range(20, 10, -2))"
   ]
  },
  {
   "cell_type": "markdown",
   "metadata": {},
   "source": [
    "## 18\n",
    "Using list addition, and the set and sorted operations, compute the vocabulary of the sentences sent1 ... sent8."
   ]
  },
  {
   "cell_type": "code",
   "execution_count": 24,
   "metadata": {},
   "outputs": [
    {
     "name": "stdout",
     "output_type": "stream",
     "text": [
      "75\n"
     ]
    }
   ],
   "source": [
    "sents = len(sorted(set(sent1 + sent2 + sent3 + sent4 + sent5 + sent6 + sent7 + sent8)))\n",
    "print(sents)"
   ]
  },
  {
   "cell_type": "code",
   "execution_count": 27,
   "metadata": {},
   "outputs": [
    {
     "name": "stdout",
     "output_type": "stream",
     "text": [
      "75\n"
     ]
    }
   ],
   "source": [
    "sents = [\"\"]\n",
    "for i in [\"sent\"+str(j) for j in range(1,10)]:\n",
    "    sents = sents + eval(i)\n",
    "    sorted_sents = sorted(set(sents))\n",
    "    sorted_sents = [word for word in sorted_sents if word.isalpha()]\n",
    "print(len(sorted_sents))"
   ]
  },
  {
   "cell_type": "markdown",
   "metadata": {},
   "source": [
    "## 19\n",
    "\n",
    "Unfortunately I do not know the answer to this question for the moment being."
   ]
  },
  {
   "cell_type": "code",
   "execution_count": 28,
   "metadata": {},
   "outputs": [
    {
     "data": {
      "text/plain": [
       "17231"
      ]
     },
     "execution_count": 28,
     "metadata": {},
     "output_type": "execute_result"
    }
   ],
   "source": [
    "len(sorted(set(w.lower() for w in text1)))"
   ]
  },
  {
   "cell_type": "code",
   "execution_count": 29,
   "metadata": {},
   "outputs": [
    {
     "name": "stdout",
     "output_type": "stream",
     "text": [
      "19317 17231\n"
     ]
    }
   ],
   "source": [
    "sorted_set1 = len(sorted(w.lower() for w in set(text1)))\n",
    "sorted_set2 = len(sorted(set(w.lower() for w in text1)))\n",
    "print(sorted_set1, sorted_set2)"
   ]
  },
  {
   "cell_type": "code",
   "execution_count": 30,
   "metadata": {},
   "outputs": [],
   "source": [
    "list1 = [\"Hej\", \"jag\", \"heter\", \"Olle\",\"!!\", \"?\", \"Wh0t\", \"Hardtosay...\",]"
   ]
  },
  {
   "cell_type": "code",
   "execution_count": 31,
   "metadata": {},
   "outputs": [
    {
     "name": "stdout",
     "output_type": "stream",
     "text": [
      "8 8\n"
     ]
    }
   ],
   "source": [
    "test1 = len(sorted(set(w.lower() for w in list1)))\n",
    "test2 = len(sorted(w.lower() for w in set(list1)))\n",
    "print(test1, test2)"
   ]
  },
  {
   "cell_type": "markdown",
   "metadata": {},
   "source": [
    "## 22\n",
    "\n",
    "Make a Frequency distribution of text5 and make a list of four letter words from that list by looping through text5 and adding every word with 4 characters. Then loop through the frequency distributed text5 and remove every word that does not match a word in the fourCharWords list, using the pop function.\n",
    "\n",
    "Display the result with a pyplot giving it 30 labels to make it readable data."
   ]
  },
  {
   "cell_type": "code",
   "execution_count": 32,
   "metadata": {},
   "outputs": [
    {
     "data": {
      "text/plain": [
       "6066"
      ]
     },
     "execution_count": 32,
     "metadata": {},
     "output_type": "execute_result"
    }
   ],
   "source": [
    "len(text5)\n",
    "len(FreqDist(text5))"
   ]
  },
  {
   "cell_type": "code",
   "execution_count": 33,
   "metadata": {},
   "outputs": [
    {
     "name": "stdout",
     "output_type": "stream",
     "text": [
      "<FreqDist with 1181 samples and 10204 outcomes>\n"
     ]
    },
    {
     "data": {
      "image/png": "[encoded data removed]",
      "text/plain": [
       "<Figure size 432x288 with 1 Axes>"
      ]
     },
     "metadata": {
      "needs_background": "light"
     },
     "output_type": "display_data"
    }
   ],
   "source": [
    "fDist = FreqDist(text5)\n",
    "fourCharWords = set([i for i in text5 if len(i) == 4])\n",
    "for i in [j for j in fDist]:\n",
    "    if i not in fourCharWords:\n",
    "        fDist.pop(i)\n",
    "print(fDist)\n",
    "fDist.plot(30)"
   ]
  },
  {
   "cell_type": "markdown",
   "metadata": {},
   "source": [
    "## 26\n",
    "\n",
    "This function takes the length of a list and loops through it as man times as the list is long.\n",
    "\n",
    "i.e. \n",
    "If a list was 4 indexes long it would loop through that list 4 times adding 4 every time, resulting in a 16.\n",
    "\n",
    "Answer: You cannot use it to count the average word length of a text."
   ]
  },
  {
   "cell_type": "code",
   "execution_count": 34,
   "metadata": {},
   "outputs": [
    {
     "name": "stdout",
     "output_type": "stream",
     "text": [
      "9 16 999044\n"
     ]
    }
   ],
   "source": [
    "list1 = [\"hi\", \"im\", \"jonas\"]\n",
    "list2 = [\"hi\", \"im\", \"jonas\", \"engberg\"]\n",
    "list1Sum = sum(len(w) for w in list1)\n",
    "list2Sum = sum(len(w) for w in list2)\n",
    "list3Sum = sum(len(w) for w in text1)\n",
    "print(list1Sum, list2Sum, list3Sum)"
   ]
  },
  {
   "cell_type": "markdown",
   "metadata": {},
   "source": [
    "## 28"
   ]
  },
  {
   "cell_type": "code",
   "execution_count": 35,
   "metadata": {},
   "outputs": [
    {
     "data": {
      "text/plain": [
       "'0.16%'"
      ]
     },
     "execution_count": 35,
     "metadata": {},
     "output_type": "execute_result"
    }
   ],
   "source": [
    "def percent(word, text):\n",
    "    wordFreq = FreqDist(text)[word]\n",
    "    percent = wordFreq / (len(text)) * 100\n",
    "    return str(round(percent, 2)) + \"%\"\n",
    "percent('her', text5)"
   ]
  },
  {
   "cell_type": "markdown",
   "metadata": {},
   "source": [
    "# Chapter2"
   ]
  },
  {
   "cell_type": "code",
   "execution_count": 37,
   "metadata": {},
   "outputs": [],
   "source": [
    "from nltk.corpus import *\n",
    "from matplotlib import pyplot\n",
    "from nltk.corpus import wordnet as wn"
   ]
  },
  {
   "cell_type": "markdown",
   "metadata": {},
   "source": [
    "## 1"
   ]
  },
  {
   "cell_type": "code",
   "execution_count": 38,
   "metadata": {},
   "outputs": [],
   "source": [
    "phrase = [\"Ones\", \"again\", \"another\", \"list\"]"
   ]
  },
  {
   "cell_type": "markdown",
   "metadata": {},
   "source": [
    "## 2"
   ]
  },
  {
   "cell_type": "code",
   "execution_count": 39,
   "metadata": {},
   "outputs": [
    {
     "name": "stdout",
     "output_type": "stream",
     "text": [
      "98171 6132\n"
     ]
    }
   ],
   "source": [
    "austen_words = len(gutenberg.words('austen-persuasion.txt'))\n",
    "austen_unique_words = len(set(gutenberg.words('austen-persuasion.txt')))\n",
    "print(austen_words, austen_unique_words)"
   ]
  },
  {
   "cell_type": "markdown",
   "metadata": {},
   "source": [
    "## 3"
   ]
  },
  {
   "cell_type": "code",
   "execution_count": 40,
   "metadata": {},
   "outputs": [
    {
     "data": {
      "text/plain": [
       "['The', 'Fulton', 'County', 'Grand', 'Jury', 'said', ...]"
      ]
     },
     "execution_count": 40,
     "metadata": {},
     "output_type": "execute_result"
    }
   ],
   "source": [
    " nltk.corpus.brown.words()"
   ]
  },
  {
   "cell_type": "code",
   "execution_count": 41,
   "metadata": {},
   "outputs": [
    {
     "data": {
      "text/plain": [
       "['Cookie', 'Manager', ':', '\"', 'Don', \"'\", 't', ...]"
      ]
     },
     "execution_count": 41,
     "metadata": {},
     "output_type": "execute_result"
    }
   ],
   "source": [
    "nltk.corpus.webtext.words()"
   ]
  },
  {
   "cell_type": "markdown",
   "metadata": {},
   "source": [
    "## 4\n",
    "\n",
    "Men and women are quite equally distributed, while people is used far more often to refer to anyone in general."
   ]
  },
  {
   "cell_type": "code",
   "execution_count": 42,
   "metadata": {},
   "outputs": [
    {
     "ename": "NameError",
     "evalue": "name 'menWords' is not defined",
     "output_type": "error",
     "traceback": [
      "\u001b[0;31m---------------------------------------------------------------------------\u001b[0m",
      "\u001b[0;31mNameError\u001b[0m                                 Traceback (most recent call last)",
      "\u001b[0;32m<ipython-input-42-336ae660593f>\u001b[0m in \u001b[0;36m<module>\u001b[0;34m\u001b[0m\n\u001b[1;32m      3\u001b[0m \u001b[0mwomen\u001b[0m \u001b[0;34m=\u001b[0m \u001b[0mlen\u001b[0m\u001b[0;34m(\u001b[0m\u001b[0;34m[\u001b[0m\u001b[0mi\u001b[0m \u001b[0;32mfor\u001b[0m \u001b[0mi\u001b[0m \u001b[0;32min\u001b[0m \u001b[0mstate_union\u001b[0m \u001b[0;32mif\u001b[0m \u001b[0mi\u001b[0m \u001b[0;34m==\u001b[0m \u001b[0;34m'women'\u001b[0m\u001b[0;34m]\u001b[0m\u001b[0;34m)\u001b[0m\u001b[0;34m\u001b[0m\u001b[0;34m\u001b[0m\u001b[0m\n\u001b[1;32m      4\u001b[0m \u001b[0mpeople\u001b[0m \u001b[0;34m=\u001b[0m \u001b[0mlen\u001b[0m\u001b[0;34m(\u001b[0m\u001b[0;34m[\u001b[0m\u001b[0mi\u001b[0m \u001b[0;32mfor\u001b[0m \u001b[0mi\u001b[0m \u001b[0;32min\u001b[0m \u001b[0mstate_union\u001b[0m \u001b[0;32mif\u001b[0m \u001b[0mi\u001b[0m \u001b[0;34m==\u001b[0m \u001b[0;34m'people'\u001b[0m\u001b[0;34m]\u001b[0m\u001b[0;34m)\u001b[0m\u001b[0;34m\u001b[0m\u001b[0;34m\u001b[0m\u001b[0m\n\u001b[0;32m----> 5\u001b[0;31m \u001b[0mprint\u001b[0m\u001b[0;34m(\u001b[0m\u001b[0mmenWords\u001b[0m\u001b[0;34m,\u001b[0m \u001b[0mwomenWords\u001b[0m\u001b[0;34m,\u001b[0m \u001b[0mpeople\u001b[0m\u001b[0;34m)\u001b[0m\u001b[0;34m\u001b[0m\u001b[0;34m\u001b[0m\u001b[0m\n\u001b[0m",
      "\u001b[0;31mNameError\u001b[0m: name 'menWords' is not defined"
     ]
    }
   ],
   "source": [
    "state_union = nltk.corpus.state_union.words()\n",
    "men = len([i for i in state_union if i == 'men'])\n",
    "women = len([i for i in state_union if i == 'women'])\n",
    "people = len([i for i in state_union if i == 'people'])\n",
    "print(menWords, womenWords, people)"
   ]
  },
  {
   "cell_type": "markdown",
   "metadata": {},
   "source": [
    "## 5"
   ]
  },
  {
   "cell_type": "code",
   "execution_count": 43,
   "metadata": {},
   "outputs": [],
   "source": [
    "from nltk.corpus import wordnet as wn"
   ]
  },
  {
   "cell_type": "code",
   "execution_count": 44,
   "metadata": {},
   "outputs": [
    {
     "name": "stdout",
     "output_type": "stream",
     "text": [
      "[Synset('car.n.01'), Synset('car.n.02'), Synset('car.n.03'), Synset('car.n.04'), Synset('cable_car.n.01')]\n",
      "[]\n",
      "[Synset('accelerator.n.01'), Synset('air_bag.n.01'), Synset('auto_accessory.n.01'), Synset('automobile_engine.n.01'), Synset('automobile_horn.n.01'), Synset('buffer.n.06'), Synset('bumper.n.02'), Synset('car_door.n.01'), Synset('car_mirror.n.01'), Synset('car_seat.n.01'), Synset('car_window.n.01'), Synset('fender.n.01'), Synset('first_gear.n.01'), Synset('floorboard.n.02'), Synset('gasoline_engine.n.01'), Synset('glove_compartment.n.01'), Synset('grille.n.02'), Synset('high_gear.n.01'), Synset('hood.n.09'), Synset('luggage_compartment.n.01'), Synset('rear_window.n.01'), Synset('reverse.n.02'), Synset('roof.n.02'), Synset('running_board.n.01'), Synset('stabilizer_bar.n.01'), Synset('sunroof.n.01'), Synset('tail_fin.n.02'), Synset('third_gear.n.01'), Synset('window.n.02')]\n",
      "[]\n",
      "[]\n",
      "[]\n",
      "[]\n"
     ]
    }
   ],
   "source": [
    "car = wn.synsets('car')\n",
    "print(car)\n",
    "car = wn.synset('car.n.01')\n",
    "print(car.member_meronyms())\n",
    "print(car.part_meronyms())\n",
    "print(car.substance_meronyms())\n",
    "print(car.member_holonyms())\n",
    "print(car.part_holonyms())\n",
    "print(car.substance_holonyms())"
   ]
  },
  {
   "cell_type": "markdown",
   "metadata": {},
   "source": [
    "## 8"
   ]
  },
  {
   "cell_type": "code",
   "execution_count": 45,
   "metadata": {},
   "outputs": [
    {
     "name": "stdout",
     "output_type": "stream",
     "text": [
      "['female.txt', 'male.txt']\n"
     ]
    }
   ],
   "source": [
    "print(nltk.corpus.names.fileids())"
   ]
  },
  {
   "cell_type": "code",
   "execution_count": 46,
   "metadata": {
    "scrolled": true
   },
   "outputs": [
    {
     "data": {
      "image/png": "[encoded data removed]",
      "text/plain": [
       "<Figure size 432x288 with 1 Axes>"
      ]
     },
     "metadata": {
      "needs_background": "light"
     },
     "output_type": "display_data"
    }
   ],
   "source": [
    "male_to_female = nltk.ConditionalFreqDist((fileid,name[1]) \n",
    "for fileid in names.fileids() \n",
    "    for name in names.words(fileid))\n",
    "male_to_female.plot()"
   ]
  },
  {
   "cell_type": "markdown",
   "metadata": {},
   "source": [
    "## 9\n",
    "\n",
    "In moby monstrous is used to describe something horrifying or bad, compared to the other text where monstrous seems to be used to describe something that is \"very good\"."
   ]
  },
  {
   "cell_type": "code",
   "execution_count": 47,
   "metadata": {},
   "outputs": [
    {
     "data": {
      "text/plain": [
       "<Text: Sense and Sensibility by Jane Austen 1811>"
      ]
     },
     "execution_count": 47,
     "metadata": {},
     "output_type": "execute_result"
    }
   ],
   "source": [
    "nltk.Text(text1)\n",
    "nltk.Text(text2)"
   ]
  },
  {
   "cell_type": "code",
   "execution_count": 48,
   "metadata": {},
   "outputs": [
    {
     "name": "stdout",
     "output_type": "stream",
     "text": [
      "Moby words:\n",
      "Displaying 11 of 11 matches:\n",
      "ong the former , one was of a most monstrous size . ... This came towards us , \n",
      "ON OF THE PSALMS . \" Touching that monstrous bulk of the whale or ork we have r\n",
      "ll over with a heathenish array of monstrous clubs and spears . Some were thick\n",
      "d as you gazed , and wondered what monstrous cannibal and savage could ever hav\n",
      "that has survived the flood ; most monstrous and most mountainous ! That Himmal\n",
      "they might scout at Moby Dick as a monstrous fable , or still worse and more de\n",
      "th of Radney .'\" CHAPTER 55 Of the Monstrous Pictures of Whales . I shall ere l\n",
      "ing Scenes . In connexion with the monstrous pictures of whales , I am strongly\n",
      "ere to enter upon those still more monstrous stories of them which are to be fo\n",
      "ght have been rummaged out of this monstrous cabinet there is no telling . But \n",
      "of Whale - Bones ; for Whales of a monstrous size are oftentimes cast up dead u\n",
      "None\n",
      "Sense and Sensibility words:\n",
      "Displaying 11 of 11 matches:\n",
      ". \" Now , Palmer , you shall see a monstrous pretty girl .\" He immediately went\n",
      "your sister is to marry him . I am monstrous glad of it , for then I shall have\n",
      "ou may tell your sister . She is a monstrous lucky girl to get him , upon my ho\n",
      "k how you will like them . Lucy is monstrous pretty , and so good humoured and \n",
      " Jennings , \" I am sure I shall be monstrous glad of Miss Marianne ' s company \n",
      " usual noisy cheerfulness , \" I am monstrous glad to see you -- sorry I could n\n",
      "t however , as it turns out , I am monstrous glad there was never any thing in \n",
      "so scornfully ! for they say he is monstrous fond of her , as well he may . I s\n",
      "possible that she should .\" \" I am monstrous glad of it . Good gracious ! I hav\n",
      "thing of the kind . So then he was monstrous happy , and talked on some time ab\n",
      "e very genteel people . He makes a monstrous deal of money , and they keep thei\n",
      "None\n"
     ]
    }
   ],
   "source": [
    "moby_dick = nltk.Text(text1)\n",
    "sense_sensibility = nltk.Text(text2)\n",
    "print(\"Moby words:\")\n",
    "print(moby_dick.concordance('monstrous'))\n",
    "print(\"Sense and Sensibility words:\")\n",
    "print(sense_sensibility.concordance('monstrous'))"
   ]
  },
  {
   "cell_type": "markdown",
   "metadata": {},
   "source": [
    "## 14"
   ]
  },
  {
   "cell_type": "code",
   "execution_count": 49,
   "metadata": {},
   "outputs": [
    {
     "name": "stdout",
     "output_type": "stream",
     "text": [
      "a motor vehicle with four wheels; usually propelled by an internal combustion engine\n",
      "a vehicle that takes people to and from hospitals\n",
      "a car that has a long body and rear door with space behind rear seat\n",
      "a car that is old and unreliable\n",
      "a car driven by a person whose job is to take passengers where they want to go in exchange for money\n",
      "a small and economical car\n",
      "a car that has top that can be folded or removed\n",
      "a car with two doors and front seats and a luggage compartment\n",
      "a car in which policemen cruise the streets; equipped with radiotelephonic communications to headquarters\n",
      "a car that is powered by electricity\n",
      "a car with relatively low fuel efficiency\n",
      "a car that resembles a convertible but has a fixed rigid top\n",
      "a car having a hatchback door\n",
      "an early term for an automobile\n",
      "a car modified to increase its speed and acceleration\n",
      "a car suitable for traveling over rough terrain\n",
      "large luxurious car; usually driven by a chauffeur\n",
      "a car that is lent as a replacement for one that is under repair\n",
      "a car that is even smaller than a subcompact car\n",
      "a small box-shaped passenger van; usually has removable seats; used as a family car\n",
      "the first widely available automobile powered by a gasoline engine; mass-produced by Henry Ford from 1908 to 1927\n",
      "a high-performance car that leads a parade of competing cars through the pace lap and then pulls off the course\n",
      "a fast car that competes in races\n",
      "an open automobile having a front seat and a rumble seat\n",
      "a car that is closed and that has front and rear seats and two or four doors\n",
      "a high-performance four-wheel drive car built on a truck chassis\n",
      "a small low car with a high-powered engine; usually seats two persons\n",
      "a steam-powered automobile\n",
      "a car kept in dealers' stock for regular sales\n",
      "a car smaller than a compact car\n",
      "large open car seating four with folding top\n",
      "a car that has been previously owned; not a new car\n",
      "a self-propelled wheeled vehicle that does not run on rails\n"
     ]
    }
   ],
   "source": [
    "def supergloss(s):\n",
    "    define=s.definition();\n",
    "    for hyponym in s.hyponyms():\n",
    "        define+=\"\\n\"+hyponym.definition()\n",
    "    for hypernym in s.hypernyms():\n",
    "        define+=\"\\n\"+hypernym.definition()\n",
    "    print(define)\n",
    "\n",
    "synsets = supergloss(wn.synset('car.n.01'))"
   ]
  },
  {
   "cell_type": "markdown",
   "metadata": {},
   "source": [
    "## 15"
   ]
  },
  {
   "cell_type": "code",
   "execution_count": 50,
   "metadata": {},
   "outputs": [
    {
     "name": "stdout",
     "output_type": "stream",
     "text": [
      "['1899', 'mono-iodotyrosine', 'pitching', 'procedures', 'Americans', '100', 'disconnected', 'copied', 'showered', 'mischief', '10-year', 'delivering', 'codes', 'ending', 'Mussorgsky', 'snorted', 'Jason', 'impetus', 'features', 'Bank', 'experience', \"couldn't\", 'purposive', 'CTCA', 'environmental', 'burglary', 'predictions', 'cable', 'Diseases', 'convention', 'falsity', 'persists', 'large', 'terminated', 'policies', 'opaque', 'gentler', 'crop', \"George's\", 'linguistic', 'urban', 'baptized', 'updated', 'smell', 'Stark', 'attic', 'Cooperatives', 'patched', 'contended', 'paying', 'enjoined', 'consultation', 'answer', 'postal', 'supper', 'reactions', 'ownership', 'Commerce', 'comprises', 'applicants', 'stir', 'Lautner', 'ashes', 'Volunteers', 'proviso', 'earth', 'amounts', 'fellowship', 'speeding', 'neared', 'together', 'tonal', 'donor', 'tangents', 'minimal', 'manor', 'acetonemia', 'return', 'pamphlet', 'bracing', 'flourished', 'pictures', 'reads', 'crippling', 'Damn', 'feasibility', 'Co.', 'Holmes', 'Fink', 'Elder', 'collaboration', 'unabashed', 'Mullins', 'twisting', 'maintained', 'Simmons', 'ladies', 'explains', 'irrespective', 'breaking', 'Direct', 'dining', 'yellow', 'disgrace', 'rule', '43', 'configurations', 'windshield', 'doors', 'leather', 'carefully', 'saddled', 'continuance', 'Traffic', 'Please', 'chopping', 'incubation', 'Actually', 'Hesperus', 'strain', 'admission', 'density', 'monks', 'corrosion', 'Made', 'diminishing', 'currents', 'probed', 'reference', 'homesick', 'Larson', 'Shea', 'sixteenth', 'greeting', 'Oder', 'vertex', 'retailers', 'statements', 'Wood', 'mentioned', 'combed', 'Stands', 'apply', 'statesmen', 'addresses', 'affords', 'Lloyd', 'knitted', 'spat', 'bridge', 'bullets', 'Ticonderoga', 'twenty-six', 'madly', 'Earthmen', 'contraceptives', 'finite', 'attainment', 'forged', 'excellently', 'politeness', 'relativity', \"Alexander's\", 'Neversink', 'instincts', 'pies', 'timed', 'ceases', 'sceptical', '1776', 'Yale', 'Body', 'struggled', 'Administration', 'limitations', 'navy', 'Morning', 'orchards', 'blackened', 'half-hearted', 'fella', '$.07', 'Almost', 'Atomic', 'J.', 'flaming', 'experiment', 'terrifying', 'dryer', 'Preparation', 'bewilderment', 'Australian', '1980', 'undercurrent', 'bothers', 'beatniks', 'attributes', 'royal', 'dress', 'switched', 'confidence', 'guerrilla', 'top-level', 'unfolding', '1908', 'Materials', 'Cooper', 'unavoidable', \"I've\", 'pleased', \"brother's\", 'blest', 'FBI', 'honors', 'Laban', 'dynastic', 'Brothers', 'thiouracil', 'intervals', 'admittedly', 'Hanford', 'contemplate', 'continuous', 'Instinctively', 'fostered', 'Vail', 'Randolph', 'mistakes', 'herb', 'Myers', 'Portsmouth', 'cm', 'analyze', 'plumb', 'puffed', 'smack', 'Phillips', 'Professor', 'pain', 'banished', 'lengthwise', 'tiresome', 'Bible', '90%', 'fertilizers', 'industrial', 'groping', 'fouling', 'preposterous', 'quite', 'immense', 'Cabinet', 'cats', 'letter', \"He'll\", 'singular', 'hundred', 'diagnostic', 'donned', 'hello', 'adjusting', 'exodus', 'Virgin', 'itching', 'authority', 'strolling', 'shell', 'evasive', 'Speaker', 'account', 'persistently', 'cut', 'obstruct', 'accomplishment', 'apprehensively', 'listed', 'possessed', 'peninsula', 'discontent', 'westerly', 'salts', 'denied', 'tensions', 'utensils', 'hunter', 'diapers', 'menarche', 'ABO', 'anaconda', 'witches', 'bean', 'opposition', 'Virginia', 'flights', 'lead', 'shipping', 'acquiescence', 'happens', 'bundled', 'Altogether', 'photographer', 'interfaith', 'debated', 'Race', 'gain', 'traceable', 'Draper', \"Seward's\", 'penniless', 'pleaded', 'contrasting', 'various', 'buses', 'Turk', 'loudly', 'picture', 'Gosson', 'My', 'maximizing', 'engagement', 'proclaims', 'cure', 'coatings', '1602', 'Persons', 'induce', 'hallway', 'temper', 'R.', 'astronomical', 'sneaked', 'Booth', '2000', 'replies', 'thick', 'playful', 'petitioned', 'loathsome', 'literally', '260', 'reform', 'Weider', 'Committee', 'obscured', 'sensory', 'one-', 'Augusta', 'Landis', 'Review', 'shook', 'estate', 'drop', 'antiques', 'inertial', 'alternate', 'colored', 'warnings', 'questionnaires', \"Viola's\", 'duck', 'devastating', 'Bengal', 'groups', \"Russell's\", 'veteran', 'rightful', 'Augustus', 'farmers', 'Train', 'hereby', 'supremely', 'banish', 'meteors', 'emphasize', '18', 'pond', 'Desegregation', 'Langford', \"they've\", 'jungles', 'accordance', 'blot', 'openly', 'stately', 'swore', 'tragedy', 'tested', 'compelling', 'concerning', 'hideously', 'interior', 'scores', 'heaving', 'waiting', 'Miriam', 'hammer', 'zoning', 'Yang', 'nationality', 'SR', 'Sesame', 'Pact', 'Katherine', 'battling', 'Freeman', 'mist', 'growled', 'substances', 'Gardens', '1,500', 'Seeds', 'Cury', 'cape', 'melancholy', 'canvases', \"company's\", 'assimilation', 'Rouge', 'differentiable', 'Welfare', 'tops', 'hours', 'half', 'projecting', 'Daer', 'repent', 'virtuoso', '1707', 'persisted', 'Formosa', 'Yugoslav', 'step', 'calm', 'Rifle', 'Poe', 'SS', 'completions', 'single-shot', 'opposing', 'using', 'prevailed', 'servants', 'administrative', 'legends', 'Area', 'help', 'carpenter', 'overboard', 'sweaty', 'Tone', 'Dr.', 'Mi', 'patter', 'wrangler', 'coldness', 'clapping', '1927', 'Clayton', 'distribution', 'Opera', 'half-man', 'writ', 'purely', 'orthodontic', 'Measurements', 'Repeated', 'distracted', 'furniture', 'widen', 'float', \"Meeker's\", 'Del', 'odor', 'Custer', 'Nobody', \"Barton's\", 'thickened', 'public', 'connecting', 'Keeping', 'zest', 'ill-conceived', 'Antonio', 'Theoretical', 'counseled', 'salute', 'simply', 'analyses', 'advertisements', 'sharpened', 'interplanetary', 'apartment', 'might', 'La', 'dialyzed', 'encampment', 'set-up', 'majors', 'defend', 'batch', 'diagnose', 'hurl', 'dish', 'tile', '30', 'discharge', 'insulting', 'stove', 'thigh', 'cope', 'across', 'Presidents', 'complicity', 'intimidated', 'dependent', '9th', 'vast', 'shrines', 'flared', 'tribe', 'catalogues', 'totalitarian', 'cheerfully', 'dissection', 'continent', 'machines', 'staccato', 'Belgians', 'coolly', 'Brandel', 'data', 'lenses', 'assessment', 'Hempstead', 'strip', 'lion', 'Hilton', 'monopolize', 'unallocable', 'gasped', 'herself', 'perceptive', 'smallest', 'escalation', 'embodies', 'Natural', 'mates', '$25', 'Trial', 'torsos', 'ripple', 'talent', 'Magnums', 'Penny', 'stint', '3-1/2', 'lets', 'holders', 'awkward', 'Soon', 'thousand', 'dictates', 'Honolulu', 'via', 'parliament', 'Quixote', 'fund-raising', 'Freedom', 'joined', 'vociferous', '1.8', 'Their', 'Austin', 'Intelligence', 'allegorical', 'tapped', 'plaintiffs', 'whir', 'perception', 'colossal', 'councils', 'deaf', 'Prieur', 'ebony', 'dissimilar', 'Vientiane', 'Tibetan', 'foaming', 'prohibited', 'Rawson', 'demonstrate', 'complaints', 'spent', 'ocean', 'involutorial', 'rejected', 'elongated', 'crystalline', 'careers', 'Docherty', 'threw', 'Mayer', 'crime', 'Foreign', 'presiding', 'testify', 'sauerkraut', 'ther', 'adaptation', 'fringe', 'hymen', '250,000', 'public-limit', 'profound', 'industrialized', 'Rawlins', '$800', 'records', 'blooming', 'Mineralogy', 'vapor', 'sighed', 'dollars', 'injecting', 'prescription', 'calmed', 'Three', 'fuck', 'street', 'tulip', 'Senators', 'foresight', 'Jackie', 'scoring', 'matron', 'self-sustaining', 'rains', '154', 'Indeed', 'tactical', 'modal', 'holidays', 'drugged', 'Anne', 'frontage', 'geographical', 'kneel', 'displeased', 'style', 'marvel', 'Faced', 'Language', 'definite', \"Mercer's\", 'Erich', 'totaled', 'screens', 'awfully', 'grievances', '64', 'self-certainty', 'gains', 'poison', 'Sullam', 'Case', 'banks', 'soldier', \"R's\", 'Chapel', 'tune', 'intensify', 'summertime', 'Crouch', 'gaily', 'measure', 'bedtime', 'profanity', 'Wall', 'repeatedly', 'rundown', 'Doc', 'battle', 'surge', 'sovereigns', 'tangible', 'mystery', 'Illustration', 'soared', 'Present', 'willingness', \"boss's\", 'dilution', '3', 'towers', 'charm', 'importance', 'transverse', 'secant', 'printer', 'needles', 'Garry', '1.5', 'incited', 'trip', 'halted', 'Mme', 'threesome', 'Treat', 'window', 'discovering', 'Stanley', \"They'd\", 'segregated', 'unsettled', 'entertaining', 'Grecian', 'secularized', 'quantitatively', 'weeds', 'symbolize', 'Over', 'laymen', 'cruelty', 'Elementary', 'proving', 'internal', 'U.N.F.P.', 'comparable', 'efforts', 'Boy', 'Pels', 'speeds', 'awful', 'Funds', 'Jesuit', 'Scholar', 'ghosts', 'impress', 'maniac', 'crashed', \"Jefferson's\", 'Hopkins', 'skirt', 'appointments', 'rigged', 'head', 'utilization', 'dosage', 'Germans', 'deepest', 'polynomial', 'pencils', 'veterinary', 'slower', 'Bultmann', 'rammed', 'select', 'intermittent', 'mechanisms', 'indicator', 'abreast', 'leered', 'Since', 'earthquakes', 'heaped', 'Magnum', 'evenings', 'authorizations', 'unconsciously', 'Scotty', \"historian's\", 'lapses', 'clouded', 'stirred', 'Herberet', 'similitude', 'greatness', 'carries', 'acclaim', 'bed', 'menacing', 'junior', 'zones', 'temporal', \"wouldn't\", 'cunningly', 'slipper', 'canned', 'stooped', 'Football', 'Olympic', 'indications', \"community's\", 'mandate', 'processed', 'listeners', 'Vocational', 'challenging', 'chandelier', 'disarmament', 'dispatch', 'nostalgic', 'characteristic', 'reaffirmed', 'worm', 'thyroxine', 'spraying', 'deficiencies', \"China's\", 'Haven', 'roared', 'painful', 'catastrophes', 'noble', 'delineation', 'Gursel', 'Amen', 'jurisprudence', 'microphones', 'mileage', 'persecuted', 'congregational', 'fury', 'zing', 'brink', 'scraping', 'skillful', 'tempted', 'Buster', 'scattered', 'Prime', 'Returns', 'radial', 'September', 'Temple', 'enthusiasts', 'dreadful', '332', 'Workers', 'Treaty', 'Pendleton', 'sociology', 'compass', 'hang', 'enrolled', 'increasingly', 'Cool', 'mercifully', 'Y.', 'celestial', 'ours', \"season's\", 'yellow-green', 'witness', 'laity', 'pecs', 'Bishop', 'irony', 'neutral', 'wicker', 'Sales', 'investments', 'hectic', 'solutions', 'pretence', 'worlds', 'minorities', 'suspension', 'Norman', 'chewed', 'operations', 'skullcap', 'attaching', '4-H', 'respecting', 'beloved', 'fastest', 'oust', 'secretaries', 'regions', 'Chattanooga', 'sinister', 'pace', 'choose', 'Guard', 'youngsters', 'cypress', 'panes', 'Someday', 'possibilities', \"Anne's\", 'In', 'fluxes', 'preferably', 'volatile', 'Lion', 'Mason', 'Turner', 'deprive', 'savored', 'Jaycees', '36', 'susceptible', 'above', 'continental', 'revolt', \"you're\", 'Allen', 'Violence', 'practice', 'etc.', 'procedure', 'Troy', 'trail', 'irritable', 'polished', 'accomplishing', 'supposedly', 'Country', 'Income', 'philosophers', 'holes', 'resolutions', 'self-evident', 'ammo', 'divisive', 'lending', 'Vue', 'starting', 'litigation', 'proclamation', 'spread', 'scoop', 'baggage', 'occupies', 'magnified', 'ringing', 'You', 'dressing', 'Grove', 'unobtrusive', 'committing', 'blues', 'cf.', 'spokesman', 'Scots', '6th', 'boldly', 'insecurity', 'cognac', \"Krutch's\", 'impromptu', 'Phyfe', 'Administrative', 'impressions', 'Should', 'incitement', 'District', 'Compared', 'attacks', 'sailors', 'been', 'subsequent', 'ancient', 'corresponded', 'getting', 'Arbogast', '140', 'renewal', \"Mayor's\", 'Arlington', 'shimmering', 'ripped', 'chatter', 'decay', 'fascicles', 'raises', 'misdeeds', 'Fanny', 'urge', 'occurred', 'peered', 'democratic', 'glimpses', 'exhibiting', 'predicts', 'therein', 'Garrison', 'white', 'Gorton', 'divestiture', 'hollering', 'weird', 'denying', 'something', 'underwrite', 'centuries', 'captivity', 'drained', 'inform', 'est', 'detected', 'Brace', 'plaintiff', 'northern', 'momentum', 'Favre', 'haul', 'superimposed', 'Ron', 'hereunto', 'post-war', 'freedom', 'lag', 'these', 'Peters', 'reached', 'abode', 'inherent', 'disks', 'chore', '$5', 'TSH', 'impact', 'snowing', 'senatorial', 'dramatic', 'tearing', 'accreditation', 'Austria', 'unable', 'References', 'moments', 'seduction', 'desperate', 'plots', 'relaxed', 'Essex', 'flood', 'Sitwell', 'Lunge', 'Dunbar', 'resource', \"they're\", 'loyalties', 'health', 'instantaneous', 'The', 'uncovered', 'deer', 'harvesting', 'gum', 'Banks', 'beer', 'Copenhagen', 'gives', 'facility', 'statutes', 'soil', 'cheaply', 'creamer', 'missing', 'plus', 'no', 'marks', 'conceptions', 'cheers', \"Sam's\", 'welcomed', 'announces', 'assets', 'grabs', 'tragic', 'gamble', 'aiming', 'Barnard', 'collective', 'stack', 'lowering', 'release', 'Pilgrimage', 'plan', 'tiled', 'periods', 'Calif.', 'Lola', 'No.', 'algae', '1965', 'proteins', 'referred', 'broadcast', 'farewell', 'sides', 'Word', 'blankets', 'Bomb', 'hardest', 'Juvenile', 'Forerunner', 'finely', 'homers', 'aroma', 'qualitative', \"'48\", 'issued', 'govern', 'Boundary', 'Hit', 'many', 'nothing', 'Washington', 'housekeeping', 'calmly', 'evidenced', 'Sidney', 'beaten', 'creatively', 'catalyst', 'loans', 'unconcerned', 'treasure', 'meters', 'traced', 'batting', 'Prayer', 'measurable', 'lordship', 'genial', 'cc.', 'habit', 'cloak', 'examine', 'dapper', 'nuclei', 'Cicero', 'ads', 'composers', 'Families', 'guidance', 'dispense', 'Amendments', 'reviews', 'Angola', 'beginnings', 'clothed', 'mammoth', 'Definition', 'Robbins', 'Generale', 'stallion', 'repertory', 'RAF', 'recurrent', 'Are', \"'52\", 'division', '2:34', 'slavery', 'rents', 'life', 'Manual', 'beam', 'shingles', 'chapter', 'veins', 'dwellings', 'laborer', 'bullet', 'convent', '20', 'purges', \"Gilborn's\", 'lucrative', 'outlined', 'dislike', 'presumption', 'softer', 'shutdowns', 'amounted', 'sill', 'rebelled', 'thereof', '1900', 'kettle', 'Bonnor', 'slot', 'pick', 'afterwards', 'sworn', 'mint', 'Lyon', 'winnings', 'Lovejoy', 'le', 'situs', 'nevertheless', 'welcoming', 'linked', 'follow-up', 'adjectives', 'Technology', 'numb', 'acted', 'performs', 'Rebels', 'devotion', 'steaks', 'skillfully', 'introduce', 'interference', 'autobiographical', 'Choice', 'tides', 'mustard', 'repudiated', 'impoverished', 'errand', 'Classical', 'laminate', 'educational', 'legislation', 'rousing', 'pursuit', 'legitimized', 'distraction', 'kilowatt-hour', 'illustrative', 'psychologists', 'breathing', 'construed', 'clumsy', 'administrators', 'palaces', 'designer', 'every', 'underfoot', 'commerce', 'Bldg.', 'I', 'cane', 'agree', 'violations', 'ideals', 'anything', 'illusions', 'flower', 'manners', 'rocked', 'chipping', 'artist', 'reason', 'do-it-yourself', 'executions', 'selective', 'ancestral', 'soiled', 'marina', 'monotonous', 'smartly', 'per', 'lung', 'justified', 'fantastic', 'Rolls-Royce', 'fitted', 'restaurants', 'guesses', 'sounder', 'Satires', 'panel', 'everywhere', 'quarters', '1820', 'nomination', 'replaces', 'guitar', 'satisfied', 'pushed', 'stabilizing', 'Yalta', 'parting', 'potted', 'dismay', 'Fixed', 'tennis', 'Shawomet', 'resorting', 'Point', \"girl's\", 'principle', 'attempted', 'walls', 'specimen', \"Conant's\", 'Gradually', 'bop', 'contributions', 'purchasers', 'awesome', 'simultaneously', 'decoration', 'gamblers', 'solar', 'stampede', 'piping', 'Real', 'Thorpe', 'suggesting', 'reacted', 'throats', 'know', 'desert', 'Dan', 'Continent', 'fatter', 'Shop', 'supplement', 'faro', 'trials', 'inadequacy', 'nest', 'loving', 'antenna', 'liver', 'field', 'Nevertheless', 'preserves', 'rustic', 'vines', 'aloud', 'installing', 'fervent', 'bathroom', 'deserved', \"baby's\", 'outrigger', 'spacing', 'criticisms', 'Barry', 'Chambers', 'specifying', 'Properties', 'erratic', 'accustomed', 'Following', 'reconciled', 'bite', 'unlocked', 'Queen', 'ashamed', 'cinch', 'contain', 'chores', 'nilpotent', 'cubic', 'shanty', 'Nate', 'collusion', 'militarism', 'Targo', 'whirling', 'Officer', 'combustion', 'any', 'Democrats', 'lamp', 'insane', 'remedy', 'Workshop', 'Nikolais', 'affirm', '7:30', 'performance', 'liberal-conservative', 'dancers', 'clamping', 'inhibition', 'existent', '1860', 'approximation', 'absurdity', 'consonantal', 'swing', 'Fifth', 'smile', 'prone', 'originated', 'involves', 'comparison', \"Prokofieff's\", 'endings', 'authorizing', 'wrist', 'bugs', 'Up', 'discounts', 'dialed', 'celebration', \"life's\", 'glare', 'Churchill', 'rustle', 'Selena', 'Republican', 'Sandman', 'riverbank', 'discovery', \"we'd\", 'Wherever', 'vulnerable', 'Lowell', 'radiation', 'outboard', 'closed', 'Beckstrom', 'Jacques', 'Orient', 'gloves', 'solos', 'exhausting', 'plane', 'defied', 'involuntary', 'lipstick', 'pass', 'Age', 'Buffalo', 'year', 'shame', 'rods', 'confess', 'script', 'Interior', \"Stanley's\", 'take-off', 'careless', 'listing', 'Colman', 'plank', 'optimism', 'add', 'leveling', \"haven't\", 'autocollimator', 'mostly', 'sets', 'Weather', 'aberrant', 'agrees', 'adhere', 'translation', 'Private', 'figures', 'prepolymer', 'doubly', \"Throat's\", 'cursed', 'deposits', 'lap', 'Zoo', 'vehicles', \"woman's\", 'apartheid', 'Gables', 'supervisor', 'crest', 'Isles', 'upheld', 'hangs', 'incidental', 'embassy', 'Injun', 'contradiction', 'cerebral', '1935', 'Good', 'beep', 'tomatoes', 'producers', 'cleaner', 'unveiled', 'portions', 'scurried', '90', 'wheeled', 'Frederick', 'Bill', 'lab', 'diplomacy', 'initiate', 'terrace', 'knives', 'investigated', 'Ray', 'attracting', 'hung', 'closest', 'mantel', 'Hurrays', 'formulaic', 'Obviously', 'aides', 'Limited', 'stubbornly', 'taught', 'Pony', 'downstairs', 'feast', 'television', 'sacred', 'Morse', 'million', 'blowing', 'merited', 'headwaters', 'spice', 'ingenuity', 'Bob', 'unimportant', 'size', 'psychoanalysis', 'customs', 'Feed', 'situations', 'Stevie', 'On', 'flushed', 'benefactor', 'consultants', 'civilizations', 'cult', 'Titan', 'staunch', 'buckets', 'frowned', 'supports', 'zone', '1931', 'kennings', 'Faith', 'costumes', 'attributable', 'Hegelian', 'unprepared', 'evaluate', 'innovations', 'Laramie', 'iodinated', 'extraordinarily', 'shocked', 'Nutcracker', 'Michelangelo', 'cents', 'V.', 'Hundreds', 'Coopers', 'profit-maximizing', 'springs', 'operetta', 'layer', 'participants', 'hopped', 'wandered', 'Sciences', 'lacked', 'yes', 'Boats', 'Chenoweth', 'structure', 'jocular', 'coals', 'technology', 'spending', 'seed', 'apologetically', 'boycott', 'twined', 'acquaintance', 'bearded', 'arrived', 'torture', 'constrictor', 'available', 'poor', '203', 'removal', 'stole', 'Aaron', '69', 'realism', 'room', 'grams', 'traditionally', 'healed', 'diurnal', 'Burma', 'physically', 'Go', 'bleakly', 'advise', 'elapsed', 'sonnet', 'forthright', 'hereinafter', 'executive', 'acid', 'Employment', 'impart', 'revolutionary', 'authorship', \"Pa's\", 'birds', 'allies', 'instances', 'professor', 'Lilian', 'bully', 'rodder', 'theoretically', 'imprecisely', 'preoccupied', 'Proclamation', 'X-rays', 'Atlantic', 'loudest', 'foes', 'broadened', 'slanted', 'affections', 'assigned', 'Manu', 'conscious', 'Looking', '31', 'arteries', 'warp', 'characterizes', 'Edythe', 'hys', 'realizes', 'allotments', 'diet', 'taking', 'neglect', 'predisposition', 'specifications', 'Activities', 'negation', 'mortgages', 'variability', 'book', 'curses', 'termination', 'safely', 'shapeless', 'richness', 'Insurance', 'allowable', '1918', '7.5', 'inhumane', 'chooses', 'drive', 'breathless', 'Platonism', 'dignity', 'protected', 'Red', 'Reuben', 'characters', 'motivation', 'Scripture', 'Jeremiah', 'vineyards', 'padding', 'internally', \"officers'\", 'headmaster', 'joiner', 'directly', 'aroused', 'cosmos', 'handbag', 'supernaturalism', 'presenting', 'Monte', 'disgusted', 'Government', 'selection', 'latest', 'Deduction', 'companions', 'vice', 'synthesis', 'Germanic', 'Kennel', 'assembly', 'nursery', 'Maturity', 'forearm', 'numerous', 'steadily', 'Southerners', 'Manager', \"Watson's\", 'Edwards', 'delivers', 'Cultural', 'Rickards', 'incoherent', 'sprinkled', 'Cousin', 'Increasing', 'directs', 'tour', 'Caribbean', 'divinities', 'Krim', 'sporadic', 'legally', 'functioning', 'thin', 'voluptuous', 'softness', 'indolent', 'eyebrow', 'Hardwick', 'Tibet', 'Onset', 'cities', 'umber', 'Examples', 'disciplined', 'defiant', 'twins', 'perceptual', 'managerial', 'Down', \"Secretary's\", 'discussion', 'versatile', 'ballplayers', 'enrichment', 'tan', 'accumulated', 'fearfully', 'flattery', 'Southerner', 'mopped', 'cross-section', 'relic', 'pertaining', 'tappet', 'Moses', 'malaise', 'price', 'grants-in-aid', 'amusement', 'Trimble', 'NBC', 'hence', 'long-time', 'come', 'cells', 'booze', 'trolley', 'knows', 'accelerometers', 'discontinued', 'selling', 'understanding', 'Medfield', 'owns', 'Purchase', 'represents', 'bar', 'Commonwealth', 'manipulation', 'contribute', 'kinship', 'Star', 'alter', 'prosperity', 'emancipation', 'arrangement', 'subdivision', 'classic', 'recovery', 'Brett', 'questioning', 'families', 'Adelia', 'dozed', \"We'd\", 'maternal', 'packaged', 'drunken', 'recruitment', 'fee', 'piezoelectric', 'Deegan', 'Forgive', 'Poems', 'threat', 'translated', 'respond', 'wing', 'Similarly', 'hail', 'Juan', 'stepwise', 'purpose', 'courage', '1896', 'dialect', 'ephemeral', '56', 'Pagan', 'snuggled', 'purposes', 'vases', 'would', 'posing', 'Tex.', 'wars', 'excluded', \"ship's\", 'Mecholyl', 'concrete', \"Richard's\", 'precepts', 'beaches', 'novelists', 'gases', 'Cereal', 'conformation', 'Paula', 'Theatre', 'Festival', 'yards', '256', 'ensued', 'competitive', 'draw', 'Lilac', 'Sands', 'Tax', \"Fosdick's\", 'sinned', 'Euripides', 'De', 'spin', 'triumph', 'jist', 'Alvarez', 'meal', 'infringement', 'Murder', 'printed', 'Kid', 'stunning', 'unjust', 'liberties', 'Cady', 'fourth', 'consultant', 'lettering', 'judgment', 'humble', 'regulations', 'pledged', 'Du', 'brothers', 'implicitly', 'poker', 'outlived', 'bulge', 'Pearl', 'Judy', 'garage', 'artillery', 'tours', '1835', 'undressing', 'bluff', 'Part', 'Interest', 'pail', 'examiner', 'ambivalence', 'adherence', 'inspiring', 'theory', 'expert', 'experimenter', 'Communist', 'Rivers', 'cloth', 'guest', 'broken', 'love', 'Underlying', 'encountered', 'Jude', 'Debate', 'swinging', \"pool's\", '1913', 'Milwaukee', 'contention', 'upsets', 'Land', 'illumination', 'devout', 'mistrust', 'differentiation', 'U.S.S.R.', 'helplessly', 'aligned', 'marshal', 'Hague', 'logs', 'M.', 'running', 'Fairview', 'Juet', 'carpeted', 'parable', 'Daily', \"L'Turu\", 'bookkeeping', 'Malta', 'Eye', 'heredity', 'survival', 'grossly', \"Groth's\", \"fund's\", 'shoved', 'Scotland', 'Ibrahim', 'rockets', 'sooner', 'golfer', 'baroque', 'uncertainty', 'disappeared', '$450', 'SEATO', 'narrower', 'Vice-President', 'text-form', 'hated', 'laboratories', 'visitors', 'gesture', 'Helion', 'expandable', 'antithesis', 'Much', 'cm.', 'painting', 'intently', 'Victory', 'mansions', 'face-saving', 'terrain', 'protective', 'transaction', 'Ottoman', 'colorless', 'guarantee', 'drink', 'substrates', 'understandingly', 'Dickson', 'referral', 'rape', 'outgrow', 'arranged', 'bosses', 'defensive', 'adequately', 'mast', 'fins', 'Bronx', 'traffic', 'skirts', 'Saratoga', 'depression', 'gasket', 'unaware', 'swift', 'topics', 'possibly', 'reserves', 'dogmatic', 'helm', \"Shakespeare's\", 'battered', 'mount', 'Friend', '130', 'soldiers', 'proportional', 'realtor', 'ponds', 'Oliver', 'hurried', 'feasible', 'inholdings', 'statistical', 'sidewalk', 'domains', 'Though', 'copper', 'crowded', 'psalmist', 'Casey', 'selfish', 'cream', 'Fury', 'bothered', 'World', 'convict', 'Hoag', 'proton', 'baths', 'Via', 'whine', 'engineers', 'goddam', \"year-'round\", \"Year's\", 'surgery', 'brings', 'refuse', 'commanded', 'valleys', 'elementary-school', 'inability', 'provinces', \"A's\", 'retire', 'an', 'informed', 'Masters', 'averting', 'wrecked', 'plug', 'Ritter', 'lemonade', 'cultivated', 'Salisbury', 'Maggie', 'cornerstone', 'upsurge', 'marches', 'harmless', 'Lolly', 'withdrawing', 'motions', 'endure', 'wretched', 'session', 'Battle', 'uneasy', 'Join', 'seize', 'bust', 'attendant', 'unlock', 'flashes', 'Theresa', 'holds', 'Apollo', 'politic', 'firms', 'makers', \"she'll\", 'gradual', 'fireplace', 'haunting', 'Fathers', 'rack', 'Proprietorships', 'title', 'Energy', 'Him', 'Hindu', 'Done', '38', 'Order', 'brotherhood', 'self', 'Mmes', 'touring', 'stresses', \"1/8''\", 'discovers', 'collection', 'lawns', 'attendance', 'electronics', 'potentialities', 'harmonies', 'superb', 'Elena', 'Harvard', 'aide', \"Izaak's\", 'berated', 'spectral', 'delicious', 'slashed', 'How', 'jurisdiction', 'murdered', 'menace', \"Gavin's\", 'leadership', 'readiness', 'sheaf', 'dogs', 'increase', 'stood', 'kneeling', 'alleviate', 'radiant', 'analytic', 'throne', 'meals', 'typed', 'financing', '0.1', 'totalled', 'Claims', 'Mousie', 'syntax', 'peasants', 'unquestionably', 'Where', 'usually', 'Inna', 'gregarious', 'Pat', 'Based', 'ingredient', 'runways', 'headed', 'claimant', 'proves', 'screw', \"Senate's\", 'disputes', 'alumni', 'fed', 'applied', 'delegated', 'mimetic', 'papal', 'sentimental', 'eighteenth-century', 'neutralism', \"Ramey's\", 'elaborated', 'spring', 'whoever', 'maverick', 'Plastics', 'weave', 'explanation', 'bearer', 'reasonably', 'Would', 'Newfoundland', 'guilt', 'graphic', 'unmistakable', 'streets', 'looking', 'accurately', 'Bowl', 'Gin', 'weighed', 'predict', 'Squatting', 'craftsmen', 'Twenty-four', 'sister', 'sorrow', 'operational', 'Garryowen', 'social-class', 'Against', 'rounds', 'sobs', 'fields', 'neighbors', 'itself', 'greatly', 'wastes', 'Baroque', 'aisle', 'Remove', 'teaching', 'responsibilities', 'monuments', '1793', 'Art', 'problematic', 'aids', 'directives', 'embodiment', 'dell', 'owing', 'expertise', 'East-West', 'sensing', 'Herbert', 'diverting', 'customers', 'depended', 'roar', 'ready-made', 'strangled', 'sofas', 'S.K.', 'idly', 'profited', 'cradle', 'clasping', 'yielded', 'equivalence', 'atmospheres', 'excludes', 'Alliance', 'piano', 'barrage', 'proclaim', 'ward', 'brow', 'sash', 'hamlet', 'freckles', 'birdie', 'Crumb', 'wings', 'nested', 'ores', 'thanked', 'Cupply', 'laughter', 'send', 'hinges', 'enforcement', 'damaged', 'Grafin', 'azaleas', 'scrawny', 'library', 'reliable', 'elaborate', 'acceleration', 'squabbles', 'Library', 'woods', 'principals', 'shortstop', 'Foundation', 'came', 'Piddington', 'recognized', 'subsections', 'man-made', 'accountability', 'dismiss', 'pas', 'fiber', 'funeral', 'crashing', 'Robinson', 'Meadow', 'Radiation', 'impaired', 'accepting', 'Rod', 'Blackmer', 'underscored', '7th', 'Kodyke', 'sing', 'economics', 'Weigand', 'recitals', 'named', 'horseback', '$5,000', 'scars', 'gravely', 'Sturley', 'cabinets', 'sanction', 'Robards', 'partition', 'conditioning', 'Linda', 'attractive', 'Anderson', 'Bear', 'Mamma', 'Feb.', 'bulwark', 'mid-September', 'announce', 'Leaving', 'imitated', 'quest', 'pool', 'it', 'asphalt', 'BOD', 'bishop', 'lies', 'idealist', 'watched', \"Linda's\", 'observations', 'hunted', 'proclamations', 'origin', 'laws', 'consisted', 'spasm', 'vice-president', 'nearer', 'skimming', 'electrical', 'droplets', 'Greenwich', 'Mediterranean', 'cowardly', 'pious', 'Too', 'Moroccan', 'slump', 'whatever', 'pursuing', 'break', 'Desert', 'teenage', 'Court', 'moist', 'legislator', 'differential', 'assured', 'McKee', 'done', 'collapsed', 'aorta', 'vector', 'Home', 'extenuating', 'Pressing', 'chilled', 'dried', 'grips', 'Center', 'Bend', 'festivities', '$7', 'proof', 'restrict', 'somebody', 'receivers', 'postscript', 'weaving', 'ruefully', 'uneven', 'radiations', 'lift', 'conducts', 'economic', 'explored', 'Sound', 'compensatory', 'sloping', 'surround', 'clutches', \"Eisenhower's\", 'bankrupt', 'Gansevoort', 'berth', 'prompted', 'acknowledged', 'currencies', 'spheres', 'attire', 'Strike', 'threatening', 'weaknesses', 'Bascom', 'termini', 'Tunisian', 'Jean', 'Brenner', '93', 'Burke', 'exile', 'props', \"Copernicus'\", 'abstract', 'contends', 'neocortex', 'Springfield', 'incorporates', 'inaccurate', 'platinum', 'magnitude', '.', 'congregation', \"father's\", 'skins', 'clapped', 'energy', 'Biblical', 'meticulously', 'existence', 'clerks', 'jeopardize', 'Cherkasov', 'lends', 'Lo', 'Gerry', 'policemen', 'sail', 'militarily', 'recreational', 'tribunal', 'anywhere', 'aware', 'advertising', 'Jim', 'measurements', 'equals', 'envision', 'file', \"Grigori's\", 'peace', '100%', 'Pons', 'director', 'languages', 'clicked', 'bronchioles', 'Rite', 'amended', 'abolish', 'Guy', 'movies', 'Prokofieff', 'Russell', 'harbored', 'mortal', 'commissions', 'accumulate', 'New', 'phonologic', 'painted', 'Guardian', 'holster', 'restaurant', 'excavation', 'unskilled', 'null', 'devoid', 'freshness', 'formed', 'bark', 'galleys', 'carts', 'A.L.A.M.', 'grin', 'Operations', 'substance', 'loss', 'hens', 'Af-stage', 'pitiable', 'candles', 'typical', 'pretended', 'subtle', 'marital', 'Vikings', 'defeated', 'moods', \"They've\", 'busted', 'shape', 'pot', 'easiest', 'subspace', 'lessen', 'deduced', 'Hogan', 'insect', 'monstrosity', 'sitting', 'individuality', 'buns', 'Peck', 'undermine', 'turns', 'Belt', 'acquaint', 'Amendment', 'portal', 'designing', 'mercury', 'commuter', 'planetary', 'fidelity', 'Snelling', 'promptly', 'jewelry', 'constitutes', 'branch', 'extends', 'primarily', 'composer', 'ambush', 'toughness', '10-year-old', 'clarity', 'expectant', 'Mount', 'distinguishes', 'jeep', 'staggering', 'Confederation', 'hugging', \"individual's\", \"Didn't\", 'Henri', 'angels', 'light-weight', 'adjectival', 'symbols', 'destinies', 'parameters', 'earning', 'was', 'cooperating', 'safer', 'originate', 'diligence', 'admitted', 'solitary', 'maintenance', 'civil', 'Resolved', 'Dill', 'Drink', 'sufferings', 'debates', 'computing', \"school's\", 'equating', 'thereupon', 'Frost', 'Self', 'self-examination', 'album', 'Quasimodo', 'Beauty', 'numbered', 'ice', 'prohibiting', 'novelist', 'Counties', 'Isfahan', 'core', 'Divide', 'AP', 'Colorado', 'airplane', 'mill', 'sovereign', 'suggestion', 'clear', 'catch', 'Dad', 'Berger', 'root', 'delegates', 'productivity', 'Frelinghuysen', 'creditable', 'symmetry', 'twentieth-century', 'spores', 'imperative', 'shifting', \"Missouri's\", 'aviator', 'proportionately', 'fall', \"detective's\", 'uptown', 'individualistic', 'dinners', 'stature', 'straightforward', 'avant-garde', 'Ordinary', 'spare', 'vitality', 'peaked', 'decaying', 'consist', 'mentioning', 'carbon', 'Dennis', 'identities', 'arc', 'prompt', 'migratory', 'bucket', 'apex', 'taverns', 'trouser', 'setup', 'championship', 'cries', 'Bottom', 'Creator', '1700', 'embarrassing', 'appointment', 'versa', 'Shadow', 'Lodge', '6%', 'fled', 'prepares', 'ideological', 'stocks', 'strive', 'Records', 'Instead', 'epistemology', 'Directly', 'booking', 'biceps', 'Teaching', 'paradise', 'woodsmoke', 'diffusing', 'particularly', 'associates', 'wrists', \"you'll\", 'stale', 'Laguerre', \"afternoon's\", 'procurement', 'Pictures', 'line', 'throng', 'bundle', 'Topography', 'harvest', 'subjective', 'diluting', \"People's\", 'porter', 'amply', 'uneasiness', 'dinner', 'possession', 'arm', 'Doaty', 'additions', 'atop', 'assertion', 'blend', 'published', 'lasted', 'glad', 'shoot', 'PTC', 'hardtack', '104', 'trait', 'often', 'picking', 'Viet', 'lower-class', 'divers', 'tracts', 'dismissed', 'Occasional', 'Parsons', 'mimesis', 'characteristics', 'countless', 'pension', 'belt', 'Stone', 'tenth', 'why', 'chains', 'shudder', 'mishap', 'vision', 'monotony', 'Development', 'killed', 'mankind', '381(a)', 'folds', 'drew', 'blossoms', 'where', '1929', 'flour', \"Sherman's\", 'electronic', 'Av.', 'society', 'attempting', 'Contrary', 'embroidery', \"Schiele's\", 'eligibility', 'references', 'Clint', 'Rockefeller', 'eliminating', 'absorbing', 'strangers', 'wider', 'reach', 'extremes', 'validity', 'textile', 'attributing', 'Slim', 'octagonal', 'invaded', 'soils', 'middle-aged', 'charities', 'snatched', 'dip', 'dived', 'Phil', 'Estate', 'yelling', 'antiseptic', 'anti-trust', 'Whom', 'Bright', 'for', 'Clifton', 'departing', 'darted', 'Ku', 'descending', 'uniform', 'based', 'Europe', 'infliction', 'Medical', '450', 'gasping', 'depicting', 'Flowers', 'vascular', 'advanced', 'lore', 'economists', 'scanned', 'Sophia', 'surprising', 'theories', 'involve', 'Force', \"arm's\", 'Beauclerk', 'catastrophic', 'high-pitched', 'sway', '1', 'engineer', 'Dodge', 'loath', 'astounding', 'Northwest', 'heartily', '1915', 'boa', 'abandoned', 'retired', 'vitally', 'phosphor', 'So', 'clarification', 'reconsidered', 'inexperienced', 'nervously', 'restriction', 'Extensions', 'redcoat', 'prophetically', 'cite', 'landscape', 'uptake', 'house', 'refuge', 'dreamed', 'willow', 'choreographic', 'impractical', \"Washington's\", 'drug', \"Palmer's\", 'inhibit', 'whereas', 'presumes', 'barbell', 'regarding', 'player', 'Eastern', 'defenders', 'stockholders', 'summit', 'Day', 'contours', 'Oakes', 'wins', 'conference', 'creates', 'modify', 'Seeing', 'lock', '?', 'repel', 'CO', 'unfettered', 'thoughtful', 'atheists', 'dug', 'anecdotes', 'Mercer', \"Beckett's\", 'Tree', 'satisfaction', 'Owen', 'cured', 'stunned', 'fractions', 'Yarrow', 'invitation', 'rage', 'pickoff', 'discovered', 'favorably', 'saws', 'entertained', 'interpreter', 'publications', 'handicap', 'Steps', 'status', 'Caroli', \"Kate's\", 'Documents', 'valves', 'breakdown', 'daring', \"animal's\", 'private', 'correspondents', 'French', 'alive', 'sentiment', 'orbits', 'Boyd', 'boldness', 'creatures', 'vermilion', 'final', 'Troop', 'stretches', 'rode', 'women', 'reformation', 'Am', '``', \"neighbor's\", 'trappings', 'periodicals', 'registered', 'Alice', 'ante-bellum', 'pursuits', 'Players', 'multitude', 'Catholics', 'diamonds', 'approve', 'littered', 'Cap', 'Montpelier', 'Renoir', 'canons', 'Slocum', 'gloomily', 'spots', 'lamplight', 'Poles', 'Della', 'carelessly', 'Hinton', 'fold', 'snarled', 'potato', 'recalled', 'circumstance', 'hiding', 'clauses', 'blinds', \"other's\", 'Carraway', 'Texan', 'Shires', 'composition', 'dogma', 'intend', 'rhythm', 'wartime', 'Chiefs', 'singing', 'Abstract', 'connotations', 'fighting', 'Between', 'contained', 'financial', 'grant', 'ruling', 'inflected', 'successive', 'fairway', 'Ambiguity', 'adhered', 'Facing', 'Savannah', 'whisper', 'subscription', 'wonderful', 'black-body', 'prevalence', 'surname', 'suggestive', 'Vita', 'optimum', 'Walitzee', 'vein', 'ammunition', 'inaction', 'admired', 'Nagrin', 'delicacy', 'Brussels', 'arbitrate', 'auto', 'stumbled', 'Mines', \"play's\", 'donors', 'fruits', 'focal', 'Stram', 'Costaggini', '1964', 'beat', 'A.M.', 'unattractive', 'beeps', 'illiterate', 'vent', 'thrust', 'clinical', 'L.', 'intentional', 'sediment', 'merger', 'governor', 'unsigned', 'Baptist', 'Dietrich', 'mystics', 'hiring', 'preach', 'Choctaws', 'lambs', 'Does', 'cheerful', 'periphery', 'outstanding', 'improvised', 'involvement', \"an'\", 'pituitary', 'Histochemistry', 'stream', 'exclamation', '86', 'shaded', 'deceived', 'remarked', 'stamping', 'soul', 'watch', 'metaphors', 'belied', 'gusts', 'Crystallographic', 'delinquents', 'dizzy', 'India', 'upward', 'hearty', 'Bugs', \"Helva's\", 'bedding', 'demonstrations', 'dipole', 'upper', 'premarital', 'assess', 'forty', 'concealed', 'privately', 'noted', 'wheat', 'purposeful', 'comprise', 'shorten', ',', 'postponed', 'vogue', 'pastors', 'Northern', 'foraging', 'contempt', 'shareholders', '1-1/2', 'prior', 'harm', 'caresses', 'soggy', \"who's\", 'Psithyrus', 'recruits', 'advocated', 'illusion', 'withstood', 'established', 'Fawkes', 'dwarf', '28th', 'conversational', 'verse', 'home', 'registries', 'Angry', 'children', 'married', 'baptism', 'silhouette', 'tape', 'suspicious', 'Countries', 'prophet', \"o'\", 'kitchenette', 'register', 'restless', 'voiced', 'familial', 'Architect', 'discernible', 'Unless', 'DIOCS', 'split', 'logic', 'western', 'infected', 'narrow', 'adversely', 'Girls', 'Gee', 'pragmatic', 'huddle', 'unless', 'tin', 'in.', 'half-breed', 'pulley', 'green', 'Gazette', 'prosecution', 'up-to-date', 'USSR', 'Harlem', '$1', 'terror', 'simple', 'diplomatic', 'bars', 'translate', 'amuse', 'mice', 'explore', 'columnist', 'nod', 'coy', 'Barstow', '1891', 'reflex', 'Mills', 'University', 'combinations', 'altering', 'since', 'Officials', 'interim', 'Todman', 'allusion', 'resisting', 'ships', 'fingerprints', 'Given', 'Concert', 'stakes', 'wasting', 'cynical', 'radiance', 'respiratory', 'waist', 'Ministers', 'Survivors', 'obtained', 'expansions', 'provide', 'saved', 'mainly', 'shipped', 'insulation', 'dynamic', 'hitherto', 'under', 'awake', 'Sloanaker', 'confused', 'resorted', 'airfields', 'disfigured', '3.15', 'elite', 'industrious', 'rookie', 'deal', 'mottled', '1834', 'demythologization', 'sand', 'pay', 'filly', 'scenes', 'self-satisfaction', \"Tom's\", 'makeshift', 'Inter-American', 'appeared', 'estimates', 'stray', 'spilled', 'Matching', 'non-profit', 'senate', 'Simultaneously', 'converse', 'solved', 'precision', 'Had', 'compatible', 'anti-A', 'assigning', 'non-taxable', 'Inquirer', 'autistic', 'McAuliffe', 'maneuver', 'radish', 'pound', 'innings', 'Dylan', 'circumstances', 'agency', 'daisies', 'benevolence', 'patents', 'hopples', 'ace', 'flag', 'causing', 'Julia', 'costing', 'height', 'extra-sensory', 'witty', 'ample', 'Foliage', 'editors', 'recollection', 'cause', 'global', 'horrible', 'loses', 'drizzle', 'Sloan', 'price-earnings', 'modification', 'noblest', 'pouring', 'stage', 'replace', 'old', 'ambiguities', 'cutting', 'Internal', 'Justice', 'Coal', 'Illinois', 'rat', 'tell-tale', 'no.', 'drafting', 'fallen', 'hearings', 'Missouri', 'cowbirds', 'keys', \"he's\", 'Krystallographie', 'bodybuilder', 'Water', 'tiny', 'single-valued', 'strongly', 'salons', 'hem', 'Pa.', 'memorable', 'blasted', 'boyhood', 'formal', 'suffering', 'Planned', 'Lord', 'tumor', 'ceiling', 'Missail', 'stereotype', 'subway', 'compares', 'Stan', 'cash', 'baking', 'Published', 'Newspaper', 'express', 'fetch', 'illustrate', '2nd', 'primitive', 'tone', 'Republics', 'pike', 'chronology', 'humor', 'kill', 'scream', 'Italians', 'removing', \"Spencer's\", 'property', 'self-confidence', 'truck', 'construct', 'Turkish', 'staunchest', 'mulch', 'orbiting', 'Round', 'motor', 'specimens', 'occasions', 'proper', 'adequacy', 'cheap', 'Important', 'filter', '1934', 'rewards', 'viewer', 'impatience', 'reflect', 'sign', 'Whipple', 'Brisbane', 'transporting', 'ranges', 'Chien', 'Fraction', \"you've\", 'evolution', 'assessing', 'fabric', 'boat', \"bull's-eye\", 'Susan', 'Thursday', 'ability', 'persist', \"David's\", 'part-time', 'vanished', 'founding', 'estates', 'courting', 'dubious', 'Madison', 'pulsating', 'world-renowned', 'prayed', 'Wexler', \"B.'s\", 'G', 'titer', 'pansies', 'defender', 'gland', 'Dance', 'Claire', 'cops', 'cubes', 'Plastic', 'maple', 'beauty', 'commended', 'driving', 'Each', 'radio', 'resurgence', 'anti-slavery', 'shrubs', '$2', 'trembled', 'productive', 'Caldwell', 'Mollie', 'border', 'denomination', 'enrich', 'operates', 'Dulles', 'Packard', 'stops', 'massive', 'ICBM', 'host', 'dialects', 'Law', 'Thousands', 'X', 'carve', 'Come', 'Borden', 'signaling', 'leaves', 'dampened', 'abolition', 'merriment', 'Gavin', 'bandages', 'Thurber', 'cancel', 'destination', 'badly', 'airborne', 'jewels', 'quietly', 'missions', \"day's\", 'Song', 'peanuts', 'order', \"Hoijer's\", 'curves', 'glitter', 'Pfohl', 'unhappy', 'Loneliness', 'enactment', 'bluffs', 'possessions', 'refuted', 'composed', 'broadening', 'controlled', 'opener', 'Deputy', 'Uh', 'highway', 'turn', 'interesting', 'applying', 'inception', 'react', 'court', '46', 'temperatures', 'V-1', 'petition', 'declarative', 'similar', 'evangelism', 'formulate', 'attained', 'swaggered', 'Muscle', 'Okla.', 'importantly', 'slope', 'Eastwick', 'Reception', 'deformity', 'provided', 'Tunisia', 'N', 'reconstruct', 'unlike', \"Administration's\", 'extremists', 'picket', 'authorize', 'Chemical', 'address', 'Sherry', 'Pacific', \"captain's\", 'nestled', \"Garibaldi's\", 'aged', 'markedly', 'parts', \"World's\", 'clasped', 'putt', 'hollow', 'conquered', 'Twenty-second', 'municipal', 'Economic', 'Chinese', 'Brumidi', 'rendezvous', 'everyone', 'Concord', 'commodity', 'pack', 'growers', 'mathematically', 'tortured', 'authentic', 'heroic', 'figured', 'P.D.I.', 'danced', 'youngster', 'aftermath', 'discretion', 'footstep', 'beverage', 'intelligible', 'Greatest', 'theology', 'Melies', 'Remarque', 'entitled', 'tribute', 'Serenissimus', 'thermostat', 'ass', 'declared', 'gapt', 'Big', 'disruptive', 'speculation', 'Brandywine', 'allegory', 'dictum', 'Neiman-Marcus', 'ache', \"Aren't\", 'staggered', 'constancy', 'ominous', 'devastated', 'manages', 'congestion', 'cool', 'pupils', 'approximately', 'intimidation', 'quantitative', 'Shell', '1643', 'Jacqueline', 'pane', 'biblical', 'Dandy', 'performers', 'oh', 'wall', '5,000', 'onslaught', '1791', 'handspikes', 'expanded', 'virginity', 'minarets', 'vying', 'Experience', 'advisory', 'pilot', 'foamy', 'huge', 'save', 'Lines', \"Schubert's\", 'Welch', 'Nick', 'Sokol', 'cetera', 'transmitted', 'detection', 'debutante', 'gates', \"analyst's\", 'willy-nilly', 'scenery', 'indigenous', 'Renaissance', 'greedy', 'Piano', 'unfamiliar', 'pins', 'pregnant', 'distort', 'perform', 'ranch', 'benefits', 'Dallas', 'Fritzie', 'Security', 'memorize', 'Captain', 'Trastevere', \"shouldn't\", 'offices', 'neutrophils', 'nationalism', 'inscription', 'fluid', 'stucco', 'permanently', 'Mando', 'request', 'Wisconsin', 'wits', 'Alsop', 'dominated', 'complement', 'Bake', 'voices', 'popping', 'L', 'bronze', 'Hettie', 'assisted', '1105', 'reservoirs', 'Housing', 'affirmative', 'Dorset', '10%', 'pronouncement', 'cytoplasm', 'hopeful', 'breadth', 'fifty', 'staying', 'supplied', 'feelings', 'suppression', 'speechless', 'anti-French', 'l', 'residing', 'bureaucratic', 'railing', 'Conchita', 'sheriffs', 'counting', 'craftsmanship', 'passenger', '4:30', 'upturn', 'Schuylkill', 'Electronics', 'desegregation', 'drum', '1917', 'Murtaugh', 'maleness', 'position', 'force', 'Jelke', 'economies', 'remained', 'wore', 'Lauren', 'opinions', 'socialization', 'sat', 'convoy', 'hilar', 'Gregg', 'impunity', 'waste', 'source', 'charge-excess', 'superficial', 'firm', 'Reno', 'deviant', 'diagram', \"Payne's\", 'shifts', 'Prague', 'essays', 'Must', 'punish', 'Saledo', 'Shakespearean', 'loom', 'Westinghouse', 'dares', 'bel', 'week', 'barricade', 'conceivably', 'accretion', 'bow', \"They'll\", 'diverse', 'bowing', \"Rose's\", 'glanced', 'countries', 'Room', 'aid', 'Pratt', 'miracle', 'mode', 'administering', 'singled', 'Sheriff', 'ever-expanding', 'biological', 'Branch', 'dolls', 'cesium-137', 'fibrosis', 'corporate', 'output', 'deviations', \"clerk's\", 'planting', 'softly', 'deja', 'Chatham', 'sweetheart', 'neurotic', 'police', '135', 'all-time', 'spoil', 'Alfred', 'Skyros', 'miserably', 'inaugural', 'merge', 'Scale', 'journalist', 'as', 'Rhodes', 'Farouk', 'pads', 'neighborhoods', 'mobility', 'Work', 'backs', 'Anyway', 'drying', 'trader', 'securities', 'Maureen', 'ridge', 'Caravan', 'Emory', 'monthly', 'pile', 'mocking', 'stare', 'organizational', 'hatchet', 'Sixth', 'cage', 'radiosterilization', 'NS', 'bag', 'mistress', 'looming', 'evokes', 'shades', 'fragmentation', 'Jackson', 'Northfield', 'somewhere', 'functioned', 'Richmond', 'glossary', 'Jane', 'Were', 'pastel', 'educators', 'Adam', 'Recreation', 'maids', 'lamb', 'ceramics', 'Palace', 'aggrieved', 'casting', 'presses', 'Both', 'recently', 'coffin', 'Neck', 'contingent', 'Suppose', 'laugh', 'Lilly', 'managing', 'point', 'nurses', 'roles', 'admitting', 'token', 'combo', \"Puccini's\", \"Charlotte's\", 'stammered', 'Delaney', 'fortified', 'Pike', 'propped', 'previous', 'Weston', 'misses', 'musket', 'Kremlin', 'Riverside', 'stable', 'groaned', 'Quintus', 'Canyon', 'forced', 'fatigued', 'actress', 'omitting', 'realistically', 'external', 'Notre', '1844', 'methods', \"earth's\", 'realm', 'cost', 'Aside', 'dumping', '200', 'physical', 'pulls', 'bequests', 'Brennan', 'microcosm', 'innocent', 'Coe', 'Hungary', '12-gauge', 'Black', 'images', 'partner', 'silhouettes', 'bombproof', 'satisfactory', 'uncharged', 'string', 'persuasively', 'squatting', \"Bill's\", 'ordeal', 'machine', 'rations', 'aside', 'prodigy', 'retard', 'graduates', 'shadow', 'microscopic', '5000', 'elephants', 'Charley', 'payday', 'clubhouse', 'belongings', 'appoint', '8', 'blizzard', 'damages', 'fame', 'knack', 'alarmed', 'Hank', 'Typically', 'deadline', 'evil', 'observant', 'debating', 'revenge', 'dough', 'normalcy', 'participate', 'yard', 'certificate', 'except', 'parking', 'sacrifice', 'moral', 'dam', 'actions', \"Dan's\", 'marine', 'desiring', 'plastics', 'reigning', 'prejudiced', 'frowning', 'enjoy', 'sanctity', 'capitalism', 'narcotics', 'reasonable', 'retinal', 'vinyl', 'ambassadors', 'outback', \"engineers'\", 'buds', 'triple', 'Mission', 'hideous', 'theorem', 'flies', 'prayer', 'stimuli', 'entered', 'Along', 'push-up', 'linguistics', 'vulture', 'tones', \"States'\", 'indirectly', 'sudden', 'hikes', 'beautiful', 'Bantus', 'Newest', 'Coral', 'election', 'Beadle', 'carriages', 'well-educated', 'earnest', 'Brain', 'Christian', 'overseas', 'dishes', 'searching', 'unhealthy', 'methodical', 'Gaulle', 'warlike', 'Minuteman', 'displeasure', 'flock', 'created', 'Arabic', 'conventional', 'kindly', 'thieves', 'priorities', 'Hiroshima', 'serpents', 'soft', 'Smithsonian', 'collegiate', 'hundreds', 'Dakota', 'saline', 'Planning', 'Freudian', 'Joshua', 'lasting', 'Einstein', 'Thailand', 'blaze', 'assistants', 'naive', 'last', 'Practices', 'secretarial', 'Petrie', 'Gentile-Jewish', 'augmented', 'Ernest', \"aren't\", 'Midge', 'roofs', 'history', 'preoccupation', 'advertisers', 'error', 'Congressional', 'Forces', 'liar', 'rattle', 'dump', 'geologists', 'torque', 'advertised', \"janitors'\", '59', 'Gray', 'mysterious', 'boxcar', 'apathy', 'folks', 'freedmen', 'blunt', 'export', 'Technical', 'ignition', 'devise', 'seem', 'ways', 'gripping', 'Wings', 'Sorry', 'rustler', 'Abe', 'treats', 'forage', 'medicine', 'ribbons', 'septa', 'illegitimate', 'provocation', 'pathological', 'Unity', 'pen', 'barbecues', 'vending', '1/4', 'thru', 'dangerously', 'skepticism', 'blonde', 'launched', 'Supper', 'hard', 'Matson', 'subsystems', 'incorporation', 'wearily', 'Mail', 'thyroid-stimulating', 'probing', 'Interestingly', 'slant', 'For', 'Christendom', 'thyroid', 'Congolese', 'comprehension', 'Alicia', 'files', 'inevitably', 'personification', 'resigned', 'und', 'half-mile', 'Practically', 'connective', 'Irving', 'hierarchy', 'Without', 'Opposite', 'Andy', 'extra', 'uncharted', 'labels', 'close', 'visible', 'basket', 'monumental', 'counseling', 'organized', 'bottle', 'Nowhere', 'sewers', 'adamant', 'chop', 'Aid', 'awarded', 'rattlesnakes', 'alas', 'plunge', 'aspirin', 'Athabascan', 'dared', 'motorists', 'witnessed', 'vintage', 'his', 'conspiracy', 'more', \"Gardner's\", 'Prince', 'lyric', 'disinterested', 'Mao', 'corners', 'woo', 'slapping', 'trans-illuminated', 'decent', 'Edwin', 'recognizable', 'Walker', 'pH', 'doorstep', 'ashore', 'avocado', 'are', 'Kent', 'Dartmouth', 'notions', 'stationed', 'Globocnik', 'holdings', 'spit', 'selecting', 'pastoral', '1832', 'Sue', 'Substance', 'expired', 'warden', 'silly', 'components', 'rancher', 'complaint', 'inquiring', 'fuel', 'infinitesimal', \"mind's\", 'liquids', 'bale', 'Tests', 'blessing', 'thirty-four', 'Tech', 'drugstore', 'tablespoon', 'Morton', 'Eustis', 'parallel', 'orienting', 'skipped', 'Elbow', 'focusing', 'suitors', 'nests', 'masonry', '47', 'D.A.', 'towels', 'Ariz.', 'ruled', 'coordinates', 'Presbyterian', 'connect', 'skill', 'formula', 'hillside', 'Marriage', 'nail', 'Frisco', '15%', 'Matsuo', 'experts', '$20,000', 'reconstruction', 'cousins', 'chromatography', 'perspective', 'Sydney', 'service-connected', 'supermarkets', 'Roland', 'stated', 'modes', 'resemblance', 'trance', 'lids', 'transferred', 'Speak', 'braces', 'garbage', 'diversified', 'Vesole', 'Dawn', 'catharsis', 'Cossacks', 'Graves', 'Think', 'Interpretation', 'ducts', 'allocable', '750', 'teens', 'Cape', 'convincing', 'encouraged', 'Romeo', 'graduation', \"president's\", 'formulae', 'Redbirds', 'clock', 'strode', 'displayed', 'untouched', 'Agnese', 'freezing', 'mouthpiece', 'supply', 'Drain', 'machinery', 'insides', 'drove', 'ancestor', 'Wonder', 'mailed', 'luggage', 'Howard', 'animated', 'superiority', 'Faust', 'southwest', 'memoirs', 'Unit', 'bastards', 'Open', 'Brief', 'high-level', 'easy', 'blur', 'recruit', 'Bridge', 'Shu', 'control', 'opponent', 'prevalent', 'childbirth', 'thermocouple', 'intelligently', 'Narragansett', 'utilizing', 'hostesses', 'observers', 'contract', 'Religion', 'drainage', 'altered', 'license', 'search', 'Dolly', 'beatnik', 'advisors', 'characteristically', 'aerosols', 'Ga.', 'reminding', 'ends', 'Feathertop', 'Appeal', 'fronting', 'comply', 'treasures', 'like', 'coverage', 'allotted', \"You'll\", 'addition', 'Brassnose', 'winding', 'map', 'assemblage', 'Shriver', 'searches', 'longer', 'pry', 'swatches', 'consensus', 'shunts', 'bishops', 'namely', 'Independence', 'Fudomae', 'neon', 'ugly', 'drilled', 'Widow', 'Singing', 'maintain', 'priest', 'forgetting', 'Arms', 'gangsters', 'income', 'Answer', \"so's\", 'slowness', 'Ride', 'urgently', 'storms', 'peril', 'Roberts', 'grudge', 'agglutinin', 'education', 'g{t}', \"family's\", 'Rotary', 'clump', 'teach', 'wayward', '1/2', 'departments', 'arouse', 'represented', 'speedy', 'instead', 'Super-Set', 'strife', 'Listen', 'tentative', 'Mondrian', 'twelfth', 'hypothesis', 'programmed', 'bulb', 'paradox', 'doomed', 'Kahler', 'July', 'succumbed', 'resident', 'conclusive', 'successfully', 'sung', 'classified', 'analogous', \"Schnabel's\", 'bales', 'isotonic', 'Lippmann', 'Mattei', \"Oliver's\", 'Handler', 'fit', 'doubled', 'Cubist', \"Hamilton's\", 'mistakenly', 'horse', 'mating', 'two-story', 'begging', 'coolant', 'William', 'imitation', 'setting', 'go', 'Berman', 'patches', 'explicable', 'defined', 'buffalo', 'members', 'Socialism', 'Man', 'grazing', 'swaying', '1810', 'effectiveness', 'parliamentary', 'reactants', \"Lord's\", 'identical', 'warns', 'canning', 'sense', 'irrational', 'profitably', 'invoking', 'standard', 'deadly', 'Liberal', 'myths', 'half-way', 'transfers', 'commuting', 'phenothiazine', 'Edward', 'objectionable', 'KC', 'viewed', 'Cliburn', 'delinquency', 'points', 'Hawksley', 'Cuba', 'Norton', 'Pentagon', 'muttered', 'ideologies', '**zg', 'delightfully', 'fierce', 'unobtainable', 'snarling', 'tiers', 'realities', 'Defense', 'outcome', 'child', '30th', 'necessarily', 'divorced', 'literal', 'schematically', 'candle', 'Richard', 'husband', 'meantime', 'visit', 'implementing', 'England', 'rental', 'inherited', 'truism', 'Amsterdam', 'beats', 'reconsideration', 'understand', 'uphold', 'proprietor', 'accusations', 'peers', 'rubbish', 'rebelliously', 'Coach', 'actresses', 'efficiencies', '60', 'Jess', \"Where's\", 'hatching', 'Benedick', 'customer', 'Valery', 'barest', 'valley', 'left', 'heartbeat', 'Forest', 'complied', 'launch', 'libraries', 'metered', 'Ludie', 'plywood', 'ceased', 'ill', 'landing', 'protests', 'seriously', 'underwriters', 'blew', 'Restoration', 'ride', 'message', 'eminence', 'comparative', 'Oh', 'brandishing', 'Directions', 'chat', 'childhood', 'investigative', 'vase', 'bounded', 'scientific', 'sergeant', 'wasteland', 'Alvin', 'oysters', 'beans', 'immediacy', 'discomfort', 'solace', 'place-kicking', 'tremble', 'rid', 'passageway', 'majorities', 'confusions', 'reassurance', 'garb', 'quarreling', 'workings', 'plagued', 'achieve', 'summer', 'Shirley', 'Barcus', 'absent-mindedly', 'schemes', 'quotas', 'exposing', 'gaunt', 'lowered', 'Stacy', 'extensively', 'enjoying', 'hesitant', 'directory', 'Charles', 'tektites', 'drifting', \"Patchen's\", '61', 'la', 'growth', 'Dear', 'environment', 'impacts', 'limp', 'fooling', 'handwriting', 'sincere', 'Similar', 'cathode', 'Lappenberg', 'signals', 'proceedings', 'charter', 'Shan', 'Ore.', 'prey', 'soybean', 'deaths', 'traces', 'burial', 'Poet', 'summed', 'oceans', 'forever', 'province', 'incidents', 'edited', '50', 'DuPont', 'Failure', 'looting', 'kilometers', 'rectangular', 'right', \"League's\", 'Victor', 'Altenburg', 'viscoelastic', 'argue', 'undoubtedly', 'Timothy', 'arteriolar', 'dwell', 'lesser', 'Mayor', 'classifications', 'stables', 'shiny', 'Communese', 'threadbare', 'Skopas', 'compression', 'singers', 'yellow-dwarf', 'stirs', 'gouged', 'Egyptians', 'pale', 'mouse', 'unspoken', 'bows', 'acids', 'strained', 'uncommitted', 'slowly', 'redoubled', 'chromatic', 'bruise', 'varieties', 'sin', 'cultures', 'obscure', 'photo', 'signal', 'jolly', 'Encouraging', 'Tudor', 'crystal', 'patrons', 'shadowing', 'rifleman', 'unlined', 'sixty-one', 'construction', 'determining', 'independence', 'chip', 'comforts', 'bruised', 'Gentile', 'Bears', \"anyone's\", 'pets', 'Goldwater', '1040A', 'Dominant', 'trademark', 'raining', 'confusion', 'forgetfulness', 'seventy', 'pickled', '&', 'storyteller', 'obligation', 'kidney', 'symposium', 'clergyman', 'Drexel', 'anti-B', 'rapidity', 'oily', 'Possibly', 'lean', 'Training', 'samples', 'violence', 'morsel', 'adulthood', 'Geological', 'splash', 'instructional', 'salty', 'All', 'good-natured', 'indulgence', 'stockade', 'Brian', 'won', 'lithe', 'silent', 'surrendering', 'mandatory', 'influx', 'axe', 'unwarranted', 'uniquely', 'saloons', 'Paxton', 'Margaret', 'participant', 'arriving', '1939', 'leaving', 'accept', 'alleged', 'Fall', 'wounded', 'rewarding', 'hazardous', 'gravity', 'ratio', 'ruffled', 'floors', 'reversing', 'fuller', 'three-dimensional', 'parody', 'brilliance', 'prosodic', 'attributed', 'distillation', 'disorders', 'ethical', 'Committeemen', 'measured', 'consumption', 'self-determination', 'Ohio', 'artistically', 'strivings', 'resources', 'explicitly', 'Shafer', 'generate', 'Tolley', 'minimum', 'Richardson', 'concluding', 'cross-sectional', 'shearing', 'explode', 'crucial', 'Food', 'bayed', 'Garibaldi', '113', 'Bellows', 'Grant', \"Can't\", 'denominations', 'typicality', 'magazines', 'votes', 'McIver', \"organization's\", 'Stewart', 'troops', 'Thornburg', 'dimly', 'illness', 'Letter', 'hate', 'brightest', 'programmer', 'Psalm', 'demonstrable', 'quackery', 'polyphosphates', 'names', '5.5', 'nominated', 'shoe', 'thrashed', 'top', 'handles', 'consulting', 'fitting', 'ascribed', 'transforms', 'finances', 'relented', 'transposed', 'pots', 'specific', 'snake', 'coffee', 'monitoring', \"Pip's\", 'ADC', 'Beverly', 'Giovanni', 'Amateur', 'Chrysler', 'ignoring', 'extracting', 'vanishing', 'brackish', 'coercion', 'saddlebags', 'tumors', 'p.', 'manifestly', 'fresco', 'ax', 'allusions', 'Pa', 'cop', 'cheek', 'photochemical', 'effort', 'beacon', 'pretense', 'heard', 'blister', 'reprisal', 'LeSourd', 'Purchasing', 'Governments', 'indices', 'subtraction', 'tilt', 'Confrontation', 'Flower', 'Doolin', 'hydrides', 'Op.', 'unmistakably', 'lifeboat', 'dies', 'Electrical', 'special', 'Marsicano', 'discredited', 'autonomic', 'timberlands', 'firing', \"Kipling's\", 'Brandt', 'upright', 'refund', 'dregs', 'giggles', 'Henrietta', 'pars', 'Ierulli', 'sever', 'esplanade', 'SW', 'Pensacola', 'King', 'bony', 'compost', 'undeniable', 'short-lived', 'level', 'lure', 'Professional', 'solvent', '1925', \"Prince's\", \"son's\", 'Instrument', 'alarm', 'defeat', 'Macneff', 'segregation', 'beast', 'non-service-connected', 'encroachment', '1797', 'imported', 'Hope', 'Palazzo', 'horror', 'inclined', 'undertakes', 'guns', 'keyhole', 'abundance', 'Yokosuka', 'reporter', 'subconscious', 'inferred', 'intensive', 'Archbishop', 'stumps', 'SBA', 'refreshed', 'contacts', 'hover', 'disturbance', 'diameters', 'solution', 'Rh', 'seasonal', 'considered', 'Luis', 'C', 'absences', 'leaned', 'steels', 'rain', 'longing', 'liable', 'shocking', 'Chapters', 'weekly', 'pushes', 'inflict', 'assessed', 'socialistic', 'material', 'finish', 'birth', 'December', 'events', 'detonation', 'newsmen', 'abortive', 'empire', 'discount', 'stern', 'licenses', 'barber', '1949', 'mucosa', '13th', 'imposition', 'footsteps', 'snapping', 'Oso', 'dives', 'pleura', 'inviolate', 'ruler', 'calcium', 'coastal', 'coup', 'Type', 'ions', 'glowing', '18th', 'install', '35', 'disprove', 'recipient', 'semantic', \"Tilghman's\", 'Socialist', 'freer', 'em', 'Ring', 'regaining', 'fifteen', 'Broadcasting', 'pinch', 'obstructed', 'sinking', 'pretentious', 'Adjustment', 'Eskimo', 'Justinian', 'President', 'turnpikes', 'self-imposed', 'Brahms', 'gymnasts', 'forth', 'binomial', 'barn', 'External', 'angular', 'photographic', 'sponsorship', 'friend', 'lurking', \"Women's\", 'supposed', 'exquisitely', 'honor', 'wooded', 'shotgun', 'Especially', 'urbanization', 'five', 'resided', 'juice', 'bringing', 'Inauguration', 'Ventilation', 'conflicts', 'talented', '1792', 'swallow', 'queens', 'extent', 'favoritism', 'norm', 'delays', 'observer', 'Super-Sets', 'visibility', 'flavor', 'amplitude', 'our', 'taxing', 'example', 'subjugation', 'significant', 'flagrant', 'speeded', 'retorted', 'Richards', 'Carleton', 'satire', 'testified', 'formulation', 'tire', 'stand-ins', 'credit', 'Uncle', 'Fe', 'FHA', 'lounged', 'treat', 'compulsivity', 'regularly', 'bleachers', 'forked', 'controversies', 'Greene', 'outlines', 'educating', 'shone', 'basing', 'titers', 'approved', 'Letch', 'tilted', 'blank', 'howling', 'jointly', 'capabilities', 'cunning', 'capacities', 'planners', \"Trevelyan's\", '**yl', 'mindful', 'Wagner', 'Garson', 'shabby', 'significance', 'maturation', 'Is', 'metropolis', 'tropical', 'cease-fire', 'manufacture', 'Elinor', '44-year-old', 'resort', 'unaffected', 'speculate', \"Rourke's\", 'installment', 'I.Q.', 'stayed', 'passengers', 'Consequently', 'speedily', 'adjacent', \"everybody's\", 'phrase', 'erupted', 'sight', \"Anderson's\", 'Group', 'distributed', 'loaves', 'ago', 'maximum', 'railroad', 'Alex', 'bard', 'dripped', 'deluge', 'period', 'hunter-killer', 'protruding', 'percent', 'organism', 'bedrooms', 'guise', 'concepts', 'bulky', 'obeying', 'crises', 'sheer', 'Jaguar', 'fullness', 'mee', 'dervishes', 'dissolution', 'scope', 'musicianship', 'Maritime', 'region', 'predecessors', 'hopefully', 'network', 'architects', 'intrigue', 'jumbled', 'judges', 'lathered', 'equipment', 'controversial', 'disapproved', 'realized', 'institutional', 'dodge', 'Bruckner', 'raving', 'dose', 'inventive', 'thinly', 'relegated', 'communism', 'honey', 'slopes', \"Lincoln's\", 'breathed', 'preference', 'foundations', 'consumers', 'sounding', 'Interstate', 'kindness', 'Hamilton', 'demonstrating', 'cease', 'modesty', 'Speaking', 'weigh', 'sits', 'Ulanys', 'disagreed', 'Prior', 'ventured', 'brevity', 'bathrobe', 'red', 'nonreactivity', \"Hollywood's\", 'Giants', 'pro', 'cackled', 'sharpening', 'fear', 'Occasionally', 'subtracted', 'ills', 'united', 'Criticality', 'Marr', 'hepatitis', 'precede', 'polite', 'pointedly', '1898', 'packing', 'Remember', 'sultans', '120', 'refer', 'happiness', 'Congregational', 'thieving', 'bubbles', 'cellular', 'bonds', 'Marmara', 'whether', 'courtesy', 'fans', 'thicker', 'walking', 'From', 'Failing', 'dormant', 'gloom', 'blotted', 'telegraph', 'currently', 'coincidence', 'unpleasant', 'rancor', 'Shortly', 'acrylic', 'Styka', 'Flock', 'Considering', 'Oranges', 'workmen', 'Moliere', 'U.', 'molded', 'defective', 'sponsor', 'akin', 'rising', 'sentry', 'Further', 'honorable', 'beyond', 'nostalgia', 'apologies', 'K.', 'respondent', 'Italy', 'spreading', 'stressing', 'Arbuckle', 'rules', 'imitate', 'years', 'am', 'municipalities', 'inspection', 'below', 'food-preservation', 'tougher', 'Dow', 'avoiding', 'Ambassador', 'advocating', 'cliff', 'lions', 'Esther', 'reunion', 'conservatism', 'leaps', 'lax', 'Taoism', 'fine', 'Vieth', 'cortex', 'usable', '25', 'pneumonia', 'Sharpe', 'pressed', 'maintains', 'zoo', 'Mazeroski', 'westward', 'frivolous', 'Laboratory', 'Springs', 'Eddie', 'Indies', 'streetcar', 'reality', 'warm', 'riding', 'catching', 'girl', 'lease', 'remark', 'Jolliffe', 'disasters', 'highlights', 'Although', 'appreciated', 'disease', 'sleep', 'yrs.', 'chart', 'bordering', \"novelist's\", 'Solution', 'thinker', 'waver', 'attitudes', 'universality', 'scheming', 'deserve', 'carefree', 'mood', 'mated', 'Rather', 'scholars', 'domestic', 'high-energy', 'this', 'rebuffed', 'pasted', 'noisily', \"'61\", 'patronized', 'Founders', 'reward', 'squeeze', 'astonishingly', 'restful', 'reborn', 'new-found', 'emphatically', '$45', 'Westfield', 'complete', 'Few', 'so-called', 'toward', 'soap', 'unsung', 'interprets', 'hear', 'wife', 'scale', 'awed', 'Sample', 'run', 'Frankfurter', 'indifference', 'Manley', 'Bede', 'recent', 'rupture', 'alike', 'Plantations', 'crutches', 'Little', 'hearing', \"parents'\", '2.1', 'into', 'vows', 'switches', 'vine', 'Rev.', 'abetted', 'Metal', 'sponge', 'O.K.', 'texture', 'objectively', 'implacable', 'graceful', 'Aw', \"latter's\", 'deposited', 'jobs', 'resemble', 'secondary', 'mourning', 'obtainable', 'eccentricity', 'department', 'velvet', 'learning', '1875', 'climate', 'lb.', 'Winslow', 'personifies', 'well-kept', 'Grazie', 'worked', 'analysis', 'studies', 'expelled', 'starvation', 'thy', 'betrays', 'fastidious', 'residents', 'citation', 'mounts', 'civilian', 'poked', \"Stein's\", 'homesteaders', 'Pollock', 'swayed', 'wedded', 'grabbing', 'disabled', 'Pullen', 'assist', 'Cloud', 'lit', 'terrorized', 'Flemish', 'darkness', 'face-to-face', 'Liberals', 'farfetched', 'halfway', 'seam', 'listening', 'textures', 'Mutton', 'technical', 'Odyssey', 'Burton', 'infectious', 'acknowledge', 'loaf', 'rather', 'affectionately', 'onset', 'desk', 'Engine', 'Fridays', 'gigantic', 'secants', 'warfare', 'yanked', 'describes', 'bankruptcy', 'Klan', 'circus', 'Pah', 'waving', 'blissful', 'wallpaper', 'longest', 'varied', 'belonging', 'personally-owned', 'orthodox', 'North', 'shield', 'illustration', \"Europe's\", '126', 'curtail', 'interiors', 'minded', 'Publication', 'Alec', 'footnote', 'relative', 'shelf', 'quarreled', 'suffocating', 'distributors', 'Personnel', 'Canada', 'Errors', 'naming', 'fille', 'jazz', 'suggested', 'Simms', 'travel', 'endeavors', 'hike', 'camp', 'publication', 'upon', 'need', 'implementation', 'cannot', 'manifest', 'Centennial', 'offered', 'solvents', 'Serious', 'pint', 'Sign', 'shortage', 'Schuyler', 'gastrocnemius', 'threads', 'spiced', 'paused', '$17,000', 'Rd.', 'dare', 'counted', 'graciously', 'experiential', 'affixed', 'butchery', 'recurring', 'exclusion', 'decorating', 'caressing', 'woolen', 'reflection', 'blast', 'agony', 'known', 'preserved', 'unity', 'locks', 'saucepan', 'polar', 'villains', 'notorious', 'manifold', 'ears', 'perfume', 'colleagues', 'spherical', 'peas', 'skies', 'Zealand', 'Kohnstamm-positive', 'headlines', 'mound', 'marijuana', 'classrooms', 'crowing', 'loomed', 'appropriation', 'EQU', 'boon', '1,000', 'mechanized', 'arousal', 'disclosures', 'delighted', 'City', 'spade', 'Close', 'maintaining', 'receipt', 'confident', 'meager', 'seat', 'communication', 'strapping', 'flux', 'nonexistent', 'simultaneous', 'Harpers', 'brick', 'memories', 'And', 'Frick', 'Solid', 'Cherry', 'biographical', 'Miami', 'channeled', 'Johnston', 'curving', 'File', 'scours', 'artistic', 'hammock', 'maneuvering', 'trunks', 'loadings', 'shortly', 'distorted', 'liquidation', 'Publications', '$135', 'Baird', 'recovered', 'catalogued', 'splitting', 'i.e.', 'costly', 'sloppy', 'grandiose', 'films', 'Chief', 'band', '2.6', 'Christopher', 'bend', 'wryly', 'profession', 'handed', 'results', 'pokes', 'courthouse', 'boom', 'savages', 'eve', 'course', 'athletics', 'unpaid', 'knocking', 'exhibited', 'Martian', 'talked', \"it's\", 'Somehow', 'same', 'double-wall', 'thirty-five', 'oak', 'minority', 'geology', 'shawl', 'wires', 'interplay', 'septic', 'outskirts', 'Kern', 'denounce', 'electric', 'Eichmann', \"Authority's\", 'Lt.', 'negotiated', 'Spirito', 'Stevens', 'outlet', 'wide-ranging', 'Willy', 'grinning', 'plentiful', 'rebel', '$1.1', 'reportedly', 'picturesque', 'Plainfield', 'Arthur', 'acclaimed', 'loyal', 'Cranston', 'rewrite', 'Agricultural', 'locales', '1945', 'honestly', 'heavily', 'assisting', 'stretch', 'shed', 'routes', 'exit', 'fork', 'males', 'rot', 'destructive', 'Gladdy', 'drunkards', 'piers', 'sketched', 'CDC', 'diplomats', 'Rule', 'eliminated', 'Wheeler', 'Torrio', 'cups', 'everyday', 'prizes', 'compensated', 'bulk', \"Jim's\", 'must', 'Bryan', 'confronts', 'Incidentally', 'accent', 'keelson', 'charters', 'Kings', 'Steele', 'drawled', 'stringy', 'intricate', 'rosebuds', 'constitutional', 'integer', 'movement', 'staffs', 'fighters', 'Gore', 'mothers', 'Duke', 'trailed', 'beating', 'gaiety', 'Matthew', 'crusade', 'successes', 'eight', 'colt', 'esprit', 'uncounted', 'unreasonable', 'comic', 'slaves', 'eagerly', 'bandits', 'undergo', 'McBride', 'Donnay', 'inadequate', 'responds', 'knowledge', 'dark', 'spilling', 'demoralize', 'individualism', 'introduces', 'inflections', 'quo', 'DUF', 'stories', 'crops', 'dominant', 'connoisseur', 'tending', 'nip', 'thwart', 'faintly', 'Trout', 'quaint', 'Sister', 'Mother', 'ideology', 'heading', 'distinctions', 'affirmed', 'attachments', 'approximated', 'always', 'winged', 'programing', 'minus', 'carryover', 'essentially', 'hunger', 'played', 'pity', 'rude', 'organically', 'booked', 'deemed', 'radios', 'treaty', 'chest', 'barbarians', 'cares', 'mix', 'Ideally', 'Chancellor', 'insist', 'spared', 'mutual', 'spends', 'gladly', 'effectively', 'corresponding', 'Monticello', 'demand', 'begotten', 'amendment', 'twitch', 'steep', 'guiding', 'Soak', 'Individual', 'technological', 'Counsel', 'Expectations', 'coefficient', 'analogies', 'activities', 'Crawford', 'groped', 'disappearance', 'revelations', \"Island's\", 'centennial', 'partly', 'Discourse', 'type', 'instinctively', 'ardent', 'purification', 'Tension', 'Eleanor', 'bastard', 'plantation', 'plans', 'axis', 'transit', 'Jeep', 'alternately', 'complexities', 'securing', 'foul', 'assail', 'manager', 'acquire', 'oyabun', 'touchdown', 'fender', 'counts', '2%', 'Clinico-pathologic', 'fixtures', 'insolence', 'arrears', 'hibachi', 'theoretical', 'textbook', 'horns', 'Otherwise', 'content', 'Commons', 'tubing', 'cost-of-living', 'rebellion', 'disturb', \"Sweden's\", 'inquire', 'Diego', 'earnestly', 'stricken', 'niche', 'Out', 'Museum', 'devilish', 'pour', 'adapting', 'Bosphorus', 'Eromonga', 'hauling', 'descent', 'Coast', 'Potter', 'ominously', 'Almighty', 'him', 'seekers', 'glistening', 'unfolded', 'prolonged', 'Dickens', 'mythological', 'twilight', 'bounds', 'forge', 'thing', 'grandson', 'loose', 'frightening', 'attaining', 'bandaged', 'model', 'rein', 'La.', 'Bell', 'provisions', 'Naval', 'ventricle', 'lifters', 'smoking', 'sisters', 'calculations', 'shown', 'contamination', 'regulars', '70,000', 'Auditorium', 'serviceable', 'indeterminate', 'symbolized', 'critters', 'Stat.', 'overcoming', 'flaw', 'Alumni', 'due', 'imitations', 'stabilization', 'Kodiak', 'Son', 'inconvenience', 'Even', 'sweet', 'We', 'blamed', 'complained', '1930', 'steaming', 'magnet', 'personalized', 'lacks', 'Tropic', 'Mars', 'jolt', 'bricklayers', 'midday', 'intended', 'inducted', 'aggressions', 'bubbling', 'natural', 'Ricco', 'screeching', 'is', 'addressed', 'convinced', 'renaissance', 'Loop', 'thermometers', '1629', 'nebulous', 'regards', 'Hodgkin', 'frauds', 'yesteryear', 'needless', \"Poet's\", 'freeing', 'Noel', 'cartoonist', 'occupations', 'attain', 'adage', 'race-driver', 'Annual', 'Dyer', 'thermometer', 'Taiwan', 'Nam', 'largest', 'economy', 'midwestern', 'unhappiness', 'stores', 'arm-elevation', 'exports', 'min', 'festival', 'elbow', 'Ma', 'Cable', 'afflicted', 'Strings', 'combat', 'beaming', 'Beat', 'suburb', 'ml', 'buckskin', 'regarded', 'icy', 'three-hour', 'cover', 'imbedded', 'ardor', 'Devey', 'includes', 'conceive', 'units', \"Mike's\", 'molecular', 'cinematic', \"hadn't\", 'communicative', 'professedly', 'indefinite', 'durable', 'theatre', 'cushion', 'advertise', 'sanctioned', 'suitable', 'bring', 'visibly', 'announcements', 'obligations', 'refrain', 'amazingly', 'concerto', 'Could', 'race-drivers', 'meteorological', 'frightened', 'fails', 'caught', 'upstairs', 'illicit', 'respects', \"state's\", 'appeals', 'Brooks', 'cent', 'sternly', 'Riefling', 'boss', 'folklore', 'adviser', 'Seward', 'paragraph', \"1950's\", 'resistant', \"Sloan's\", 'Precious', 'Raton', 'Vermont', 'rebuild', 'soberly', 'imputed', 'Amadee', 'Geometric', 'predominantly', 'groin', 'ratings', 'visceral', 'burns', 'errors', 'Paradoxically', 'designs', 'conversions', 'horizontal', 'grokked', 'infallible', 'cloudburst', 'signs', 'sculpture', 'manslaughter', 'Southern', 'youths', 'Lyttleton', 'Eh', 'Marston', 'transmuted', 'staff', 'Exploration', 'fictional', 'reign', 'swooping', 'cheer', 'Roy', 'psychology', 'planer', 'crossroads', 'sleeve', 'frequencies', 'waiters', 'thawed', 'Blue', 'alternatively', 'plows', 'principally', 'objective', 'Source', 'correction', 'lessening', 'inboard', 'charge', 'Le', 'equations', 'skiffs', 'arise', 'labor-management', 'separates', \"Lyford's\", 'involutions', 'tick', 'hebephrenic', 'paragraphs', 'hooked', 'Squire', 'elevation', 'ailment', 'Vickery', 'dishonest', 'Georgian', 'walk', 'doubt', '97', 'outdoors', 'cycles', 'skinless', 'planes', 'taper', 'Durkheim', 'Trujillo', 'epic', 'prosecuting', 'merest', 'Gerald', 'Clubs', 'believer', 'glottochronological', 'Additional', 'sensual', 'redundancy', 'shortest', 'victories', 'mused', 'elasticity', 'spiral', 'abuses', 'nationalist', 'Columbia', \"D'Albert\", 'Mahler', 'study', 'companionship', 'tenor', 'waves', 'abuse', 'doubting', 'strove', 'telegraphic', 'breathe', 'intrinsically', 'counties', 'Maurice', 'uniformed', 'barracks', 'boatman', 'posterity', 'team', 'penetrating', 'Littlepage', 'tools', 'techniques', 'evolutionary', 'Reply', 'encompass', 'interrelations', 'Gallery', 'terminology', 'luck', 'Grab', 'Oxford', 'Redevelopment', 'rituals', 'Mound', 'phone', 'walked', 'Louis', 'Teachers', 'interchangeable', 'ratified', 'Sr.', 'polycrystalline', 'fuse', 'WTV', 'Full', 'stone', 'Samuel', 'bargaining', 'instrumentation', 'chimney', 'newsletter', 'grease', 'con', 'letters', 'Early', 'invaluable', 'stud', 'spoken', 'warts', 'Pezza', 'distinguishable', 'Upon', 'verify', 'rationing', 'ineligible', 'Article', 'dimensions', 'support', 'Calvin', 'useful', 'admire', 'Indonesia', 'fence', 'Baton', '19th', 'Sapio', 'quota', 'Nineteenth', 'mighty', 'stereo', 'March', 'storage', 'bronchiole', 'sunburn', 'European', 'corporations', 'cement', 'Whig', 'Honor', '110', 'treated', 'Cascading', 'Minutemen', 'engaging', 'localities', 'kindred', 'enables', 'linear', 'Main', 'runway', 'danger', 'bolt-action', 'nozzles', 'maturity', 'financed', 'doctors', 'association', 'slumber', 'belongs', 'topic', 'aberration', 'Okay', 'Report', 'honeybees', 'Circular', 'Martini', 'urged', 'bridegroom', 'Fish', 'classics', 'phonemic', 'ring', 'lemon', 'closet', 'Product', 'glinting', 'barges', 'racket', 'folk', 'grouped', 'scooted', 'flashing', \"Barco's\", 'had', 'cardinals', 'pockets', 'destined', 'trails', 'Hamm', 'roller', 'wine', 'murky', 'tell', 'lad', 'Sherlock', 'Sinatra', 'Bird', 'Armed', 'genetic', 'auditors', 'regretted', '60,000', 'feature', 'Calenda', 'fairness', 'Arkansas', 'bluntly', 'require', 'Mr.', 'grape', 'fugitive', 'so-so', 'submerged', 'Alexandria', 'characterized', \"Uncle's\", 'Drunk', 'transferor', 'graves', 'Heavy', 'import', 'Batavia', 'professionally', 'hopes', 'virtue', 'prepositional', 'Nassau', 'Aureomycin', 'lags', 'changeable', 'alveolar', 'oedipal', 'unfitting', 'sweeping', 'poignant', 'between', 'shortened', 'procession', 'sure', 'hauled', 'messages', 'spark', 'levels', 'Medal', 'civilization', 'products', 'judicial', 'artery-pulmonary', 'afternoons', 'liaison', 'amethystine', 'whistling', 'looked', 'operatic', 'warrants', 'Holland', 'Judson', 'compulsory', 'dictated', 'depressions', 'Williams', 'jammed', 'tact', 'spades', 'mahogany', '250', 'were', 'operate', 'tidings', 'underdeveloped', 'wiggled', 'Campbell', 'uselessly', 'payroll', 'Lighting', 'grocers', 'Emma', 'relaxes', 'fluorescence', 'sinfulness', 'drown', 'artificial', 'led', 'carved', 'churchmen', 'hastened', 'standby', 'Louisiana', 'operand', 'Airlines', 'vitamin', 'acquiring', 'Fate', 'indispensable', 'Inaugural', 'consecutive', 'awarding', 'hostility', 'rug', 'Lizzie', 'flexible', 'oscillation', 'intellectuals', 'domain', 'Official', 'Needham', 'Allan', 'defy', 'toe', 'Middle', 'tongues', 'Minneapolis', 'reverence', 'destroyers', 'common', \"he'll\", 'cat', 'deeply', 'classical', 'hands', 'Lattimer', '700', 'swung', 'fox', 'factions', 'Makes', 'Kirov', 'Herold', 'connection', 'direct', '$700', '2:33', 'amortization', 'scene', 'hymn', 'disillusionment', 'Wisman', 'fifth', 'DC', 'Americana', 'resorcinol', 'market', 'deposit', 'confines', 'gonna', 'psychiatric', 'Taoist', \"guard's\", 'equally', 'Maria', 'indifferent', 'does', 'reputed', 'wiped', 'gaze', 'assessors', 'cannon', 'extensions', 'clearance', 'boy', 'Scapin', 'annoyance', 'pro-Communist', 'obtaining', 'farmer', 'guaranteed', 'unmoved', 'Warren', 'Lauro', 'Armstrong', 'chili', 'sometimes', 'arroyo', 'inflicting', 'Around', 'ascending', \"State's\", 'Ryusenji', 'skeptical', 'cooperative', 'processor', 'Empire', 'Conference', 'Reese', 'emblematic', 'Italian', 'crisp', 'deerskins', 'Help', 'rushed', 'exert', 'Fulke', 'acquisition', 'Mexican', 'scouring', 'Phillies', \"Hetman's\", 'bombers', 'federal', 'decreases', 'weeping', 'cinema', 'County', 'evacuation', 'deprived', 'clipped', 'Navona', 'partnership', 'Sargent', 'promote', '17th', 'sectors', 'one-time', 'unknown', 'clip', 'punch', 'qualities', 'disparate', 'purest', 'mile', 'eligible', 'Caesar', 'adversary', 'referring', 'suddenly', 'annoying', 'stalls', 'submission', 'bivouac', 'Lester', 'Moon', 'irresponsibility', 'Airport', 'limited', 'writing', 'autos', 'tread', 'accusing', 'specifies', 'healthful', 'Sam', 'Horowitz', 'Garth', 'connections', \"Kirby's\", 'wander', '6-3', 'dove', 'radicalism', 'soles', 'sometime', 'arrow', 'pleasing', 'dirt', 'Penn', 'transmutation', 'bowls', 'ruddy', 'oppose', 'periodical', 'doorway', 'separate', 'diarrhea', 'streaming', 'complexion', 'freshman', 'Play', '20th', 'quicker', 'thunder', 'wondered', 'fulfillment', 'cosmetics', 'provoked', 'offset', 'teenagers', 'protein', 'opposed', 'prematurely', 'fumbled', 'threes', 'Now', '1845', 'enterprising', \"Harper's\", 'succeeds', 'commercial', 'combine', 'whereby', 'Head', '40', 'disbelief', 'diminished', 'stupidity', 'giants', 'Revelation', 'silently', 'anniversary', 'digging', 'plunged', 'inconclusive', 'Bartlett', 'True', 'excitability', 'equity', 'polling', 'sector', 'Harris', 'peculiarly', 'cupful', 'productions', 'symmetric', 'concentrate', 'spoke', 'prominently', 'amazement', 'contemptuous', 'rapidly', 'Cardinal', 'smoothed', 'first-class', 'Jesus', 'mania', 'mountain', 'sordid', 'thermocouples', 'Karamazov', 'gyros', 'stark', 'Algol', 'Stoic', 'destruction', 'deplores', 'dyed', 'attended', 'parent', 'sole', 'pedal', 'grocery', 'rhetoric', 'Catatonia', 'Election', 'specialty', 'post-World', 'berry', 'flexural', 'infrequent', 'temptation', 'Fig.', '1788', 'production', 'commanders', 'Prudence', 'Dutch', 'installations', 'disguised', 'vertebral', 'fundamentalist', 'pet', 'fertility', 'convulsive', 'dwelling', 'smells', 'directness', 'echo', 'Philippi', 'monster', 'planning', 'outlook', 'portrayed', 'mutton', 'likes', 'fortress', 'affluence', 'universally', 'adhesive', 'brokers', 'enchanted', 'Adrian', 'proletariat', '1954', 'Mekong', 'slowing', 'curriculum', 'patients', 'sorbed', 'transient', 'Steel', 'emaciated', 'dispute', 'supersonic', 'bowl', 'Ellen', 'Oedipus', 'farming', 'abandonment', 'barrier', 'underestimate', 'considerable', 'finite-dimensional', 'avail', 'Seaboard', 'Anniston', 'denunciation', 'legacy', 'bribed', 'phrased', 'climbing', 'pilots', 'sickened', 'shading', 'middle-class', 'chagrin', 'nonfiction', 'seven', 'Andre', 'subsistence', 'simplified', 'roulette', 'golfers', 'ultra-violet', 'inventors', \"soul's\", 'Bay', 'cigar', 'clerk', 'Implementation', 'deny', 'accompaniments', 'populous', 'chines', 'reversed', 'contrary', 'captured', 'airplanes', 'sheath', 'Forty', 'reactors', 'coolers', 'Sparky', 'Pulley', 'desegregated', 'Master', 'converts', 'abandon', 'sources', 'zeal', 'founder', 'collage', 'current', 'track', 'Woman', 'fewer', \"husband's\", 'orchard', 'striking', 'omitted', 'frescoes', '2-year-olds', 'moderation', 'surviving', 'settling', 'Hanover', 'concern', 'south', 'consented', 'friendship', 'gallons', 'wilderness', 'scrawled', 'Foss', 'satirical', 'Pelham', 'Different', 'increased', 'martyr', 'officers', 'Dixieland', 'differ', 'exceeding', 'slots', 'supervised', 'Dream', 'pp.', 'fellow', 'Elec', 'Illustrated', 'magistrate', 'corridor', 'cigarettes', 'elimination', 'surprises', 'council', 'ate', 'strains', '0.4', 'invites', \"tomorrow's\", 'security', \"You've\", 'elephant', 'gather', 'Sports', 'postwar', 'cancer', 'grab', 'reactor', 'Mostly', '$5,000,000', '1936', 'Luxemburg', 'there', 'WBAI', 'creativity', 'among', 'Front', 'Van', 'Lawrence', 'T.', 'provides', 'fears', 'presents', 'Melvin', 'madmen', 'licensed', 'Olgivanna', 'grapes', 'Leningrad', 'spun', 'bolted', 'exceeds', '$15,000', 'Honorable', 'John', 'Arm', 'tastes', 'agreeable', 'criminals', 'Costs', 'wheels', 'pulled', 'Corporations', 'Telegraph', 'ivory', 'enlisted', 'Mayflower', 'overall', 'swelling', 'southern', 'accepts', 'directions', 'Numbers', 'fig.', '500', 'census', 'Blatz', 'Switzerland', 'engendered', 'promises', 'palazzo', 'mature', 'regard', 'thwarted', 'unlimited', 'hardware', 'regardless', 'routines', 'plump', 'rated', 'demons', 'Joyce', 'cooperation', 'Fire', 'dimensioning', 'Berlin', 'Whereas', 'misery', 'boarding', 'deterioration', 'trunk', 'odd', 'reactionary', 'confessed', 'after', 'indelible', 'brutality', 'flourishes', 'Authorities', 'versatility', 'barefoot', 'haunted', 'academy', 'concert', 'testing', 'recitation', 'deference', 'Greece', 'Origen', 'institutionalized', 'corrupt', 'termed', 'repression', 'Notte', 'jury', 'week-long', 'Drew', 'Dei', 'imperial', 'acquired', 'combination', 'Dodgers', 'analysts', 'vigilance', 'Negro-appeal', 'related', 'gratification', 'Nevada', 'barrel', 'securely', 'harshly', 'alloys', 'Nadine', 'warming', \"nothin'\", 'Divinity', 'downward', 'Whoever', 'overcame', 'observe', 'Europeans', 'receive', 'agreeing', 'attempt', 'thrusts', 'pear', 'despite', \"Governor's\", 'Methods', 'emotion', 'revenue', 'Observatory', 'pelts', 'swished', 'variety', 'lurched', 'confesses', '5-1', 'conclude', 'Test', 'Guest', 'psychic', 'labor', 'VA', 'transition', 'disappears', 'drag', 'overcomes', 'histories', 'pole', '1941', 'B-52', 'Harriet', 'intercepted', 'Brazil', 'stitches', 'far-reaching', 'constituency', 'impersonal', 'Moral', 'Florida', 'plight', 'White', 'lightly', 'widow', 'grimace', 'economist', 'Salvation', 'raw', 'queen', 'foods', 'cautioned', 'gunmen', 'delight', 'invasion', 'awaits', 'dominates', 'dingy', 'lump', 'centering', 'readily', 'dismaying', 'behaving', 'decrease', 'incomplete', 'Hence', 'Dog', \"Moscow's\", 'Economy', 'grate', 'automatically', 'cradled', 'prices', 'flags', 'profundity', 'Use', 'reply', 'conjoined', '74', 'wrinkles', 'sized', 'press', 'excessive', 'ape', 'archaeological', 'amount', 'mixtures', 'assent', 'endowments', 'Flight', 'longstanding', 'H', 'disappearing', 'Minor', 'Upper', 'Saviour', 'melee', 'bright', 'blackout', 'foliage', 'occasional', 'Vicksburg', 'innocence', 'differences', 'sugar', 'paramagnetic', 'ambitions', 'confided', 'tireless', 'cheekbones', '83', 'victims', 'sullen', 'stupendous', 'enhanced', 'February', 'reception', 'Pauling', 'inveterate', '275', 'primary', 'wager', 'prospect', 'disguise', 'personally', 'decides', 'magnification', 'awaiting', 'revamped', 'steered', 'Curtis', 'editor', 'horizons', 'compulsively', 'Corps', 'engine', 'joining', 'Elizabeth', 'minor', 'villages', 'stands', 'Whether', 'dash', \"body's\", 'offenses', 'Onsets', 'Island', 'Kitty', 'Alpert', 'statewide', 'Wiley', 'fort', 'symptom', 'fragile', 'noses', 'tissue', \"'em\", 'recoil', 'Salem', 'processes', 'lips', 'suitcases', 'conversion', 'symbolism', 'sending', 'compromising', 'dryly', 'spaces', 'thump', 'calling', 'hymns', \"Rousseau's\", 'compute', 'acceptable', 'Glimco', 'unwilling', 'Designers', 'umbrella', 'nude', 'Julius', 'relinquish', 'cattle', 'word', 'Tape', 'exploration', 'roughcast', 'handy', 'claret', 'callers', 'wood', 'folly', 'intervened', 'spotless', 'nature', 'deliberate', 'dispatches', '400', 'blue-eyed', 'mapping', 'unrealistic', 'contested', 'Constantine', 'kid', 'sequence', 'Fortunately', 'basement', 'Turnpike', 'stoop', 'Share', 'spear', 'knees', 'sublime', 'Tones', 'paint', 'mending', 'portraits', 'Fellows', 'generalizations', 'Model', 'dedication', 'lifted', 'flows', 'Eventually', 'intrigues', 'league', 'exclaiming', 'aspirations', 'seclusion', 'nice', 'peering', 'Institution', 'improves', 'Segovia', 'homecoming', 'purchasing', 'earnings', 'compete', 'wanted', 'cartridges', 'velvety', 'cork', 'righteous', 'inch', 'President-elect', 'appliances', 'Denver', 'precedent', 'supernatural', 'Pansies', 'wish', 'daughters', 'catalogue', 'Bradley', '1959', 'Sarah', 'strand', 'novice', 'turf', 'verses', 'Leg', 'Pops', 'trespasses', 'premium', 'syrup', 'torso', 'lavatory', 'Michael', 'modeled', 'appropriately', 'frustrate', 'assented', 'stripe', 'forts', 'Kong', 'indicates', 'spelling', 'Macon', 'planks', 'rags', 'Mercury', 'conveniently', 'basketball', 'streamlined', 'rake', 'straddling', 'rocks', 'Frank', 'weep', 'crippled', 'Rest', 'charming', 'disapprove', 'brother-in-law', 'comfort', 'shoulders', 'bourbon', 'speculating', 'logistics', 'gymnastic', 'fabulous', 'Can', 'Sweden', 'Bernard', 'committees', '1821', 'foams', 'Sept.', '8:30', \"Adams'\", 'Dolley', 'goat', 'materialize', 'unexpected', 'compared', 'puncher', 'commercially', 'sidewalks', 'shade', 'studied', 'aspects', 'groomed', 'squinted', 'aerated', 'pip', 'Doric', 'ranking', 'Daniel', 'Kearton', 'plea', 'glimpsed', 'overwhelmingly', 'Cafe', 'Neutral', 'Trinity', 'Page', 'mouths', 'outbursts', 'respect', 'idyllic', 'dresses', 'coroner', 'watery', 'Analysis', 'slashing', 'continually', 'Multiply', 'Observer', 'Chevrolet', 'showcase', 'commotion', 'tooth', 'therapeutic', 'figurative', 'execution', 'guided', 'adolescents', 'truce', 'counter', 'aiding', 'dropping', 'curve', 'rumors', 'Appendix', 'Kathy', 'Sedgwick', 'blithely', 'richer', 'three-quarters', 'palms', 'laboratory', 'consonants', 'slugging', 'bristles', 'freedoms', 'Folklore', 'Jazz', 'student', 'Angelo', 'individually', 'slipped', 'antisubmarine', 'operation', 'Ruling', 'Lucien', 'broad', 'reserved', 'memorial', 'instantly', 'hydrolysis', 'isolate', 'colder', 'generously', 'impulses', 'chamber', 'Englishmen', 'Cadillac', 'lined', 'consider', 'Rhine', 'profits', 'adopting', 'anyhow', 'initiation', 'pennies', 'guessed', 'challenges', 'screening', 'Af', 'Sweat', \"Oersted's\", 'agonizing', 'designated', 'soaked', 'outer', 'Lyford', 'moved', 'annihilation', 'Plenty', 'begins', 'Dewey', '150', 'Domestic', 'knowing', 'irregularly', 'conspired', 'hustler', 'symbolizes', 'tapestry', 'argon', 'smirk', 'flung', 'patience', 'limousine', 'resulted', 'reformer', 'disciplines', \"Young's\", 'troopers', 'esoteric', 'gun', 'disinterest', 'addressing', 'three-inch-wide', 'Village', 'canvass', \"Jubal's\", 'acutely', 'lanes', 'Humphrey', \"1930's\", 'courteously', 'briefly', 'pier', 'manner', 'havoc', 'already', 'minced', 'extracts', 'deux', 'uniforms', 'mediums', 'platoon', 'working', \"South's\", 'Moody', 'Cr', \"Y'all\", 'Power', 'amber', 'proudly', 'considers', 'Quiney', 'serene', 'Pierce', 'Indiana', 'committee', 'hesitation', 'stew', 'jure', 'considerate', '6,000', 'thorn', 'rejecting', 'rush', 'mediocre', 'lace', 'Devil', 'clergymen', 'bleeding', '168', 'tumble', 'cynics', 'frequency', 'unusually', 'enlarging', 'annum', 'gaudy', 'curtains', 'sampling', 'epileptic', 'distribute', 'produce', 'Quincy', 'Sicily', 'Claude', 'Chaplin', 'invading', '2', 'insanity', 'unprecedented', 'Highlands', 'aloof', 'bathe', 'proteases', 'Champion', 'DeKalb', 'omissions', 'meter', 'voluntary', 'prisons', 'decisively', 'bachelor', 'Cohen', 'farm', 'intensely', 'Field', 'forbid', 'interpretations', 'Presumably', 'Parrillo', 'luxurious', 'Battenkill', '**yf', 'S.', 'Tonight', 'alternative', 'present', 'Swift', 'seminar', 'advocacy', 'garages', 'No', 'landlord', 'week-end', 'fake', 'social', 'existential', 'Dipylon', 'hired', 'sidewise', 'voted', 'pertains', 'developments', 'moderns', 'incredible', 'chef', 'collectors', 'fairly', 'drives', 'blue', 'Citizens', 'conduct', 'turmoil', 'omelet', 'southeastern', 'richest', \"writers'\", 'forget', 'icebox', 'conveys', 'practical', 'wide', 'repressed', 'insight', 'naked', 'availability', 'roadblock', 'Django', 'Masu', 'inspect', 'stepped', 'fried', 'defines', 'Isaac', 'assures', 'waited', 'weapons', 'rectangle', 'prostitute', 'floating', 'brass', 'liquidated', 'centers', 'Alpha', 'Argon', 'such', 'reread', 'wishing', 'driers', 'breed', 'Sources', 'fences', 'Broadway', 'TASS', 'expresses', 'demanded', 'detachment', 'undertake', 'channel', 'Orange', 'articles', 'telephoning', 'Continental', 'anemia', 'April', 'lieu', 'method', 'apprentices', 'absurd', 'railway', 'Bess', 'fountain', 'cu.', 'echoed', 'inner', 'counteract', 'finance', 'riders', 'victory', 'rounding', 'churning', 'villa', 'burdens', 'admirable', 'burn', 'Detective', 'polynomials', 'liking', 'investment', 'alcohol', 'delegation', 'Fruit', 'agglutination', 'apportioned', 'exaggerate', 'witch', 'interviews', 'critically', 'chemistry', 'Hino', 'slob', 'Eta', 'enlarged', 'sportsman', 'air', 'vacancy', 'Key', 'harping', 'purchased', 'scientifically', 'five-year', 'Express', 'volume', 'females', 'Maybe', 'nose', 'Massachusetts', 'fumbling', 'fishing', 'food', 'thanks', 'presumed', 'lately', 'assembling', \"D'Artaguette\", 'reflections', 'sherry', 'multiplicity', 'rehabilitation', 'age-old', 'reserve', 'policing', 'squall', 'pages', 'dancing', 'business', 'truncated', 'sessions', 'Beckett', 'slacks', 'piece', 'm.p.h.', 'begun', 'Triandos', 'Twelve', 'monic', 'against', 'chasing', 'withholding', 'Ask', \"officer's\", 'Secretariat', 'rival', 'resembled', \"person's\", 'Hemphill', 'Transportation', 'specify', 'stag', 'pushers', 'benefit', 'enabled', 'estimate', 'fulfill', 'exploits', 'incensed', 'Chicken', 'Motors', 'divination', 'childlike', 'necessitate', 'negotiation', 'Oct.', 'presentations', 'Jed', 'naturalistic', 'Princeton', 'Mar.', 'frames', 'dormitories', 'agencies', 'Crosby', 'Quite', 'Trenton', 'bold', 'bruises', 'responsible', \"he'd\", \"Mulligan's\", 'subordinate', 'disrupt', 'claim', 'depressing', 'unavoidably', 'McFeeley', 'identifiable', 'appearing', 'tip', 'crummy', 'Choir', 'tossed', 'sharply', 'petitions', 'Thou', 'sparring', 'Draft', 'therapy', 'demographic', 'Number', 'independently', 'Patriot', 'motive', 'Attendance', 'idiotic', 'Thompson', 'Run', 'venereal', 'elicited', 'thinkin', 'Colonel', 'conscientious', 'enlargement', 'Sterling', 'doctrinal', 'cans', 'appetites', 'chords', 'Ted', 'sorely', 'competent', 'yearly', \"Hammarskjold's\", 'chauffeur', 'voter', 'angle', 'lower', 'agenda', 'Calderone', 'vibration', 'Dwyer', 'wandering', 'frequently', 'army', 'news', 'misled', 'Ching', 'tasting', \"patient's\", 'pursuant', 'determined', 'assurance', '19', 'obeyed', 'reliance', 'aperture', 'Miller', 'scorn', 'log', 'Spencer', 'stacked', 'array', 'retained', 'brakes', 'Somers', 'shrink', 'solidity', 'Barnumville', 'Curt', 'reveal', 'use', 'According', 'Cars', 'sideways', 'sticks', 'itinerary', 'hoc', 'Carlson', 'nephew', 'chap.', 'retaining', 'gilt', 'agility', 'Palmer', 'zealous', 'make', 'tensile', 'conflict', 'acquiesce', 'thumping', 'varying', 'shine', 'obliged', 'integral', 'negotiating', 'covering', 'Rousseau', 'runs', 'fertilizer', 'Philippines', 'crazy', 'shooter', 'dating', 'Ethan', '1885', 'identification', \"She'd\", 'conductor', 'parades', 'grace', 'optional', 'punished', \"Army's\", 'shelves', 'softening', 'unfavorable', 'party', 'jumble', 'unfortunate', 'nectar', 'liberality', 'Miraculously', \"France's\", 'coming', 'charitable', 'lash', 'duties', 'PTA', 'Location', 'quantum', 'very', 'Federal', 'unforgettable', 'predicting', 'Showmanship', 'generality', 'contributed', 'proven', 'mesh', 'congressional', 'Starbird', 'dressed', 'See', 'balance', 'Border', 'Canterbury', 'average', 'development', 'film', 'centered', 'disposal', 'UN', 'freighter', \"they'd\", 'criss-crossed', 'terribly', '1000', 'rarely', \"boy's\", 'Queens', 'Yorker', 'causal', 'Joseph', 'resultant', 'Bombus', 'Oslo', 'Greeks', 'scrutiny', 'astonished', 'about', 'exercise', 'exhausted', 'uncanny', 'rigorous', 'graying', 'cabana', 'handling', 'ton', 'Rookie', 'fact', 'vocal', 'workable', 'Langer', 'violently', 'imprisoned', 'comfortably', 'flailing', 'Menshikov', 'callous', 'starts', 'experiences', 'Sulzberger', 'Asked', 'rebuff', 'gleaming', \"Curt's\", 'world-wide', 'X-ray', 'Fleischmanns', 'earrings', 'coat', 'Pulitzer', 'commence', 'Wellesley', 'Stadium', 'Thomas', 'shared', 'embark', 'decide', 'obsessed', 'establishment', 'agitation', 'germanium', 'please', 'finished', 'exceptionally', 'Zion', 'Cooke', 'administer', 'mischievous', 'Adoniram', 'hilum', 'BW', 'narrowly', 'invited', 'conspicuous', 'caves', 'furnished', 'Grandma', 'Ludwig', 'Schweitzer', \"Nations'\", 'Nogol', 'frayed', 'mines', 'McCormick', 'inches', 'chiefly', 'undergraduates', 'settle', 'sponsored', 'half-dozen', 'nails', 'python', 'regained', 'heat', 'Barbara', 'Provinces', \"Greg's\", 'urging', 'revealing', 'cigarette', 'outdoor', 'shoreline', 'Waco', 'barns', 'authorities', 'trio', 'fashion', 'nursing', 'perfect', 'Islamic', 'Copernicus', \"You're\", 'enroll', 'tricks', 'helium', 'belong', 'memorized', 'fertile', 'Arithmetic', 'decency', 'supplant', 'rows', 'Lay', 'onrush', 'dealings', 'barren', 'club', 'Mahzeer', 'stimulus', 'bunks', 'Georgia', \"artist's\", 'Edna', 'Nursing', 'brains', 'frenzy', 'he', 'forecast', 'glances', 'Morgan', 'lookup', \"U.N.'s\", 'orthography', 'multiple', 'unpopular', 'inscrutable', 'emerge', 'exploring', 'moderator', 'issues', 'hoss', 'settlers', '1840', 'dependence', \"Speaker's\", 'liberalism', 'John-and-Linda', 'straight', 'all-white', 'concentrated', 'chimneys', 'commander-in-chief', 'going', 'really', 'undesirable', 'trotted', 'multiply', 'sells', 'Figures', 'cupped', 'but', 'Arnolphe', 'accompany', 'concertos', 'fosters', 'factories', 'shipments', 'chief', '600', 'inescapable', 'Beyond', 'explained', 'contemporaries', 'hardly', 'goodness', 'mountainous', 'Yet', 'fingers', 'art', 'Farm', 'molecules', '24th', 'onto', 'safeguard', 'Giffen', 'wisely', 'renamed', 'clue', 'mess', 'lay', 'systematically', 'Thanksgiving', 'embankment', 'tenant', 'Scene', 'rubber', 'Fred', 'unhesitatingly', 'Moos', 'neglecting', 'ensemble', 'parasites', 'intrinsic', 'Lead', 'choices', 'Volume', 'shout', 'corrosive', 'luxury', 'doing', 'accentuated', 'fearing', 'Start', 'accessories', 'ruined', 'Rayburn', 'Fifties', 'Hutchins', 'assessments', 'McNamara', 'styled', 'SAC', 'praised', 'night', 'remembered', 'dream', 'Chairman', '1962', 'crouching', '22', 'bitch', 'revision', 'empires', 'understatement', 'tracing', 'grounded', 'individual', 'attends', 'governmental', '133', 'vengeance', 'big', 'hen', 'competence', 'Yokuts', 'enforcing', 'Dogtown', 'beebread', 'integrated', 'next', 'donated', 'examples', 'dairy', 'self-discipline', 'needy', 'courts', 'US', 'chlorine', 'cultured', 'Like', 'refugee', 'Hester', 'sustained', 'Finally', 'siege', 'deductions', 'Control', 'revival', 'retarded', 'squat', 'fragment', 'fits', 'ineffective', 'wage-price', 'kerygma', 'weapon', \"Pohl's\", 'yield', 'tale', 'Printing', 'undershirt', 'Fourth', 'straws', 'meant', 'posse', 'center', 'unreconstructed', 'Gunny', 'deck', 'mentality', 'Arnold', 'factory', '--', 'jumped', 'labored', 'abrupt', 'bind', 'likewise', 'Ozagen', 'Skyline', 'suspicion', 'ultimately', \"farmer's\", 'Porter', 'laughs', 'Irish', 'progressions', 'trustee', 'Council', 'shift', 'grooves', 'hazards', 'Industrial', 'equate', 'watching', 'submachine', 'Luke', 'Lot', 'loading', 'Afro-Asian', 'Reconstruction', 'Hanoverian', 'Ltd.', 'ritual', 'fielder', 'Ferguson', 'Newburyport', 'sagged', 'chilly', 'Evangelism', 'Fiat', 'What', 'Figure', 'Greenland', 'standing', 'diving', 'Betty', 'Everywhere', 'claimants', 'conforms', 'similarly', 'Passing', 'unified', '3rd', 'Wales', 'unfriendly', 'discrimination', 'Ultimately', 'Fuller', 'photographers', 'fortunate', 'nominally', 'hopelessness', 'version', 'meandering', 'saga', 'crosses', 'frigid', '1819', 'training', 'Gene', 'These', 'bear', 'fiery', 'Drs.', 'cohesion', '20%', 'happily', 'beings', 'wipe', 'animal', 'post', 'A', 'viable', 'motley', 'Campus', 'Hill', 'awakened', 'Wagon', 'rejection', 'ordinarily', 'blades', 'Commentary', 'thumb', 'umbrellas', 'auditorium', 'patting', 'violin', 'restricted', 'Fox', 'telling', 'circumspect', 'tabulated', 'bolt', 'traveler', 'Universe', 'meat', 'famine', 'saints', \"Kitty's\", 'part', 'camera', 'pax-ordo', 'authors', 'trapped', 'began', 'Chase', 'dropped', 'especially', 'phonology', 'Pirates', 'superintendent', 'Smith-Hughes', 'Muller', 'Moritz', 'acting', 'slim', 'structures', 'Ada', 'snows', 'completed', 'types', 'days', 'harness', 'Oregon', 'repeated', 'gnawing', 'porous', \"Council's\", 'peeled', 'deceased', 'extracted', 'amaze', 'Serge', 'Sutherland', 'listened', \"Who's\", 'picks', \"Thor's\", 'virulence', 'sins', 'cortical', 'magnificently', 'evoke', 'quickly', \"nation's\", 'preservation', 'exception', 'Former', 'inspired', 'mister', 'wit', 'Groth', 'categories', 'Alaska', 'skimmed', '1955', 'orange', 'Dollar', 'pegboard', 'oppressed', 'fledgling', 'Metro', 'majority', 'celebrity', 'limiting', 'Sprinkel', 'hanged', 'certain', 'behavioral', '1938', 'clubs', 'Men', 'gracious', 'McCarthy', 'conviction', 'crap', 'Competition', 'achieving', 'body', 'operated', 'regulus', \"Brumidi's\", '4th', 'hereafter', 'pausing', 'Mays', 'Hey', 'king', 'commend', 'reinforced', 'derision', 'requiring', 'Controller', 'finality', 'emphysema', 'dissuade', 'Hard', 'mutually', 'Kingston', 'slice', 'alone', 'personality', '51', 'Screvane', 'styles', 'although', 'devote', 'drawings', 'needle', 'around', 'dross', 'Guess', 'Partisan', '14', 'tunnel', 'petitioner', 'Living', 'compulsives', 'renew', 'ranging', '**yb', 'birthplace', 'bouts', 'bail', 'sale', 'marinas', 'Keys', 'servo', 'hoodlums', '58', 'exploratory', 'hardship', 'assign', 'Milk', 'spaced', 'teen-agers', 'proffered', 'template', 'NYU', 'f-plane', 'reaching', \"She'll\", 'Cubans', '-78-degrees', 'monei', 'subdued', 'sportswriter', 'Perlman', 'skiff', 'thousandth', 'co-operative', 'receding', 'filibuster', 'bald', 'electricity', 'superseded', 'decayed', 'rushing', 'sampled', 'converted', 'demise', 'flare', 'nonspecific', 'adolescent', 'belligerent', 'undone', 'Top', 'held', 'recall', 'portable', 'fortunately', 'howls', 'sparse', 'couples', 'establishments', 'Twins', 'lecturer', 'someplace', 'freeway', 'wart', 'sunshine', 'Lew', 'practically', 'opposite', 'San', 'marketplace', 'betting', 'treatments', 'genius', 'compartment', 'tremendously', 'lower-middle', 'Braves', 'referrals', 'inn', 'nighttime', 'colonial', 'pools', 'amplified', 'seller', 'Holden', 'sailboats', 'web', 'adventurous', 'livery', 'shorter', 'potters', 'despotism', 'Congress', 'Beame', 'tournament', 'challenged', 'formulating', 'mountains', 'perceive', 'poured', 'anacondas', 'pretty', 'much', '95', 'eastward', 'Pile', 'hissing', 'Kirby', 'indeed', 'cafeteria', 'Parkhouse', 'Suite', 'spy', 'glamorous', 'strategy', 'refine', 'innate', 'However', 'Executive', 'lighting', 'supplemented', 'frozen', 'averages', 'Godot', 'languid', 'pondered', 'dentists', 'reserving', 'bogus', 'winners', 'fat', 'orchestra', 'billions', 'ill-starred', 'diversion', 'glistened', 'appreciate', 'escape', 'bunt', 'inlet', 'handclasp', 'elevator', 'gray-haired', 'thumbs', 'carne', 'Iraq', 'intact', 'meddling', 'Hal', 'empirically', 'nervous', 'surrendered', 'medico-military', 'remember', '45-degree', 'governments', 'gag', 'terrible', 'Hoover', 'detailed', 'Cooperation', 'guarding', 'cysts', '71', 'introduced', 'weak', 'ransom', 'necessity', 'knight', '6', 'intersection', 'Vermejo', 'southeast', 'equitable', 'Allstates', 'War', 'unrestricted', 'corpses', 'stillness', 'Johnny', 'lotion', 'self-destruction', 'lucid', 'discuss', \"Dartmouth's\", 'if', 'sunk', 'infants', 'contrast', 'registers', 'volunteers', 'Serve', 'Theological', 'evils', 'Cohn', 'breasts', 'academically', 'constants', 'banter', 'entranced', 'well-made', 'Crus', 'Hodges', 'shrine', 'snakes', 'agglomeration', 'snubbed', 'shops', 'lever', 'tedious', 'applies', 'anticipated', 'Buckley', 'Byron', 'ego', 'Alfredo', 'representation', 'laying', 'appointed', 'U', 'achievement', 'spaciousness', 'decisive', 'picnic', 'pantheon', 'redecorating', 'camps', 'Excelsior', 'scrutinized', 'Promptly', 'violate', 'ministry', 'conditioners', 'sq.', 'items', 'stupid', 'gyro-stabilized', 'reversible', 'exclusiveness', 'manuscript', 'satisfactorily', 'dots', 'Hood', 'appealing', 'Hansen', 'cliche', 'venerable', 'Kerr', 'telegraphers', 'reinforce', 'modifying', 'Walter', 'fatigue', 'nodding', \"grandmother's\", 'rusty', 'broadcasts', 'constitution', 'subcommittee', 'racing', 'At', 'Fabian', 'pertinent', 'chewing', 'physician', 'sheet', 'firmness', 'comparisons', 'interrelated', 'apologetic', 'duplication', 'unlikely', 'Richert', 'erroneous', 'tethered', 'Plus', 'barely', 'indebted', 'scaffolding', 'Nuclear', 'discrepancy', 'masses', 'gallery', 'white-clad', 'will', \"han'\", 'lime', 'china', 'shred', 'honoring', 'practiced', 'dined', 'choir', 'societies', 'USP', 'interlocking', 'margin', 'assuring', 'preclude', 'furs', 'bloody', 'Nikita', 'put', 'Hugo', 'tales', 'breakup', 'bias', 'veiled', 'temples', 'Russ', 'Bern', 'slightest', 'buzzing', 'birthday', 'bulletins', 'Yes', 'trusted', 'adopted', 'Studies', 'fondly', 'erection', 'shoulder', 'shorts', 'Know', 'torn', 'Spectra', 'disarmed', 'disorganized', 'draft', 'Ceylon', 'garlic', 'hoodlum', 'Generally', 'micrometeorites', 'caste', 'satisfies', 'arable', 'differently', 'shining', 'boosted', 'Be', 'showman', 'amused', 'affirmation', 'ginning', 'Stein', 'Huff', 'Thames', 'crew', 'Karns', 'Eight', 'seconds', 'invalid', 'Martha', 'yoke', 'p', 'Seigner', 'thoroughly', 'drunk', '1903', \"Penny's\", 'torrent', 'confinement', 'Caution', 'Meeker', 'medicines', 'Fourteen', 'qualification', 'capable', 'ossification', 'share', 'pledges', 'arrives', 'protested', 'skills', 'swear', 'di-iodotyrosine', \"It's\", 'propose', 'NATO', 'engines', 'etcetera', 'fault', 'Malcolm', 'inactive', 'starch', 'Katanga', 'pounding', 'removed', 'commander', 'Erikson', 'Poland', 'Carla', 'colts', 'salt', 'gratitude', 'uneasily', 'Bertha', 'hazy', 'proposals', 'Augustine', 'inexpensive', 'dictionary', 'Bulletin', 'unite', 'mystical', 'v.', 'Apart', 'squatted', 'overlapping', 'invite', 'eighteenth', 'toss', 'apologized', 'interruption', 'gait', 'builder', 'traveller', 'accomplishments', 'Kowalski', 'endlessly', 'tightening', 'veterans', 'Axis', 'Mile', \"1960's\", 'integrity', 'slums', 'attuned', 'doctrine', 'elder', 'strange', 'written', 'pull', 'autonomy', 'undertaken', 'drums', 'Vatican', '1801', 'Patrol', 'enclosed', 'pill', 'Plains', 'lost', 'commensurate', 'phones', 'degree', 'adapt', 'leaked', 'lashed', 'recourse', 'insuring', 'sculptured', 'lurid', 'Brevard', 'constant', 'Koussevitzky', 'Laboratories', 'composing', 'incoming', 'opera', 'Blackman', 'Under', 'slide', 'ludicrous', 'indefinitely', 'ointment', 'entities', 'Symphony', 'henceforth', 'Presiding', 'hut', 'Monument', 'Thelma', 'mills', \"Dana's\", 'ordering', 'Stowey', 'tomorrow', 'incomparably', 'weighted', 'bristling', 'vagina', 'leaders', 'V', 'rim', \"Earth's\", 'fetching', 'experienced', 'Academy', 'Jesse', 'Restaurant', 'woman', 'antipathy', 'beginning', 'yourself', 'overwhelmed', 'cater', 'emitted', 'antagonist', 'whose', 'symphonies', 'hardened', 'Lumber', 'fool', 'mobilization', 'Make', 'borrow', \"Ain't\", ';', 'Geneva', 'Half', 'translucent', 'Flushing', 'Breasted', 'tired', 'Louise', 'cleaning', 'Seen', 'Projects', 'resistors', 'indictment', 'purse', 'Hearst', 'congealed', 'heavenly', 'lapsed', 'fatty', 'unloaded', 'principles', 'rightly', '6-hr.', 'collector', 'sealed', 'venture', 'Leigh', 'unification', 'difficulty', 'fervor', 'hamburger', 'integration', \"Sunday's\", 'administrator', 'encompassed', 'brushes', 'fathom', 'its', 'Creek-Turn', 'score', 'Confederacy', 'lucky', \"Christ's\", 'Walk', 'strokes', 'Hands', 'Goethe', 'glories', 'loot', 'fluttering', 'pioneering', 'catkins', 'amongst', 'Beer', 'luminous', 'sponsoring', '1932', 'fateful', 'meteorites', 'ironically', 'wrinkled', 'comfortable', \"yesterday's\", 'Ivan', 'visa', 'bigger', \"Kennan's\", 'Stevenson', 'erect', 'laid', 'Uh-huh', 'continuing', 'alabaster', 'subspecies', 'tribunals', 'Songau', 'us', 'suppressed', \"Braque's\", 'Autocracies', 'hurled', 'brisk', 'Mimesis', 'particular', 'impair', 'Letters', 'liberty', 'northward', 'Strasbourg', 'hall', 'funds', 'slammed', 'Same', 'malnutrition', 'infestations', 'Petitioner', 'correspondence', 'limit', 'accepted', 'Story', 'designation', 'poise', 'headaches', 'globe', 'game', 'complicated', 'product', 'Night', 'flu', 'disintegration', 'therefrom', 'matches', 'appliance', 'Alan', 'Hugh', 'detonated', 'Herford', 'nor', 'shaky', 'store', 'mechanically', 'touching', 'Neither', 'bacterial', 'sabotage', 'drain', 'Six', 'replaced', \"player's\", 'Future', 'unemployment', 'pitch', 'philosopher', 'Ariadne', 'biting', 'anterior', 'Less', 'bidding', 'essential', 'alerted', 'Depew', 'turbulence', 'complexes', 'coin', 'improved', 'gone', 'kilometer', 'Worcestershire', 'shaken', 'irrigation', 'sold', 'Gone', 'Capone', 'out-of-doors', 'losses', 'parishioners', 'panorama', 'bending', 'morphophonemic', 'haste', 'orientation', 'route', \"Selkirk's\", 'inwardly', 'Mc/sec', 'Szolds', 'makes', 'beckons', 'drunkard', 'poet', 'native', 'COAHR', 'testament', 'graduate', 'institutions', 'stooping', 'trooper', 'eclectic', 'Des', 'commission', \"there'd\", 'usages', 'malformed', 'tickets', 'stool', 'shells', 'Kennan', 'smoothness', 'paneling', 'veritable', 'runaway', 'goddamn', 'Reserve', 'block', 'privileges', \"Angeles'\", 'wines', 'students', 'shave', 'Ernst', 'shouldered', 'workers', 'televised', 'Here', 'yourselves', 'during', 'Reports', 'say', 'sonofabitch', 'gamut', 'dispensation', 'foremost', 'overwhelming', 'willed', 'posts', 'clings', 'resonant', 'roast', 'Cecilia', 'mustached', 'banker', 'laughed', 'again', 'prototype', 'undergone', 'unison', 'humility', 'seeking', \"Wally's\", 'forbidden', 'altogether', 'contests', 'recruiting', 'matters', 'temperature', 'Bar', 'flashy', 'smash', 'enforced', 'trusting', \"Stalin's\", 'urbanized', 'countenance', \"Berger's\", 'gentility', 'imposes', 'neglected', 'launches', 'objected', 'difference', 'angel', 'Not', 'scraped', 'introducing', 'consequence', 'portion', 'moons', 'valuation', 'plowing', 'longed', '7', 'Communism', 'f', 'Feeling', 'giving', 'hevin', 'toothbrush', 'personalities', 'styrene', 'clothes', 'recorded', '1887', '1924', 'justifications', \"Wouldn't\", 'minimized', 'atrophic', 'experimental', 'extraction', 'stiff', 'bids', 'Chandler', 'depend', 'landmarks', 'monotone', 'chests', 'teen-age', 'self-reliant', 'Sherman', 'Commission', 'accomplish', 'safest', \"leader's\", 'mm', 'bronchi', 'mixing', 'Drury', \"Montero's\", 'Why', 'motivates', 'predecessor', 'mold', 'meanings', 'condensed', 'honest', 'authenticity', 'motif', 'result', 'Maude', 'relaxation', 'entering', 'approximate', \"Krim's\", 'bathed', 'tolerant', 'stopped', 'stressed', 'flowered', 'meanness', 'Atty.', 'unusual', 'lounge', 'Associate', 'guild', 'living', 'Tennessee', 'audit', 'vs.', 'sink', 'escapes', 'shuld', 'management', 'scholarship', 'societal', 'leveled', 'West', 'low-down', 'attack', 'liked', 'Fifty', 'Carmer', 'phoned', 'wondering', 'artistry', 'wording', 'Austrian', 'aborigine', 'headline', 'long-range', 'heroine', 'stealth', 'devoted', 'pump', 'courageously', 'prayers', 'advantages', 'frankfurters', 'uneconomical', \"Keys's\", 'withstand', 'wink', \"Coward's\", 'dominate', 'hammered', 'loosen', 'irregularities', 'seated', 'manuals', 'they', 'miles', 'sequences', 'admit', 'microseconds', 'stadium', 'hemorrhage', 'attentive', 'Schwartz', 'Square', 'proctor', 'species', 'Playhouse', 'persecution', '14th', 'justification', 'out-of-state', 'Snopes', 'totals', 'McNair', 'haze', 'Leopoldville', 'forty-nine', 'subsidized', 'unnoticed', 'duty', 'proverb', 'proportionate', 'Geely', 'Junction', 'crept', 'jail', 'differentiated', 'category', \"Saturday's\", 'fastened', 'badness', 'lake', 'intima', 'albumin', 'east-west', 'chieftain', 'lighted', 'moderate', 'bowed', 'sit', 'gm.', 'watercolors', 'matrimony', 'fills', 'directional', 'Heidenstam', 'passages', 'slash', 'Roberta', 'retrieved', 'Steichen', 'brightness', 'manage', 'Gilman', 'exists', 'diaphragm', 'anode', 'cylinder', 'noticing', 'terrestrial', \"1/2''\", 'sigh', 'staged', 'broaden', 'anguish', 'DA', 'rub', 'shutters', 'modulation', 'socialist', 'brows', 'wrongs', 'clocks', 'fleet', 'mustache', 'covers', 'masterpiece', 'ancestors', 'casual', 'novels', 'granular', 'feathers', 'cup', 'only', 'watercolor', 'enhance', 'Forests', '44', 'Simpkins', 'squared', 'formulas', 'impelled', 'Granny', 'newcomers', 'chops', 'discharging', \"world's\", \"Heidenstam's\", 'isolation', 'arose', 'discriminating', 'sheik', 'pulmonary', 'simulate', 'enjoyed', 'lived', 'deserts', 'calculation', 'stuck', 'Hull', 'Yanks', \"workers'\", 'fireworks', 'palatability', 'Houston', 'outlawed', 'unheard', 'evidently', 'climax', 'resume', 'acetone', 'coaching', 'federation', \"wife's\", 'beveled', 'Carolina', 'Ptolemaic', 'taller', 'successful', 'tenderness', 'loop', 'rugs', 'muttering', 'wagons', 'consolidation', 'timetable', 'rattling', 'pulpit', 'pause', 'lightened', 'potentially', 'floated', 'lobes', 'too', 'Salt', 'Kelsey', 'Seventh', 'Copernican', 'pad', 'Loomis', 'Younger', \"Don't\", 'tantalizing', 'reined', 'She', 'customary', 'reproduced', 'bouquet', 'splashed', 'labeled', '33', 'Rural', 'Glass', 'propagation', \"Joe's\", 'shoes', 'Juniors', 'realistic', 'collected', 'Left', \"years'\", 'nurse', 'Comes', 'intolerable', 'sonatas', 'Channing', 'leader', 'Fort', 'fists', 'cropped', 'swiftly', 'dreams', 'airports', 'endurance', 'despairing', 'program', 'Tell', 'specificity', 'major-league', 'mirror', 'feats', 'vaudeville', 'better', 'mechanics', 'writhing', \"guy's\", 'intake', 'adept', 'experimentally', 'powdered', 'discontinuity', 'mobile', 'located', 'mentally', 'informing', 'Barber', 'overly', 'reveals', 'subjectively', 'Nehru', 'times', 'Systems', 'epiphysis', 'suggests', 'lack', 'write', 'dot', 'possessing', 'rifles', 'apparition', 'live', 'found', '1940', 'pits', 'Kate', 'all-out', 'monarch', 'castles', 'wry', 'a', 'Princess', 'stitch', 'prosperous', 'impossible', 'awoke', 'Philadelphia', 'trust', \"Wilson's\", 'Mississippi', 'wedge', 'Rider', 'gallop', 'spontaneous', 'innovation', 'conversations', 'hairy', 'weekend', 'mocked', 'want', 'Parliament', 'circuits', 'recommended', 'pit', \"car's\", '2-year-old', 'fresh', 'assuming', 'procedural', 'glance', '368(a)(1)', 'transparent', 'impinging', 'Best', 'coil', 'canto', 'subtly', 'Detroit', 'exchanges', 'mindless', 'spectra', 'Griggs', 'bandstand', 'unhurried', 'Did', 'commencement', 'wants', 'Ferraros', 'vehemence', 'protects', 'preliminary', 'N.Y.', 'offers', 'beneficiaries', 'almost', 'First', 'Underneath', 'Trustees', 'secrecy', 'trips', 'obsolete', \"who'd\", 'ankles', 'escorted', \"today's\", 'Air', 'bookshelves', 'stretching', 'definition', 'heated', 'Crittenden', 'sterile', 'odors', 'Schiele', 'reclining', 'abdomen', 'baseball', 'meet', 'abortion', 'Nicolas', 'intrusion', 'inhabitants', 'flattened', 'date', 'endowed', 'aggravated', 'Lots', 'subsided', 'Township', 'lands', 'demon', \"Wells's\", 'universities', 'Beebe', 'lectures', 'clods', 'utility', 'university', 'fifteen-minute', 'pails', 'Hyde', 'Jorge', 'prefers', 'Liberty', 'Linden', 'reddish', 'boiled', 'favors', 'Shylock', 'Ham', 'glittering', 'emergence', 'When', 'Plant', 'Street', 'occurrences', '160', 'world', 'terms', 'cutters', 'Dwight', 'trees', 'Lane', 'tribes', 'egg', 'Calcium', 'facilities', 'Manuel', 'nightclubs', 'waking', 'entirely', 'recession', 'conditioner', 'exhibit', 'oyster', 'reaction', 'noisy', 'tries', 'occur', 'tiles', 'eliminate', 'rides', 'ignore', 'hey', 'unimpressed', 'Cunningham', 'functions', 'museum', 'coordinator', 'torquer', 'Marvin', '2,000', 'agriculture', 'modern', 'conducting', 'anti-Semites', 'younger', 'Battery', 'motto', 'Fiske', \"Salyer's\", 'featuring', 'tying', 'Gabrielle', 'Gregorio', 'dismounted', 'schema', 'Latin', 'bid', 'tracks', 'peasant', 'wage', 'radiator', 'professional', 'proceeded', '$30,000', 'bouncing', 'implicit', 'adorable', 'two-year', 'Fresh', 'honesty', 'Puritan', 'voice', 'awhile', 'metropolitan', 'Within', 'intensifier', 'Phouma', 'chaplain', 'divide', 'Separate', 'communities', 'fencing', 'voluminous', 'accommodations', 'insults', 'positivists', \"we'll\", 'corps', 'Ironically', 'nightfall', 'newly', 'offer', 'paths', 'Munich', 'Cambridge', 'contributors', 'affair', 'cooled', 'verb', 'intriguing', 'wrong', 'twist', 'Property', 'sanctuary', 'midsummer', 'pocket', 'cordial', 'confrontation', 'cleansing', \"Ma'am\", 'scoured', \"industry's\", '**yt', 'comedy', 'quotation', 'aloft', 'bull', 'Fountain', 'unions', 'latitude', 'extant', \"pianist's\", 'bushes', 'journey', 'averted', 'heavens', 'junction', 'Says', 'stalwart', 'summary', 'strong', 'impending', 'necrosis', 'instant', 'Life', 'jerking', 'Masonic', 'gaped', 'Sancho', 'subtype', 'Critical', \"children's\", 'her', 'contracts', 'sanctions', 'cookies', 'blind', 'report', 'regression', 'ventilation', 'troop', 'thrown', '73', 'penny', 'destiny', 'ESP', \"o'clock\", 'swam', 'minister', '1851', 'Comedie', 'poles', 'murderer', 'Billy', 'relied', 'adopt', 'Denmark', 'faintest', 'Quint', 'greeted', 'fraternity', 'spoiled', 'Gabriel', 'scales', 'generosity', 'endeared', 'Clifford', 'squeezing', 'Bond', 'hair', 'Hark', 'monetary', 'sax', 'boulders', 'subsequently', 'outfit', 'quieted', 'declaration', 'bobbing', 'behold', 'dietary', 'stake-out', 'buddy', 'Structural', 'ledge', 'clever', 'set', 'tag', 'frankfurter', 'cleaners', 'Peru', 'priority', 'distress', 'se', 'liberally', '$200', 'lights', 'offend', 'mobs', 'Civic', 'telephones', 'culturally', 'birefringence', 'volley', 'Peralta', 'infant', 'sands', 'beliefs', 'concludes', 'n', 'thirty-six', 'costs', 'Of', 'frontal', 'edging', 'constructive', 'personnel', 'grains', 'sinless', 'policy', 'dilatation', 'viscoelasticity', 'hysteria', 'pro-Western', 'Esquire', 'former', 'artery', 'slack', 'procurer', 'dismissal', 'reverent', 'lazy', 'island', 'Moss', 'diminishes', 'notified', 'relates', 'schooling', 'cock', 'eventually', 'carving', '0.3', 'Subdivision', 'eyelids', 'amusing', 'issuance', 'intellect', 'temporary', 'thereby', 'situated', 'lenient', \"water's\", 'exterior', 'Veterans', 'Before', 'irradiation', 'demands', 'Herman', 'indecision', 'Most', 'strengthened', 'doubts', '375-degrees-C', 'according', 'throbbing', 'chess', 'outreach', 'Push-Pull', \"Morgan's\", 'airmail', 'Islands', 'virus', 'Study', 'photograph', 'rabbits', 'nineteenth-century', 'buy', 'setbacks', 'Mantle', 'threaten', 'wrapped', 'closely', 'endangering', \"female's\", '!', 'ordinances', 'symphony', 'Western', 'classify', 'observes', 'exchange', 'owes', 'movable', 'eccentric', '5%', 'Eugene', 'bargain', 'tucked', 'deed', 'modernization', 'Will', 'respective', 'burned', 'employment', 'Who', 'mashed', 'rings', 'violent', 'guys', 'Roll', 'seventeen', 'tends', 'chariot', 'Worthy', 'reduced', \"dentist's\", 'one-story', 'person', 'evaluation', 'Sonata', 'utterly', 'accord', 'Printed', 'mercilessly', 'sympathetic', 'research-staff', 'political', 'Carey', 'parameter', 'disagreement', \"city's\", 'chattering', 'myocardial', 'magically', 'forecasting', 'wherever', 'Barton', 'merchants', 'Reaction', 'inspector', 'psychical', 'Compson', 'inject', '200,000', 'failed', 'Welsh', 'Willis', 'exposed', 'revise', 'boil', 'vessel', 'champagne', 'fathers', 'utter', 'Atlanta', 'Valley', 'restricting', 'Hospital', 'It', 'Luther', 'citizenship', 'biscuits', 'minutes', 'Anxiety', 'parenthood', \"Nick's\", 'Juanita', 'vote', 'rubbing', 'out', 'requesting', 'gap', 'Udall', 'Duncan', 'pastor', 'objects', 'Ulyate', 'Severe', 'remains', 'aircraft', 'practicing', 'anthology', 'Elliott', 'swarthy', 'Assistant', 'melt', 'fermentation', 'choosing', 'ancestry', 'older', 'self-consciously', 'cold', 'dirty', 'fertilized', 'collagen', \"driver's\", '23', 'side', 'made', 'hurry', 'questionable', 'swearing', 'single', 'hill', 'coefficients', 'propulsion', 'delightful', 'trot', 'offensive', 'dammit', 'Saturday', 'executed', 'repaired', 'outset', 'explosive', 'Y', 'promising', 'uncritical', 'registration', 'incarnation', 'denials', 'Frankfurt', 'sitter', 'bombing', 'restore', 'gossip', 'rebelling', 'social-economic', 'activity', 'Lumumba', 'place-name', 'transactions', 'classification', 'sweating', 'hunt', 'Follow', 'framing', 'Vecchio', 'spirited', 'continuity', 'analyzed', 'roasted', \"moment's\", 'coding', 'dainty', 'Olivetti', 'rail', 'Do', 'originally', 'herbs', 'insistence', 'Arch', 'gasp', 'kernels', 'Felice', 'residue', 'Rain', 'ration', 'broadcasting', 'sausages', 'rally', 'flowed', 'leisure', 'truthfully', 'declining', 'itch', 'Returning', 'travelers', 'Hamlet', 'assemblies', 'straining', 'Poetry', 'sailed', 'transport', 'worried', 'Whitey', 'conceived', 'acquainted', 'being', \"Officers'\", 'corn', 'Mike', \"Palfrey's\", 'interlobular', 'estimated', 'pawnshop', 'announced', 'Birth', 'Seventeen', 'boiling', 'marginal', 'Every', 'marble', 'helped', 'describe', 'suit', 'BAM', 'encourage', '8th', 'peeling', 'reorganized', 'conformity', 'Giles', 'earlier', 'vocational', 'Parks', 'alkali', 'tear', 'marrow', 'expenditure', 'lady', 'diseases', 'clarifying', 'assumed', 'kicks', 'Japs', 'ruin', 'hesitated', 'Harvester', 'experimentation', 'drugs', 'Pedro', '$20', 'sent', 'audition', 'overhaul', 'bodily', 'topography', 'enabling', 'swell', 'vanish', 'horsepower', 'R-stage', 'welfare', 'Nixon', 'musical', 'Oakwood', 'competing', 'cameras', 'statesman', 'rooming', 'confirmation', 'Brush', 'Andrus', 'Fudo', 'Bienville', 'gestures', 'Approved', 'comprehend', 'sorry', 'changing', 'bricks', 'bottled', 'Dist.', 'national', 'day', 'Parts', 'inferences', 'forbids', 'gauge', '1812', 'leaning', 'psychiatry', \"man's\", 'remedies', 'record', 'Lounge', 'Approximately', 'relatives', 'Institute', 'taxi', '125', 'nonetheless', 'Across', 'frame', 'exhibitions', 'aerosolized', 'capillary', 'maker', 'dissolved', 'Coward', \"Wasn't\", 'trace', 'asking', 'obnoxious', 'matched', 'city', 'poorer', 'marked', 'sights', 'barley', 'sociological', 'confidentially', 'low-cost', '1888', 'innumerable', 'Kyoto', 'generation', 'surreptitiously', 'twisted', 'pan', 'specially', 'computation', 'campus', 'Grigorss', 'lumber', 'shielded', 'bristled', 'first-hand', 'Construction', 'okay', 'zigzagging', 'furious', 'pearl', 'issue', 'nightly', 'admirably', 'Pulling', 'encourages', 'Fascism', 'strewn', '350', 'Vaughan', 'comrade', 'Janice', 'slugger', 'A.M.A.', 'regulated', 'subjected', 'turbulent', 'flesh', 'brutal', 'grandmother', 'enlist', 'obesity', 'shifted', 'poorest', 'ionosphere', 'hastily', 'distance', 'hunch', 'lather', 'Pohl', 'pounds', 'afloat', 'divine', 'anionic', 'interrelation', 'jaws', 'robots', 'Ionic', 'debacle', 'messenger', 'ensure', 'nucleus', 'Dover', 'stained', 'artfully', 'outputs', 'and/or', 'tie', 'self-destructive', 'Gross', 'notices', 'balloons', 'processing', 'soothing', 'phony', 'saluted', 'Al', 'Buddhism', 'molds', 'instructions', 'astonishment', 'exerted', 'Chavez', 'larvae', 'swarming', 'twenty-five', 'banana', 'adjunct', 'Wilmette', 'identity', 'recruited', 'merging', 'Lipton', 'Inside', 'homes', 'Vale', 'Denton', 'Musial', 'abruptly', 'included', 'misfortune', 'loveliness', 'retracted', 'backbone', \"Star's\", 'contradict', 'blinking', 'coward', 'instruction', 'perjury', 'uncles', 'mass', 'collectively', 'powerful', 'lot', 'neuroses', 'shuddering', 'stages', 'hypothalamic-cortical', 'timbers', 'Heavenly', 'communal', 'stared', 'Izaak', 'brightly', 'Republicans', \"I'll\", 'kidnaped', 'wishful', 'Corporation', 'showmanship', 'trousers', 'power', 'exceedingly', 'services', '16th', 'Mass', '25%', '1959-1960', 'Someone', 'routine', 'criticism', 'Factory', 'Adenauer', 'D', '1909', 'slept', 'clear-cut', 'Shall', 'slid', 'thaw', 'printing', 'foreigners', 'cooking', 'exasperation', 'peripheral', 'Old', 'mailboxes', 'Hebrew', 'Discussion', 'tomato', 'influence', 'saliva', 'intimacy', 'Roger', 'wealthy', 'geography', 'initiative', 'assassin', 'Fresnel', 'Ruanda-Urundi', 'tultul', '1937', 'Puerto', 'Ages', 'high-speed', 'gall', 'facet-planes', 'dual', 'plainly', 'multiplying', 'Scotch', 'notches', 'cracks', 'scared', 'protection', 'conceptual', 'cosmic', 'Rules', 'proportions', 'Fuchs', 'Apparently', 'AFL-CIO', 'unchanged', 'downs', 'Hamrick', 'Falls', 'lists', 'worse', 'Leo', 'hysterical', 'literature', 'filling', 'people', \"Today's\", 'revisions', 'Long', 'C.', 'cowboy', 'convenience', 'consequences', 'decks', 'mistaken', 'plastic', 'scrubbing', 'handle', 'towel', 'fixed', 'radically', 'riflemen', 'Hubert', 'solidly', 'loosely', 'mouth', 'Vienna', 'Giorgio', 'half-closed', 'forces', 'worldly', 'Ministry', 'Madden', 'peddler', 'devices', 'creation', 'virility', 'folksy', 'rung', 'ah', 'hanging', 'plays', 'sustain', 'diagonalizable', 'Among', 'flat-bottomed', 'over-all', 'arresting', '**yc', 'Because', 'dancer', 'adjudication', 'remotely', 'sensitivity', 'taxable', 'aspiration', 'rodents', 'rented', 'Beatrice', 'sinners', 'hose', 'Roman', 'sermon', 'peacefully', 'silences', 'moving', 'roaming', 'systems', 'rigid', 'Undoubtedly', 'Sheraton-Biltmore', 'nitrate', 'Picasso', 'arrival', 'Volumes', 'reproduction', 'exhibits', 'Islanders', 'conventions', 'tonight', 'upwards', 'merciless', 'enough', 'decreasing', 'discrepancies', 'endearing', 'remembers', 'speaking', 'snack', 'janitors', 'housing', 'sustenance', 'pressure', 'livelihood', 'ulcer', 'Pamela', 'anti-party', 'fate', 'medieval', 'Toynbee', \"Peter's\", 'nodded', 'dinnertime', 'factors', 'audacity', 'Wyoming', 'loads', 'Dixon', 'premix', 'doubles', 'exclusively', 'chambre', 'allegedly', 'pleasures', 'Brazilian', 'Family', '156', 'stance', 'doubted', 'apprentice', 'Running', 'shrinking', 'camouflage', 'hinted', 'Declaration', 'smelt', 'skilled', 'Drill', 'Plan', 'constituting', 'shrewd', 'Lolotte', 'Closely', 'microorganisms', 'fission', 'inventor', 'illuminated', 'Station', \"can't\", 'relations', 'Sec.', 'patterns', 'bump', 'Somewhere', 'Hiram', 'Sinner', 'McCullough', 'historian', 'restorability', 'main', 'revolving', 'David', 'impressive', 'Skipjack', 'Horace', 'descriptive', 'discover', 'Buick', 'Hilprecht', 'Jubal', 'detectable', 'Lena', 'isotropic', 'nominal', 'cabbage', 'concave', 'makings', 'Inn', 'Giving', 'straightened', 'oxygens', 'serenity', 'Cancer', 'idealized', 'tackle', 'Reama', 'Royce', 'pimp', \"SAAMI's\", 'glory', 'mathematical', 'distressing', 'dragged', 'Variations', 'Abraham', 'Sergeant', 'A-Z', 'communicator', 'links', 'Molesworth', 'inspire', 'apparatus', 'retrospect', 'et', 'paw', 'correspondent', 'contributes', 'Leave', 'agreements', 'smart', 'foregoing', 'least', 'vindication', 'wanting', 'cruel', \"country's\", 'musician', 'proceed', 'identified', 'candid', 'aft', 'executives', 'Tables', 'incisive', 'i', 'jargon', 'workout', 'choked', 'investigate', 'incur', 'curtain', 'singly', 'restrictive', 'subsidiary', 'interfacial', 'notwithstanding', 'Newport', 'Birkhead', 'futile', 'quotations', 'recognizes', 'Folly', 'drafts', 'functionally', 'surveyed', 'brace', 'geographic', 'recurred', 'invested', 'enjoyment', 'exemplified', '39', 'Grands', 'visitor', 'entitles', 'atmosphere', 'vocation', 'anatomy', 'Greater', 'absolute', 'salvage', 'bronc', 'signing', 'Rooney', 'fare', 'afford', 'France', 'Cerv', 'populace', 'Jossy', 'policy-makers', 'Philippine', 'three', 'collections', 'service', 'Wendell', 'tourists', 'lovely', 'infection', 'Nero', 'Keith', 'wear', 'syllables', 'produces', 'mounted', 'Jew', 'treason', \"Wisman's\", 'promenade', 'developed', 'Hoyt', 'fragmentary', 'would-be', 'Mobile', 'lunar', 'Courts', 'newcomer', 'sober', 'Cavalry', 'vividly', 'repudiation', 'beds', 'Such', 'Ben', 'accompaniment', 'andrenas', 'Belgian', 'Henderson', 'Below', '348', 'dissociation', 'Thank', 'glazed', 'asserted', 'lunch', 'predicament', 'actives', 'whereabouts', 'Horse', 'raids', 'appeal', 'wells', 'theatrical', 'refusal', 'Stearns', 'inscribed', 'neat', 'overnight', 'depletion', 'gradients', 'counterattack', 'corporation', 'merchant', 'unbreakable', 'reins', 'reflectors', 'outrun', 'Dunne', 'housed', 'Ruth', 'constructed', 'idioms', 'queries', 'slaughtered', 'told', 'environs', 'Electronic', 'listen', 'Avenue', 'introject', 'grabbed', 'Smythe', 'maneuvers', 'see', 'dashing', 'marching', 'affiliations', 'hemoglobin', 'Monmouth', 'debts', 'Lieutenant', 'Band', 'loved', 'splendid', 'psychiatrists', 'Scientists', 'Prohibition', 'Ridge', 'covered', 'Savings', 'ambiguity', 'transmission', 'Baby', 'subtracting', 'grill', 'Mutual', 'envisioned', 'skirmish', 'subscribed', 'periodic', 'brother', 'equation', 'Hemisphere', 'molding', 'ports', 'thinner', 'Leona', 'cumulative', 'melody', 'murder', 'publicly', 'voltaic', 'secured', 'unsympathetic', 'entertainers', 'planking', 'lengthening', 'on', 'direction', 'concentrations', 'reservoir', 'sophomore', 'challenge', 'figs.', 'prettier', 'perilously', 'Trafton', 'sees', 'jumping', 'chromatographic', 'aces', 'jealous', 'extreme', 'Notes', \"marine's\", 'straightening', 'solemn', 'Abolition', 'long-run', 'parties', 'rolling', 'Almagest', 'Keegan', 'Uhhu', 'blame', 'Phedre', 'glasses', 'broader', 'airfield', 'sneakers', 'Gothic', 'millimeter', 'checked', '2-56', 'uncommon', 'Hail', 'scanning', 'tall', 'stub', 'detecting', 'cellulose', 'Dorothy', 'comprised', \"Ptolemy's\", 'earliest', 'witnesses', 'owner', 'posters', 'Sonatas', 'scare', 'worms', 'pit-run', 'lieutenants', 'commune', 'Emerson', 'softened', 'Argiento', 'Hi', 'lavish', 'gripped', 'success', 'cave', 'Pittsburgh', 'mud', 'epoch', 'grief', 'non', 'commenced', 'fluent', 'degrees', 'creator', 'clutched', 'reporters', 'gangs', 'bush', 'state-owned', 'Vandiver', 'fighter', 'stored', 'ratification', 'downtown', 'remote', 'sewing', 'circled', 'Thant', 'sixties', 'banquets', 'Martians', 'therefore', 'entails', 'inmates', \"they'll\", 'Essentially', 'Export-Import', 'journals', 'convicts', 'a.', 'judged', 'Dave', 'staffed', 'scholarly', 'prodded', 'Estimate', 'Berto', 'Conservation', 'perversely', 'Sadie', 'Loesser', 'peoples', 'wavelengths', 'radioactivity', 'spinning', 'lieutenant', 'School', 'relevance', 'snap', 'arrows', 'variously', 'scabbard', 'bother', 'ruthless', 'observance', 'grateful', 'fearful', 'erred', 'Nothing', 'paramount', 'dislikes', 'adjusted', 'discouraging', 'base', 'solicitude', 'attacking', 'crib', 'Runyon', \"York's\", 'Chateau', 'megatons', 'relatively', 'darned', 'envelope', 'craft', 'entertain', 'Week', 'intellectual', 'CTA', 'Perdido', 'passion', 'gunfire', 'V-shaped', 'defensible', 'Sloane', 'Jersey', 'hydrocarbon', 'crucifix', 'J', 'intoned', 'masters', 'perceptions', 'hard-surface', 'revive', 'defendants', 'yow', 'Portuguese', 'Reactionary', 'advance', 'pistons', 'chemically', 'quill', 'monk', 'built', 'rights', 'commonly', 'outfield', 'Crane', 'drowning', 'forty-seven', 'syndicate', 'moonlight', 'hoped', 'criteria', 'miners', 'flair', 'snapped', 'circumference', \"C'\", 'overcoat', 'TR', 'raising', 'Hart', 'day-by-day', 'crimson', 'Motor', 'concentration', 'muscles', 'Finance', 'Colmer', 'dazzling', 'saturation', 'peanut', 'sincerity', 'schooner', 'Unifil', 'endogamy', 'cart', 'Miles', 'millidegree', 'bin', 'fifties', 'lignite', 'smashed', 'Senator', 'sub', 'representations', 'emerging', 'slaked', 'acres', 'reporting', 'seventeenth', 'concentrating', 'potent', 'assertions', 'dust', 'Fashion', 'fore', 'Duclos', 'nutritional', 'gage', 'psychoanalytic', 'mores', 'sewer', \"Wright's\", 'deriving', 'building', 'Heritage', 'Jenny', 'packed', 'parochial', 'stand', 'broadly', 'forlorn', 'Myra', 'Britain', 'Ado', '1921', 'electrostatic', 'endeavor', 'Steve', '$100,000', 'pillows', 'agricultural', 'cards', 'platforms', 'irritating', 'undersea', 'resembles', 'determines', 'elegant', 'queer', 'weeks', 'budgets', 'Dolce', 'immaculate', 'grievance', 'radioactive', 'contains', 'slippery', '1948', 'retreat', 'drunkenly', 'called', 'incorporated', '1609', 'slug', 'classroom', 'Guests', 'conformists', 'invasions', 'sacrifices', 'decline', 'Gun', 'Saxon', 'concurrence', 'conversation', 'Overfall', 'manpower', 'roiling', 'anticipations', 'cults', \"horses'\", 'Representatives', 'two-day', 'China', 'specter', '$250', 'Maris', 'precinct', \"Jack's\", 'conspirators', 'Beowulf', 'excesses', 'march', 'arms', 'linguists', 'hatred', 'youthful', 'plotted', 'comprising', 'Legion', 'sores', 'rate', 'work', 'himself', 'foot', 'virtually', 'invisible', 'Powers', 'basically', \"Let's\", 'radicals', 'transfer', 'Gordon', 'comprehending', 'typewriter', 'snowy', 'compiler', 'downpour', 'traditions', 'renditions', 'Solar', 'nationalistic', 'relief', 'community', 'occupied', \"bride's\", \"artists'\", 'Partly', 'feeding', 'Casbah', 'Tennis', 'graph', 'Elaine', 'polish', 'reflecting', 'fanning', 'Patterson', 'mathematics', 'trucks', 'bunched', 'administered', 'overthrow', 'reputation', 'figuring', 'vertical', 'Capitol', 'behave', 'tailored', 'Bonn', 'trigger', 'swimming', 'actual', 'bottom', 'Manchester', 'Bennington', 'Slowly', 'vessels', 'Low', 'historic', 'Smiling', 'bulging', 'arduous', 'golden', 'reassemble', 'vegetable', 'flow', \"book's\", 'Creighton', 'relationship', 'scratches', 'Pod', 'insights', 'doses', 'crumbled', 'Askington', '$600', 'phenomena', 'pedestal', 'pricing', 'passage', 'putting', 'ministers', 'organisms', 'implication', 'areas', 'shallow', 'pig', 'certify', 'holocaust', 'Dictator', 'music', 'avocados', 'may', 'tiring', 'accidentally', 'by-product', 'storing', 'stomach', 'gala', 'Telephone', 'immigrants', 'strengths', 'new', 'bomber', 'universe', 'Poitrine', 'concerned', 'seeks', 'beverages', 'Killingsworth', 'single-step', 'playing', 't', 'hog', 'fenced', 'distinguishing', 'postulate', 'Means', 'inflicted', 'reverse', 'OAS', 'impeded', 'sturdy', 'fix', 'oddly', 'speaks', 'refreshing', 'conceded', 'detergents', 'dawn', 'isolating', 'noteworthy', 'automobiles', 'tended', 'Pastern', 'personal', 'Jones', \"Carmer's\", 'reconstructed', 'exhibition', 'hold', 'drifts', 'twenty-two', 'performed', 'denominational', 'elsewhere', '$750', 'pelvic', 'economical', \"Alfred's\", 'synonyms', 'knot', 'dispel', 'assimilated', 'Engineers', 'drilling', 'aliens', 'collapsing', 'tentatively', 'prettiest', 'hoofs', 'dispersion', 'Our', 'curbs', 'office', 'separation', 'pleading', 'Orioles', 'financially', 'arch', 'solve', 'Cumberland', 'reappeared', 'strongest', 'Dunkirk', 'pageants', 'perceived', 'priests', 'Merrimack', 'Talmud', 'ultraviolet', 'ripples', 'vastly', 'adverse', 'Thy', 'Criminal', 'Investigation', 'Major', 'unwelcome', 'grasshoppers', 'real', 'gal', 'summarized', 'haunt', 'Sponsor', 'locating', 'busts', 'radiated', 'fractionation', 'respectively', 'halls', 'Wally', 'deterministic', 'directing', 'pieces', 'cuts', 'Stratford', 'roll', 'Quakers', 'believes', 'Included', 'cycle', 'companies', 'interests', 'intelligent', 'disappointed', 'forties', 'critical', 'thought', 'Gordin', 'Cardinals', 'Willard', 'format', 'alley', 'brief', 'drains', 'spell', 'orthodontics', 'ballads', 'Arlen', 'Lillian', 'Physical', 'reluctantly', 'Nieman', '1912', 'Brown', 'congruence', 'believe', 'aching', 'jaw', 'uranium', 'tuition', 'Mexicans', 'Glen', 'baseman', 'Mystery', 'Lemma', 'Laurence', 'motifs', 'rooster', 'deformation', 'electoral', 'irresponsible', 'ensuing', 'Ill.', 'interfere', 'Glenn', 'interactions', 'earthy', 'wound', '2:37', 'tendency', 'Browning', 'slanting', 'scored', 'recording', '360', 'action', 'including', 'jealousy', 'transducer', 'reacting', 'delegate', 'congenial', 'computed', 'clarify', 'cattlemen', 'described', 'repaid', 'jam', 'teaspoon', 'instrument', 'downhill', \"Kennedy's\", 'familiarity', 'Balafrej', 'Cyrus', 'declines', 'Jennie', 'Woodward', 'Anything', 'transcending', 'Director', 'Regulation', 'which', 'expose', 'millennium', 'Mahayana', 'Lublin', 'parks', 'gallantry', 'Carvey', 'Rex', 'reflects', 'Regiment', 'basis', 'organdy', 'quick', \"Leesona's\", 'sang', 'grieving', 'vaults', 'debentures', 'mingled', 'larger', 'immobility', 'approaching', 'armor', 'Simple', 'slips', 'copies', 'slugged', 'Together', 'redder', 'marrying', 'surpluses', 'Buzz', 'compulsion', 'pessimistic', 'foil', 'wonderfully', 'accommodate', 'Patchen', 'integrals', 'crossed', 'Angie', 'vindicated', 'feel', 'negotiations', 'ambition', 'hatch', 'favorite', 'fair', 'belonged', 'linger', 'Hungarian', 'Results', 'lard', 'freely', 'fibers', 'advances', 'she', 'While', \"master's\", 'extraterrestrial', 'lint', 'narrator', 'semester', 'Connally', 'intonation', 'joyous', 'gadgets', 'nets', 'solo', 'unnatural', 'F.D.R.', 'affectionate', 'user', 'detect', 'tablet', 'Sis', 'apostolic', 'Ivy', 'crouched', 'guitars', 'famed', 'beg', 'lukewarm', 'confronted', 'socialism', 'surgeon', 'precaution', 'enthralling', 'undertaking', 'front', 'Couperin', 'pottery', '8,000', 'Manufacturers', 'overdeveloped', 'shouted', 'brocade', 'bacon', 'discharges', 'disastrous', 'vanity', 'Changes', 'far', 'cardinal', 'oval', 'climactic', 'attending', 'perilous', 'taxpayer', 'belief', 'corruption', 'alignment', 'change', 'perennial', 'discharged', 'eased', 'cute', 'kinda', 'monsoon', \"Texas'\", 'balls', 'solely', 'jug', 'recommend', 'inside', 'depredations', 'infancy', 'Bureau', 'heritage', 'heed', 'Going', 'wired', \"everyone's\", 'church', 'Give', 'ties', \"king's\", 'accelerated', 'Electric', 'heavy', 'Mickey', 'Hartford', 'cleverness', 'horrified', 'dividing', 'squeezed', 'elated', 'sends', 'acacia', 'blink', 'Agreement', 'clippings', 'plant', 'specialization', 'Gorboduc', 'indexing', 'confined', 'cow', 'smooth', 'triggered', 'custom', 'uses', \"Congress'\", 'prosper', 'Handicapped', 'winked', 'cathedral', 'Virginian', 'budget', 'Sox', 'continues', 'whole', 'lecturing', 'inning', 'clamps', 'constantly', 'upkeep', 'skiing', 'Sandburg', 'certification', 'arrivals', 'Netherlands', 'elastic', 'gotten', 'Tribune', 'back', 'striped', 'deficiency', 'handicapped', 'Sections', 'fuss', 'Andrena', 'fellows', 'induced', 'spectators', 'Let', 'dominion', 'micelle', 'electron', 'allowing', 'Nonsense', 'eager', 'keeping', 'constituted', 'P-20', 'Philosophy', 'loathed', 'penetrated', 'Commodore', 'dialectic', 'recital', 'washes', 'du', 'doings', 'Burgundy', 'Portland', 'Coons', 'Sheets', 'crude', 'filled', 'Christ', 'Lee', 'grown', 'Benington', 'Lou', 'faster', \"King's\", 'Bonner', 'volumes', 'tons', 'rails', 'Anthony', 'tree', 'deficit', 'puzzling', 'handkerchief', 'historically', 'lounging', 'daughter', 'awe', 'hints', 'diversity', 'Angelina', 'Walt', 'converge', \"I'd\", 'metal', 'talk', 'delivery', \"Byrd's\", 'Revolution', 'progressively', 'thirsty', 'confront', 'continuum', 'three-year', 'creaking', 'locations', 'rating', 'objection', 'counterpart', 'proposition', 'Gratt', 'abide', 'weakening', 'Stormy', 'doctor', 'Cold', 'Jupiter', 'merchandising', 'corresponds', 'skeletal', 'gathering', 'self-esteem', 'comedian', 'People', 'hope', 'U.M.C.I.A.', 'sacredness', 'Kiz', 'wakefulness', 'excite', 'emptied', 'Time', 'contracting', 'workshop', 'specialized', 'Hawaiian', 'girls', 'Zimmerman', 'Melville', 'guts', 'uniqueness', 'short', 'depriving', 'precocious', 'down', 'forms', 'U.S.A.', 'Venetian', 'annals', 'movers', 'genuine', '1920s', 'onions', 'shares', 'viability', 'alveoli', 'historical', 'implement', 'Orthodox', 'cousin', 'brand', 'magnetism', 'betrayed', 'reproduces', 'rationed', 'Sorrentino', 'crawling', 'cavity', 'Depot', 'column', 'tremendous', \"Killpath's\", 'bidders', 'overweight', 'incentive', 'Sunday', 'pansy', 'Toot', 'noose', 'prevailing', 'outweighed', 'Mister', 'puppet', 'juror', 'stimulate', 'conclusively', 'Ann', 'Note', 'atmospheric', 'slovenly', 'overtake', 'hurt', 'active', 'humanitarian', 'poncho', 'premature', 'aimed', 'pitcher', 'dissatisfied', 'whitened', 'thereafter', 'Ory', 'warrior', 'century', 'reported', 'raise', 'discussions', 'U.S.', 'Fidel', 'weatherproof', 'dramatically', 'choreographed', 'populations', 'roughly', 'overcast', 'Solicitor', 'suburban', 'rationalist', 'computers', 'suggest', 'churchyard', 'Marty', 'tolerable', 'Harvey', 'gazed', 'warriors', 'microns', 'antelope', 'Mizell', 'underprivileged', 'well-defined', 'frustrating', 'angles', 'weight', \"Freddy's\", 'boundary', 'scalp', 'Completing', 'goes', 'enduring', 'Summers', 'unconscious', 'lexicostatistics', 'organizers', 'quietness', 'illustrated', 'Andrei', 'enzymatic', 'steal', 'descended', 'tendencies', 'hailed', 'operator', 'Gap', 'dental', 'town', 'excellent', 'barred', 're-enter', 'Montgomery', 'nonspecifically', 'cab', 'depicted', 'cheated', 'Porto', 'anti-Semitic', 'loyalty', 'verve', 'female', 'puppets', 'righteousness', 'nonverbal', 'arrests', 'Peterson', 'down-to-earth', 'thriving', 'seemed', 'compensate', 'deteriorated', 'mid-thirties', \"Virginia's\", 'sine', 'apart', 'invariant', 'Movement', 'wicked', 'friezes', 'crawled', 'Woodrow', 'MacPherson', 'Dick', 'differed', 'lioness', 'civic', 'Flying', 'impetuous', 'politics', 'shop', 'completing', 'unrest', 'sedans', 'Parenthood', 'guilty', 'crack', 'roadside', 'relating', 'axiomatic', 'emission', 'flaring', 'reflected', 'International', 'unreal', 'modernizing', 'presentation', 'removes', 'Grady', 'or', 'cleared', 'Remembering', 'Charlayne', 'cried', 'Siberia', 'policeman', 'cabins', 'macro-instructions', 'pressures', 'solving', 'conclusions', '92', 'ever-changing', 'bricklaying', 'crazily', \"Garth's\", 'kinesthetic', 'migration', 'sleepy', 'favorable', 'proclaimed', 'hosses', 'keeper', 'metabolite', 'trespassed', 'design', 'comprehensive', 'lobe', 'ionizing', 'probation', 'Lutheran', 'indulged', 'rehearsals', 'efficiently', 'Marlborough', 'computer', 'retort', '0', 'worker', 'Eisenhower', 'ethyl', 'tool', 'Scientific', 'auxiliary', 'sawdust', 'Shot', 'cases', 'programs', 'Clemente', \"Shelley's\", 'micrometeorite', 'Kan.', 'characterization', 'kept', \"Rayburn's\", 'twinkle', 'tailor-made', 'consult', 'conformed', 'Twentieth', 'appreciable', 'fiction', 'branches', 'truth', 'persuasive', 'Mickie', 'highways', 'Command', 'Phase', 'sealing', 'moisture', 'cook', 'Lenin', \"''\", 'Gregory', 'rotunda', 'Services', \"Massachusetts'\", 'rolls', 'Col.', 'amidst', '1943', 'animals', 'ransacked', 'deviation', 'tails', 'speculations', 'documents', 'sharper', 'illustrating', 'e', 'horrifying', 'statement', 'leash', 'mutiny', 'grow', 'Cobb', 'Inquisition', \"lady's\", 'homely', 'ripping', 'decades', 'revolutionized', 'economize', 'cemetery', 'proverbial', 'Di', 'tagged', 'towards', 'slated', 'depict', 'Hough', 'spend', 'Miss.', 'haggling', 'you', 'contribution', 'assemble', 'stepping', 'viewers', 'Greville', 'survivors', 'tires', 'prostitution', 'medium', 'rookies', 'pillage', 'cylinders', 'entire', 'surrender', 'enterprises', 'Burmese', 'high-school', 'bugging', \"town's\", 'Marshal', 'superstition', 'Alexander', 'impassioned', 'Kind', 'detergency', 'proposed', 'After', 'resolved', 'gravitation', 'rise', '$3', 'war', 'elements', 'Hengesbach', 'Women', 'Y-cell', 'self-contained', 'crowds', 'quitting', 'typically', 'whichever', 'flashlight', '$.03', 'agreement', 'move', 'spontaneously', 'discern', 'overlooks', 'mildly', 'drank', 'dissent', 'consists', 'cracked', 'bogey', 'Beautiful', 'Nov.', 'ran', 'leg', 'Kayabashi', 'equivalents', 'absorbed', 'previously', 'Great', 'overcrowded', 'perpetually', 'thrived', 'penalty', 'arranging', 'clash', 'Format', 'Lyndon', '4', 'intensity', 'sorts', 'endorse', 'Convention', 'compel', '5.7', 'conscience', 'fillings', '1907', 'writes', 'justice', 'Loan', 'armies', 'mysteries', 'Traverse', 'first-rate', 'lend', 'sorghum', 'frequent', 'Polish', 'Superior', 'artificially', 'Orchestra', 'otherwise', 'feudal', 'committed', 'immature', 'continuation', 'chairmen', 'George', 'featured', 'inexhaustible', 'throws', 'Way', 'Eliot', 'disobedience', 'marksman', 'ironic', 'teamsters', 'Hays', 'Christians', 'quarrels', 'hint', 'Salvador', 'Acey', 'those', 'supervisors', 'visually', 'kittens', 'sailor', 'stain', 'marched', 'Wilhelm', 'athletic', 'satellite', 'speakers', 'locking', 'Artillery', 'bloom', 'thermometry', 'brim', 'motel', 'celebrate', 'dearly', 'babes', 'answers', 'packages', 'outside', 'congratulations', 'eyed', 'obstacles', 'consciousness', 'Higher', 'sales', 'unique', 'how', 'originality', 'ready', 'exuberant', 'Sir', '$75', 'surprisingly', 'incidentally', 'cows', 'rent', 'muzzle', 'ketosis', 'insisted', 'bottoms', 'Specific', 'isolated', 'distributor', 'alcoholic', 'meteoritic', '16', 'abstracts', 'hafta', 'screws', 'speak', 'Autocoder', 'Stravinsky', 'bathing', 'feels', 'hurting', 'capes', 'peacocks', 'cap', 'blushed', 'flight', 'formerly', 'crying', 'intercollegiate', 'organs', 'Mankowski', '21', '$10', 'sauces', \"mother's\", 'contracted', 'cynicism', 'i.d.', 'Paul', 'one-man', 'prepare', 'manufacturer', \"herdin'\", 'registrant', 'Drifts', 'Shaw', '1783', 'summoned', 'Aeschylus', 'furthermore', 'assuredly', 'multiplication', 'Moving', 'Navy', 'maturing', 'Outdoor', 'patch', 'buggy', 'cabinet', \"Aristotle's\", 'appeasement', 'maples', 'Magdalene', 'assure', 'germ', 'Yeah', 'Nazis', 'another', 'allegiance', 'maladjustment', 'discussed', 'sprouting', 'Riders', 'quit', 'long-awaited', 'ecumenical', 'natures', 'Has', 'assault', 'gums', 'confuse', 'ever', 'louse', 'Arte', 'Thinking', 'disappear', 'appear', 'Manthey', 'Utopians', 'capita', 'Inc.', 'Hurrah', 'article', 'deterrent', 'realtors', 'Yankees', 'nickel', 'Selkirk', 'fuzzy', 'norms', 'giveaways', 'Fiscal', 'sympathy', 'Therefore', 'Concerts', 'perpetuating', 'roundup', 'stretched', 'laundering', 'contingencies', 'bags', 'shot', 'balanced', 'illegal', '2:30', \"Manning's\", 'chaotic', 'tide', 'examination', 'spices', 'tenable', 'campaigning', 'ourselves', 'accuse', 'recipe', 'echoes', 'fragments', 'pathetic', 'die', 'dusk', 'owe', 'camping', 'Cedric', 'oleophilic', 'foundation', 'oxen', 'Mama', 'Brandon', 'autumn', 'Piepsam', 'Paradise', 'limb', 'look', 'monacle', '1916', 'accorded', 'preceding', 'Herr', 'civilized', 'receiving', 'Lauderdale', 'shows', 'Modern', 'marry', 'asks', 'Diane', 'Investors', 'blanks', 'Hub', 'dealt', 'abundant', 'aptitude', 'pending', 'supplies', 'locale', 'Griffith', 'platform', 'humiliation', 'performer', 'successors', 'weights', \"she'd\", 'inquired', 'ash', 'gluttons', 'Deerstalker', 'altitude', 'filthy', \"club's\", 'forgive', 'aristocratic', 'higher', 'nutrients', 'None', 'plain', \"Lumumba's\", 'peacetime', 'uniformly', 'chartered', 'void', 'Channel', 'exercised', 'focused', 'locker', 'Being', 'smothered', 'Examiner', 'indirect', 'teachers', 'driver', 'Houghton', 'velocities', 'Perier', 'lightning', 'ox', 'Matunuck', 'religion', 'drone', 'coupling', '1.0', 'developer', 'toughs', 'curbside', 'Dorado', 'appearance', 'Venezuela', 'conservation', 'religious', 'heaven', 'generating', \"1/4''\", 'ghastly', 'Smallwood', 'Judge', 'Chapman', 'American-Negro', 'mechanism', 'flapping', 'Grey', 'supplier', 'Nordmann', '4-inch', 'Communication', 'accumulation', 'spectacle', 'chic', 'compact', \"we're\", 'promotional', 'hexameter', 'freak', 'Carter', 'perverse', 'Hughes', 'young', 'silenced', 'returning', 'document', 'Hold', 'foibles', 'refrigerator', 'Particularly', 'schools', 'discourage', 'repetition', 'swallowed', 'Directory', 'collapse', 'risks', 'Circuit', 'editions', 'slight', 'Clerfayt', 'taxpayers', 'influences', 'wanna', 'baked', 'tappets', 'ten-year', \"Alec's\", 'died', 'itemized', 'skinny', 'hypothalamus', 'aspect', 'bereavement', 'ornamented', 'Petersburg', 'Seebohm', 'bitter', 'reap', 'blazing', 'heater', 'optimistic', 'assistance', 'Universal', 'speeches', 'buildings', 'leaks', 'embodied', 'Pathet', 'whole-wheat', 'liberals', 'contemporary', 'chicken', 'shouts', \"Government's\", 'Political', 'playground', 'distressed', 'clustered', 'communicate', \"Orleans'\", 'Parents', \"Bruckner's\", 'Cruz', 'needs', 'endless', 'Elizabethan', 'dependency', 'individualized', 'coping', 'consequently', 'Murray', 'batteries', 'unofficial', 'thirty', 'animosity', 'elect', 'Nation', 'sweaters', 'one-tenth', 'lines', 'plenty', 'parlor', 'handsome', 'doorknob', 'ground', 'bled', 'received', 'Edison', 'Tobacco', 'sock', 'toner', 'inquiry', 'asserting', 'indistinguishable', 'clutch', 'seized', 'monopoly', 'O.', 'Sara', 'Thom', 'pounded', 'Indian', 'upper-', 'approached', 'Courses', 'cursing', 'Republicanism', 'silk', 'forgiven', 'exercises', 'seeing', 'strings', 'driveway', 'vulnerability', 'Junior', 'clover', 'Mad', 'instinct', \"Smith's\", 'assistant', 'Consulting', 'negligible', 'fire', 'Ross', 'layman', 'Ekstrohm', 'inclination', 'shock', 'Until', 'engineering', 'throat', 'clean', 'populated', 'satisfactions', 'Glory', 'arena', 'Methodist', 'participated', 'contacted', 'Born', 'finally', 'protect', 'Forge', 'Adler', 'staring', 'Acting', 'Figs.', 'insurance', 'P.', 'Civil', 'constitute', 'bankers', 'partners', 'Wine', 'widths', '$60', 'diary', 'Java', 'faithful', 'generator', 'helpless', 'utilized', 'doubtless', 'Andrea', 'miracles', 'tried', 'froze', 'projected', 'ostensible', 'build-up', 'bailiff', 'quotes', 'galley', 'stake', 'momentous', 'Monsieur', 'supra', 'scan', 'long-term', 'frieze', 'replacing', 'Cards', 'drinks', '11', 'Deal', 'flask', 'Dowex-2-chloride', 'Charlie', \"university's\", 'Overture', 'carping', 'positions', 'gulf', 'colonel', 'vistas', 'generates', 'hurricane', 'cockpit', 'project', 'huddled', \"administration's\", 'cartoons', 'Pimen', 'settlement', 'Regular', 'vegetables', 'affinity', 'transom', 'compresses', 'ranchers', 'repay', 'show', 'ballet', 'nailed', 'indoors', 'favored', 'plumpness', 'mining', 'chain', 'footing', 'wildly', 'miss', 'foresee', 'stones', 'immanent', 'reckoning', 'mean', '1963', 'Fitzgerald', 'yesterday', 'hypothetical', 'scar', 'Leading', 'contemplating', 'touches', 'prophecy', 'narrowing', 'Revolutionibus', 'consideration', 'inference', 'adventure', 'obligated', 'unanimity', 'twin', 'peculiarities', 'chopped', 'authoritarian', 'finishing', 'qualify', 'idiosyncrasies', 'glow', 'modestly', 'Allies', 'alibi', 'Beginning', 'cathodoluminescent', 'arrive', '3,500', 'Nicholas', 'amorphous', 'senseless', 'studio', 'Moore', 'automobile', 'leads', 'sinner', \"Grandma's\", 'Anna', 'despised', 'equivalent', 'bets', 'proved', 'coincide', 'treatment', 'Thrift', 'condensation', 'dealing', 'Utopia', 'Lear', \"Hearst's\", 'high-spirited', 'searched', 'tax-exempt', 'bureau', 'signed', 'offended', 'exaggeration', 'Abstraction', 'nostrils', 'admiring', 'coalition', 'ponderous', 'Coolidges', 'operative', 'establish', 'linen', 'comb', 'Utah', 'full-time', 'spur', 'clockwise', 'Hoeve', 'pensions', 'Unlike', 'flapped', \"Sharpe's\", 'scandals', 'humidity', 'Orders', 'neutralized', 'fabrics', 'investigation', 'laden', \"Nadine's\", 'Fundamental', 'Turkey', 'forte', 'hairs', 'sonar', 'Diana', 'gruff', 'suppress', 'independent', 'bit', 'bats', 'Towne', 'Lucille', 'Payne', 'submissive', 'blocking', 'developmental', 'unwanted', 'preferences', 'sexually', 'graphite', 'Dammit', 'respectable', 'occupancy', 'dissolving', 'inducing', 'talents', 'sponsors', 'repeat', 'downright', 'trusts', 'slate', 'amazed', 'Naples', 'houses', 'Wait', \"doctor's\", 'Another', 'persuading', 'serious', 'milligram', 'identifies', 'Davis', 'precise', 'felicity', 'economically', 'poorly', 'subject', 'exalted', \"Burnside's\", 'lamps', 'P', 'squad', 'Goldberg', 'abilities', 'easier', 'earthquake', 'thickness', 'infantry', 'losing', 'furnace', 'horsemen', 'conducted', 'Robert', 'staircase', 'perspectives', 'coachman', 'ordinance', 'pushing', 'tunnels', 'law', 'Stalag', 'measurement', 'trains', 'thee', 'Nelson', 'develops', 'abandoning', 'question', \"Thomas's\", 'sprawled', 'ranged', 'oppression', 'projects', 'Yugoslavia', 'examining', 'Worth', 'redcoats', 'begin', 'cheeks', 'backwoods', 'extinction', 'stiffening', 'passionately', 'channels', 'Maxwell', 'Musical', 'Uniconer', 'judge', 'absolutes', 'Jr.', 'provocative', 'post-attack', 'indescribable', 'entrance', 'hid', 'arisen', 'chuckle', 'lay-offs', 'abeyance', 'Was', 'launching', 'passport', 'summation', 'atrophy', 'Developments', 'upset', 'homogeneity', 'toes', 'concede', 'faded', 'unanimous', 'Baker', 'immoral', 'Ritchie', \"child's\", 'selections', 'sprang', 'Crombie', 'Crime', \"Charles'\", 'lodging', 'dividends', 'Thirty-five', 'Quinzaine', 'parole', 'wears', 'third', 'imply', 'Gyp', 'flush', 'Kikuyu', 'stupor', 'station', 'lumps', 'departed', 'Emile', 'aluminum', 'Pleasant', 'Motel', 'contributing', 'nomenclature', 'disposed', 'drills', 'transpiring', 'started', 'dictator', 'awards', 'Weld', 'unifies', 'eminent', 'milling', 'Shreveport', 'Mencken', 'McClellan', 'intermediate', 'crystallites', 'Patrolman', 'roundhead', 'plausible', '99', 'thirties', 'trimmed', 'odds', \"Here's\", 'bawdy', 'Research', 'rejoicing', 'Nocturne', \"Church's\", 'Youth', 'Secretary', 'shrill', 'Burr', 'employer', 'whereof', 'expended', 'conformist', 'conform', 'sweetness', 'tapes', 'anonymous', 'speed', 'Catholic', \"Department's\", 'equipped', 'digital', 'paot', 'preparing', 'rip', 'AM', 'Stoicism', 'vegetation', 'correlation', 'ambitious', 'outfielder', 'once', 'elicit', 'origins', 'eldest', 'regulatory', 'ripening', 'accelerate', 'awareness', 'eating', 'silver', 'Look', 'Spanish', 'blower', 'quack', 'behaviour', 'Len', 'build', 'dig', 'Drawing', 'hitched', 'franks', 'counterpoint', \"How's\", 'pacers', 'Sophocles', 'Prof.', 'erosion', 'posture', 'Scribe', 'unseen', 'pamphlets', 'bellowed', 'indecent', 'flourish', 'nausea', 'pores', 'devotees', 'substantially', 'sexes', 'postulated', 'peg', 'crushing', 'circle', 'explosives', 'controversy', '108', 'awakening', 'unbelievable', '1926', 'proficient', 'checking', 'slightly', 'Steinhager', 'hour', 'relate', 'Providence', 'Helva', 'storm', 'sites', 'pipes', 'lethal', 'tingling', '1789', 'deeds', 'Jimmy', 'physiological', 'relevant', 'Market', 'provokes', \"Thompson's\", 'ponies', 'enemy', 'ramifications', 'escaped', 'dealer', 'cores', 'bliss', 'distinguish', 'preserve', 'botany', 'broth', 'full', 'Eighteenth', 'Gulf', 'probability', 'locate', 'adsorbed', 'disturbed', 'inferiority', 'whip', 'honeymoon', 'Jordan', 'Ephesians', 'fates', 'allowed', 'groves', 'undergraduate', 'chronic', 'railroads', 'rupee', 'rooms', 'loneliness', 'severely', 'exploded', 'Grosse', 'portrayal', 'condemns', 'sums', 'miserable', 'pizza', 'rudimentary', \"Black's\", 'slogan', 'hostages', 'Department', 'separately', 'Gospels', 'editing', 'liberated', 'diction', 'movie', 'Von', 'Melissa', 'mat', 'creative', 'brushed', 'forty-five', 'Willie', 'deposition', 'justly', 'Meyner', 'clusters', 'accelerator', 'looted', 'steam', 'Community', 'Schaefer', '2100', 'strength', 'Rector', 'choreographers', 'Nugent', 'grappling', 'gatherings', 'declares', 'shyly', 'unbalanced', 'dated', \"Knife's\", \"Myra's\", 'Eugenia', 'propagandistic', 'Reich', 'mere', 'favorites', 'follows', 'rapid', 'twister', 'prohibition', 'jelly', 'Or', 'rescued', 'Foster', 'infrared', 'Maid', 'sixth', 'shivering', 'winking', 'Principal', 'blighted', 'whites', 'Probably', 'plumber', 'Things', 'balancing', 'accrued', 'brands', 'narratives', 'conditions', 'applications', 'concurrent', 'with', 'reappears', 'coordinate', 'Player', 'booby', 'Try', 'enacting', 'weakly', 'snacks', \"Papa's\", 'aeration', 'sinful', 'State', 'optical', 'phosphate', 'repeating', 'blasphemy', 'Hilo', 'Ike', 'hoping', 'horizontally', 'DRDW', 'A.', 'rejects', 'Alabama', 'Whitemarsh', 'sizes', 'hay', 'W-region', 'theologians', 'Faget', 'specialize', 'currency', 'lullaby', 'murmur', 'strides', 'expedient', 'bases', \"Muller's\", 'fragmented', 'admonitions', 'concurs', 'Jury', 'yelled', 'magic', 'astrophysics', 'Delphine', 'abstracted', 'motivated', 'diethylstilbestrol', 'esteemed', 'darkened', 'corruptible', 'Forsythe', 'distrust', 'cultivation', 'serve', 'boyish', 'conflicting', 'Swedish', 'juncture', 'brilliantly', 'managed', \"Fogg's\", 'deliver', 'allegations', 'some', 'Jessica', 'arsenal', 'negative', 'dense', 'resolution', 'mail', 'argued', 'frank', 'vehicle', 'utterance', 'sweater', 'modest', 'quacks', 'posted', 'Istiqlal', 'behaved', 'Lamar', 'Bourbons', 'claiming', 'misunderstood', 'Powell', 'Several', 'Bermuda', 'exclude', 'builds', 'Whenever', 'handgun', \"else's\", '29th', 'CD', 'Bang-Jensen', 'cheery', 'Bosis', 'Rankin', 'Jerome', 'Vince', 'Donna', 'swarmed', 'recorder', 'largely', 'preserving', 'millions', 'miscellaneous', 'shenanigans', 'improve', 'climb', 'segregationist', 'recommendation', 'intentionally', 'demonstrated', 'Bridges', 'poultice', 'flying', 'trading', 'diversions', 'Light', 'pair', 'dim', 'inappropriate', \"Johnson's\", 'Sober', 'Military', 'piety', 'fielding', 'stripped', 'knock', 'audible', 'amplifier', 'sentiments', '98', 'precarious', 'remarkably', 'accidents', 'Death', 'views', 'tasks', 'Skolovsky', 'Marion', 'Greg', 'supported', 'struggles', 'enacted', 'struggle', 'fringed', 'Maintenance', 'adventures', 'accented', 'tortoise', 'accounts', 'hasty', 'Flint', '16,000', 'Pornsen', 'Centrality', 'Ripe', 'buffer', 'appropriate', 'compliment', 'strategists', 'spitting', 'Watercolor', 'Czechoslovakia', 'be', 'clung', 'workshops', 'risen', 'wonder', 'God-given', 'scratched', 'privacy', 'Indians', 'triumphant', 'Decca', 'sludge', 'adversaries', 'grumble', 'Hunter', 'McLish', 'beguiling', 'answering', 'evolved', 'spoon', 'X-region', 'dripping', 'teacher', 'congregations', '1893', 'clearly', 'sensibly', 'steak', 'Walnut', 'Line', 'moderates', 'tripod', 'simmer', 'burning', 'Garland', 'through', 'Episcopal', 'substrate', 'reproduce', 'slave', 'Pick', 'canceled', '$500', 'sixty', 'groom', '2.4', 'lecture', 'Sanitary', '76', 'become', 'Russia', 'Above', 'misconception', 'induction', 'neatly', 'also', 'disunity', 'plaster', 'appreciation', 'Asia', 'beset', 'advised', 'supremacy', 'false', 'gadfly', 'savagely', 'mobilized', 'afforded', 'agrarian', 'Harrington', 'wild', 'unfair', \"year's\", 'bravely', 'adjoining', 'enigma', 'rice', 'pepper', 'imperfect', 'battens', 'cushioning', 'Kennedy', 'systematic', 'enrollment', 'blows', 'counselor', 'Tommy', 'complexity', 'teachings', 'sensation', 'hoops', 'Bud', 'idealism', 'learns', 'fur', 'buzz', 'counterparts', 'Camusfearna', 'ruins', 'Assuming', 'nonwhite', 'chase', 'Benjamin', 'biology', 'unequivocally', 'Spice-Nice', 'His', 'Winston', 'chairs', 'emerged', 'motors', 'two-thirds', 'Canal', 'revulsion', 'other', 'ribs', 'reforms', \"adolescent's\", 'arousing', 'struggling', 'adults', 'sensibility', 'Spade', 'dozing', 'depressed', 'headless', '29', 'guide', 'medals', 'communion', \"There's\", 'Violet', 'energies', 'width', 'Tories', 'schoolboy', 'Karen', 'worthwhile', 'nasty', 'apocalyptic', \"Dill's\", 'vectors', 'labour', 'eagle', 'celebrating', 'faint', 'rebuilding', 'bells', 'damage', 'Hartsfield', 'Clements', 'bought', 'lurked', 'Elman', 'SAMOS', 'exciting', 'employers', 'bulletin', 'paradoxical', 'stab', \"po'k\", 'Royal', 'trumpet', 'schedule', 'tug', 'complacency', 'Lynn', 'east', 'usefulness', 'owed', 'intense', 'optimality', 'Hez', 'Turks', 'northeast', 'experimented', 'promise', 'dynamite', 'pains', 'misbehavior', 'fascinated', '$1,000', 'Kruger', 'Nara', 'incompetence', 'vicar', 'dialysis', 'Koehler', 'divisible', 'Theater', 'constructing', 'bathtub', 'verbally', 'consisting', 'rotation', 'baritone', 'attached', 'gas', 'swooped', 'resin', 'colors', 'spiritually', 'fourteen', 'drift', 'conjunction', 'strangely', 'Jail', 'seems', 'registering', 'Mynheer', 'California', 'displays', 'Rep.', 'screaming', 'Frequently', 'immunity', 'two', 'Microscopic', 'facilitate', 'gave', 'Tucker', 'compelled', 'spotted', 'Operating', 'Gilborn', 'dessert', 'moment', 'granted', 'engrossing', 'whiskey', '2:35', 'presidents', 'rim-fires', 'extremely', 'Politics', 'surface-active', 'overlap', 'bloat', 'TV', 'grammatical', 'centralization', 'placed', 'safe', 'self-pity', 'provision', 'K', 'supervision', 'depends', 'passive', 'Chen', 'Klux', 'rays', 'outdistanced', 'demure', 'Glendora', 'Writing', 'sprawling', 'workmanship', 'sailing', 'deserted', 'implied', 'locally', 'restraining', 'mattered', 'unafraid', 'hip', 'Hall', 'firearms', 'key', 'appropriations', 'cyclist', 'themes', 'expecting', 'iodinating', 'Behind', 'code', 'overlapped', \"Doesn't\", 'hat', 'enormously', 'Reid', 'engages', 'Succession', 'consistency', 'rigs', 'Levitt', 'embraced', 'swollen', 'smiles', 'pork', 'expansiveness', 'peculiar', 'walnuts', 'shadowed', 'Vicky', 'coolness', 'cared', 'unthinkable', 'here', 'ticket', 'alteration', 'river', 'threading', 'interstellar', 'Leon', 'deliberations', 'rebut', 'flip', 'Member', 'rained', 'arbitrarily', \"We're\", \"Batista's\", 'suspicions', 'Lao', 'potassium', 'brandy', 'howl', 'Already', 'Heart', '45', 'intangible', 'tolerance', 'outdo', 'Florence', 'Whiteman', 'gymnastics', 'extremity', 'accents', 'damn', 'Honotassa', 'DiMaggio', 'scenic', 'senses', 'wanderings', 'museums', 'goitre', 'archaeology', 'explorers', 'proposes', 'encounters', 'Protestantism', \"Castro's\", 'fares', 'interpret', 'wiser', 'showing', 'seas', 'hawk', \"Chicago's\", 'off', 'antibody', 'Amos', 'demolished', 'flame', 'backlog', 'company', 'divorce', 'phraseology', '800,000', 'visits', 'Lacking', 'Marsh', 'relation', 'morality', 'paradoxically', 'respondents', 'Herter', 'futility', 'confederacy', 'Perhaps', 'convert', 'PBS', 'train', 'brush', 'solemnly', 'greed', 'middle', 'restored', 'accurate', 'atoms', 'dollar', 'necessitated', 'bumblebees', '13', 'additives', 'beef', 'nutmeg', 'hungry', 'biography', 'hidden', 'Salinger', 'decorators', 'uncomfortable', 'Thayer', 'wise', 'Reformed', 'Parkway', 'entourage', 'fantasy', 'reports', 'wallet', 'alcoholics', 'consummate', 'Maine', 'poisonous', 'Meyer', 'elderly', 'steps', 'Friends', 'bat', 'prevention', 'accelerators', 'caressed', 'charts', 'Postmaster', 'resignation', 'murdering', 'calculate', 'fiercely', \"Gabriel's\", 'unduly', 'weighty', 'permission', 'Nice', 'object', 'lust', 'Shaefer', 'shower', 'Substances', 'Eden', 'fossilized', 'periodically', 'Staten', 'Mijbil', 'tetrachloride', 'Spirit', 'unanimously', 'secretary', 'recommending', 'Hessians', 'demography', 'restrictions', 'expressly', 'guides', 'Barco', 'retention', 'gate', 'fiscal', 'Central', 'esteem', 'nuisance', \"governor's\", 'trill', 'Japanese', 'bath', 'credulity', 'Clouds', 'Parthenon', 'remaining', 'yields', 'admissible', 'reckoned', 'Confucian', 'reduction', 'clamped', 'Pedersen', 'Verdi', 'G.', 'Press', 'June', 'bearings', 'themselves', 'two-hour', 'cultivate', 'victim', 'reproducible', 'Appeals', 'D.C.', 'invariably', 'virgin', 'insulated', 'senior', 'kedgeree', 'Rodney', 'planets', 'heroism', 'Commissioners', 'ecclesiastical', 'hath', 'stasis', 'maximizes', '$37', 'universal', 'completeness', 'exemption', 'Mosque', 'ditch', 'asserts', 'Everybody', 'Treatment', 'prospective', 'specified', 'dentist', 'Pageant', 'anchored', \"Madden's\", 'taut', 'controllers', 'discussing', 'goddess', 'bronchus', 'box', 'Flannagans', 'time-honored', 'efficacy', 'censuses', 'grand', 'cohesive', 'winder', 'thirty-two', 'organize', 'Pembina', 'plains', 'Harmony', 'Dillon', 'Doris', 'fights', 'walks', 'grimly', 'directors', 'worn', 'purring', 'throwing', 'Gary', '1911', 'camper', 'glaring', 'liner', 'overlooked', 'tense', 'subsection', 'Yacht', 'York', 'description', 'mergers', 'approval', 'Heights', 'classes', 'firemen', 'mixed', 'rich', 'marriage', 'measuring', 'Embassy', 'overhauling', 'handful', 'decrees', 'discriminatory', 'beneath', 'efficiency', 'contour', 'tax', 'Martin', 'Usually', 'Lewisohn', 'powerfully', 'trained', 'fused', 'complain', 'Clark', 'each', 'singer', 'bushels', 'Joe', 'inflexible', 'commentator', 'scrub', 'banging', 'realizing', 'joys', 'mock', 'Sun', 'pirates', 'assassination', 'Las', 'arcs', 'guardians', '375', 'poisoning', 'debate', 'Goodis', 'infiltration', 'Nancy', \"Where'd\", 'drab', 'flash', 'thoughts', 'clearer', 'poster', 'exchanged', 'spokesmen', 'Zenith', 'feat', '1.1', '96', 'concluded', 'Success', 'invent', 'Fleet', 'Certainly', 'Homer', 'An', 'decor', 'Dickey', '1876', 'Xydis', 'applauded', 'Beethoven', 'housewives', 'suitcase', 'Leesona', 'low-wage', 'Working', '353', 'leaguer', 'contend', 'Vernon', 'Then', 'undue', \"weren't\", 'precious', 'Babe', 'ambivalent', 'becoming', 'road', 'associations', 'betterment', 'generations', 'patrolling', 'rattlesnake', 'uttered', 'dunes', 'deep-set', 'Cut', 'Abbe', 'H.', 'coins', 'sufferer', 'not', 'Fellowship', 'Anthea', 'publicized', 'frantically', 'tourist', 'Providing', 'slippers', 'lengthy', 'lineup', 'puzzled', 'Siebern', 'sprayed', 'Temperature', 'transitional', 'Henry', 'homogeneous', 'ghettos', 'government', 'solid', 'conjugated', 'deadlock', 'originating', 'Corso', 'mutilated', 'Hole', 'Form', 'preventive', 'naturalized', 'notch', 'furnishes', 'what', 'Thirty', 'Title', 'issuing', 'additional', 'unstressed', 'taboo', 'Last', \"Magwitch's\", 'bites', 'polyethylene', 'chattered', 'sympathize', 'unorthodox', 'safety', 'college', 'delay', 'Author', 'illumined', 'Significantly', 'injunction', 'resolve', 'Billie', 'representing', 'Wagner-Peyser', 'frontier', 'alight', 'telepathy', 'melodic', 'Tristano', 'Byrd', 'Forum', 'synonym', 'pine', 'harmony', 'denoted', '1625', 'exceeded', 'section', 'three-part', 'Brooklyn', 'rests', 'arts', 'Hand', 'Pearson', 'brushing', 'stride', 'dozens', 'downfall', 'beams', 'waved', \"Erikson's\", 'nearby', 'enlightening', 'depths', 'Complete', 'roof', 'reasoned', 'heterogeneous', \"Einstein's\", 'wholesome', 'pitchers', 'Putting', \"He'd\", 'matter', 'enlightened', 'Snow', 'hearts', 'Inventory', 'check', 'watches', 'octillion', 'experimenting', 'twofold', 'litter', 'constituents', 'preaching', 'Service', 'That', 'inquiries', 'barbecue', 'encouraging', 'loaded', 'yearning', 'technician', 'sincerely', 'sucking', 'Provided', 'slicker', 'Oriental', 'engage', 'blasphemous', 'blade', 'fatally', 'carrying', 'injuries', 'killer', 'well-informed', 'typing', 'bodies', 'retains', 'campers', 'dismissing', 'harmful', 'metaphysics', 'Many', 'reminder', 'Musmanno', 'detector', 'procure', 'scent', 'Boniface', 'trays', 'proficiency', 'earn', 'ham', 'wistfully', 'warped', 'Lower', 'Act', 'thorough', 'prize', 'Sometimes', 'subsidize', 'element', 'short-run', 'feeble', 'rhythms', 'symphonic', 'rackets', 'experiencing', 'alienation', 'jet', \"Scotty's\", 'Elmer', '75', 'rigorously', 'sizable', 'Bowman', 'Ethics', 'carry', 'till', 'drawing', 'flakes', 'Tshombe', 'undertakings', 'research', 'circulating', 'football', 'farthest', \"states'\", 'wakeful', 'Wells', 'absently', 'beneficial', 'shied', 'past', \"isn't\", 'combining', 'averaging', 'reduces', 'magnifying', 'continue', 'aided', 'conditioned', 'Signora', 'adjustments', 'little', 'lighter', 'emulate', 'aerator', 'twirling', 'warranted', 'porch', 'capitals', 'accumulating', 'important', 'believed', 'Marches', 'kicking', 'Corinthian', 'effected', 'cadenza', 'Record', '0.5', 'muted', 'verbenas', 'snoring', 'servicing', 'lagoon', 'whispering', 'peak', 'became', 'Mo.', 'Crusade', 'self-sufficient', 'gasoline', 'openings', 'scented', 'mansion', 'Lucifer', '77', 'dime', 'orgasm', 'ban', 'envelopes', \"London's\", 'Olga', 'Heard', 'strives', 'microphone', 'notion', 'hitch', 'proceeding', 'refrigerated', 'finals', 'good-looking', 'determination', 'NBS', 'Haney', 'all-Negro', 'worthy', 'think', 'forwarded', 'radii', 'Perrin', 'Investment', 'Johnnie', 'Tao', 'honored', 'whenever', 'Larry', 'newspaper', 'tally', 'resting', '$50', 'shin', \"Plato's\", 'widely', 'Charlotte', 'tattered', 'immensely', 'docile', 'Recently', 'huts', 'enjoys', 'celebrated', 'Finals', 'ended', 'plot', 'pattern', 'Strategic', '10', 'lest', 'prestige', 'Sansom', 'swamp', 'islands', 'Harvie', 'cone', 'extravagant', 'Wilson', 'hurrying', 'allowances', 'grasped', 'develop', 'gravy', 'bounty', 'Holy', 'Taft-Hartley', 'disposition', 'self-appointed', \"wasn't\", 'Englander', 'missile', 'Rexroth', 'grape-arbor', 'satin', 'bad', 'fussy', 'Sacramento', 'suggestions', 'robe', 'paie', '114', 'twenties', 'submarines', 'Dominican', 'rebuilt', 'transmitter', 'parted', 'threshold', 'Waddell', 'kinetic', 'capture', 'Baseball', 'licked', 'stronger', 'escort', 'irregular', 'To', 'yearned', 'fusion', 'Rose', 'Protogeometric', 'honorably', 'unload', 'worshiping', 'iodine', 'fulfilled', 'metaphor', 'sympathies', 'contents', 'tightly', 'Observations', 'Ah', 'psyllium', 'depreciation', 'implications', 'symbolically', 'Years', 'devised', 'depot', 'alerting', 'collecting', 'maximal', 'stiffened', 'leaflets', 'Issue', 'democratize', 'astray', 'revolutions', 'Blumberg', 'spans', 'lofty', \"Eichmann's\", 'prints', 'sensors', 'excuse', 'Religious', 'saves', 'haven', 'Lincoln', 'scanty', 'Skorich', 'blue-green', 'coats', 'inseparable', 'cell-free', 'realization', 'microscope', 'glass', 'retrograde', 'drifted', 'uncomfortably', 'speech', 'stony', 'grille', 'provincialism', 'goods', 'abroad', 'voting', 'lays', 'pineapple', 'swivel', 'robes', 'apothecary', 'usage', 'marbles', 'misplaced', 'disk', 'high-value', 'predetermined', 'bayonets', 'roleplaying', 'quote', 'Charter', 'abyss', 'read', 'clinging', 'table', 'Ronnie', 'revel', 'relieved', 'sea', 'Spahn', 'alphabetical', \"name's\", 'Sounion', 'repealed', 'prevented', 'prejudicial', 'passes', 'Baptists', 'Sea', 'Chickasaws', 'outcomes', 'indignant', 'instructor', 'sank', 'bitterly', 'ignorance', 'apprehensions', 'contractual', 'inward', 'defenseless', 'supreme', 'slow', 'payments', 'centrifuged', 'Personal', 'dances', 'Wherefore', 'outsider', 'immortality', \"ladies'\", 'unkind', 'sad', 'Janssen', 'nonsense', 'yet', 'Godkin', 'verbs', 'hitters', 'lively', '34', 'Emmett', 'ledger', 'context', 'creek', 'questioned', 'smoke', 'Saxons', 'anxious', 'Strong', 'Chicago', 'elementary', 'carpentry', 'anxiety', 'detective', 'Schnabel', 'insult', 'prevails', 'Apaches', 'name', 'campaigns', 'Rag', 'Sigmen', \"station's\", 'friction', 'fond', 'consolation', 'barge', 'Fla.', 'juxtaposition', 'ray', '57', 'inserted', 'mixture', 'Reed', 'Wash.', '1947', 'clouds', 'powdery', 'submitting', 'chloride', 'baby', 'reflective', 'carriage', 'corner', \"Marx's\", 'feed', 'furiously', 'plowed', 'recapture', 'Stubblefields', 'forego', 'neurosis', 'ink', \"Khrushchev's\", 'totaling', 'tarnished', 'metaphysic', 'numerical', 'bitten', 'intercontinental', 'probably', 'appraisal', 'third-grade', 'translations', 'brain', 'propriety', 'nights', 'Notice', 'chancellor', 'guerrillas', 'disgusting', 'tormented', 'darkening', 'Marv', 'graduating', 'graveyard', 'desirable', \"Czarina's\", 'Philip', 'astonishing', 'tongue', 'well-established', 'acreage', 'oven', 'grapevine', 'ridden', 'carbine', 'connotation', 'colony', 'angry', 'nine', 'physicians', 'pest', 'great', 'November', 'gazing', 'drama', 'erotic', \"Welch's\", 'patriotism', 'Palestine', 'entertainments', 'veranda', \"stranger's\", 'standardized', 'investors', 'Radiopasteurization', 'threatened', '2:30.3-:36', 'heartening', 'never', 'ceramic', 'Groggins', 'handled', 'ducked', 'Find', 'complaining', 'milligrams', 'watering', 'wasteful', 'Yellow', 'doll', 'leisurely', 'poetic', 'Blasingame', 'arbitrary', 'instituted', 'corkscrew', 'noticeable', 'concessionaires', 'revenues', 'aptly', '42', 'modernity', 'whistle', 'Which', 'bravado', 'loves', 'intensification', 'violated', 'pistols', 'Vietnam', \"government's\", 'hum', 'Heaven', 'whispers', 'structured', \"God's\", 'sexual', 'high', 'sapped', 'complementary', \"Roosevelt's\", 'grandeur', 'epidemic', 'wonders', 'yeast', 'sufficient', 'slender', 'Final', 'polarization', 'gambling', 'distributing', 'Secondly', 'fortune', 'bent', 'Needless', 'O.E.C.D.', 'Boun', 'phalanx', 'gyro', \"Man's\", 'comin', 'Division', 'respectful', 'shutter', 'Tim', 'Gran', 'met', 'Alma', 'Swiss', 'grinders', \"Berlin's\", 'future', 'AIMO', 'Roosevelt', 'breast', 'wrath', 'transact', 'southward', 'fabled', 'Dark', 'complication', \"Clayton's\", 'incidence', 'dispelled', 'Handsome', 'landmark', 'comments', 'execute', 'knife', 'villain', 'good-by', 'Parkersburg', 'particle', 'Lewis', 'Designs', 'Harry', 'injunctions', 'defects', 'psychotherapy', 'producer', 'first', 'sparks', 'accounting', 'ingenious', 'Baldrige', 'predictable', 'preferred', 'prancing', 'language', '13.5', 'manually', 'audiences', 'someday', 'patrolman', 'undertook', 'preached', 'hilt', 'make-up', 'nightmare', 'self-indulgence', '121', \"What's\", 'e.g.', 'cereals', 'Testament', 'novelties', 'Germany', 'invention', 'Taras', 'rocket', 'wished', 'Children', 'tenure', 'everything', 'birth-control', 'disorderly', 'Pocket', 'rises', 'Wabash', \"Geraghty's\", \"student's\", 'shaking', 'infield', 'M.A.', 'M', 'sake', 'denote', 'Cabrini', 'Carnegie', 'plants', 'fiend', 'prove', 'doorways', 'fanned', 'harsh', 'heart', 'Robbie', 'Mass.', 'hates', 'Comptroller', 'cafes', 'surveyor', 'counters', 'quarterback', 'Guardino', 'plaques', 'weaker', 'revolution', 'puny', 'Horn', 'diminutive', 'ethics', 'inspiration', 'Cromwell', 'noon', 'suite', 'mountainside', 'backgrounds', 'spoilage', 'accuracy', 'insured', 'tapered', 'goin', 'underway', 'priced', 'heyday', 'expensive', 'explanatory', 'Soviet', 'South', '15th', 'angrily', 'Times', 'pregnancy', 'managers', '$40', 'shutdown', 'praying', 'Sitting', 'sunrise', 'ethnic', 'their', 'slaughter', \"region's\", 'nerves', 'dwindling', 'Frayne', 'departure', 'Hickory', 'blackness', 'jowls', 'sculptor', 'Father', 'Newark', 'minimize', 'Edith', 'target', 'Free', 'laissez-faire', 'robbed', '22nd', 'probable', 'soloist', 'Idaho', 'keynote', 'convicted', 'Mae', 'pitfall', 'appropriated', 'exact', 'option', 'sleeves', 'publishing', 'bulged', 'Later', 'allowance', 'row', 'commented', 'both', 'evaluated', 'chin', 'virile', 'motivations', 'foreseen', 'procreation', 'melodious', 'manuscripts', 'Greer', 'twenty-first', 'twitched', 'Champlain', 'Madonna', 'Privately', 'appestat', 'traversed', 'Reading', 'assumptions', 'cereal', 'away', 'sorted', 'publishes', 'autograph', 'inorganic', \"That'll\", 'unemployed', 'pleural', 'opinion', 'Artists', 'rectifier', 'Quaker', 'Sen.', 'Hound', 'austere', 'Rangoni', 'Tri-State', 'pinched', 'milk', 'giveaway', 'sumptuous', 'overnighters', 'observational', 'needed', 'entries', 'Missionary', 'marvelous', 'slipping', 'advocate', 'vulgar', 'stealing', 'SX-21', 'DEAE-cellulose', 'insure', 'summarize', 'survey', 'generalize', 'tube', 'gulped', 'Watson', 'Caper', 'Freddy', 'wool', 'southpaw', 'scooped', 'flicked', 'discouraged', 'sore', 'approximations', 'interest', 'Korea', 'Using', 'attackers', 'crouch', 'Sharon', 'cliches', \"Diane's\", 'bequest', 'qualifications', 'supervise', 'initial', 'undergoing', 'popped', 'presumably', 'allows', 'insects', 'pathways', 'buddies', 'Ref.', 'ionic', 'troubled', 'repairs', 'repository', 'examinations', 'coop', 'knuckle', 'diocesan', 'hardy', 'non-military', 'Gladden', 'blots', 'instrumentalities', 'spectacles', 'persuade', 'Consumer', 'implements', 'vacuum', 'produced', 'rapped', 'titled', 'ontological', 'Iowa', 'convertible', 'checklist', \"Sant'\", 'fatal', 'legislators', 'Broun', 'perfection', 'supplements', 'withdrawal', 'freeways', 'skin', 'disabling', 'nitrogen', 'Lucian', 'chairman', 'convenient', 'dealers', 'Benson', 'invented', 'countryside', 'imposing', 'magician', 'terrific', 'stains', 'finds', 'Rawlings', 'boundaries', 'commenting', 'Forks', 'painfully', 'scraps', 'suppose', 'gift', 'rupees', 'Earth', '1966', 'Register', 'exist', 'Send', 'coordination', 'Winthrop', 'buckle', 'continued', 'Ward', 'Warsaw', \"'\", 'horses', \"Greville's\", 'covenant', 'explosion', 'relationships', 'silence', 'Preliminary', 'Park', 'engagements', \"Rusk's\", 'poets', '55', 'responding', '1897', 'chorus', \"Bang-Jensen's\", 'fancy', 'remarks', 'Regardless', 'textiles', 'tiger', 'glamour', 'Atlas', 'Jen', 'dear', 'repeats', 'numbering', 'faction', 'banked', 'bits', 'expressing', 'suspiciously', 'Available', 'excluding', 'purported', 'coveted', 'co-operation', 'grip', 'Stubblefield', 'imports', 'Procedure', 'insoluble', 'applicant', 'mole', 'paces', 'cloud', 'Catholicism', 'Othon', 'Region', 'has', 'ionized', 'effective', 'otter', 'Arlene', 'Herald', 'revelation', 'stepped-up', 'Bancroft', 'idea', 'Asian', 'colleges', 'hide', 'elbows', 'short-term', 'generators', 'musicians', 'mystique', 'upside', 'impressionist', 'scientists', 'N.', 'indication', 'telescope', 'influential', 'professionals', 'hasten', 'perhaps', 'insufficient', 'moreover', 'do', 'Tiepolo', 'occupational', 'Blood', 'failures', 'whirled', 'McKenzie', 'until', 'gown', 'increases', 'heavier', 'cellar', 'Barney', '$400', 'powders', 'all-important', 'beheld', 'Fishing', 'fisherman', 'Exchange', 'expedition', 'groupings', 'inevitable', 'sentences', 'goodbye', 'lungs', 'Hurok', 'farmhouse', 'worry', 'experimenters', 'upgrade', 'Rue', 'Constable', 'explain', 'vigor', 'undistinguished', 'punctured', 'tolerate', 'Attorney', 'intertwined', 'strolled', 'curse', 'chose', 'heir', 'outrage', 'Maltese', 'backyards', '32', \"Motors'\", 'Congressman', 'appraise', 'hills', 'manual', 'experiments', 'frantic', 'reviewing', 'hosts', 'tranquilizers', 'grunted', 'Standard', 'bailing', 'pickers', 'ambassador', 'truly', 'extrapolated', 'Arden', 'providing', '$2,000', 'chunks', 'insulin', 'Masons', 'Neal', \"Miami's\", 'effects', 'intention', 'releases', 'physicist', 'Mose', 'corrected', 'daily', 'Industry', 'infuriated', 'granting', 'nagging', 'motives', '1868', 'revised', 'impose', '1906', 'hobbies', 'Mrs.', \"givin'\", 'Some', '1817', '$100', 'merely', \"Lloyd's\", 'shriek', 'capability', 'recriminations', 'Puritans', 'hr.', 'unnecessary', \"Mantle's\", 'agent', 'formulations', 'warping', 'Orleans', 'toll-road', 'objectives', 'Maryland', 'horizon', 'drastically', \"Ada's\", 'thrilling', 'metaphysical', 'ultimatum', 'apt', 'annual', 'lose', 'muscular', 'sanity', 'fading', 'catcher', 'afterward', 'gunman', 'idleness', 'souls', 'Norm', 'Bey', 'edges', 'mistake', 'navigation', 'stairs', 'editorial', 'Box', 'halt', 'Remington', 'somehow', 'protruded', 'grokking', 'form', 'champion', \"University's\", 'inhibited', 'pirouette', 'irradiated', \"hasn't\", 'armaments', 'trough', \"John's\", 'Members', 'problem', 'fiber-coupled', 'supporters', 'wave', 'photocathode', 'sheets', 'premiere', 'nicely', 'Eternal', 'serial', 'voyageurs', 'Grover', 'Shayne', 'German', 'exploitation', 'calendars', 'manometer', 'spacious', 'commitments', 'League', 'fixing', 'provisional', 'cruising', \"Sandburg's\", 'Infantry', 'poised', 'plunging', 'conjugal', 'Earl', 'wary', 'razor', 'trends', 'represent', '1895', 'ached', 'neckline', \"Ruth's\", 'turbine', 'dazed', 'cites', 'clerical', 'morale', 'urges', '1952', 'inefficient', 'oath', 'growl', 'bachelors', 'favoring', 'consistent', 'accidental', 're-examine', 'dumped', 'mid-June', '20,000', 'antennae', 'jerked', 'quarterly', 'marketings', 'Jefferson', 'Married', 'popularity', '2:36', 'publish', 'slugs', 'taxes', 'hardships', 'surroundings', 'saxophone', 'Illustrations', 'receptionist', 'Otis', 'fundamentals', 'expansion', 'Perry', 'cochannel', 'chanted', 'debris', 'Improvement', 'privileged', 'musicals', 'terminate', 'businessman', 'legitimate', 'vomiting', 'sick', 'rendered', 'fun', 'frankly', 'centimeters', 'irrelevant', 'Rebs', 'dystopian', 'door', 'gently', 'deciding', 'stroke', 'Tarzan', 'dean', 'Yank', 'Athletics', 'Korean', 'medal', 'O', 'pumped', 'monsters', 'dedicated', 'poem', 'bill', 'spatial', 'reflexes', 'melodrama', 'exquisite', 'Ogden', 'vary', 'Selden', 'instrumental', 'antagonism', 'earnestness', 'polarity', 'tangle', 'saying', 'researcher', 'franchise', 'delayed', 'evening', 'fasten', 'Anta', 'Acala', 'promotion', 'era', 'terminal', 'lives', 'Igor', 'colonialism', 'number', 'Guideposts', 'unused', 'compensations', 'East', 'response', 'proxy', 'tyranny', 'connected', 'helping', 'stimulation', 'diverted', 'Tartuffe', 'stirring', 'relentlessly', 'out-of-pocket', 'networks', 'Faber', 'grudgingly', 'prevent', 'obedience', 'OK', 'fires', 'bypass', 'equated', 'employs', 'laundry', 'well', 'stereotyped', 'veered', 'spontaneity', 'throbbed', 'disdain', 'cooked', 'sensitive', 'shuddered', 'Albert', 'homemaker', 'own', 'Spring', 'gradient', 'polymers', 'mother', 'worthless', 'herds', 'Hardy', 'perpetrated', 'blanket', 'achieved', 'pose', 'figure', 'inheritance', 'secondarily', 'muddy', 'plasticity', 'dissolve', 'resonance', 'highroad', 'symptomatic', 'confronting', 'Douglas', 'switching', 'Hurry', 'Japan', 'Near', 'Northwestern', 'without', 'charting', 'mechanization', 'instrumentally', 'Yesterday', 'waterfront', 'Ever', 'shocks', 'distances', 'renewed', 'Fellowships', '800', 'analyzing', 'evenly', 'luxuries', 'governors', 'hamburgers', 'muscle', 'awaken', 'Catskill', 'Hanch', 'rightfully', 'hostess', 'nations', 'Breath', 'braced', 'immediately', 'complex', 'trembling', 'landscaped', 'criterion', 'Miranda', 'details', \"Haven't\", 'song', 'landscapes', 'deals', 'Standing', 'sparked', 'complications', 'Got', '180', 'latent', 'Tokyo', ')', 'fiat', 'politician', 'Everything', 'simplify', 'strategic', \"Brown's\", 'holstered', 'scrape', 'absorption', 'Suvorov', 'travelled', 'traveling', 'ideas', 'turtle', 'par', 'arrange', 'carriers', 'further', 'blindness', 'foam', 'sandwiches', 'uppon', \"B'dikkat\", 'idol', 'surely', 'bile', 'clam', \"Thomas'\", 'midnight', 'frustrated', 'marking', 'beckoned', 'Only', 'Webster', 'pitches', 'philanthropic', 'alliance', 'employes', 'Georgetown', 'fine-looking', 'caused', 'necessities', 'Pip', 'flares', 'dissatisfaction', 'join', 'attract', '1933', 'dangling', 'Arizona', 'Villa', 'balustrade', 'switch', 'marred', 'Elements', 'Thanks', 'Baullari', 'baton', 'Yosemite', 'trudged', 'matriculated', 'Susie', 'lewd', 'levy', 'Works', 'normal', 'viewing', 'F.', 'murders', 'Sort', 'minimizing', 'took', 'penalties', 'arched', 'Diversified', 'asset', 'woven', 'Marie', 'rehearsed', 'lesson', 'substituted', 'unborn', 'Congregationalists', 'decomposition', 'fan', 'seen', 'scoreboard', 'unavailable', 'dispassionately', 'Fayette', 'Stay', 'foolishly', 'locust', 'orator', 'deputy', 'intelligence', 'perpetual', 'marines', 'rosy', 'sciatica', 'gushed', '1865', 'coal', 'Building', 'ultrasonic', 'Raymond', 'famous', 'roughness', 'smelled', 'Calf', 'opportunity', 'scientist', 'logically', 'manned', 'surfaces', 'aim', 'eighty-sixth', 'privilege', 'wooden', 'Waters', 'nuclear', 'confirms', 'novelty', 'Jews', 'audience', 'duration', 'January', 'Adams', 'Pompeii', 'stamped', 'uncontrolled', 'seldom', 'scouting', 'Paper', 'phase', 'spurs', 'submits', 'heights', 'Fund', 'classmates', 'Hot', 'formally', 'reconnaissance', 'three-month', 'salesmanship', 'fleeting', 'winter', \"what's\", 'pointing', 'Plato', 'Shayol', 'focussed', 'weaken', 'buttons', 'petals', 'Merchant', 'disclosed', 'superimpose', 'seeds', 'consoles', 'niece', 'stylist', 'preparation', 'Educational', '15', 'tunes', 'tawny', 'harbor', 'creed', 'Cynewulf', 'Mityukh', 'conjugate', 'Egyptian', 'Grand', 'profiles', \"doesn't\", 'Premier', 'clientele', 'Any', 'celery', 'trustworthy', 'kick', 'collect', 'notably', 'illegitimacy', 'doom', 'Emperor', 'Industries', 'unto', 'Related', 'Constitution', 'sky', 'resumed', 'scornful', 'gamma', 'rosaries', 'shall', \"Pont's\", 'returned', 'review', 'transports', 'coexistence', 'laughing', 'Mel', 'soprano', 'chrome', 'deficient', 'bayonet', 'Column', 'acts', 'nothingness', 'sporting', 'cholesterol', 'baffling', 'protestations', 'triangle', 'sipping', 'Ala.', 'affection', 'permitting', 'habitat', 'headache', 'salaries', 'dia.', 'scaffold', 'lifelike', 'diabetes', 'relax', 'unsold', 'properly', 'Roleplaying', 'wrapping', \"President's\", 'Neil', 'supervising', 'eighth', 'forcing', 'forgiveness', 'function', 'values', 'outraged', 'Morris', 'toad', 'invest', 'unwise', 'Donnybrook', 'generated', 'brighter', 'Secretaries', 'drinking', 'decade', 'carpet', 'confession', '-', 'evolve', 'slanderer', 'exploited', 'rounded', 'pray', '1904', 'Staffe', 'changed', 'fools', 'pompous', 'Merchants', 'Gibbs', '707', 'charging', 'rational', 'Local', 'unpaired', 'violation', 'basin', 'stalked', 'corral', 'billion', '1970', 'huh', 'Nobel', 'elongation', 'responses', 'wrecking', 'hips', 'citizenry', 'maps', 'waters', 'forcibly', 'capital', 'occupation', 'legendary', 'pollen', 'Grabski', 'Proper', 'well-being', 'automotive', 'chants', 'Minnesota', 'feedback', 'tray', 'bolster', 'expect', 'Portugal', 'assembled', 'non-supervisory', 'rocking', 'Constantinople', 'double-step', 'patented', 'coating', 'penalized', 'urgent', 'Builder', 'tea', 'W', 'founded', 'lantern', 'Delta', 'label', 'rang', 'British', 'rendering', '65', 'completely', 'Va.', 'saturated', 'Butcher', 'wanton', 'shivered', 'compare', 'Bourcier', 'Digby', '300', 'spotlight', 'inflation', 'Hon.', 'Emancipation', 'chortled', 'salient', 'apron', 'lyrics', 'insert', 'triangular', 'attested', 'super-condamine', 'Mountain', 'philosophic', 'bank', \"Miller's\", 'Aegean', 'plasma', 'intuition', 'hitting', 'noticed', 'piston', 'Barth', 'star', 'protesting', 'care', 'Rice', 'doctrines', 'phonograph', 'Cortlandt', 'Monthly', 'purple', 'Whitehead', 'profitable', 'clause', 'friends', 'hunting', \"Sarah's\", 'receiver', 'glove', 'calendar', 'Leaning', 'Ken', 'accompanying', 'square', 'eliminates', 'follow', 'Side', 'depart', 'exploding', 'exceptional', \"1920's\", 'vacation', 'repair', 'anti-submarine', 'narrative', 'Tuttle', 'rare', '23d', 'wielded', 'dispatching', 'Khaju', 'legs', 'toll', 'geese', 'jockey', 'risk', \"Gorton's\", 'stating', 'Two', 'vigorously', 'bound', 'aberrations', 'thereto', 'Sixty', 'highly', 'intensities', 'saleslady', 'happen', 'maneuvered', 'trap', \"Alex's\", 'billing', 'Surely', 'Raphael', 'filing', 'impressed', 'lodge', 'sandals', 'birdied', 'lousy', 'practitioners', 'respected', 'bondage', 'Forbes', 'suspense', 'consistently', 'intensified', 'dispose', 'companion', 'Rover', 'arbiter', 'employ', 'accruing', 'gratifying', 'strays', 'rainfall', \"grazin'\", 'socialized', 'unnecessarily', 'orbit', \"Andy's\", 'colonies', 'dog', 'shrieked', 'contraception', 'operating', 'stimulated', 'teasing', 'Never', 'Liston', 'allied', 'Doctors', 'Woodruff', \"what's-his-name\", 'prelude', 'Rabbi', 'isle', 'spectroscopy', 'B.', 'Afterwards', 'electrons', 'herein', 'foreigner', 'tenacity', 'composure', 'shipper', 'humbly', 'resented', 'requirement', 'Garden', 'characterize', '230', 'remarkable', 'Minutes', 'aspire', 'episode', 'excused', 'Revulsion', 'flatness', 'professors', 'either', 'furthered', 'sauce', 'fragrant', 'Chapter', 'swelled', 'knowingly', 'irritation', 'assigns', 'Sing', 'programming', 'numbers', 'inert', 'Nearly', 'solicitor', 'eye', 'husbands', 'customarily', 'Pathology', 'budge', 'rinsing', '$125', 'participates', 'occasion', 'calibers', 'logging', 'sketch', 'directed', 'prefer', 'hug', 'humans', 'Dirksen', 'curly', 'towne', 'Zen', 'conquer', 'bird', 'Offices', 'Bong', 'tractor', 'participation', 'Cairo', 'veto', 'fashions', 'sheltered', 'Quartet', 'linguist', 'Except', 'serving', 'diluted', 'dispatched', 'tri-iodothyronine', 'bandit', 'none', 'weary', 'concessions', 'possible', 'pipe', \"Lee's\", 'proceeds', 'page', 'wiping', 'believers', 'Gascony', 'Buddhist', 'Off', 'Siddo', 'sediments', 'sensibilities', 'oils', 'morphophonemics', 'someone', 'employing', 'Labor', 'Victoria', 'schoolroom', 'Attorneys', 'concentrates', 'sophistication', 'Questions', 'coincides', 'calibrated', 'Highway', 'commit', 'drought', '14-1/2', 'groundwave', 'eloquent', 'alcoves', 'Next', 'canoe', 'prevents', 'divisions', 'flipped', 'Blockade', 'sixteen', 'Simon', 'secular', 'well-fed', 'Canadian', 'truths', 'entertainment', 'coherent', 'insistent', 'Laura', 'Evelyn', 'unclean', 'likelihood', 'equilibrium', 'Factors', 'backstitch', 'substitutes', 'ditties', 'concerns', 'uncle', 'surrounding', 'quantities', '4.3', 'audio-visual', 'Determine', 'precariously', 'blanching', 'Dunn', 'ballroom', 'Fighting', 'utilitarian', 'Africa', 'twenty-four', 'lick', 'Paso', 'Ciudad', 'underwear', 'ball', 'Legislators', \"Byron's\", 'wrought', 'daytime', 'vowed', 'Kasavubu', 'sighted', 'outlets', 'desired', 'brittle', \"client's\", 'caloric', 'methodically', 'Martinez', 'bicycle', 'conjecture', 'parade', 'Johnson', 'careful', '2:01.1', 'rescue', 'Tory', 'rubbed', 'forecasts', 'inviting', \"secretary's\", 'wire', 'minors', 'Hillsboro', 'Hell', 'Rogers', '1803', 'encounter', 'snag', 'Siamese', 'Mosk', 'facto', 'oranges', 'describing', 'critic', 'perforated', 'blood', 'Average', 'sack', 'rabbi', 'merits', 'thinks', 'severed', 'oversimplification', 'Havana', 'Marine', 'considerations', 'self-confident', 'broods', 'marksmanship', 'schedules', 'open', 'labeling', 'twenty', 'north', 'socioeconomic', 'spine', 'masculine', 'chance', 'rifle', 'master', 'sec.', \"Lilly's\", 'give', 'drivers', 'Moslem', 'Khrushchev', 'breathtaking', 'orchestration', 'expression', 'fuses', 'Growth', 'gold', 'shy', 'concur', 'Algerian', 'elaborately', 'notable', 'linking', 'divergent', 'spindle', 'Pakistan', 'Rockies', 'potency', 'Victorian', 'mention', 'backers', 'withdraw', 'crush', 'derrick', 'overcome', 'thirst', 'African', 'malocclusion', '23rd', 'Dogs', \"Mann's\", 'school', 'setback', 'bewildered', 'Corinthians', 'ministering', 'coldest', 'valued', 'dragging', 'rulers', 'vs', 'Meynell', '$85', 'utopian', 'defiance', 'statutory', 'startling', 'winning', 'ridicule', 'siding', 'crystals', 'interpretation', 'Halleck', 'Russians', 'hemisphere', 'Special', 'unsuccessful', \"Hardy's\", 'steamship', 'settlements', 'fullest', 'somewhat', 'weeklies', 'addiction', 'nutrition', 'thinkers', 'recordings', 'excitedly', 'breath', 'Jerusalem', 'equal', 'Imperial', 'mornings', '40,000', 'transcends', 'Adlai', 'Mexico', 'therewith', 'Schaffner', 'skull', 'List', 'junk', 'fifteenth', 'decimal', 'If', 'compound', 'courageous', 'hero', 'shielding', 'Sartoris', 'shriveled', 'shovel', 'link', 'burdened', 'Sundays', 'leagues', 'St.', 'exempt', 'hydrogens', 'El', 'beards', 'immorality', 'thoughtless', 'possesses', 'Purpose', 'consequent', 'faces', 'virtuous', 'informal', 'contingency', 'restoration', \"people's\", 'could', 'attention', 'Making', 'Signal', 'nigger', 'intersect', 'interstage', 'board', 'ultracentrifugation', 'incentives', 'wheel', 'magazine', 'newest', \"capital's\", 'slum', 'Lauchli', 'feather', 'constructions', 'Superintendent', 'alternatives', 'George-Barden', 'Marshall', 'Nakamura', 'Courcy', 'trailing', 'saith', 'tortuous', 'habitual', 'telegram', 'Drive', 'Stamford', 'boredom', 'sounded', 'districts', 'fats', 'investigating', 'insists', 'delights', 'creep', 'Francis', 'rapport', 'Ryan', 'Nations', 'dreaming', 'Define', 'partisan', 'borrowed', 'galvanizing', 'pedigree', 'Registry', 'sticky', 'forestall', 'Blenheim', 'hopeless', 'ebullient', 'Murphy', 'Aids', 'subsidy', 'guarantees', 'cathedrals', 'patent', 'capacity', 'eyeglasses', 'chemical', 'double', 'markets', 'Bailly', 'transitions', 'autopsy', 'mouthful', 'fiasco', 'rolled', 'locality', 'hottest', 'trivial', 'simplest', 'mined', \"N'\", 'Maestro', 'grammar', 'battles', 'Birmingham', 'Beech', 'collision', 'Buck', 'sprinkle', 'fund', 'interstate', 'x-ray', 'chambermaid', 'notice', 'perfected', \"Hitler's\", 'job', 'Freya', 'left-hand', 'everybody', 'widest', 'faults', 'Really', 'human', 'heating', 'Set', 'Gertrude', 'subgroups', 'boasted', 'unrelieved', 'blossom', 'Yiddish', 'Sommers', 'Greenville', 'Ahmet', 'predicted', 'phenomenon', 'Plymouth', 'presently', 'liquor', 'probe', 'legal', 'tournaments', 'Newton', 'layout', 'guessing', 'glancing', 'Naturally', 'magical', 'bills', 'subordinates', 'sir', 'Sweeneys', 'sensed', 'Egypt', 'luncheon', 'touched', 'organic', 'entitle', 'orchids', 'Somewhat', \"General's\", 'stopping', 'Kitti', 'hunters', 'credits', \"We've\", 'interval', 'Senate', 'weekends', 'bloodless', 'turret', 'Parker', 'turpentine', 'voltages', 'vigorous', 'protecting', 'Keep', 'scratch', 'downstream', 'gallium', 'Police', 'Whigs', \"Milton's\", 'desires', 'Anglican', 'campaigned', 'papers', 'attachment', 'agents', 'publicity', 'Oil', '109-degrees-F', 'things', 'wavelength', 'happy', 'image', 'empirical', 'Stephens', 'flashed', 'Mark', 'mate', 'kiss', 'reluctance', 'garment', 'Bavaria', 'intercourse', 'rhythmic', 'container', 'scarcely', 'custodian', 'Dec.', 'minute', 'prophets', 'rite', 'succession', 'saddle', 'given', 'Me', '1960', 'studs', 'superficially', 'applaud', \"Malraux's\", 'clutching', 'Rio', 'rodding', 'tend', 'writer', 'arterial', 'theater', 'besides', 'preparatory', 'praise', 'etiquette', 'justifiably', 'expanse', 'socially', 'thicknesses', 'Mine', 'small-town', 'Progress', 'freshmen', 'annually', 'designate', \"road's\", 'Huntley', 'optimal', 'seashore', 'underwater', 'Toronto', 'Territory', 'influenced', 'before', 'Authority', 'bickering', 'Sons', 'imprisonment', 'Chuck', 'Vincent', 'commonplace', 'thyroglobulin', 'turnpike', 'Crystal', 'galaxies', 'empties', \"you'd\", 'Nebraska', 'woe', 'rainy', 'whipped', 'world-famous', 'geometry', 'Walton', 'sword', 'profit', 'shouting', 'catering', 'Pennsylvania', 'boulder', 'glaze', 'requested', 'outward', 'dropouts', 'chill', 'Mountains', 'checks', 'consonant', 'budgeting', 'strychnine', 'continents', 'member', 'anatomical', 'calories', 'Prompt', 'individuals', '49', '1950s', 'superbly', 'detrimental', 'reconcile', 'Four', 'Clara', 'recognition', 'desolate', 'fumes', 'psychiatrist', 'fascinate', 'middle-', 'whereupon', 'Whole', 'hoarse', 'smiled', 'paired', 'Pasha', \"farmers'\", 'magnificent', 'Shore', 'pitiful', 'improving', 'Commonweal', 'giggled', \"Russia's\", 'spouse', 'sensor', 'lid', 'showdown', 'taxed', 'extending', 'contaminated', 'Arts', 'Reynolds', 'dignitaries', 'newspaperman', 'widened', 'framed', 'pumps', 'downwind', 'beads', \"poet's\", 'Trouble', 'incorrect', 'ugliness', 'antics', 'Boulder', 'pronoun', 'self-respect', 'mastered', 'preferable', 'spite', 'illuminating', 'schematic', 'arrogance', '1986', 'descendants', 'pinpoint', 'oriented', 'Harold', 'Jonathan', 'diamond', 'Monk', 'group', 'handing', 'nationwide', 'sunlight', 'recede', 'scoffed', 'pianist', 'visited', 'furrow', 'git', 'governing', 'Automobile', 'adaptations', 'pacifism', 'Creek', 'emergencies', 'refusing', 'resuming', 'kills', 'levers', 'waged', 'mind', 'Gate', 'GNP', 'Starting', 'Duty', 'the', 'shut', 'black', 'sod', 'seal', 'skip', 'faulty', 'duplicate', 'momentarily', 'depravity', 'Associations', 'faced', 'warn', 'secretly', \"Boris'\", 'ultimate', 'take', 'money', 'cylindrical', 'opening', 'publishers', 'modernized', 'monopolies', 'defeating', 'outpost', 'commercials', 'Davidson', 'May', 'hamper', \"Woman's\", 'gravel', 'Twenty', 'discarded', 'Englishman', 'milieu', 'disturbances', 'else', 'Athenians', 'Johns', '1882', 'barricades', 'watered', 'fulfilling', 'destroy', 'Ch.', 'Throughout', 'rear', 'pacing', 'Dashiell', 'Gibby', 'four-hour', 'summarizing', 'bored', 'seventh', 'grove', 'dangers', 'transcript', 'Lisa', 'undepicted', 'Suddenly', 'county', 'framework', \"Conyers'\", 'springtime', 'billed', 'Bach', 'plumbing', 'snatches', 'grenade', 'Third', 'Pyrex', 'upheaval', 'list', 'Sweeney', 'Manas', 'remove', 'River', 'gross', 'thinking', 'lord', 'Molvar', 'Budapest', 'wrap', 'Studio', 'hole', 'marketed', 'coated', 'Beaumont', 'elections', '1-a', 'Jist', 'structural', 'affects', 'lane', 'hydrochloride', 'Doctor', 'superiors', 'peaceful', 'ever-present', 'bout', \"party's\", 'Cossack', 'pigment', 'backed', 'imposed', 'Magazine', '1910', 'cures', 'requests', 'Ancient', 'Contact', 'racial', 'watchdog', 'thief', 'forward', 'binding', 'Constitutions', 'automatic', 'ethereal', 'Schools', 'Marin', 'facade', 'greasy', 'Furthermore', 'judgments', 'altar', 'candidate', 'Buri', 'suburbs', 'analogy', 'warmed', 'Office', 'captain', 'revered', 'Realtors', 'Jensen', '1902', 'diagnosis', 'sped', 'Indianapolis', 'Jay', 'defect', 'Catherine', 'grok', 'suits', 'household', 'reassuring', 'View', 'Blessed', 'domination', 'keeps', 'jokes', 'haunches', 'premise', 'Operation', 'fallout', 'variable', \"O'Banion\", 'repulsive', 'though', 'breath-taking', \"Snow's\", 'glimpse', 'whom', 'tail', 'exactly', 'chalk', 'satellites', 'outbreaks', 'excess', 'aunt', 'expressions', 'huddling', 'mute', 'deployed', 'understandably', 'sufficiently', 'Athens', 'Heat', 'unifying', 'Crisis', 'unaided', 'God', 'irregularity', 'potential', 'Macbeth', 'envied', 'Istanbul', 'cross-licensing', 'biggest', 'publisher', 'closer', 'legislature', 'communicating', 'decree', 'accusation', 'Warwick', 'pride', 'shaping', 'glibly', 'wages', 'washing', 'fight', 'elution', 'vents', '$900', 'volunteer', \"Newton's\", 'brave', 'filtered', 'Barker', 'developing', 'acre', 'disorder', 'Lalaurie', 'Far', 'detached', 'DLINE', 'Christiana', 'Lemon', 'pin', 'confirm', 'Connecticut', 'desks', 'closing', 'oxygen', 'Cross', 'conveyor', 'redemption', 'fountains', 'follower', 'marriages', 'ankle', 'outright', 'joke', 'shortcomings', 'digestive', 'attorney', 'buried', 'Eric', 'Aviation', 'Past', 'intensifiers', 'Hesiometer', 'crimes', 'extended', 'gasps', 'Wallace', 'curvature', 'reputedly', 'tenants', 'crushed', 'butted', 'tolerated', 'Concerto', 'algebraically', 'hummed', 'Evening', 'attend', 'polls', 'Brodie', 'Evidence', 'salutary', 'Julian', 'permissive', 'Dynafac', 'romance', 'amendments', 'psychologically', 'fascinating', 'bloomed', 'erudite', 'declaring', 'self-control', 'shores', 'abject', 'Again', 'disciple', 'math', 'drowned', 'penetration', 'bronchial', 'welcome', 'rationalism', 'Prosecutor', 'paced', 'grades', 'expenditures', 'enthusiasm', 'sheepskin', 'early', 'drawn', 'Presidency', 'Corp.', 'anti-Communist', 'fixture', 'Somerset', 'burden', 'obelisk', 'unbearable', 'sub-interval', 'conserve', 'Sixties', 'Muslim', 'quarry', 'hostilities', 'plastered', 'resentful', 'flannel', 'senators', 'borrowing', 'kind', 'Route', 'theft', 'Mitchell', 'One', 'daylight', 'inexorably', '500,000', 'bas-relief', 'entrenched', '1961', 'comment', 'A.B.', 'clad', 'steer', 'Chester', 'stockings', 'Human', 'Boeing', 'sly', 'eighteen', 'owned', 'velocity', 'flyer', 'however', 'to-day', 'roam', 'scholarships', 'Getting', 'compounded', 'still', '$300', 'leave', 'Plans', 'lengths', 'warmly', 'Millie', 'carload', \"men's\", 'staining', 'survive', 'royalty', 'distinctly', 'penance', 'zealously', 'amazing', 'Beneath', 'archaic', 'confessing', 'district', 'sundown', 'of', 'science', 'military', 'hull', 'non-fiction', 'Carefully', 'worst', 'aunts', 'wreaths', 'Consider', 'Everyone', 'crowding', 'cleaned', 'inaugurated', 'true', 'Jan', 'imagines', 'architectural', 'Jenkins', 'sum', 'findings', 'reservation', 'death', 'defendant', 'Either', 'dusting', 'Philharmonic', 'dozen', 'antagonists', 'killing', 'Washizu', 'twenty-eight', \"society's\", 'cherished', 'alleging', 'drawers', 'incepting', 'Section', 'stranded', 'startlingly', 'antiquated', 'condemning', 'Hans', 'exposure', 'Seattle', 'Shelley', 'succeed', 'propel', 'explanations', 'decided', 'sought', 'sparkling', 'undisturbed', 'bedside', 'justify', 'collaborated', 'Rev', 'inauguration', 'opened', \"Maris's\", 'overthrown', 'Calcutta', 'unsuitable', 'hotter', 'forehead', 'fruitless', 'attribute', 'Guilford-Martin', 'N.C.', 'engaged', 'edifice', 'prisoners', 'realize', 'overrun', 'scandalized', 'displace', 'sued', 'Szold', 'readers', 'telephoned', 'expects', 'Tammany', 'correctness', 'pajamas', 'proscription', 'betray', 'expenses', 'roaring', 'Sanitation', 'filed', 'Jennings', 'salary', 'serves', 'wiry', 'blown', 'Basic', 'Anniversary', 'by', 'surprise', 'manufactured', 'refinement', 'barring', 'introductory', 'Hero', 'blond', 'information', 'successor', 'Wollman', 'afraid', 'taxation', 'Sacred', 'unspecified', 'incident', 'powers', 'bears', '1582', 'unworthy', 'Delinquency', 'Add', 'Schillinger', 'keyed', 'Voice', 'countrymen', 'schoolhouse', 'long', 'folded', 'claws', 'gracefully', 'Cologne', 'naval', 'tubes', 'Wyatt', 'books', 'Churches', 'endorsed', 'Aricaras', 'vaginal', '1863', 'choppy', 'Wrigley', 'esthetics', 'Chestnut', \"women's\", 'tart', 'eleventh', 'Stars', 'Clean', 'coordinated', 'Ash', 'recounts', 'installed', 'tubular', 'Francisco', 'calls', 'proprietors', 'illustrious', 'Cuban', 'rod', 'call', 'selves', 'roads', 'Application', 'existed', 'coughing', 'procured', 'presumptuous', 'merchandise', 'swells', 'operators', 'segments', 'village', 'mirrors', 'Angels', 'designed', \"horse's\", 'reasoning', 'prolusion', 'survived', 'glued', 'eyeing', 'ozone', 'Coming', 'deductive', 'greatcoat', 'stubborn', 'expense', 'furnish', 'Fiorello', 'quadric', 'Frenchman', 'Blake', 'models', 'aesthetic', \"bull's-eyes\", 'Girl', 'burrow', 'spouses', 'housewife', 'Also', 'palace', 'triamcinolone', 'listener', 'Molotov', 'Charlottesville', 'ants', 'Praisegod', 'feet', 'Orthodoxy', 'officer', 'soda', 'benches', 'soften', \"Patrick's\", 'facets', 'science-fiction', 'ranks', 'gouging', 'seating', 'vague', 'Turn', 'Swing', 'blindly', 'Supply', 'Pfaff', 'bombs', 'Baltic', 'Nature', 'permits', 'theme', 'Union', 'fluorescent', 'coasts', 'Actual', 'match', 'mg', 'Barnes', 'Nine', 'Version', 'Proof', 'provoke', 'modular', 'insecure', 'inferior', 'costume', 'morphological', 'persons', 'Commissioner', 'merged', 'abstractions', 'Orlick', 'background', 'Wright', 'enchantment', 'warmer', 'Dag', 'rots', 'attacker', 'so', 'mopping', 'place', 'knuckles', 'coast', 'melodies', 'targets', 'decisions', 'filters', 'ghost', 'Missiles', 'nation-wide', 'overload', 'kwhr', 'most', 'Buddha', 'tuning', 'IBM', 'Terms', 'buys', 'Ernie', 'stolen', 'component', 'eternity', 'Af-fold', 'Extensive', 'Headquarters', 'uninterrupted', 'dominance', 'cringing', 'retreated', 'shopping', 'lie', 'steeple', 'Bondi', 'happier', 'participating', 'undefined', 'suspect', 'drunks', 'residence', 'helplessness', 'delivered', 'considering', 'Person', 'uncertain', 'forefinger', 'despise', 'outline', 'officials', 'Carolinians', 'neighbor', \"Jess's\", 'Measure', 'wherein', 'threaded', 'streak', 'nozzle', 'outgoing', 'utilities', 'philosophy', 'ignorant', 'Max', 'evident', 'violating', 'cumbersome', 'submarine', 'Sabella', 'consummation', 'anti-Semitism', 'workouts', 'ahead', 'Fiberglas', 'desolation', 'eggs', 'Meek', '7070', 'Fran', 'responsibility', 'welded', 'observing', 'August', 'Non-Catholics', 'net', 'dates', 'intends', 'gentile', 'charcoal', 'shaved', \"Morse's\", 'unscrupulous', 'Example', 'adherents', 'denounced', 'shovels', 'scheme', 'precedents', 'vinegar', 'sting', 'compiling', 'overpayment', 'firmly', 'consumptive', 'command', 'bang', 'imagination', 'Muscovy', 'faithfully', 'placement', 'Hardly', 'Leader', 'progressive', 'comrades', 'tutor', 'practices', 'site', '1944', 'floral', 'greatest', 'boring', \"Mickey's\", 'Elisabeth', 'Chiang', 'interlaced', 'gratefully', 'grandfather', 'delicate', 'sown', 'Talk', 'Winooski', 'Advocate', 'refinements', 'institution', 'wildlife', 'length', 'Instructions', 'Radic', 'mad', 'ballistic', 'Burlington', 'kidneys', 'Westchester', 'nondescript', 'intimate', 'count', 'expected', 'Enright', 'imagery', 'shreds', 'unarmed', 'Delhi', 'unexplored', 'Dictionary', 'burnt', \"Moliere's\", 'salami', 'chuck', 'obstacle', 'canyon', 'whatsoever', 'marries', 'furor', 'Sibylla', 'rector', 'elegance', 'addicts', 'Experimental', 'stamp', 'Due', 'kernel', 'crook', 'broadside', 'mercy', 'assume', 'preparative', 'bothering', 'feathered', 'swarm', 'warrant', 'meeting', 'virtues', 'Palm', 'reputable', 'odd-lot', 'problems', 'Waiting', 'kissing', '63', 'progresses', 'orchestral', 'renovated', 'postcard', 'diameter', 'muster', 'Large', 'Willings', 'prop', 'sheds', 'necessitates', 'cling', 'exhaust', 'qualified', 'responsiveness', 'Gehrig', 'breaks', 'ambiguous', 'condition', 'Jerebohms', 'Anyone', 'shirt', 'linearly', 'disadvantages', 'conquest', 'Giselle', 'denotes', 'manufacturing', 'get', 'used', 'signature', 'indicate', 'one-fourth', 'moon', \"corporation's\", 'Tahoe', 'hormone', '4,000', 'arguing', 'Keo', 'visions', 'parasympathetic', 'Piazza', 'squares', 'incipient', 'understood', 'Back', 'congratulate', 'scandal', 'disaster', 'Books', 'coupler', 'voters', 'specialist', 'Gilbert', 'newborn', 'Beth', 'summon', 'liberate', 'excerpt', 'rigors', 'sweetly', 'congressmen', 'outmoded', 'stems', 'saint', \"manufacturer's\", 'suck', 'now', 'drunkenness', 'recognizing', 'DePugh', 'dashed', 'Patrice', 'ignores', 'redeposition', 'slumped', 'Celtic', \"D'\", 'risked', 'secrets', 'constriction', '70%', 'Defoe', 'patient', 'dignified', 'barrels', 'Principles', 'shore', 'park', 'paints', 'mastery', 'released', 'Buchheister', 'shortsighted', 'affairs', 'specialists', 'furnishings', 'bandage', \"we've\", 'Bobby', 'apparent', 'dilemma', 'James', 'sons', 'celebrities', 'abused', 'yarns', 'missed', 'hospital', 'Circumstance', 'conception', 'Eighty-Four', 'Personally', 'tariff', 'Boxell', 'inexperience', 'Persian', 'symbol', 'complains', 'notes', 'wives', 'helps', 'author', 'heightened', 'storehouse', 'millidegrees', 'notify', 'swings', 'temple', 'deserves', 'janitor', 'Colors', 'play', 'cough', 'potentiality', 'Maguire', 'childishness', 'Dead', 'said', 'troubles', 'lured', 'bristle', 'tells', 'sunset', 'diagonal', 'lavender', \"Atlanta's\", 'Ed', 'swim', 'Harbor', 'professed', 'exchanging', 'learned', 'Lake', 'statue', 'educated', 'thoughtfully', 'jerky', 'forgot', 'waxed', 'pardon', 'Thor', 'radius', 'calf', 'Students', 'nickname', 'one-half', 'Karipo', 'pessimism', 'mg.', 'feminine', 'graces', 'reaches', 'profile', 'Question', 'west', 'armored', 'Knox', 'splendidly', 'Accacia', 'meteorite', '420', 'freed', 'Patricia', 'allow', 'pollution', 'antibodies', 'Straits', 'Car', 'Spinco', 'depositions', 'prepared', 'employees', 'I.', 'caliber', 'behavior', 'tight', 'kindergarten', 'charges', 'merit', 'Marquis', 'scarf', 'relinquished', 'Katharine', 'deeper', 'stepmother', 'dock', 'dromozoa', 'commute', 'anyone', 'Taliesin', 'chapel', 'Teller', 'vue', 'exaggerated', 'dully', 'relying', 'organ', 'Welcome', 'Stickney', 'appreciably', 'Mackey', 'restrained', 'Spurdle', 'tease', 'pre-war', 'Cox', 'shuffle', 'gorgeous', 'saloon', 'deductible', 'commanding', 'purchase', 'Beckworth', 'kicked', 'awaited', 'Her', 'ol', 'easel', 'nonsingular', 'twinge', 'Rimanelli', 'sentence', 'dramatize', 'communist', 'crafts', 'orthodontist', 'ya', 'esthetic', 'centralized', '54', 'lifetime', 'exultation', 'retribution', 're-elected', 'Collins', 'combines', 'averaged', 'thickly', 'Bari', 'redundant', 'fibrous', 'slowed', 'grouping', 'Bankers', 'grain', 'curved', 'scrutinizing', 'gifted', 'entirety', 'documentary', 'theirs', 'sifted', 'screen', 'all', 'sadness', 'Berry', 'shaft', 'leading', \"Orlick's\", 'gentlemen', 'affect', 'terminals', 'bounce', 'concession', 'abstention', 'insularity', \"William's\", 'writers', 'pretending', 'year-round', 'Panama', 'jungle', 'weakened', \"let's\", '1890', 'expand', 'self-help', 'abiding', 'bellboy', 'wealth', 'retreating', 'strikes', 'one-fifth', 'flat', 'Rob', 'Relations', 'than', 'rampant', 'bloodshed', 'chronological', 'ante', 'Equally', 'architect', 'Newbury', 'likened', 'civilizational', 'hindsight', 'necessary', 'thankful', 'temporarily', 'poking', 'Social', 'mechanic', 'conservative', 'fundamentally', 'Silence', \"Keith's\", 'adjustment', 'continual', 'snowstorm', 'interested', 'enormous', 'similarity', 'Read', 'meaning', 'viewpoint', 'Beardens', 'Adolf', 'propagandist', 'liberation', 'knew', 'phrases', 'scarce', 'monument', 'slides', 'texts', 'Andrew', 'secede', 'graduated', 'permeated', 'able', 'strict', 'caravan', 'politicians', 'athletes', 'morals', 'Equipment', 'disappointment', 'satisfying', 'Gospel', 'ordinary', 'reflector', 'deceptive', 'Donovan', 'defenses', 'loosened', 'capitalist', 'positive', 'coordinating', 'pigs', 'Albright', 'glands', 'Beatie', 'Information', 'whining', 'nationally', 'disseminated', 'Kehl', 'dearth', 'persuaded', 'maybe', 'mortar', 'Brannon', 'rest', 'invoked', 'raced', 'Enver', 'built-in', 'official', 'Pocasset', 'verification', 'admirer', 'Right', 'aggression', 'Blvd.', 'broad-brimmed', 'ornaments', 'Various', \"Steele's\", 'Rossoff', 'officially', 'suggestibility', 'brigadier', 'organization', '1905', 'blessed', 'timing', 'affiliated', 'divided', 'Expressway', 'sparkle', 'implying', 'damp', 'dumb', 'Baer', 'emergency', 'datelined', 'thoroughfare', 'allocate', 'giant', 'Bushell', 'descriptions', 'conspicuously', 'Small', 'gubernatorial', 'pocketbook', 'mobilizing', 'crawl', 'cutter', 'cake', 'aborigines', 'invaders', 'composite', 'creaked', 'gained', 'Rusk', 'guards', 'morning', 'boarded', 'boughs', 'Ratcliff', 'Friday', 'specifically', 'verbal', 'Color', 'price-consciousness', 'Inspector', \"That's\", 'mystic', 'reminds', 'Watch', 'consumer', 'rotting', 'performing', 'instructive', 'ecliptic', 'lent', 'attach', 'convince', 'swords', 'promoting', 'lessons', 'establishing', 'explicit', 'Marketing', 'Short', 'blinded', 'Continuation', 'Photos', 'riot', 'beach', 'bottles', 'Bisque', 'formulated', 'tragedies', 'restoring', 'veneration', 'receives', '85', 'devil', 'apples', 'outspoken', 'crown', 'nearest', 'posterior', 'ten-foot', 'anastomoses', 'Francesca', 'tax-free', 'Freight', '75,000', 'performances', 'transported', 'Input/Output', 'booths', 'chick', 'seams', 'mythology', 'monkey', 'caps', 'controlling', 'motivating', 'interrupt', 'circulation', 'edge', 'spectrum', 'rightfield', 'positively', 'comparatively', 'snaked', 'Hawthorne', 'borough', 'squarely', 'coach', 'sow', 'congressman', 'halfback', 'Sure', 'unfolds', 'Score', '5', 'reader', 'falling', 'ducks', 'Ferry', 'alert', 'verdict', 'breeze', 'phrasing', 'interrupted', 'Redoute', 'Wolfe', 'obsession', 'rider', \"Eileen's\", 'grim', 'verified', 'mumbled', 'president', 'Midwest', 'Staff', 'demonstrates', 'extensive', 'Ptolemy', 'Founding', 'Reform', 'crumpled', 'Morocco', 'hospitals', 'bundles', 'traitors', 'Griffin', 'Jo', 'grenades', 'humanist', 'chaos', 'urgency', 'statues', 'Motive', 'Potemkin', 'Protestants', 'despairingly', 'walnut', 'gods', 'changes', 'bet', 'depending', 'crisis', 'marketing', 'variations', 'Move', 'Business', 'expectations', 'guardian', 'pipeline', 'irresistible', 'Lover', 'eradication', 'screwed', 'co-operate', 'Simply', 'territory', 'Presently', 'finding', 'Seems', 'F', 'Index', 'hers', 'diminish', 'timid', 'abdominal', 'Strauss', 'driven', 'red-haired', 'disappointing', 'nineteen', 'utilize', 'Roads', 'Platonic', 'Woonsocket', 'wind', 'occasioned', 'oldest', 'Danish', 'disagree', 'vowel', 'savory', 'peaks', 'mailing', 'membrane', 'suffer', 'Negroes', 'dread', 'superior', 'Governor', 'strengthens', 'raucous', 'secco', 'belts', 'family', 'passionate', 'scowled', 'Savior', 'argues', 'faith', 'individualist', 'bare', 'precedence', 'happiest', 'upper-middle-class', 'dynasty', 'Foods', 'astride', 'possessive', 'suspected', 'Moloch', 'separating', 'ribbon', 'Range', 'contorted', 'create', 'pa', 'R', 'cure-all', 'associate', 'supporting', 'Oscar', 'curious', 'convey', 'Award', 'alien', 'Those', 'signatures', 'airs', 'patted', 'heaved', 'jurors', 'tablespoons', '1818', 'well-known', 'robbers', 'childish', 'selects', 'existing', 'travelling', 'modified', 'required', 'vacant', 'relentless', 'combined', 'Rudolph', 'salve', '12%', 'doubling', 'separated', 'circuit', 'Oersted', 'Cost', 'dome', '1040', 'Brave', 'joy', 'Bench', 'Nazi', 'temperament', 'nowhere', 'love-making', 'Frankie', 'spelled', 'Hendl', 'salad', 'socio-economic', 'noises', 'methodological', 'businessmen', 'Ballet', 'expectation', 'Smithfield', 'stormed', 'constituent', 'involved', 'blacked', '50-megaton', 'radiopasteurization', 'mob', 'Confucianism', 'fortitude', 'divides', 'philosophical', 'moderately', 'sounds', 'manhood', 'studying', 'Dexter', 'magistrates', 'ciliated', 'penned', 'airport', 'Graham', '12,000', \"Company's\", 'cowboys', 'mg/l', 'prison', 'Hayes', 'Rudy', 'wounds', 'Mij', 'Stock', 'patterned', 'tanned', 'tubs', 'egotism', 'Tessie', 'Ukrainian', 'symptoms', \"Bultmann's\", 'permanent', 'chickens', 'legislative', 'bitterness', 'furnishing', 'making', 'greetings', 'fined', 'insignificant', 'pseudophloem', 'Trevelyan', 'Gas', 'But', 'round', 'rope', 'gotta', \"Court's\", 'Sullivan', 'Smoky', '81', 'Agreeable', ':', 'literary', 'eternal', 'vacations', '1600', 'stamps', 'frustration', 'Proceeding', 'patronne', 'rock', 'ignored', 'charged', '381', 'History', 'refused', 'rotating', 'admiration', 'maladjusted', 'cakes', 'unleashed', 'rust', 'keyboard', 'soaring', '$4', 'orchestras', 'courtyard', 'revert', 'babies', '2-1/2', 'Handley', 'nearing', 'testimony', 'substitute', 'streaked', 'restrain', 'robberies', 'sobering', 'seasoned', 'prose', 'blooms', 'triplets', 'let', 'delinquent', 'anarchy', 'stalled', 'hurtling', 'got', 'ramp', \"White's\", 'stormy', 'Outer', 'sunny', 'autoloader', 'Lockheed', 'beautifully', 'purposely', 'Teen', 'Party', 'Coolidge', 'Purvis', 'bleached', \"'58\", 'amen', 'consulted', 'buffered', 'ascertained', 'Data', 'second-rate', 'Martinelli', 'harassed', 'tallyho', 'confirmed', 'Unitarian', 'Dorr', 'Previously', 'regiment', 'administration', 'Molly', 'Text', 'sheep', 'enzymes', 'salvation', 'portrays', 'mare', 'Estella', 'murmured', 'mercenaries', 'few', 'draining', 'remainder', 'distal', 'ministries', 'Albania', 'paid', 'varies', 'beard', 'Ahead', 'Railroad', 'Castro', 'tank', 'hopping', \"Fromm's\", 'unwed', 'ailments', 'closes', 'politely', 'gem', 'mask', 'punctuated', 'Goddamn', 'intellectually', 'Better', 'cooler', 'senator', 'trick', 'subconsciously', 'calculated', 'settled', 'sexuality', 'courteous', 'Check', 'firmer', 'Venus', 'instruct', 'implies', 'Damascus', \"Edward's\", 'prostitutes', 'suffrage', 'powder', 'Midway', 'trailers', 'favor', 'Delaware', 'Spruce', 'regional', 'parish', 'brilliant', 'ion', 'foyer', 'succeeding', 'stronghold', '280', 'Joan', 'Music', 'means', 'surplus', 'Il', 'Byzantine', 'gathered', 'wrote', \"She's\", 'sobered', 'spiritual', 'becomes', 'Doctrine', 'chromium', \"author's\", 'central', 'roadway', 'intimately', 'friendliness', 'deduct', 'Ralph', 'shrinkage', 'Catt', 'gifts', 'quarter', 'flattered', 'ratios', 'distributions', 'Eagles', 'providence', 'Grace', 'lover', 'photography', 'poems', 'wolf', 'Huxley', \"Kornbluth's\", 'boating', 'blocks', 'taxis', 'month', 'Hoot', 'reasons', 'toy', 'trailer', 'avoids', 'endured', 'union', 'detail', 'stem', 'boxes', 'spot', 'specification', 'subservient', 'cheaper', 'occurs', 'cafe', 'faculties', 'tears', 'wash', 'Florentine', 'tore', 'flowering', 'repetitions', 'conditional', 'abolitionists', 'shelters', 'ally', 'amateurish', 'extension', 'banquet', 'Company', 'definitely', 'photos', 'pays', 'Minerals', 'kitchens', 'rivers', 'latter', 'decreased', 'restatement', 'cruiser', 'installation', \"Remarque's\", 'pinned', 'hit', 'Cubism', \"boys'\", 'Multnomah', 'smaller', 'guy', 'mounting', 'explorer', 'slapped', 'tobacco', 'savage', 'cocked', 'men', 'runners', 'establishes', 'mundane', 'rooted', 'basic', '1872', 'Gillespie', 'mails', 'spires', 'Divine', 'startled', 'protest', 'manifestations', 'vivo', 'near', 'Shearing', 'linkage', 'grade', 'four-year', 'Weaver', 'concerted', 'Monet', 'Werner', 'Gold', 'Heydrich', 'Prevot', 'Panza', 'Moreover', 'proportion', 'gentle', 'intermediates', 'buyers', 'novel', 'Conn.', 'Membership', 'one-inch', 'drastic', 'dimension', 'variables', 'missionary', 'thirds', 'Mist', 'upholding', 'probabilities', 'Plate', 'B-70', 'brooding', 'Souvanna', 'system', 'Gorham', 'parked', 'respectability', 'oxide', 'Hawaii', 'reducing', 'recovering', 'obvious', 'woolly', 'scout', 'Toward', 'materially', 'extract', 'natives', 'tips', 'soak', 'engulfed', 'detergent', 'Processing', 'motion', 'attracted', 'instrumentalists', 'embarrassed', 'polyester', 'Simpson', 'flamboyant', 'criminality', 'Anyhow', 'abstracting', 'cherish', 'A.D.', 'Grubb', 'lapse', 'motionless', 'painless', 'ceaseless', 'Fiedler', 'perfectly', 'should', 'sliced', 'Kimmell', 'induces', 'patronage', 'Honey', 'materialism', 'simpler', 'defending', 'Residential', \"worker's\", 'Freud', 'belly', 'grass', 'denies', \"somebody's\", 'kidding', 'poverty', 'airways', 'infamous', '1892', 'portray', 'coaxed', 'deluded', 'segment', 'Democrat', 'indignation', 'Saturn', 'Scriptures', 'workbench', 'cavalry', 'Federation', 'Emergency', 'smoked', 'Karl', 'marker', 'churches', 'efficient', 'impartial', 'certified', 'country', 'pursue', 'push', 'dependable', 'Cutting', 'Span', 'Idje', 'protozoa', 'opium', 'tanks', 'smelling', 'Reef', 'latch', 'inroads', 'worded', 'Clinton', 'Pont', 'fragrance', 'bedroom', 'widowed', 'rationally', 'ornament', 'task', 'jurist', 'tuned', 'annoyed', 'slick', 'Texans', 'sensuality', 'Monday', 'Arctic', 'canvas', 'appearances', 'rapture', 'piercing', 'inquest', 'assaults', 'editorials', 'gallant', 'Devol', 'greater', 'livres', 'Happy', 'sleeping', 'meets', 'Moise', 'Travel', 'holy', 'bludgeon', 'balcony', 'Curia', 'crowd', 'auspices', 'surveying', 'Adios', 'evidence', 'Tucson', 'conveyed', 'Dolores', 'crackers', 'identifying', 'Yankee', 'plow', 'actuality', 'tenuous', '1632', 'End', 'militant', '05', 'throttle', 'catastrophe', 'partially', 'Cliff', 'injury', 'Whitney', 'Fulton', 'pennant', 'ingested', 'appalling', 'demonstration', 'premieres', 'chemicals', 'ballplayer', 'vagueness', 'Sally', 'feared', 'dulled', 'titles', 'coaches', 'powerless', 'discusses', 'disconcerting', 'architecture', 'eqn.', 'Md.', 'idle', 'battery', 'fluids', 'compliance', 'axes', 'irritations', 'Conrad', 'space', 'T', 'Ideas', 'cursory', 'creeping', 'quivering', 'exceptions', 'murderers', '11:20', 'adding', 'Civilization', 'litters', 'simulated', 'bees', 'batten', 'toast', 'await', 'wolves', 'Adriatic', 'friendships', 'boots', 'distaste', 'parkway', 'uppermost', 'offering', 'casually', 'packaging', 'woke', 'certainty', 'Reaching', 'Scottish', 'prominence', 'cardboard', 'vantage', 'instructed', 'steering', 'ad', 'expectancy', 'serum', 'puts', 'clot', 'winner', 'bread', 'progress', 'impudent', 'soundly', 'present-day', 'towering', 'dismal', 'who', 'stroll', 'despair', 'Hoijer', 'reckless', 'utopia', 'transcribed', 'bunk', 'glamor', '1928', 'Kentucky', 'Angel', 'contractor', 'ideally', 'licensing', 'torment', 'presidential', 'padded', 'wishes', 'Completion', 'forthcoming', 'enthusiastic', 'gets', 'Leyte', 'chuckled', 'bulbs', 'toxic', 'eyebrows', 'ethic', 'By', 'rested', 'bridges', 'brown', '70', 'olive', 'investigator', 'guard', '40%', 'pungent', 'hot', 'Jewish', 'Soviets', '1957', 'Animals', 'homer', 'Away', 'nonmetallic', '$150', 'Chemische', 'Don', 'Show', 'anchor', 'random', 'Krogers', 'marshes', 'reluctant', \"Mahler's\", 'Recent', 'veracity', 'stratum', 'embedded', 'designers', 'aerosol', 'mop', 'relies', 'Chesapeake', 'diffraction', 'chambers', 'banged', 'tame', 'Joel', '12', 'concept', 'hides', 'About', 'possibility', 'suffered', 'poetry', 'doormen', 'boot', 'dance', 'knotted', '$25,000', 'recollections', 'stubby', 'blushing', 'blurred', 'fascination', 'actually', 'rural', 'overt', 'floorboards', 'pop', 'juicy', 'dive', 'Benny', 'Maple', 'pick-up', 'worries', 'solidarity', 'Wheelock', 'October', 'superfluous', 'Funeral', 'Current', 'throughout', 'psyche', 'different', 'Persia', 'myth', 'clients', 'born', 'Gibson', 'fabrication', 'Till', 'versions', \"California's\", 'System', 'Willamette', 'officiated', 'magnetic', 'centrally', 'Marxist', 'prolusions', 'snort', \"Faulkner's\", 'prime', 'placid', 'chair', 'Monroe', 'Kohnstamm', 'parents', 'Messrs.', 'self-consciousness', 'sixty-five', 'planet', 'self-unloading', \"'im\", 'Chart', 'Wednesday', 'departures', 'Skeletal', 'sculptures', 'waspish', 'entrepreneur', 'Purdew', 'bones', 'Blackwell', 'Alsatian', 'Ave.', 'ordained', '48', 'unilateral', 'religiously', 'interfered', 'Dana', 'Bearden', 'weighing', 'raised', 'panels', 'noting', 'Kingdom', 'words', 'accused', 'right-hand', 'non-violent', 'presidency', 'Ramey', 'strike', 'derive', 'profoundly', 'Series', 'splashing', 'interview', 'Design', 'foster', 'stays', 'Table', 'inhabited', 'rehearsal', 'anticipation', 'Ramsey', 'transform', 'rallies', '$1,500', 'emotional', 'Wilmington', 'robbery', 'Camaret', 'Tom', \"there's\", 'burgeoning', 'modifications', 'deducted', 'stars', 'Hollywood', 'Having', 'Chris', 'bass', 'sings', 'C-plane', 'Days', 'ballot', 'plodding', 'conferences', 'temptations', 'lone', 'anachronism', 'autobiography', 'sucked', 'served', 'America', '1919', 'tender', 'Podger', 'significantly', 'regulation', 'automation', 'downed', 'Increases', 'generous', 'aimless', 'Continuous', 'curbing', 'attraction', \"another's\", 'songs', 'indicators', 'Call', 'anticipate', 'saving', 'compensation', 'humiliating', 'initiated', 'requirements', 'hospitalization', 'Outing', 'b', 'initiating', \"navy's\", 'unexpectedly', \"'50\", 'race', 'variant', 'dispersed', 'competently', 'peer', 'Chamber', 'Democratic', 'left-handed', 'Norberg', 'borderline', 'Ellis', 'mission', 'tighten', 'vapor-pressure', 'went', 'captive', 'interferometer', 'occurring', \"sun's\", 'returns', 'denouncing', 'ones', 'struck', 'prisoner', 'Africans', 'radar-controlled', 'bestowal', 'cautiously', 'wet', '1923', 'Hampshire', 'anxiously', 'Fields', 'mine', 'bee', 'damned', 'forum', '10,000', 'trade', 'garments', 'homosexuals', 'Demon', '$10,000', 'obscurity', 'disapproval', 'f{t}', 'pavilion', 'charted', 'bargains', 'thousands', 'Helen', 'interviewed', 'blocked', 'wove', 'inherit', 'Rosenberg', 'proposing', 'sciences', 'Nishima', 'romantics', 'nothin', 'straighten', 'niggers', 'paved', 'oil', 'fronts', 'forty-four', 'Quarter', 'orthodontists', 'vain', 'Public', 'duel', 'Himself', 'myriad', 'inhibitions', 'beauties', 'Irenaeus', \"They're\", 'invitations', 'awkwardly', 'Falling', 'wilt', 'advising', 'elemental', 'corpus', 'obey', 'Ten', 'Snakes', 'attorneys', 'warmth', 'Gentleman', 'suspects', 'situation', 'rowdy', \"O'Connor\", 'objections', 'carpets', 'troupe', 'Agency', 'Subject', 'aging', 'less', 'scratching', 'promotes', 'tightened', 'adjournment', 'applicable', 'maze', 'puzzles', \"ain't\", 'letting', 'forming', 'minds', 'candidates', 'Knife', 'Peony', 'agreed', 'Elsie', 'topped', 'veils', 'States', 'clarified', 'al', 'retirement', 'expressive', 'streaks', 'banister', 'Homicide', 'Negro', 'absent', 'outrages', 'twelve', 'Ethel', 'underneath', 'Likewise', 'negotiate', 'accompanied', 'epithets', 'Treasury', 'Thoughts', 'Sheep', 'relativistic', 'ridiculous', 'seals', 'thou', 'shockingly', 'distinctive', 'dimensional', 'plugged', 'strung', 'vowels', '$14', \"blonde's\", 'cannery', 'township', \"Angel's\", 'unwillingness', 'half-hour', 'suffice', 'intentions', 'Preserving', 'inclusive', 'indisposed', 'credited', 'trying', 'aristocracy', 'Experiments', 'unconditional', 'patiently', 'meadows', 'Winchester', 'persistent', 'London', 'Osaka', 'consumed', 'day-to-day', 'lavishly', 'millennia', 'seizure', 'hostile', 'raft', 'takes', 'occurrence', 'containing', 'announcing', 'Newcomers', 'brute', 'athlete', 'messy', 'tuberculosis', 'self-defense', 'rugged', 'H.M.S.', 'impression', 'underworld', 'poetry-and-jazz', 'chemists', 'torquers', '1610', 'priceless', 'Hotel', 'triumphantly', 'projections', 'immersed', 'typography', 'Production', 'neighborhood', 'Kafka', 'gin', 'heads', 'accounted', 'boatswain', 'find', 'consolidated', 'grey', 'Bridget', 'margins', 'liquid', 'sharing', 'avoidance', 'interface', 'prescribe', 'choreographer', 'coronary', 'wake', 'claimed', 'Cotton', '17', 'teaches', \"'round\", 'colleague', 'reciprocal', 'Met', 'alienated', 'Eileen', 'avenues', 'Fosdick', 'land', 'clergy', 'patriotic', 'Hernandez', 'Commander', 'Requests', 'trenchant', 'Bizerte', 'perpetuate', 'Schwarzkopf', 'communes', 'Just', 'rig', 'discrete', 'Fletcher', 'Thereafter', 'draped', 'tsunami', 'spree', 'hurts', 'shear', 'tied', 'prairie', 'pitched', 'static', 'wholesale', '28', 'frankness', 'Once', 'Pawtuxet', \"Vernon's\", 'Evanston', 'guttural', 'at', 'discouragement', 'Arriving', 'Kimpton', 'witnessing', 'impatiently', 'Aircraft', 'criminal', 'adds', 'entity', 'butyrate', 'effect', 'tables', 'holding', 'Composite', 'Fat', 'counsel', 'goaded', 'pioneer', 'vacationing', 'breach', 'raged', 'pretext', 'metals', 'evoked', 'severity', \"one's\", 'nerve', 'inflection', 'Marble', 'LaGuardia', 'drive-in', 'communicated', 'missionaries', 'rivalry', 'Blues', 'disc', 'dictatorship', 'tossing', '52', 'snatch', 'anthropology', 'Albany', 'jejunum', 'pans', 'meaningless', 'feverish', 'candidacy', 'Earlier', 'sports', 'gay', 'avoid', 'inhuman', 'super', 'vibrant', 'baggy', 'Its', 'distinction', 'Radio', 'desire', 'Your', 'antigen', 'Milstein', 'tract', 'Manhattan', 'roots', 'urethane', 'Salter', 'totally', 'associated', 'Hanging', 'input', 'swirling', 'voltage', 'Burns', 'Gonzales', 'ten', 'brought', 'reading', 'shooting', \"baseball's\", 'Aristotle', 'Code', 'fermented', 'lugged', 'adequate', 'watersheds', 'Committees', '1859', 'justifying', 'helper', 'collects', 'frightful', 'harder', 'character', 'courtiers', 'value', 'orthographic', 'bloc', 'manufacturers', 'physics', 'immediate', 'glimmer', 'shines', 'Masaryk', 'attractions', '27', 'ear', 'earned', 'directorate', 'cry', 'Evans', 'grasp', 'freeholders', 'cobra', 'tactics', 'Perfect', 'transformed', 'fearless', 'engraved', 'supportive', 'armchair', 'resuspended', 'ask', 'cars', 'tradition', 'tangent', 'Arp', 'Hirey', 'sue', 'Products', 'dubbed', 'sovereignty', 'Courtier', 'Conversely', \"months'\", 'Jeff', 'psychological', 'resonances', 'deliberately', 'aflame', 'positivist', 'achievements', 'Love', 'genteel', 'Senior', 'shrilly', 'toilet', 'spouted', 'wait', 'condemnation', \"daughter's\", 'Reuveni', 'boasting', 'rinse', 'layers', 'premises', 'facing', 'reckon', '7-1', 'palette', 'quarrel', 'apple', 'doorman', 'Stanton', 'Paris', 'ought', 'Traveling', 'button', 'dialogue', 'coupled', 'commentary', 'Often', 'dugout', 'Writers', 'sketching', 'series', 'Moriarty', 'application', 'one-shot', 'ski', 'livestock', 'milder', 'golf', 'Heiser', 'anymore', 'princess', 'following', 'regulating', 'proud', 'voyage', 'Dale', 'bland', 'Poetics', 'minerals', 'testifies', 'supplying', 'growing', 'underground', 'refuses', 'Napoleon', 'coined', 'assignments', 'laudanum', 'Legislature', 'Hartweger', 'unconventional', 'derives', 'jacket', 'withdrawn', 'ant', 'garden', 'traits', 'Besides', 'ventures', 'duffel', 'repeal', 'opus', 'ensembles', 'regret', 'mineral', 'purchases', 'Protection', 'Cappy', 'happenings', 'nut', 'injection', 'differs', 'Palfrey', 'strands', 'sketches', 'overhead', 'Have', 'drops', 'excerpts', 'trimmings', 'Accordingly', 'major', 'Tussle', 'satiric', 'Spain', 'Dame', 'Confederate', 'Russian', 'pronouns', \"lieutenant's\", 'vaulting', 'old-fashioned', 'having', 'northwest', 'hotel', 'religions', 'anti-monopoly', 'Kenneth', 'Frontier', 'practicable', 'achieves', 'Middle-South', 'yours', 'Utopian', 'balloon', 'crystallization', 'thus', 'drier', 'sheriff', 'Trees', 'state', 'sharp', 'suspended', 'Prairie', 'interdependence', 'Roebuck', 'Miss', 'English', 'Communications', '7070/7074', 'dramas', 'wearing', \"she's\", 'Common', 'descend', 'heap', 'meaningful', 'masks', 'Dean', '1942', 'ease', 'ft.', 'drawer', 'Easy', 'veil', 'states', 'propaganda', 'incestuous', \"Willie's\", 'non-Catholic', 'disturbing', '1950', 'Book', 'Englanders', 'Smith', 'nobody', 'inventory', 'disrupted', 'culminates', 'irritated', 'interfering', 'Boris', 'lawmakers', 'Structures', 'them', 'arithmetic', 'cargo', 'authoritative', 'Introduction', 'shapes', 'Coombs', 'bucks', 'Moreland', 'sagging', 'insofar', 'prosecuted', 'earthly', 'while', 'symbolic', 'hillbilly', 'smoothly', 'shoving', 'flurry', 'Flannagan', 'exceed', 'incite', 'treaties', 'embrace', 'Venice', 'assumes', 'terrier', 'Meaning', 'competition', 'Active', 'disadvantage', 'pursed', 'essence', 'shadows', 'Pass', 'Sol', 'particles', 'elevated', 'circulated', 'strengthen', 'acute', 'dummy', 'technicians', 'pilgrim', 'behind', 'bangs', \"It'll\", 'burst', 'inventories', 'choice', '1864', 'fuzz', 'ellipsoids', 'Han', 'typhus', 'IOCSIXG', 'conclusion', 'strengthening', 'Polaris', 'Nantucket', 'Health', 'male', '24', 'Hammarskjold', 'incomparable', 'Lucy', 'retain', 'hood', 'test', 'projection', 'Nor', 'microscopy', 'bond', 'majestic', 'Jenks', 'Dreadnought', 'mammals', 'Congo', '900', 'expiration', 'redhead', 'Shakespeare', 'functional', 'penetrate', '37', 'darling', 'eyes', 'payable', 'grant-in-aid', 'paste', 'nuts', 'There', 'tents', 'Terry', 'arrested', 'infections', 'clothing', 'location', 'four', 'correctly', 'excitement', 'denoting', 'hurdle', 'auction', 'frail', 'Cried', 'remain', 'Net', 'ghetto', 'unit', 'pronounced', 'Conscience', 'Protestant', 'Kohnstamm-negative', 'topical', 'Society', 'hears', 'gear', '1850', 'foreman', 'buffet', 'antithyroid', 'categorical', 'Evadna', 'Voltaire', 'port', 'resides', 'advancement', 'unsolved', 'intervention', '300,000', 'late', 'Courtenay', 'monstrous', 'Rich', 'users', 'plush', 'uncover', '1958', 'compromise', 'flatly', 'Throneberry', 'conductivity', 'News', 'spacers', 'reticulate', 'displaying', 'frontiers', 'American', 'Farmers', 'chisel', 'Experiment', 'threatens', 'turned', \"Maggie's\", 'Vietnamese', '1922', 'ceremony', 'Kansas', 'declined', 'Stronghold', 'probes', 'determine', 'payment', 'exclusive', 'shots', 'dictate', 'Minnett', 'propagandists', 'nephews', 'Dumont', 'monologue', 'stink', 'Opportunities', \"West's\", 'gram', 'parenchyma', 'months', 'infinite', 'suppositions', 'Cotten', 'Koreans', 'snow', 'games', 'straw', 'occupant', 'cemented', 'Robbery', 'working-class', 'hospitable', 'industries', 'lingering', 'thud', 'governed', 'asked', 'patriot', 'cleverly', 'quiet', 'Exchequer', 'conversely', 'proprietorship', 'ascertain', 'allotment', 'curiously', 'employed', 'floods', 'Presidential', 'decorations', 'Biological', 'correct', 'Words', 'cast', '111', 'Microscopically', 'Stand', 'revolver', \"won't\", 'dew', 'Summary', 'Acropolis', 'keenly', '(', 'dry', 'reductions', '90-degrees', 'provincial', 'Viola', 'compulsive', 'flew', 'Young', 'finale', 'Danes', 'ninth', 'psychologist', 'usual', 'repelled', 'Ensign', 'competitor', 'ecstatic', 'entropy', 'discipline', 'clearing', 'tub', 'freeze', 'obtain', 'compose', 'surrounded', 'embassies', 'disruption', 'technique', 'Santayana', 'exported', 'interpreted', \"Monday's\", 'age', \"coroner's\", 'Always', 'wreck', 'taken', 'nocturnal', 'observed', 'Erhart', 'disordered', 'enemies', 'Scott', 'Ninth', 'tactic', 'talks', 'correlated', 'francs', 'fondness', 'bunker', 'shiver', 'volunteered', 'Clearly', 'in', 'checkbook', 'screeched', 'stuffed', 'inconsistent', 'unwittingly', 'watershed', 'rates', 'approaches', 'supplementary', 'Money', 'questions', 'afternoon', 'assaulted', 'Jan.', 'nationals', 'presented', 'generalization', 'water', 'Islam', 'lovers', 'considerably', 'Councilman', 'lacy', 'incest', 'rotated', 'Change', 'pigments', 'visiting', 'device', 'strikingly', 'several', 'bud', \"Respondents'\", 'prophesied', 'Orvis', 'historians', 'lever-action', 'proximity', 'wildcat', 'missiles', 'congruent', 'controls', 'smoother', 'turquoise', 'tablespoonful', '3.5', 'gravest', 'Ronald', 'familiar', 'cadre', 'potatoes', 'lens', 'bum', 'Combine', 'carrots', 'rivalries', 'g', 'Steinberg', 'crossing', 'whiskers', 'coasted', 'Artie', 'Papa-san', 'timber', 'good-bye', 'coolest', 'Capital', 'derivation', 'butt', 'relinquishing', 'pope', 'genuinely', 'Peerless', 'artists', 'Cover', 'tripled', 'cautious', 'Trade', 'Allied', 'sun', 'Changing', 'settings', 'whirl', 'gelding', 'Sultan', 'travels', 'predictive', 'bosom', 'yell', 'arises', 'During', 'irons', 'assert', \"Antoine's\", 'Cattle', 'Cincinnati', 'diffusion', 'nemesis', \"Picasso's\", 'Pretty', 'others', 'extruded', 'Stratton', 'Gen.', 'Madeleine', 'paintings', 'deduce', 'twenty-three', 'whipping', 'This', 'Dalton', 'Town', 'Tumor', 'flat-bed', 'Carl', 'unstable', 'insisting', 'mules', 'Derby', 'quieter', \"Negro's\", 'Beach', 'fortunes', 'troublesome', 'attempts', \"You'd\", 'S', 'defense', 'diagrams', 'win', 'breakthrough', 'Discovery', 'miniature', 'preparations', 'Tomas', 'Deer', 'Twice', 'Custom', 'Los', 'Association', 'traders', 'Northerner', 'recalling', 'flames', 'thread', 'debut', 'Androfski', 'embracing', 'Berle', 'Toys', 'bus', 'Revenue', 'teeth', 'sample', 'epitomized', 'U.N.', 'Say', 'pastime', 'proponents', 'occupying', 'censorship', 'transformation', 'suspend', 'Melzi', 'Capitalism', 'Barnett', 'jig', 'cookie', 'Sukarno', 'grownups', 'nymphomaniac', 'loan', 'story', 'stumbling', 'Grafton', 'Nathan', \"mayor's\", 'Houk', 'constellations', 'culmination', 'drywall', 'summers', 'picked', 'gaining', 'Grounds', 'Tony', 'mink', 'schizophrenic', 'maid', 'helpful', 'booth', 'one', 'traditional', '1920', 'Meltzer', 'term', 'keel', 'buff', 'adjust', 'difficulties', 'Vernava', 'pebbles', \"war's\", 'planned', 'frustrations', 'Southeast', 'mainland', 'interwoven', 'way', \"it'd\", 'enters', 'pierced', 'teams', 'knelt', 'offshore', 'bell', 'secretion', 'telephone', 'NCTA', 'indoor', 'definitions', 'RCA', 'career', 'improvements', '$500,000', 'kingdom', 'contrasts', 'treacherous', 'foamed', 'a.m.', 'boats', 'disability', 'violinist', 'apparently', 'whispered', 'certainly', \"Curzon's\", 'Said', 'resistance', 'popular', 'sulky', 'ballad', 'journal', 'equality', \"More's\", 'pie', 'unnamed', 'arylesterase', 'plate', 'toilets', 'salted', 'proclaiming', 'inversely', 'Monel', 'Very', 'accident', 'questionnaire', 'pall', 'Happened', 'glorious', 'Recognizing', \"kid's\", 'Anglo-Saxon', \"mustn't\", 'Sprague', 'Strange', 'completion', 'Momoyama', 'poultry', 'wobble', 'excommunicated', 'viewpoints', 'documentation', 'sensations', 'excitatory', 'Montreal', 'unloading', 'Metrecal', 'clambered', 'sew', \"Kaiser's\", 'prevail', 'Marina', 'craters', 'comes', 'Mt.', 'oilseeds', 'brood', 'ablaze', 'valid', 'Student', 'emerges', 'Meredith', 'restraint', 'vacated', 'leering', 'Deacon', \"Drug's\", 'funny', 'underside', 'cracking', 'internationally', 'nation-state', 'Communists', 'mm.', 'nuances', 'Taking', 'Tuxapoka', 'pioneered', 'rebels', 'Hemus', 'Godwin', 'orders', 'backward', 'hesitate', 'grandchildren', 'eleven', 'area', 'oxidation', 'threats', 'Sounds', 'lyrical', \"goin'\", 'wept', 'lawyers', 'rewarded', 'upholstery', 'polarized', 'excellence', 'preacher', 'clattered', 'evidences', 'Year', 'Urethane', 'pink', 'Kay', 'access', 'Class', 'turkey', 'announcement', 'flax', 'Machine', 'Coughlin', 'Seated', 'carried', 'flowing', 'cooling', 'withheld', 'sentenced', 'players', 'Blanche', 'Oddly', 'shattered', 'award', 'Ole', 'noise', 'persistence', 'Sicilian', 'Peter', 'Feeley', 'occupants', 'diplomat', 'coldly', 'compiled', 'try', 'Mainland', 'matching', 'lbs.', 'enact', 'Partlow', 'proliferation', 'commitment', 'thence', 'advice', 'postponing', 'cited', 'transfusions', 'sane', 'sprinkling', 'breakdowns', 'blended', 'felt', 'enter', 'pony', 'Igbo', '1883', 'introduction', 'gadget', 'advantageous', 'Mare', 'curricula', 'classmate', 'Columbus', 'Damned', 'oaths', 'liability', 'goals', 'pickup', 'Sheldon', 'chord', 'heroes', 'leaped', 'sighing', 'carcass', 'Leadership', 'bone', 'Gaieties', 'betrayal', 'sickness', 'pure', 'dynamics', \"Bonn's\", 'machinist', 'Jarrodsville', 'Place', 'chocolate', 'Winter', 'fashionable', 'begged', 'Laos', 'newspapers', 'Currency', 'overalls', 'choke', 'simplicity', 'me', 'colonnade', 'dilapidated', 'geographically', 'divinely', 'convictions', 'Space', 'mechanical', 'emphasizes', 'preferential', 'stimulating', 'Funk', 'decorator', 'onion', 'second', 'McKinley', 'father', 'Affairs', 'badge', 'passions', 'unsatisfactory', \"10''\", 'pupil', 'jeopardy', 'sensible', 'Judith', 'Aunt', 'Rights', 'barbed', 'elected', 'arches', 'weakness', 'Harcourt', 'Put', 'beside', 'Bruce', 'Bush', 'sadly', 'Longhorns', 'thrust-to-weight', 'cribs', 'Hohlbein', 'telegrapher', 'grotesquely', 'escaping', 'ultracentrifuge', 'sticking', 'joints', 'Sandalphon', 'sandy', 'Finding', 'gleamed', 'swept', 'ceremonies', 'appears', 'Truman', 'Pete', 'smiling', 'electrophoresis', 'alterations', 'Peninsula', 'DTF', 'damnation', 'bands', 'alligator', 'cheese', 'gratified', 'tumbled', 'Gannett', 'anew', 'Cornell', 'reviewed', 'item', 'confidential', 'freehand', 'Doyle', 'undisciplined', 'swirled', 'genesis', 'Nile', 'subjects', 'charity', 'hr', 'Oriole', \"Rameau's\", 'open-mouthed', 'disliked', \"Jonathan's\", 'steel', 'Arger', 'Danny', 'Leverkuhn', 'stripes', 'even', 'electors', 'tissues', 'Boards', 'contestants', 'enterprise', \"transferor's\", 'stability', 'chilling', 'ship', 'Immigration', 'triumphs', 'Finney', 'overgrown', 'bravery', 'perceives', 'IOCSIXF', 'fishermen', 'kissed', 'foe', 'transpired', 'emphasis', 'ecstasy', '1901', 'preventing', 'Certain', 'edition', 'hoop', 'resisted', 'generalized', 'pathology', 'bounced', 'range', 'murmuring', 'sensational', 'trim', 'filtering', 'GOP', 'AWOC', 'Others', 'trades', 'Camp', 'stick', 'Stettin', 'coconut', 'severe', 'Golden', 'guests', 'copy', '0.2', 'contradictions', 'calving', 'Garcia', 'focus', '26', 'energetic', 'Into', 'undo', 'Tilghman', 'then', 'pressing', 'refrigeration', 'builders', 'confer', 'raked', 'multiplied', 'eighty', 'ages', 'Cheyennes', 'coloring', 'tungsten', 'bearing', 'Nischwitz', 'debt', 'thrill', 'roses', 'Thirties', 'pulse', 'fanaticism', 'windowless', 'AIA', 'encouragement', 'Jake', 'compliments', 'de', 'heel', 'treating', 'lacking', 'Shy', 'conservatives', 'hell', 'sandwich', 'freight', 'added', 'Giuseppe', 'revolved', 'astronomy', 'outsiders', 'librarian', 'percentages', 'surged', 'militia', 'forceful', 'TNT', 'spirits', 'representative', 'suitably', 'Palladio', 'insufficiently', 'mild', 'salesmen', 'Club', 'expanding', 'identify', 'placing', \"game's\", 'tack', 'Israel', 'habitants', 'inlets', 'sired', 'starved', 'Kizzie', 'wagon', 'airy', 'modifier', 'Majdanek', 'falls', 'places', 'nation', 'juvenile', \"host's\", 'trustees', 'Tuesday', \"Carl's\", '30,000', 'precisely', \"I'm\", 'continuously', 'monastic', 'Sheeran', 'remind', 'sag', 'dipper', 'seek', 'low', 'osmotic', 'withdrew', 'six', 'painters', 'bizarre', 'phases', 'researchers', 'enable', 'Memorial', 'thighs', 'sourly', 'bevy', '1611', 'parallelism', 'increasing', 'Peale', 'uniformity', 'Blakey', 'reassured', 'principal', 'Vice', 'midst', \"prisoners'\", 'yarn', 'Furious', 'thanking', 'chances', 'Flory', 'devoting', 'to', 'envy', 'exerts', 'end', 'Theodore', 'Trig', 'espionage', 'Minister', '72', 'doubtful', 'strictly', 'quoted', 'class', '$3,000', 'Overlords', 'decidedly', 'Nonetheless', 'wailed', 'melodramatic', 'sniffed', 'streams', 'ideal', 'draws', 'butts', 'actively', 'define', 'blurted', 'Nellie', 'Taylor', 'attendants', 'lunged', '1914', 'trouble', 'soluble', 'collaborators', \"O'Neill\", 'hurling', 'madrigal', 'Katie', 'exercising', 'gardener', 'incessant', 'Milton', 'commissioner', 'commencing', 'mule', 'blinked', 'opportunities', \"C'mon\", 'calibration', 'Westminster', 'whisky', 'synagogue', 'relieve', 'subtleties', \"He's\", 'weather', 'meetings', 'causes', 'inverse', 'Price', 'well-meaning', 'Well', 'cocktail', '$28', 'cotton', 'puzzle', 'render', 'resolute', 'Prize', 'orderly', 'applause', 'pumping', 'membership', 'restorative', 'Pharmacy', 'jurisdictional', 'keen', \"Georgia's\", 'floc', 'Golf', 'malaria', 'employee', 'morally', 'lb', '41', 'innocently', 'grinned', 'explaining', 'refined', 'scholastic', 'stop', 'bay', 'worrying', '50%', 'filmed', 'partial', 'Bayreuth', 'Shann', 'over/under', 'oats', 'louder', 'span', 'steadier', 'disarming', 'inclusion', 'card', 'starving', 'enforce', 'Herb', 'misgivings', 'flown', 'Andover', 'substantial', 'overheard', 'promised', 'sympathetically', 'memory', 'kerosene', 'allocation', 'Board', 'Ledoux', 'one-third', 'Viscount', 'dangerous', 'Immediately', 'understands', 'episodes', 'completes', 'perched', 'shuffling', 'RDWS', \"sheriff's\", 'Hwang', 'twirler', 'ounce', 'indignities', 'saw', 'coincided', 'unawareness', 'high-priced', 'curb', 'depth', 'theaters', 'stiffly', 'Five', \"Isn't\", 'says', 'anyway', 'suites', 'conceal', 'ballets', 'Meeting', 'selected', 'mid', 'essay', 'petty', 'Conferences', 'stomachs', 'rationalize', 'Hitler', 'lonely', 'Ruger', 'Walking', 'sofa', 'creating', 'skywave', 'posed', 'responded', 'fast', 'Rumor', 'incandescent', 'eaten', 'car', 'chosen', 'frighten', 'advancing', 'evaluating', 'unfortunately', 'face', 'mortality', 'trilogy', 'interfaces', 'crammed', 'we', 'Stavropoulos', 'Knights', 'representatives', 'terrified', 'critics', 'behalf', 'Moscow', 'bunch', 'striving', 'Newman', 'foreseeable', 'Publick', 'lush', 'fruitful', 'underlying', 'hand', 'Privy', 'Debonnie', 'reinforces', 'fantasies', 'narrowed', 'off-duty', 'refers', 'precautions', 'Historically', 'toys', 'displacement', 'literalness', 'Rosa', 'cultural', 'wedding', 'effluent', 'divan', 'epicenter', 'client', 'democracy', 'eagerness', 'illustrations', 'showed', 'preceded', 'lied', \"Doaty's\", 'reminiscent', 'criticize', 'detectives', 'muffled', 'consuming', 'Eighth', 'rocker', 'recalls', 'Madame', 'downgraded', 'lightweight', 'shaped', 'scheduled', 'unitized', 'twists', 'zinc', 'disregarded', 'logical', 'centum', 'Easter', 'Something', 'exploit', 'factual', 'detested', 'seacoast', 'stay', 'Lady', 'pictured', 'adult', 'materials', \"devil's\", 'sadism', 'cord', 'transportation', 'domes', 'suds', 'Part-time', 'treasurer', '128', 'willing', 'percentage', '68', 'gypsy', 'utilizes', 'hearth', 'shakers', 'misty', 'champions', 'miraculous', 'UPI', 'organizing', 'utmost', 'paws', 'crash', 'sound', 'Braque', 'contact', 'Q', 'indicative', 'enchanting', 'marketable', 'thirteen', 'Physics', 'bazaar', 'Alas', 'maroon', 'servant', 'Adjusted', 'avoided', 'speculative', 'herd', 'candy', 'Ireland', 'blow', 'vivid', 'munitions', 'impeccable', \"Dealers'\", 'shrugged', 'tent', 'rats', 'perfecting', 'kids', 'towns', 'Unfortunately', 'forests', 'adapted', 'dystopias', '24-hr.', 'foreign', 'frost', 'season', \"countin'\", \"America's\", 'streamed', 'lay-sisters', 'pants', 'authorized', 'tweed', 'restraints', 'transpiration', \"Navy's\", 'generals', 'upstream', 'confide', 'milestone', '1953', 'Pay', 'offerings', 'Nicodemus', 'Woodside', 'consent', 'Fogg', 'trample', 'prospects', 'Take', 'emperor', 'spire', 'one-room', 'hound', 'illustrates', 'take-up', 'flanked', 'destroying', 'Stengel', '/', 'slip', 'Geraghty', 'sliding', 'defended', 'warning', 'Sims', 'standpoint', 'Lumpe', 'rustling', \"board's\", 'glycerine', 'flowers', 'inflated', 'stress', 'academies', 'Larkin', 'vocabulary', 'excited', 'oral', 'justifiable', 'territories', 'Excuse', 'limitation', 'Gloriana', 'myself', 'Dalloway', 'reactivity', 'busily', 'text', \"Truman's\", '21st', 'territorial', 'Organization', 'melted', 'holder', 'Dreams', 'Stop', 'ragged', 'tensely', 'overtones', 'plates', 'casework', 'useless', 'nineteenth', 'biochemical', 'electrode', 'lessened', 'Cod', 'clues', 'Pasture', 'leap', 'fell', 'worth', 'Speed', 'discoveries', 'acetate', 'Aug.', 'can', 'tiniest', 'occupy', 'medical', 'entail', 'ambulance', 'Savoy', \"Nation's\", 'Dusseldorf', 'Coffee', '3,000', 'occasionally', 'lakes', 'twice', 'neck', 'distortion', 'dictators', 'activated', 'throw', 'caring', 'newer', 'gestured', 'curled', 'mark', 'Rall', 'Financial', 'integrate', 'trial', 'Orville', 'banner', 'dusty', 'glorified', 'amateur', 'did', '1951', 'free', 'nightingale', 'Batista', 'distinct', 'Primary', 'calves', 'commissioners', 'aggregate', 'embraces', 'shattering', 'NW', 'manifestation', 'retail', 'Louisville', \"that's\", 'Sex', 'wailing', 'mayor', 'narrows', 'charmed', 'twenty-one', 'portrait', 'rearrange', 'reservations', 'Mrad', 'accordingly', 'involution', 'Breeding', 'succeeded', 'flooded', 'owners', 'blockade', 'substituting', 'contrived', 'Hippodrome', 'relish', 'neural', 'examined', 'injustice', 'wasted', 'duly', 'positivism', 'wholly', 'pairs', 'reject', 'traveled', 'man', 'indicating', 'tractors', 'unbroken', 'nourished', 'healthy', 'aqueous', 'xylem', 'en', 'Havisham', 'role', 'picnics', 'Curzon', 'derived', 'inverted', 'Convocation', 'conferred', 'homozygous', 'suicide', 'Interama', 'untrammeled', 'patrol', 'NE', 'schoolmaster', 'Shoup', 'revealed', 'cowhand', 'dreamy', 'exotic', 'start', 'Gannon', 'contest', 'rough', 'Greek', 'accessible', 'followers', \"Britain's\", 'pleasant', 'Athletic', 'emeralds', 'tangency', 'tapping', 'hits', 'stagnant', 'Thus', 'Macklin', 'Faulkner', 'hateful', 'and', 'Aerospace', 'fever', 'Inevitably', 'hazard', 'god', 'Somebody', 'Assumption', '0.8', 'condemn', \"O'Banion's\", 'Herry', 'Colonial', 'grants', 'apprehension', 'castle', 'misuse', 'Second', 'hypothalamic', 'definitive', 'denial', 'Galli', 'Marx', 'boosting', 'Wives', 'foreboding', 'traps', 'pillow', '9', 'Birds', 'splinter', 'surveillance', 'contented', 'Portago', 'fucken', 'Today', 'flopped', 'tangled', 'impatient', 'ethos', 'glowed', 'antagonistic', 'farce', 'light', 'Pole', 'molecule', 'slam', 'patron', 'habits', 'easily', 'Streets', 'keep', 'improvement', 'exclaimed', 'rotary', 'event', 'imaginative', 'liberal', 'cocoon', 'Fromm', 'evaluations', \"Francisco's\", 'Eve', 'plead', 'rag', 'imaginary', 'steeped', 'Trust', 'Varlaam', 'Hercules', 'relaxing', 'gully', 'Carruthers', 'sex', 'formidable', 'humane', 'Boat', 'Gosh', 'menu', 'odious', 'overlook', 'Iliad', 'neither', 'correlate', 'assignment', 'snobbery', 'happened', 'timely', 'Coney', 'humorous', 'panic', 'warned', \"Mississippi's\", 'Alone', 'byproducts', \"Potemkin's\", 'surprised', 'receipts', 'Draw', 'inexplicable', 'sweep', 'stead', 'uncompromising', 'Pilgrims', 'horrors', 'ripe', 'Audubon', 'junta', 'sundry', 'eat', 'voluntarily', 'studded', 'under-achievement', 'stall', 'immigration', 'hindered', 'surveys', 'commands', '7-2', 'jails', 'belched', 'steady', 'up', 'columns', 'clay', 'conceivable', 'resulting', 'brethren', 'notation', 'grounds', 'rippling', 'sera', 'along', 'D.', 'Guild', 'Fear', 'postpone', 'decorated', 'manifested', 'load', 'Everett', 'Theorem', 'businesses', 'likely', 'argument', 'psychopathic', '**ya', 'piling', 'manservant', 'distant', '1946', 'pervasive', 'soaking', 'Pozzatti', 'quart', 'Morrison', 'windows', 'Pierre', 'quantity', 'gentleman', 'clinic', 'competitors', 'intent', 'barriers', 'Education', 'particulars', 'interaction', 'vaguely', 'over', 'tomb', 'wreath', 'hobby', 'profusely', 'disciples', 'radar', 'fruit', 'note', 'dying', 'arguments', 'wisdom', 'disregard', 'Gardner', 'Laotian', 'embroidered', 'risky', 'opens', 'whistled', 'resist', 'decision', 'Regions', 'gospel', 'Meanwhile', 'Assembly', 'difficult', 'Julie', 'exacerbation', 'Unsinkable', \"throwin'\", 'Program', 'finest', 'fleeing', 'busy', 'crowning', 'Need', 'fly', 'iodide', 'neutrality', 'mammalian', 'injured', 'assailed', 'dipped', 'murderous', 'grew', 'organizations', 'nuns', 'affected', 'Gantry', 'Loans', 'forfeit', 'FITC', '100,000', 'abscesses', 'Slate', 'Franklin', 'highball', 'today', 'avenue', 'Bobbie', '$15', 'remembering', 'instability', 'discontinuous', 'fees', 'Hawk', 'know-how', 'Oklahoma', 'pencil', 'deduction', 'progressed', 'embarrassment', 'grows', 'intuitive', 'chapters', 'Stuart', 'prescribed', 'slaying', 'Sane', 'likeness', 'Clarence', 'passing', 'Satan', 'baffled', 'discourse', 'retiring', 'articulate', 'foolish', 'postgraduate', 'Action', 'Australia', 'pillars', 'Keene', 'Neitzbohr', 'globulin', \"Indian's\", 'emotions', 'ounces', 'apportionment', 'newt', 'everlasting', 'analyst', 'industry', \"someone's\", 'bride', 'vested', 'scepticism', 'Phoenix', 'Historical', 'tang', 'Burnsides', 'Despite', \"public's\", 'extraneous', 'self-conscious', 'extend', 'hospitality', '80', 'homeland', 'Engineer', 'Dept.', 'Abbey', 'polypropylene', 'pilgrimage', 'racketeers', 'assurances', 'Survey', 'culture', 'bartender', 'promoted', 'cooperate', 'designating', 'Killpath', 'Upton', 'entry', 'eh', 'Malraux', 'farther', 'waiter', 'Marcus', 'standards', 'bubble', 'appointees', 'Kulturbund', 'lying', 'Fisher', 'enclosure', 'pictorial', 'seats', 'tantamount', 'radiochlorine', 'commendable', 'reagents', 'skipping', 'spreads', 'loaned', 'packet', 'maximization', 'autofluorescence', 'forest', 'Heywood', 'briskly', 'sell', 'cottages', 'lots', 'ingratiating', 'Green', 'paralleled', 'parasol', 'Defeat', 'embodying', 'ranked', 'plague', 'gleam', 'initials', 'Francie', 'incurred', 'Israeli', 'requires', 'oiled', 'Skies', 'best', 'Loveless', 'Bradford', 'climbed', 'environments', 'Wise', \"Rector's\", 'suffers', 'overtures', 'Jet', 'purified', 'boast', 'shake', 'overtly', 'lurch', 'momentary', 'bench', 'within', 'Swadesh', 'Experts', 'cell', 'nap', 'AID', 'Roots', '4.2', 'Gov.', 'half-inch', 'inexorable', 'impinge', 'Skolman', 'disregarding', 'unending', \"victim's\", 'campaign', 'good', 'girlish', 'boost', 'tipped', 'jar', 'eminently', 'Hotei', 'Ball', 'W.', 'Poynting-Robertson', 'amenable', 'Cemetery', 'Schaack', 'Problems', 'hotels', 'Lucia', 'Turning', 'fractionated', 'compounds', 'lower-middle-class', 'tests', 'delirium', 'Hellenic', 'bestowed', 'Da', 'dead', 'general', 'Rourke', 'buck', 'General', 'configuration', 'instance', 'institute', 'plucked', 'possess', 'Leonard', 'impulse', 'bacteria', 'youngest', 'dissension', 'contemplated', 'credo', 'ordered', 'jacketed', 'ft', 'sterilization', '75%', 'presence', 'drumming', 'mosaic', 'limbs', 'three-man', 'thank', 'B', \"sayin'\", 'case', 'biwa', 'greens', 'interchange', 'youth', 'Boys', 'rpm', 'Christianity', 'supporter', 'battlefield', 'obviously', 'Neptune', 'thermal', 'photographed', 'fish', 'bloated', 'cottage', 'slab', 'cocky', \"Mahzeer's\", 'Mary', 'outdated', 'congratulated', 'extraordinary', 'Archangel', 'circles', 'professions', 'judging', 'Spread', 'tumbling', 'Carnival', 'Ghana', 'Cash', 'hats', 'index', 'Spelman', 'Associated', 'IRSAC', 'attrition', 'Abel', 'unstructured', 'choreography', 'p.m.', 'distilled', 'damaging', 'Goulding', 'anybody', 'chipped', 'Fifteen', 'on-the-job', 'profess', 'Cleveland', '1848', 'literate', 'arising', 'needing', 'Through', 'appealed', 'warehouse', 'idiom', '25,000', 'pulp', 'writings', 'inventions', 'local', 'contraction', 'retailing', 'cloying', 'accelerometer', 'demanding', 'Loper', 'faltered', 'reared', 'estimation', 'Post', 'spectator', 'Management', 'time', 'masked', 'jump', 'refugees', 'Position', 'Jerry', \"don't\", 'manure', 'rely', 'humanism', 'staging', 'Analytical', 'foggy', 'suited', 'pavement', 'enviable', 'sharks', 'oppressive', \"mothers'\", \"durin'\", 'warehouses', 'Joint', 'guess', 'librarians', 'aerial', 'works', 'potentials', 'woodwork', 'Mich.', 'hind', 'clown', 'attracts', 'evacuated', 'speaker', 'knights', 'extrapolation', 'leases', 'tower', 'heretofore', 'excise', 'Census', 'Middletown', 'horsemanship', 'accelerating', 'anti-intellectual', 'atom', 'anecdote', 'consummated', 'Jacoby', 'comforting', 'subordinated', 'owning', 'thrilled', 'crests', 'Lonsdale', 'frills', 'cartoon', 'lilacs', 'assumption', 'Sante', 'rabbit', 'that', 'Michigan', 'Rotunda', 'recognize', 'commodities', 'resentment', 'Hartman', 'scrambled', 'Journal', 'traditionalist', 'slit', 'quality', 'poisoned', 'Capt.', 'limits', 'residues', 'theologian', 'Method', 'destroyed', 'solids', 'synonymous', 'stuff', 'circular', 'eighty-three', 'international', 'pat', 'Bristol', 'passed', 'Escape', 'seaweed', 'corpse', 'He', 'zero', 'Cannon', 'somber', 'antiserum', 'bleak', 'Dynasts', 'recipients', 'primeval', 'sport', 'display', 'borne', '2d', 'answered', 'creature', 'thesis', 'lowest', 'calisthenics', 'smug', 'Sunnyvale', 'irritably', 'shortages', 'knit', 'catsup', 'facts', 'Gus', 'colorful', 'Hills', 'desperately', 'Achievement', 'Beaverton', 'faiths', 'sawtimber', 'protocol', 'adoption', 'uninhibited', 'fought', 'blasts', 'Chisholm', 'Science', 'midway', 'joking', 'submitted', 'slogans', 'media', 'mental', 'gang', 'weighs', 'intercept', 'lip', 'reconsider', 'Clay', 'include', 'swallowing', 'madrigals', 'rose', 'sportsmen', 'seemingly', 'grave', 'Symposium', 'academic', 'gradually', 'loud', 'gratuitous', 'resultants', 'Ford', 'your', 'dull', 'With', '1956', 'gardens', 'Child', 'imagine', 'glared', 'drinker', 'arrest', 'Longue', 'pussy', 'legend', 'Vegas', 'fashioned', 'lawyer', 'fired', 'bureaucracies', 'crowned', 'pulling', 'readings', 'playwright', 'vicious', 'Anybody', 'revived', 'horn', 'declare', 'Wayne', 'tactual', 'Homeric', 'reminded', 'counselors', 'breakfast', 'scholar', 'cross', 'heels', 'knee', 'Deep', 'precipitated', 'when', 'indiscriminate', 'slamming', \"didn't\", 'indulge', 'meteor', 'Profile', 'cooks', 'mentions', 'unambiguous', '$5000', 'vest', \"Lewis's\", 'oneself', 'hypocrisy', 'empty', 'fist', 'axle', 'vital', 'epicycles', 'ridges', 'pasture', 'neutralist', 'oration', 'misleading', 'predispositions', 'gray', 'painter', 'actor', 'eventual', 'disobeyed', 'Lafayette', 'Darling', 'Pam', 'leaf', 'recommendations', 'insensitive', 'armed', 'Guam', 'synthetic', \"1890's\", 'formation', 'Carroll', 'failure', '53', 'soaps', 'observable', 'forerunner', 'chiefs', 'planted', 'antique', 'pubescent', 'B.C.', 'tasted', 'rationale', 'abstraction', 'bucking', 'son', 'sort', 'Wrangler', 'Northeast', 'viscosity', 'pedestrian', 'discs', 'Moll', 'Kappa', 'headquarters', 'savings', 'failing', 'butter', 'regular', 'Grasslands', 'feeds', 'More', 'Nineteen', 'stranger', 'grotesque', 'observation', 'diagonally', 'absolutely', 'muskets', 'Independent', 'spirit', 'inconsequential', 'kinds', 'sections', 'specializing', 'House', 'enthusiastically', 'They', 'inconvenient', 'Twenties', 'strait', 'Saint', 'outcry', 'compositions', 'Santa', 'donate', 'dreary', 'offspring', 'suffused', 'bury', 'sanitation', 'responsive', 'ironing', 'races', 'Specifications', 'Republic', 'jackets', 'Boulevard', 'capsules', 'Cunard', 'double-stage', 'vitro', 'lethargy', 'Initially', 'flexibility', 'healing', 'because', 'anger', \"Brenner's\", 'widespread', 'spray', 'chanced', 'fill', 'amid', 'retaliation', 'Papa', \"mankind's\", 'involving', 'micelles', 'tenderly', 'understandable', 'nearly', 'Antler', 'Burnside', 'memorandum', 'distinguished', 'Die', 'panting', 'wail', 'oversimplified', 'nakedness', 'interviewing', \"Tolley's\", 'versus', 'radical', 'rank', 'rocky', \"Childhood's\", 'hydrogen', 'Hudson', 'proposal', 'Vivian', 'Kemble', 'Guatemala', 'prejudices', 'soon', 'Hello', 'cluster', 'precincts', 'investigators', 'humming', 'resumption', 'normally', 'vices', 'polyether', 'specialties', 'Z', 'formations', 'factor', 'creations', 'backing', 'hande', 'loveliest', 'motels', 'resent', 'Stalin', 'subscribers', 'exposition', 'choking', 'rumor', 'drill', 'Annapolis', 'Rhode', 'ingredients', 'Polo', 'reduce', 'nowadays', 'valve', 'republic', 'analytical', 'compilation', 'shakes', 'easing', 'Historians', 'touch', 'old-time', 'settler', '1815', 'prominent', 'intersections', \"enemy's\", 'paper', 'diffuse', 'tooling', 'nominate', 'pills', 'meats', 'P.M.', 'Rosburg', 'colde', 'decorative', 'percussive', 'churchgoing', \"1''\", 'Katya', 'Eyes', 'Late', 'Francaise', 'Marlowe', 'Columns', 'Bates', 'hampered', 'correspond', 'overtime', 'Persians', 'Tar', 'replenish', 'tension', 'nuclide', 'fog', 'irreconcilable', 'sprawl', 'Agriculture', 'winced', 'Get', 'courses', 'boys', 'Swim', 'Advance', 'wax', 'speck', 'laborers', 'Noting', 'immigrant', 'Jack', 'lance', '1861', 'package', 'edible', 'stations', \"Gallery's\", 'pistol', 'Minnie', 'rococo', 'path', 'winds', 'theological', 'asleep', \"Hudson's\", 'therapist', 'interlude', 'doctored', 'Pp.', 'Tomorrow', 'scrap', 'teaspoons', 'pretend', 'Church', 'co-optation', 'Called', 'glue', 'holiday', 'infinitely', 'capsule', 'many-sided', 'Support', 'weakest', 'Epitaph', 'Fair', 'boards', 'vicinity', 'Rock', 'melting', 'variation', 'meadow', 'Donald', 'glisten', 'ladder', 'educate', 'educator', 'fraction', 'original', \"12''\", '11th', 'bomb', 'defunct', 'imparted', 'technically', 'Rachel', 'surface', 'harmonious', 'fitness', 'rigidly', 'Other', 'Medicine', 'eclipses', 'Army', 'prediction', 'permit', 'faculty', 'Increased', 'talkative', 'citizens', 'tap', 'hook', 'Representative', 'Gloucester', 'steeples', 'threefold', \"summer's\", 'act', 'Pope', 'Trim', 'National', 'preamble', 'bore', 'grown-up', 'E.', 'imagined', 'fingerprint', 'unhappily', 'Whatever', 'splendor', 'seeming', 'knocked', 'investigations', 'process', 'planter', 'desperation', 'expulsion', 'spacecraft', 'Outside', 'Matilda', 'bloodstream', 'tribal', 'caution', 'Jastrow', 'manipulate', 'Completions', 'collar', 'bursting', 'cruelly', 'satisfy', 'conjugates', 'Howe', 'from', 'sphere', 'replacement', 'compressed', 'activation', 'criticized', 'concerts', \"night's\", 'effecting', 'ownerships', 'estranged', 'clenched', 'Metropolitan', 'Forensic', 'tyrosine', 'sewage', 'population', 'rushes', 'Knight', 'Bourbon', 'masseur', 'renting', 'contrasted', 'traded', 'Rockfork', 'hire', 'aboard', 'coarse', 'Boston', 'spectacular', 'Cows', 'Assemblies', 'willingly', 'resistor', 'disclose', 'goal', 'Cook', 'naturally', 'unmarried', 'flooring', 'finger', \"Foundation's\", 'total', 'drafted', 'locked', 'bureaucracy', 'large-scale', 'consciously', 'elders', 'statute', 'headlights', 'Century', 'recreation', 'Felix', 'out-of-town', 'terraces', 'As', 'Seminary', 'atomic', 'opponents', 'arenas', 'couch', 'Nashville', 'broke', 'prejudice', 'transmit', 'instruments', 'glowered', 'derby', 'Stephen', 'radio-TV', 'Reverend', 'undeveloped', 'Arundel', 'cooperatives', 'punishment', 'merry', 'Alastor', 'adolescence', 'Conant', 'secret', 'Montero', 'impurities', 'my', 'prodigious', \"Mary's\", 'lusty', 'acceptance', 'pallid', 'tough', 'deputies', 'looks', 'Lexington', 'properties', 'Rodgers', '3%', 'Angeles', 'stock', 'hoarsely', 'Count', 'arcade', 'documented', 'hopelessly', 'fundamental', 'groundwork', 'unexplained', 'washed', 'mid-twentieth', 'feeling', 'sesame', 'Danube', 'visual', 'couple', 'exaggerating', 'bless', 'Shirl', 'humanity', 'casts', 'Iceland', 'BBB', 'Base', 'Barre', 'emphasized', 'kisses', 'fail', 'rites', 'sophisticated', 'socket', 'screamed', 'eastern', 'apartments', 'pointed', 'infatuation', 'tracked', 'unreliable', 'Southwest', 'stemmed', 'regime', 'Additionally', 'generally', 'canon', 'invoke', 'accomplished', 'aims', 'small', 'Wade-Evans', 'kitten', 'wetting', 'High', 'informally', 'advisability', 'Budd', 'emotionally', 'silhouetted', 'scriptures', 'enzyme', 'Sposato', 'kitchen', 'addicted', 'Rebel', 'advisers', 'dogmatism', 'in-group', 'aggressive', 'citizen', 'affiliation', 'yachts', 'taste', 'invade', 'yeah', 'unrelated', 'soloists', 'Colt', 'enlarge', 'fraud', 'bug', 'polymerization', 'virtual', 'color', 'helpfully', 'Remarks', 'floor', 'wardrobe', 'pursued', 'persuasion', 'intimated', 'view', 'informs', 'ninety', 'Philmont', 'undiminished', 'residential', \"Juet's\", 'offense', 'pastry', 'Marsden', 'metallic', 'erecting', 'Ferrell', 'retardation', 'SMU', 'Enough', \"it'll\", 'erected', 'forgotten', 'E', 'Corn', 'Peace', 'affecting', 'vitamins', 'borders', 'Vic', 'armhole', 'Lambeth', 'spurred', 'calculating', 'Concerning', 'peppery', 'Iron', 'Sioux', \"week's\", 'Bellini', '2.5', 'joint', 'paralysis', 'producing', 'moss', 'piazza', 'vile', 'Regional', 'censure', 'photographs', 'jagged', 'wickedness', 'fully', 'Oak', 'talking', 'edged', 'appetite', 'print', 'expressed', 'Baltimore', 'Sherwood', 'believing', 'landed', 'son-in-law', 'nobility', \"Mexico's\", 'capitalize', '50-foot', 'meanwhile', 'benefited', 'Rico', 'communications', '14%', 'manhours', 'soup', 'Seaman', 'immortal', 'Aj', 'chronicle', 'nominee', 'unspeakable', 'Yuri', 'ordo', 'neighboring', 'worship', 'compassion', 'occluded', 'alongside', 'submit', 'eroded', 'squinting', 'Bailey', 'Drug', 'attitude', 'Granted', 'gravitational', 'trend', 'pleasure', 'ropes', 'mortgage', 'advantage', 'dosages', 'turning', 'arrangements', 'scant', 'sprung', 'BTU', 'initially', 'Throat', 'strenuous', 'Cathy', 'particulate', 'unaccompanied', 'happening', 'salesman', 'Douglass', 'Lindemann', 'interdependent', 'farms', 'LD', 'absence', 'rotor', 'unadjusted', 'replied', 'tempo', 'Credit', 'twentieth', 'expeditions', 'iron', 'have', 'births', 'indicated', 'incredibly', 'uncertainties', 'OH', 'Keeler', 'corrupting', 'cabin', 'Port', 'seriousness', 'Hong', 'popularly', 'Leavitt', 'draperies', 'Seven', 'advent', 'Judging', 'Trophy', 'Yin', 'Auntie', 'dice', 'Road', 'United', 'governess', 'deep', 'beware', 'Poor', 'purity', 'allocated', 'organification', 'Economics', 'cues', 'revivals', 'condemned', 'Texas', 'Pasadena', 'misunderstanding', 'strips', 'Bad', 'greet', 'sojourn', 'Engineering', 'journalism', 'sodium', 'recover', 'stairway', 'politically', 'lain', 'raid', 'later', 'Hetman', 'guarded', 'Parisian', 'Farrell', 'steamed', 'ye', 'Rome', 'shaving', 'Classes', 'taunt', 'Pausing', 'lawn', 'seasons', 'Wild', 'learn', 'two-digit', 'tusks', 'Calhoun', 'corrugated', 'Evidently', 'Slater', 'Fine', 'Advisory', 'contemplation', 'containers', 'Memphis', 'carrier', 'quirt', 'reorganization', 'diarrhoea', 'friendly', 'confining', 'romantic', 'permitted', 'yielding', 'Amy', 'bonfire', 'absorb', 'Imagine', 'attacked', 'sweat', 'Jouvet', 'buying', 'shelter', 'grinding', 'piled', \"Player's\", 'trifle', 'jets', 'just', 'approach', 'defining', 'secure', 'imminent', 'lilting', 'couplers', \"We'll\", 'socks', 'Wesleyan', 'movements', 'highest', 'gallon', 'Still', 'statistics', 'cartridge', 'aggressiveness', 'actors', 'lifting', 'presume', 'Supreme', 'comparing', 'nurture', 'lobby', 'moves', 'tee', \"Roberts'\", 'curiosity', 'poll', 'evangelical', '30%', 'richly', 'soybeans', 'smuggled', 'claims', 'thrusting', 'College', 'pleasantly', 'Northerners', 'interminable', 'palm', 'primacy', 'Held', 'valuable', 'followed', 'excessively', 'Romans', 'measures', 'paradigm', 'Christmas', 'emphasizing', 'Continuing', 'incapable', 'non-violence', 'savoring', 'dividend']\n"
     ]
    }
   ],
   "source": [
    "all_brown_words = set(brown.words())\n",
    "fDist = FreqDist(brown.words())\n",
    "three_time_words = []\n",
    "for i in all_brown_words:\n",
    "    if fDist[i] > 2:\n",
    "        three_time_words.append(i)\n",
    "\n",
    "print(three_time_words)"
   ]
  },
  {
   "cell_type": "markdown",
   "metadata": {},
   "source": [
    "## 16\n",
    "\n",
    "Science fiction has the lowest diversity score. I think that it because it is such a new genre and the sc-fi community is very likeminded about things."
   ]
  },
  {
   "cell_type": "code",
   "execution_count": 51,
   "metadata": {},
   "outputs": [
    {
     "name": "stdout",
     "output_type": "stream",
     "text": [
      "adventure 69342 8874\n",
      "7.814063556457065 \n",
      "\n",
      "belles_lettres 173096 18421\n",
      "9.396666847619565 \n",
      "\n",
      "editorial 61604 9890\n",
      "6.22891809908999 \n",
      "\n",
      "fiction 68488 9302\n",
      "7.362717695119329 \n",
      "\n",
      "government 70117 8181\n",
      "8.570712626818237 \n",
      "\n",
      "hobbies 82345 11935\n",
      "6.899455383326351 \n",
      "\n",
      "humor 21695 5017\n",
      "4.324297388877816 \n",
      "\n",
      "learned 181888 16859\n",
      "10.788777507562726 \n",
      "\n",
      "lore 110299 14503\n",
      "7.60525408536165 \n",
      "\n",
      "mystery 57169 6982\n",
      "8.188054998567745 \n",
      "\n",
      "news 100554 14394\n",
      "6.98582742809504 \n",
      "\n",
      "religion 39399 6373\n",
      "6.182174799937235 \n",
      "\n",
      "reviews 40704 8626\n",
      "4.718757245536749 \n",
      "\n",
      "romance 70022 8452\n",
      "8.284666351159489 \n",
      "\n",
      "science_fiction 14470 3233\n",
      "4.475719146303742 \n",
      "\n"
     ]
    }
   ],
   "source": [
    "#print(brown.words(categories=\"adventure\"))\n",
    "categories = brown.categories()\n",
    "for i in categories:\n",
    "    category = brown.words(categories=i)\n",
    "    print(i,len(category),len(set(category)))\n",
    "    print (len(category)/(len(set(category))*1.0), \"\\n\")\n"
   ]
  },
  {
   "cell_type": "markdown",
   "metadata": {},
   "source": [
    "## 18"
   ]
  },
  {
   "cell_type": "code",
   "execution_count": 52,
   "metadata": {},
   "outputs": [
    {
     "data": {
      "text/plain": [
       "['i',\n",
       " 'me',\n",
       " 'my',\n",
       " 'myself',\n",
       " 'we',\n",
       " 'our',\n",
       " 'ours',\n",
       " 'ourselves',\n",
       " 'you',\n",
       " \"you're\",\n",
       " \"you've\",\n",
       " \"you'll\",\n",
       " \"you'd\",\n",
       " 'your',\n",
       " 'yours',\n",
       " 'yourself',\n",
       " 'yourselves',\n",
       " 'he',\n",
       " 'him',\n",
       " 'his',\n",
       " 'himself',\n",
       " 'she',\n",
       " \"she's\",\n",
       " 'her',\n",
       " 'hers',\n",
       " 'herself',\n",
       " 'it',\n",
       " \"it's\",\n",
       " 'its',\n",
       " 'itself',\n",
       " 'they',\n",
       " 'them',\n",
       " 'their',\n",
       " 'theirs',\n",
       " 'themselves',\n",
       " 'what',\n",
       " 'which',\n",
       " 'who',\n",
       " 'whom',\n",
       " 'this',\n",
       " 'that',\n",
       " \"that'll\",\n",
       " 'these',\n",
       " 'those',\n",
       " 'am',\n",
       " 'is',\n",
       " 'are',\n",
       " 'was',\n",
       " 'were',\n",
       " 'be',\n",
       " 'been',\n",
       " 'being',\n",
       " 'have',\n",
       " 'has',\n",
       " 'had',\n",
       " 'having',\n",
       " 'do',\n",
       " 'does',\n",
       " 'did',\n",
       " 'doing',\n",
       " 'a',\n",
       " 'an',\n",
       " 'the',\n",
       " 'and',\n",
       " 'but',\n",
       " 'if',\n",
       " 'or',\n",
       " 'because',\n",
       " 'as',\n",
       " 'until',\n",
       " 'while',\n",
       " 'of',\n",
       " 'at',\n",
       " 'by',\n",
       " 'for',\n",
       " 'with',\n",
       " 'about',\n",
       " 'against',\n",
       " 'between',\n",
       " 'into',\n",
       " 'through',\n",
       " 'during',\n",
       " 'before',\n",
       " 'after',\n",
       " 'above',\n",
       " 'below',\n",
       " 'to',\n",
       " 'from',\n",
       " 'up',\n",
       " 'down',\n",
       " 'in',\n",
       " 'out',\n",
       " 'on',\n",
       " 'off',\n",
       " 'over',\n",
       " 'under',\n",
       " 'again',\n",
       " 'further',\n",
       " 'then',\n",
       " 'once',\n",
       " 'here',\n",
       " 'there',\n",
       " 'when',\n",
       " 'where',\n",
       " 'why',\n",
       " 'how',\n",
       " 'all',\n",
       " 'any',\n",
       " 'both',\n",
       " 'each',\n",
       " 'few',\n",
       " 'more',\n",
       " 'most',\n",
       " 'other',\n",
       " 'some',\n",
       " 'such',\n",
       " 'no',\n",
       " 'nor',\n",
       " 'not',\n",
       " 'only',\n",
       " 'own',\n",
       " 'same',\n",
       " 'so',\n",
       " 'than',\n",
       " 'too',\n",
       " 'very',\n",
       " 's',\n",
       " 't',\n",
       " 'can',\n",
       " 'will',\n",
       " 'just',\n",
       " 'don',\n",
       " \"don't\",\n",
       " 'should',\n",
       " \"should've\",\n",
       " 'now',\n",
       " 'd',\n",
       " 'll',\n",
       " 'm',\n",
       " 'o',\n",
       " 're',\n",
       " 've',\n",
       " 'y',\n",
       " 'ain',\n",
       " 'aren',\n",
       " \"aren't\",\n",
       " 'couldn',\n",
       " \"couldn't\",\n",
       " 'didn',\n",
       " \"didn't\",\n",
       " 'doesn',\n",
       " \"doesn't\",\n",
       " 'hadn',\n",
       " \"hadn't\",\n",
       " 'hasn',\n",
       " \"hasn't\",\n",
       " 'haven',\n",
       " \"haven't\",\n",
       " 'isn',\n",
       " \"isn't\",\n",
       " 'ma',\n",
       " 'mightn',\n",
       " \"mightn't\",\n",
       " 'mustn',\n",
       " \"mustn't\",\n",
       " 'needn',\n",
       " \"needn't\",\n",
       " 'shan',\n",
       " \"shan't\",\n",
       " 'shouldn',\n",
       " \"shouldn't\",\n",
       " 'wasn',\n",
       " \"wasn't\",\n",
       " 'weren',\n",
       " \"weren't\",\n",
       " 'won',\n",
       " \"won't\",\n",
       " 'wouldn',\n",
       " \"wouldn't\"]"
      ]
     },
     "execution_count": 52,
     "metadata": {},
     "output_type": "execute_result"
    }
   ],
   "source": [
    "stopwords.words('english')"
   ]
  },
  {
   "cell_type": "code",
   "execution_count": 53,
   "metadata": {},
   "outputs": [
    {
     "name": "stdout",
     "output_type": "stream",
     "text": [
      "[(('.', '``'), 148), ((\"''\", '.'), 98), (('of', 'the'), 82), (('?', '?'), 79), (('.', 'The'), 64), ((',', 'and'), 57), ((\"''\", ','), 51), ((\"''\", '?'), 48), (('.', 'He'), 47), ((';', ';'), 44), ((',', 'the'), 40), (('in', 'the'), 36), ((',', 'but'), 31), ((',', 'he'), 31), (('to', 'the'), 29), (('he', 'had'), 26), (('and', 'the'), 26), (('?', '``'), 26), (('``', 'I'), 25), (('.', 'It'), 25), (('.', 'But'), 24), ((',', '``'), 24), (('!', '!'), 23), (('had', 'been'), 22), (('on', 'the'), 21), (('it', 'was'), 21), (('.', 'She'), 21), (('to', 'be'), 20), (('would', 'be'), 19), (('it', '.'), 19), (('at', 'the'), 17), (('for', 'the'), 17), (('him', '.'), 17), (('did', 'not'), 17), (('from', 'the'), 16), (('that', 'the'), 15), (('of', 'a'), 15), (('he', 'was'), 14), (('was', 'a'), 14), (('was', 'the'), 14), ((',', 'said'), 14), (('was', 'not'), 13), (('would', 'have'), 13), (('.', 'I'), 13), ((',', 'for'), 13), (('.', 'And'), 13), (('.', 'Ekstrohm'), 13), (('.', 'In'), 12), ((',', 'you'), 12), (('.', 'They'), 12)]\n"
     ]
    }
   ],
   "source": [
    "no_stopwords = []\n",
    "for i in bigrams(brown.words(categories=\"science_fiction\")):\n",
    "    if i not in stopwords.words('english'):\n",
    "        no_stopwords.append(i)\n",
    "fDist = FreqDist(no_stopwords)\n",
    "print(fDist.most_common(50))"
   ]
  },
  {
   "cell_type": "markdown",
   "metadata": {},
   "source": [
    "##  28"
   ]
  },
  {
   "cell_type": "code",
   "execution_count": 117,
   "metadata": {},
   "outputs": [
    {
     "name": "stdout",
     "output_type": "stream",
     "text": [
      "[1.0, 0.125]\n"
     ]
    }
   ],
   "source": [
    "#This is just for testing purposes\n",
    "car = wn.synsets('car')\n",
    "auto = wn.synsets('automobile')\n",
    "car_auto = (car[0].path_similarity(auto[0]))\n",
    "\n",
    "gem = wn.synsets('gem')\n",
    "jewel = wn.synsets('jewel')\n",
    "gem_jewel = (gem[0].path_similarity(jewel[0]))\n",
    "\n",
    "myList = [gem_jewel, car_auto]\n",
    "print(sorted(myList, reverse=True))\n"
   ]
  },
  {
   "cell_type": "code",
   "execution_count": 420,
   "metadata": {},
   "outputs": [
    {
     "data": {
      "text/plain": [
       "[[1.0, 'midday', 'noon'],\n",
       " [1.0, 'car', 'automobile'],\n",
       " [0.5, 'tool', 'implement'],\n",
       " [0.5, 'coast', 'shore'],\n",
       " [0.3333333333333333, 'boy', 'lad'],\n",
       " [0.25, 'journey', 'voyage'],\n",
       " [0.2, 'shore', 'woodland'],\n",
       " [0.2, 'monk', 'slave'],\n",
       " [0.2, 'lad', 'wizard'],\n",
       " [0.2, 'coast', 'hill'],\n",
       " [0.16666666666666666, 'magician', 'wizard'],\n",
       " [0.14285714285714285, 'lad', 'brother'],\n",
       " [0.125, 'monk', 'oracle'],\n",
       " [0.125, 'gem', 'jewel'],\n",
       " [0.125, 'brother', 'monk'],\n",
       " [0.125, 'asylum', 'madhouse'],\n",
       " [0.1111111111111111, 'glass', 'magician'],\n",
       " [0.1111111111111111, 'cemetery', 'woodland'],\n",
       " [0.1111111111111111, 'bird', 'crane'],\n",
       " [0.1, 'crane', 'implement'],\n",
       " [0.09090909090909091, 'food', 'fruit'],\n",
       " [0.09090909090909091, 'coast', 'forest'],\n",
       " [0.09090909090909091, 'chord', 'smile'],\n",
       " [0.07692307692307693, 'furnace', 'stove'],\n",
       " [0.07142857142857142, 'forest', 'graveyard'],\n",
       " [0.0625, 'food', 'rooster'],\n",
       " [0.0625, 'bird', 'cock'],\n",
       " [0.058823529411764705, 'noon', 'string'],\n",
       " [0.05, 'journey', 'car'],\n",
       " [0.041666666666666664, 'rooster', 'voyage']]"
      ]
     },
     "execution_count": 420,
     "metadata": {},
     "output_type": "execute_result"
    }
   ],
   "source": [
    "myString = 'car-automobile, gem-jewel, journey-voyage, boy-lad, coast-shore, asylum-madhouse, magician-wizard, midday-noon, furnace-stove, food-fruit, bird-cock, bird-crane, tool-implement, brother-monk, lad-brother, crane-implement, journey-car, monk-oracle, cemetery-woodland, food-rooster, coast-hill, forest-graveyard, shore-woodland, monk-slave, coast-forest, lad-wizard, chord-smile, glass-magician, rooster-voyage, noon-string'\n",
    "\n",
    "def data_list(string):\n",
    "    string = string.replace(\" \", \"\")\n",
    "    string = string.replace(\"-\", \",\")\n",
    "    string = string.split(\",\")\n",
    "    newList = []\n",
    "    for i in range(0, len(string), 2):\n",
    "        newList.append([string[i], string[i + 1]])\n",
    "    return newList\n",
    "\n",
    "def similarity_rankings(myList):\n",
    "    rankingsList = []\n",
    "    for i in (myList):\n",
    "        synset1 = wn.synsets(i[0])\n",
    "        synset2 = wn.synsets(i[1])\n",
    "        score = ([synset1[0].path_similarity(synset2[0])])\n",
    "        rankingsList.append(score + i)\n",
    "    return sorted(rankingsList, reverse=True)\n",
    "\n",
    "parsed_string = data_list(myString)\n",
    "similarity_rankings(parsed_string)        \n",
    "   \n",
    "        \n",
    "        \n",
    "        \n",
    "        \n",
    "        \n",
    "        "
   ]
  },
  {
   "cell_type": "markdown",
   "metadata": {},
   "source": [
    "# Chapter 3\n",
    "2, 4, 6, 8, 12, 16, 18-21, 27, 30-33"
   ]
  },
  {
   "cell_type": "markdown",
   "metadata": {},
   "source": [
    "## 2"
   ]
  },
  {
   "cell_type": "code",
   "execution_count": 432,
   "metadata": {},
   "outputs": [
    {
     "name": "stdout",
     "output_type": "stream",
     "text": [
      "dish\n",
      "run\n",
      "nation\n",
      "un\n",
      "pre\n"
     ]
    }
   ],
   "source": [
    "words = [\"dishes\", \"running\", \"nationality\", \"undo\", \"preheat\"]\n",
    "print(words[0][:-2])\n",
    "print(words[1][:-4])\n",
    "print(words[2][:-5])\n",
    "print(words[3][:-2])\n",
    "print(words[4][:-4])"
   ]
  },
  {
   "cell_type": "markdown",
   "metadata": {},
   "source": [
    "## 4"
   ]
  },
  {
   "cell_type": "code",
   "execution_count": 464,
   "metadata": {},
   "outputs": [
    {
     "name": "stdout",
     "output_type": "stream",
     "text": [
      "h  lgtn\n",
      "si  ogsrn\n"
     ]
    }
   ],
   "source": [
    "monty = 'This is a long string'\n",
    "print(monty[1:20:3])\n",
    "print(monty[3:len(monty):2])"
   ]
  },
  {
   "cell_type": "markdown",
   "metadata": {},
   "source": [
    "## 6\n"
   ]
  },
  {
   "cell_type": "code",
   "execution_count": 473,
   "metadata": {},
   "outputs": [],
   "source": [
    "import re"
   ]
  },
  {
   "cell_type": "code",
   "execution_count": 539,
   "metadata": {},
   "outputs": [
    {
     "name": "stdout",
     "output_type": "stream",
     "text": [
      "{This} {matches} {everything} {except} {for} {numbers}\n",
      "None\n",
      "{This} {Only} matches {Words} af{Ter} a big c{Ase}\n",
      "None\n",
      "This needs to start with a 'p' include 'aeiou' and end with 't' {pet} {pat} {pot} {paut}\n",
      "None\n",
      "This matches everything within numbers {123123} {12.00}\n",
      "None\n",
      "{}I{} {don}{}'{}t{ under}{}s{tan}{}d{} {}t{his on}{}e{}.{}.{}\n",
      "None\n",
      "I {don}'t{ under}s{tan}d t{his on}e eit{her}..\n",
      "None\n",
      "{\\}{w}{+} {matches} {any} {word} {or} {character}{,} {Hi} {Im} {Jonas}{,} {Im} {24} {years} {old} {and} {the} {time} {is} {17}{:}{26}\n",
      "None\n"
     ]
    }
   ],
   "source": [
    "print(nltk.re_show(r'[a-zA-Z]+',\"This matches everything except for numbers\"))\n",
    "print(nltk.re_show(r'[A-Z][a-z]*',\"This Only matches Words afTer a big cAse\"))\n",
    "print(nltk.re_show(r'p[aeiou]{,2}t',\"This needs to start with a 'p' include 'aeiou' and end with 't' pet pat pot paut\"))\n",
    "print(nltk.re_show(r'\\d+(\\.\\d+)?',\"This matches everything within numbers 123123 12.00 \"))\n",
    "print(nltk.re_show(r'([^aeiou][aeiou][^aeiou])*',\"I don't understand this one..\"))\n",
    "print(nltk.re_show(r'([^aeiou][aeiou][^aeiou])+',\"I don't understand this one either..\"))\n",
    "print(nltk.re_show(r'\\w+|[^\\w\\s]+',\"\\w+ matches any word or character, Hi Im Jonas, Im 24 years old and the time is 17:26\"))"
   ]
  },
  {
   "cell_type": "markdown",
   "metadata": {},
   "source": [
    "## 8"
   ]
  },
  {
   "cell_type": "code",
   "execution_count": 540,
   "metadata": {},
   "outputs": [],
   "source": [
    "from urllib import request"
   ]
  },
  {
   "cell_type": "code",
   "execution_count": 559,
   "metadata": {},
   "outputs": [
    {
     "name": "stdout",
     "output_type": "stream",
     "text": [
      "['<html xmlns=\"http://www.w3.org/1999/xhtml\">', '<head>', '<meta http-equiv=\"X-UA-Compatible\" content=\"IE=Edge\" />', '<meta http-equiv=\"Content-Type\" content=\"text/html; charset=utf-8\" />', '<title>', '</title>', '<link rel=\"stylesheet\" href=\"_static/agogo.css\" type=\"text/css\" />', '<link rel=\"stylesheet\" href=\"_static/pygments.css\" type=\"text/css\" />', '<script type=\"text/javascript\" id=\"documentation_options\" data-url_root=\"./\" src=\"_static/documentation_options.js\">', '</script>', '<script type=\"text/javascript\" src=\"_static/jquery.js\">', '</script>', '<script type=\"text/javascript\" src=\"_static/underscore.js\">', '</script>', '<script type=\"text/javascript\" src=\"_static/doctools.js\">', '</script>', '<link rel=\"index\" title=\"Index\" href=\"genindex.html\" />', '<link rel=\"search\" title=\"Search\" href=\"search.html\" />', '<link rel=\"next\" title=\"NLTK News\" href=\"news.html\" />', '</head>', '<body>', '<div class=\"header-wrapper\" role=\"banner\">', '<div class=\"header\">', '<div class=\"headertitle\">', '</a>', '</div>', '<div class=\"rel\" role=\"navigation\" aria-label=\"related navigation\">', '</a>', '</a>', '</a>', '</div>', '</div>', '</div>', '<div class=\"content-wrapper\">', '<div class=\"content\">', '<div class=\"document\">', '<div class=\"documentwrapper\">', '<div class=\"bodywrapper\">', '<div class=\"body\" role=\"main\">', '<div class=\"section\" id=\"natural-language-toolkit\">', '<h1>', '<a class=\"headerlink\" href=\"#natural-language-toolkit\" title=\"Permalink to this headline\">', '</a>', '</h1>', '<p>', '<a class=\"reference external\" href=\"http://nltk.org/nltk_data/\">', '</a>', '<a class=\"reference external\" href=\"http://groups.google.com/group/nltk-users\">', '</a>', '</p>', '<p>', '</p>', '<p>', '</p>', '<p>', '<a class=\"reference external\" href=\"http://nltk.org/book\">', '</a>', '<a class=\"reference external\" href=\"http://nltk.org/book_1ed\">', '</a>', '</p>', '<div class=\"section\" id=\"some-simple-things-you-can-do-with-nltk\">', '<h2>', '<a class=\"headerlink\" href=\"#some-simple-things-you-can-do-with-nltk\" title=\"Permalink to this headline\">', '</a>', '</h2>', '<p>', '</p>', '<div class=\"highlight-default notranslate\">', '<div class=\"highlight\">', '<pre>', '<span>', '</span>', '<span class=\"gp\">', '</span>', '<span class=\"kn\">', '</span>', '<span class=\"nn\">', '</span>', '<span class=\"gp\">', '</span>', '<span class=\"n\">', '</span>', '<span class=\"o\">', '</span>', '<span class=\"s2\">', '</span>', '<span class=\"gp\">', '</span>', '<span class=\"s2\">', '</span>', '<span class=\"gp\">', '</span>', '<span class=\"n\">', '</span>', '<span class=\"o\">', '</span>', '<span class=\"n\">', '</span>', '<span class=\"o\">', '</span>', '<span class=\"n\">', '</span>', '<span class=\"p\">', '</span>', '<span class=\"n\">', '</span>', '<span class=\"p\">', '</span>', '<span class=\"gp\">', '</span>', '<span class=\"n\">', '</span>', '<span class=\"go\">', '</span>', '<span class=\"go\">', '</span>', '<span class=\"gp\">', '</span>', '<span class=\"n\">', '</span>', '<span class=\"o\">', '</span>', '<span class=\"n\">', '</span>', '<span class=\"o\">', '</span>', '<span class=\"n\">', '</span>', '<span class=\"p\">', '</span>', '<span class=\"n\">', '</span>', '<span class=\"p\">', '</span>', '<span class=\"gp\">', '</span>', '<span class=\"n\">', '</span>', '<span class=\"p\">', '</span>', '<span class=\"mi\">', '</span>', '<span class=\"p\">', '</span>', '<span class=\"mi\">', '</span>', '<span class=\"p\">', '</span>', '<span class=\"go\">', '</span>', '<span class=\"go\">', '</span>', '</pre>', '</div>', '</div>', '<p>', '</p>', '<div class=\"highlight-default notranslate\">', '<div class=\"highlight\">', '<pre>', '<span>', '</span>', '<span class=\"gp\">', '</span>', '<span class=\"n\">', '</span>', '<span class=\"o\">', '</span>', '<span class=\"n\">', '</span>', '<span class=\"o\">', '</span>', '<span class=\"n\">', '</span>', '<span class=\"o\">', '</span>', '<span class=\"n\">', '</span>', '<span class=\"p\">', '</span>', '<span class=\"n\">', '</span>', '<span class=\"p\">', '</span>', '<span class=\"gp\">', '</span>', '<span class=\"n\">', '</span>', '<span class=\"go\">', '</span>', '<span class=\"go\">', '</span>', '<span class=\"go\">', '</span>', '<span class=\"go\">', '</span>', '<span class=\"go\">', '</span>', '</pre>', '</div>', '</div>', '<p>', '</p>', '<div class=\"highlight-default notranslate\">', '<div class=\"highlight\">', '<pre>', '<span>', '</span>', '<span class=\"gp\">', '</span>', '<span class=\"kn\">', '</span>', '<span class=\"nn\">', '</span>', '<span class=\"k\">', '</span>', '<span class=\"n\">', '</span>', '<span class=\"gp\">', '</span>', '<span class=\"n\">', '</span>', '<span class=\"o\">', '</span>', '<span class=\"n\">', '</span>', '<span class=\"o\">', '</span>', '<span class=\"n\">', '</span>', '<span class=\"p\">', '</span>', '<span class=\"s1\">', '</span>', '<span class=\"p\">', '</span>', '<span class=\"mi\">', '</span>', '<span class=\"p\">', '</span>', '<span class=\"gp\">', '</span>', '<span class=\"n\">', '</span>', '<span class=\"o\">', '</span>', '<span class=\"n\">', '</span>', '<span class=\"p\">', '</span>', '</pre>', '</div>', '</div>', '<img alt=\"_images/tree.gif\" src=\"_images/tree.gif\" />', '<p>', '</p>', '<blockquote>', '<div>', '<em>', '</em>', '</div>', '</blockquote>', '</div>', '<div class=\"section\" id=\"next-steps\">', '<h2>', '<a class=\"headerlink\" href=\"#next-steps\" title=\"Permalink to this headline\">', '</a>', '</h2>', '<ul class=\"simple\">', '<li>', '<a class=\"reference external\" href=\"http://groups.google.com/group/nltk\">', '</a>', '</li>', '<li>', '<a class=\"reference external\" href=\"http://groups.google.com/group/nltk-users\">', '</a>', '</li>', '</ul>', '</div>', '</div>', '<div class=\"section\" id=\"contents\">', '<h1>', '<a class=\"headerlink\" href=\"#contents\" title=\"Permalink to this headline\">', '</a>', '</h1>', '<div class=\"toctree-wrapper compound\">', '<ul>', '<li class=\"toctree-l1\">', '<a class=\"reference internal\" href=\"news.html\">', '</a>', '</li>', '<li class=\"toctree-l1\">', '<a class=\"reference internal\" href=\"install.html\">', '</a>', '</li>', '<li class=\"toctree-l1\">', '<a class=\"reference internal\" href=\"data.html\">', '</a>', '</li>', '<li class=\"toctree-l1\">', '<a class=\"reference internal\" href=\"contribute.html\">', '</a>', '</li>', '<li class=\"toctree-l1\">', '<a class=\"reference external\" href=\"https://github.com/nltk/nltk/wiki/FAQ\">', '</a>', '</li>', '<li class=\"toctree-l1\">', '<a class=\"reference external\" href=\"https://github.com/nltk/nltk/wiki\">', '</a>', '</li>', '<li class=\"toctree-l1\">', '<a class=\"reference internal\" href=\"api/nltk.html\">', '</a>', '</li>', '<li class=\"toctree-l1\">', '<a class=\"reference external\" href=\"http://www.nltk.org/howto\">', '</a>', '</li>', '</ul>', '</div>', '<ul class=\"simple\">', '<li>', '<a class=\"reference internal\" href=\"genindex.html\">', '<span class=\"std std-ref\">', '</span>', '</a>', '</li>', '<li>', '<a class=\"reference internal\" href=\"py-modindex.html\">', '<span class=\"std std-ref\">', '</span>', '</a>', '</li>', '<li>', '<a class=\"reference internal\" href=\"search.html\">', '<span class=\"std std-ref\">', '</span>', '</a>', '</li>', '</ul>', '</div>', '</div>', '</div>', '</div>', '</div>', '<div class=\"sidebar\">', '<h3>', '</h3>', '<ul>', '<li class=\"toctree-l1\">', '<a class=\"reference internal\" href=\"news.html\">', '</a>', '</li>', '<li class=\"toctree-l1\">', '<a class=\"reference internal\" href=\"install.html\">', '</a>', '</li>', '<li class=\"toctree-l1\">', '<a class=\"reference internal\" href=\"data.html\">', '</a>', '</li>', '<li class=\"toctree-l1\">', '<a class=\"reference internal\" href=\"contribute.html\">', '</a>', '</li>', '<li class=\"toctree-l1\">', '<a class=\"reference external\" href=\"https://github.com/nltk/nltk/wiki/FAQ\">', '</a>', '</li>', '<li class=\"toctree-l1\">', '<a class=\"reference external\" href=\"https://github.com/nltk/nltk/wiki\">', '</a>', '</li>', '<li class=\"toctree-l1\">', '<a class=\"reference internal\" href=\"api/nltk.html\">', '</a>', '</li>', '<li class=\"toctree-l1\">', '<a class=\"reference external\" href=\"http://www.nltk.org/howto\">', '</a>', '</li>', '</ul>', '<div role=\"search\">', '<h3 style=\"margin-top: 1.5em;\">', '</h3>', '<form class=\"search\" action=\"search.html\" method=\"get\">', '<input type=\"text\" name=\"q\" />', '<input type=\"submit\" value=\"Go\" />', '<input type=\"hidden\" name=\"check_keywords\" value=\"yes\" />', '<input type=\"hidden\" name=\"area\" value=\"default\" />', '</form>', '</div>', '</div>', '<div class=\"clearer\">', '</div>', '</div>', '</div>', '<div class=\"footer-wrapper\">', '<div class=\"footer\">', '<div class=\"left\">', '<div role=\"navigation\" aria-label=\"related navigaton\">', '</a>', '</a>', '</a>', '</div>', '<div role=\"note\" aria-label=\"source link\">', '<br/>', '</a>', '</div>', '</div>', '<div class=\"right\">', '<div class=\"footer\" role=\"contentinfo\">', '<a href=\"http://sphinx-doc.org/\">', '</a>', '</div>', '</div>', '<div class=\"clearer\">', '</div>', '</div>', '</div>', '</body>', '</html>']\n"
     ]
    }
   ],
   "source": [
    "def url_parser(url):\n",
    "    url = request.urlopen(url).read().decode('utf8')\n",
    "    removed_html_markup = re.search(r'(<.*?>|<\\/.*?>)',url)\n",
    "    removed_html_markup = re.findall(r'(<.*?>|<\\/.*?>)',url)\n",
    "    return print(removed_html_markup)\n",
    "\n",
    "url = url_parser('http://nltk.org/')"
   ]
  },
  {
   "cell_type": "markdown",
   "metadata": {},
   "source": [
    "## 12"
   ]
  },
  {
   "cell_type": "code",
   "execution_count": 568,
   "metadata": {},
   "outputs": [
    {
     "name": "stdout",
     "output_type": "stream",
     "text": [
      "['j']\n",
      "['o']\n",
      "['n']\n",
      "['a']\n",
      "['s']\n"
     ]
    }
   ],
   "source": [
    "jonas = 'jonas'\n",
    "for i in jonas:\n",
    "    print([i])"
   ]
  },
  {
   "cell_type": "markdown",
   "metadata": {},
   "source": [
    "## 16"
   ]
  },
  {
   "cell_type": "code",
   "execution_count": 569,
   "metadata": {},
   "outputs": [
    {
     "ename": "ModuleNotFoundError",
     "evalue": "No module named 'monty'",
     "output_type": "error",
     "traceback": [
      "\u001b[0;31m---------------------------------------------------------------------------\u001b[0m",
      "\u001b[0;31mModuleNotFoundError\u001b[0m                       Traceback (most recent call last)",
      "\u001b[0;32m<ipython-input-569-0c920bc68210>\u001b[0m in \u001b[0;36m<module>\u001b[0;34m\u001b[0m\n\u001b[0;32m----> 1\u001b[0;31m \u001b[0;32mfrom\u001b[0m \u001b[0mmonty\u001b[0m \u001b[0;32mimport\u001b[0m \u001b[0mmonty\u001b[0m\u001b[0;34m\u001b[0m\u001b[0;34m\u001b[0m\u001b[0m\n\u001b[0m\u001b[1;32m      2\u001b[0m \u001b[0mprint\u001b[0m\u001b[0;34m(\u001b[0m\u001b[0mmonty\u001b[0m\u001b[0;34m)\u001b[0m\u001b[0;34m\u001b[0m\u001b[0;34m\u001b[0m\u001b[0m\n",
      "\u001b[0;31mModuleNotFoundError\u001b[0m: No module named 'monty'"
     ]
    }
   ],
   "source": [
    "from monty import monty\n",
    "print(monty)"
   ]
  },
  {
   "cell_type": "markdown",
   "metadata": {},
   "source": [
    "## 18"
   ]
  },
  {
   "cell_type": "code",
   "execution_count": 608,
   "metadata": {},
   "outputs": [],
   "source": [
    "#words = []\n",
    "#for i in nltk.corpus.brown.words():\n",
    "    #if i.lower()[:2]=='wh' and len(i) < 5:\n",
    "        #words.append([i])\n",
    "        #print(words)"
   ]
  },
  {
   "cell_type": "code",
   "execution_count": 609,
   "metadata": {},
   "outputs": [
    {
     "name": "stdout",
     "output_type": "stream",
     "text": [
      "['Whah', 'What', 'Whee', 'When', 'Whig', 'Who', 'Whoa', 'Whom', 'Why', 'what', 'when', 'wher', 'whim', 'whip', 'whir', 'whit', 'whiz', 'who', 'whoe', 'whom', 'why']\n"
     ]
    }
   ],
   "source": [
    "words=[i for i in nltk.corpus.brown.words() \n",
    "        if i.lower()[:2]=='wh' and len(i)<5]\n",
    "print(sorted(set(words)))"
   ]
  },
  {
   "cell_type": "markdown",
   "metadata": {},
   "source": [
    "## 19\n",
    "Create a file consisting of words and (made up) frequencies, where each line consists of a word, the space character, and a positive integer, e.g. fuzzy 53. Read the file into a Python list using  open(filename).readlines(). Next, break each line into its two fields using split(), and convert the number into an integer using int(). The result should be a list of the form: [['fuzzy', 53], ...].\n",
    "\n"
   ]
  },
  {
   "cell_type": "markdown",
   "metadata": {},
   "source": [
    "## 20\n",
    "Write code to access a favorite webpage and extract some text from it. For example, access a weather site and extract the forecast top temperature for your town or city today."
   ]
  },
  {
   "cell_type": "markdown",
   "metadata": {},
   "source": [
    "## 21\n",
    "Write a function unknown() that takes a URL as its argument, and returns a list of unknown words that occur on that webpage. In order to do this, extract all substrings consisting of lowercase letters (using  re.findall()) and remove any items from this set that occur in the Words Corpus (nltk.corpus.words). Try to categorize these words manually and discuss your findings."
   ]
  },
  {
   "cell_type": "markdown",
   "metadata": {},
   "source": [
    "## 27\n",
    "Python's random module includes a function choice() which randomly chooses an item from a sequence, e.g. choice(\"aehh \") will produce one of four possible characters, with the letter h being twice as frequent as the others. Write a generator expression that produces a sequence of 500 randomly chosen letters drawn from the string \"aehh \", and put this expression inside a call to the ''.join() function, to concatenate them into one long string. You should get a result that looks like uncontrolled sneezing or maniacal laughter: he  haha ee  heheeh eha. Use split() and join() again to normalize the whitespace in this string."
   ]
  },
  {
   "cell_type": "markdown",
   "metadata": {},
   "source": [
    "## 30\n",
    "Use the Porter Stemmer to normalize some tokenized text, calling the stemmer on each word. Do the same thing with the Lancaster Stemmer and see if you observe any differences."
   ]
  },
  {
   "cell_type": "markdown",
   "metadata": {},
   "source": [
    "## 31\n",
    "Define the variable saying to contain the list ['After', 'all', 'is', 'said', 'and', 'done', ',', 'more',\n",
    "'is', 'said', 'than', 'done', '.']. Process this list using a for loop, and store the length of each word in a new list lengths. Hint: begin by assigning the empty list to lengths, using lengths = []. Then each time through the loop, use append() to add another length value to the list. Now do the same thing using a list comprehension.\n",
    "\n"
   ]
  },
  {
   "cell_type": "markdown",
   "metadata": {},
   "source": [
    "## 32\n",
    "Define a variable silly to contain the string: 'newly formed bland ideas are inexpressible in an infuriating\n",
    "way'. (This happens to be the legitimate interpretation that bilingual English-Spanish speakers can assign to Chomsky's famous nonsense phrase, colorless green ideas sleep furiously according to Wikipedia). Now write code to perform the following tasks:\n",
    "\n",
    "a) Split silly into a list of strings, one per word, using Python's split() operation, and save this to a variable called bland.\n",
    "b) Extract the second letter of each word in silly and join them into a string, to get 'eoldrnnnna'.\n",
    "c) Combine the words in bland back into a single string, using join(). Make sure the words in the resulting string are separated with whitespace.\n",
    "d) Print the words of silly in alphabetical order, one per line."
   ]
  },
  {
   "cell_type": "markdown",
   "metadata": {},
   "source": [
    "## 33\n",
    "The index() function can be used to look up items in sequences. For example, 'inexpressible'.index('e') tells us the index of the first position of the letter e.\n",
    "\n",
    "a) What happens when you look up a substring, e.g. 'inexpressible'.index('re')?\n",
    "b) Define a variable words containing a list of words. Now use words.index() to look up the position of an individual word.\n",
    "c) Define a variable silly as in the exercise above. Use the index() function in combination with list slicing to build a list phrase consisting of all the words up to (but not including) in in silly.\n"
   ]
  },
  {
   "cell_type": "code",
   "execution_count": null,
   "metadata": {},
   "outputs": [],
   "source": []
  }
 ],
 "metadata": {
  "kernelspec": {
   "display_name": "Python 3",
   "language": "python",
   "name": "python3"
  },
  "language_info": {
   "codemirror_mode": {
    "name": "ipython",
    "version": 3
   },
   "file_extension": ".py",
   "mimetype": "text/x-python",
   "name": "python",
   "nbconvert_exporter": "python",
   "pygments_lexer": "ipython3",
   "version": "3.7.1"
  }
 },
 "nbformat": 4,
 "nbformat_minor": 2
}
